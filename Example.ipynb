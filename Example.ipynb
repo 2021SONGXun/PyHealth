{
 "cells": [
  {
   "cell_type": "code",
   "execution_count": 92,
   "id": "e424d935",
   "metadata": {},
   "outputs": [
    {
     "name": "stdout",
     "output_type": "stream",
     "text": [
      "\n"
     ]
    }
   ],
   "source": [
    "import numpy as np\n",
    "import pandas as pd\n",
    "import datasets\n",
    "# import tasks\n",
    "from MedCode import CodeMapping\n",
    "from importlib import reload\n",
    "reload(datasets)\n",
    "reload(tasks)\n",
    "print ()\n"
   ]
  },
  {
   "cell_type": "markdown",
   "id": "af49ecbf",
   "metadata": {},
   "source": [
    "# get MIMIC_III dataset"
   ]
  },
  {
   "cell_type": "code",
   "execution_count": 93,
   "id": "62ef06d8",
   "metadata": {},
   "outputs": [
    {
     "name": "stderr",
     "output_type": "stream",
     "text": [
      "/home/chaoqiy2/miniconda3/envs/chaoqi/lib/python3.7/site-packages/IPython/core/interactiveshell.py:3437: DtypeWarning: Columns (11) have mixed types.Specify dtype option on import or set low_memory=False.\n",
      "  exec(code_obj, self.user_global_ns, self.user_ns)\n"
     ]
    },
    {
     "name": "stdout",
     "output_type": "stream",
     "text": [
      "loaded the med table!\n",
      "loaded the prod table!\n",
      "loaded the diag table!\n",
      "generated .pat_to_visit!\n",
      "generated .visit_dict!\n",
      "generated .visit_df!\n",
      "generated encoded .visit_df!\n",
      "generated code mappings: .maps!\n",
      "generated cleaned data for ML models .clean_data!\n"
     ]
    }
   ],
   "source": [
    "# choose a target code: ATC4, NDC, RXCUI\n",
    "target_code = 'ATC4'\n",
    "tool = CodeMapping('RxNorm', target_code)\n",
    "tool.load_mapping()\n",
    "\n",
    "# load dataset by passing arguments\n",
    "mimic_iii = datasets.MIMIC_III(\n",
    "    table_names=['med', 'prod', 'diag'], \n",
    "    code_map=eval(\"tool.RxNorm_to_{}\".format(target_code)), \n",
    "    target_code=target_code\n",
    ")\n",
    "\n",
    "df = mimic_iii.clean_data"
   ]
  },
  {
   "cell_type": "code",
   "execution_count": 94,
   "id": "3a004ee4",
   "metadata": {},
   "outputs": [
    {
     "data": {
      "text/html": [
       "<div>\n",
       "<style scoped>\n",
       "    .dataframe tbody tr th:only-of-type {\n",
       "        vertical-align: middle;\n",
       "    }\n",
       "\n",
       "    .dataframe tbody tr th {\n",
       "        vertical-align: top;\n",
       "    }\n",
       "\n",
       "    .dataframe thead th {\n",
       "        text-align: right;\n",
       "    }\n",
       "</style>\n",
       "<table border=\"1\" class=\"dataframe\">\n",
       "  <thead>\n",
       "    <tr style=\"text-align: right;\">\n",
       "      <th></th>\n",
       "      <th>medATC4_encoded</th>\n",
       "      <th>diag_encoded</th>\n",
       "      <th>prod_encoded</th>\n",
       "    </tr>\n",
       "  </thead>\n",
       "  <tbody>\n",
       "    <tr>\n",
       "      <th>0</th>\n",
       "      <td>0,1</td>\n",
       "      <td>0,1,2</td>\n",
       "      <td>0</td>\n",
       "    </tr>\n",
       "    <tr>\n",
       "      <th>1</th>\n",
       "      <td>2,3,4,5,6,7,8,9,10,11,12,13,14,15,16,17,18,19,...</td>\n",
       "      <td>3,4,5,6,7,8,9,10,11</td>\n",
       "      <td>1,2,3</td>\n",
       "    </tr>\n",
       "    <tr>\n",
       "      <th>2</th>\n",
       "      <td>2,28,3,4,6,29,30,9,31,10,32,11,33,34,12,35,36,...</td>\n",
       "      <td>12,13,14,15,16,17,18,19</td>\n",
       "      <td>4,5,6,7,8</td>\n",
       "    </tr>\n",
       "    <tr>\n",
       "      <th>3</th>\n",
       "      <td>45,0,46,1,47,48</td>\n",
       "      <td>0,20,21,2,22,1</td>\n",
       "      <td>9,10,0</td>\n",
       "    </tr>\n",
       "    <tr>\n",
       "      <th>4</th>\n",
       "      <td>49,2,29,8,30,31,10,50,51,33,13,36,15,52,19,53,...</td>\n",
       "      <td>23,24,25,26,27,28</td>\n",
       "      <td>11,12</td>\n",
       "    </tr>\n",
       "    <tr>\n",
       "      <th>...</th>\n",
       "      <td>...</td>\n",
       "      <td>...</td>\n",
       "      <td>...</td>\n",
       "    </tr>\n",
       "    <tr>\n",
       "      <th>50211</th>\n",
       "      <td>49,2,28,55,3,4,8,30,9,31,10,50,32,11,78,35,13,...</td>\n",
       "      <td>124,468,160,1351,87,298,93,97,53,17,108,1655,1927</td>\n",
       "      <td>11,15,1,46,12</td>\n",
       "    </tr>\n",
       "    <tr>\n",
       "      <th>50212</th>\n",
       "      <td>49,2,28,55,3,4,75,29,8,30,9,31,10,100,69,51,32...</td>\n",
       "      <td>1202,124,540,26,93,1181,404,3209,957,2394,25,1...</td>\n",
       "      <td>1725,25,22,79,448,365,108</td>\n",
       "    </tr>\n",
       "    <tr>\n",
       "      <th>50213</th>\n",
       "      <td>74,2,6,29,86,31,91,100,69,32,57,33,88,35,58,14...</td>\n",
       "      <td>876,930,822,151,26,935,388,108,28,282,4065,300</td>\n",
       "      <td>336,107</td>\n",
       "    </tr>\n",
       "    <tr>\n",
       "      <th>50214</th>\n",
       "      <td>49,3,4,30,9,31,10,91,51,32,11,33,77,78,36,133,...</td>\n",
       "      <td>568,364,455,151,101,44,38,806,309,53,102,25,87...</td>\n",
       "      <td>335,435,1955</td>\n",
       "    </tr>\n",
       "    <tr>\n",
       "      <th>50215</th>\n",
       "      <td>2,3,75,29,8,30,9,31,10,11,33,58,14,36,80,16,13...</td>\n",
       "      <td>4719,462,28,44,175</td>\n",
       "      <td>634,97,99,757,100</td>\n",
       "    </tr>\n",
       "  </tbody>\n",
       "</table>\n",
       "<p>49886 rows × 3 columns</p>\n",
       "</div>"
      ],
      "text/plain": [
       "                                         medATC4_encoded  \\\n",
       "0                                                    0,1   \n",
       "1      2,3,4,5,6,7,8,9,10,11,12,13,14,15,16,17,18,19,...   \n",
       "2      2,28,3,4,6,29,30,9,31,10,32,11,33,34,12,35,36,...   \n",
       "3                                        45,0,46,1,47,48   \n",
       "4      49,2,29,8,30,31,10,50,51,33,13,36,15,52,19,53,...   \n",
       "...                                                  ...   \n",
       "50211  49,2,28,55,3,4,8,30,9,31,10,50,32,11,78,35,13,...   \n",
       "50212  49,2,28,55,3,4,75,29,8,30,9,31,10,100,69,51,32...   \n",
       "50213  74,2,6,29,86,31,91,100,69,32,57,33,88,35,58,14...   \n",
       "50214  49,3,4,30,9,31,10,91,51,32,11,33,77,78,36,133,...   \n",
       "50215  2,3,75,29,8,30,9,31,10,11,33,58,14,36,80,16,13...   \n",
       "\n",
       "                                            diag_encoded  \\\n",
       "0                                                  0,1,2   \n",
       "1                                    3,4,5,6,7,8,9,10,11   \n",
       "2                                12,13,14,15,16,17,18,19   \n",
       "3                                         0,20,21,2,22,1   \n",
       "4                                      23,24,25,26,27,28   \n",
       "...                                                  ...   \n",
       "50211  124,468,160,1351,87,298,93,97,53,17,108,1655,1927   \n",
       "50212  1202,124,540,26,93,1181,404,3209,957,2394,25,1...   \n",
       "50213     876,930,822,151,26,935,388,108,28,282,4065,300   \n",
       "50214  568,364,455,151,101,44,38,806,309,53,102,25,87...   \n",
       "50215                                 4719,462,28,44,175   \n",
       "\n",
       "                    prod_encoded  \n",
       "0                              0  \n",
       "1                          1,2,3  \n",
       "2                      4,5,6,7,8  \n",
       "3                         9,10,0  \n",
       "4                          11,12  \n",
       "...                          ...  \n",
       "50211              11,15,1,46,12  \n",
       "50212  1725,25,22,79,448,365,108  \n",
       "50213                    336,107  \n",
       "50214               335,435,1955  \n",
       "50215          634,97,99,757,100  \n",
       "\n",
       "[49886 rows x 3 columns]"
      ]
     },
     "execution_count": 94,
     "metadata": {},
     "output_type": "execute_result"
    }
   ],
   "source": [
    "df"
   ]
  },
  {
   "cell_type": "code",
   "execution_count": null,
   "id": "e70784db",
   "metadata": {},
   "outputs": [],
   "source": []
  }
 ],
 "metadata": {
  "kernelspec": {
   "display_name": "Python 3",
   "language": "python",
   "name": "python3"
  },
  "language_info": {
   "codemirror_mode": {
    "name": "ipython",
    "version": 3
   },
   "file_extension": ".py",
   "mimetype": "text/x-python",
   "name": "python",
   "nbconvert_exporter": "python",
   "pygments_lexer": "ipython3",
   "version": "3.7.7"
  }
 },
 "nbformat": 4,
 "nbformat_minor": 5
}
