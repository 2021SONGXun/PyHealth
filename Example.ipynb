{
 "cells": [
  {
   "cell_type": "markdown",
   "id": "d04079c2",
   "metadata": {
    "pycharm": {
     "name": "#%% md\n"
    }
   },
   "source": [
    "# Step1: create dataset"
   ]
  },
  {
   "cell_type": "code",
   "execution_count": 27,
   "id": "1b848ca2",
   "metadata": {
    "pycharm": {
     "name": "#%%\n"
    }
   },
   "outputs": [
    {
     "name": "stdout",
     "output_type": "stream",
     "text": [
      "\n",
      "        ----- Output Data Structure -----\n",
      "        Dataset.patients: [\n",
      "            {\n",
      "                patient_id: patient_id, \n",
      "                visits: [\n",
      "                    {\n",
      "                        visit_id: visit_id, \n",
      "                        patient_id: patient_id, \n",
      "                        conditions: [List], \n",
      "                        procedures: [List],\n",
      "                        drugs: [List],\n",
      "                        visit_info: <dict>\n",
      "                    }\n",
      "                    ...\n",
      "                ]                    \n",
      "            } \n",
      "            ...\n",
      "        ]\n",
      "        \n"
     ]
    }
   ],
   "source": [
    "from pyhealth.datasets import MIMIC3BaseDataset, MIMIC4BaseDataset, eICUBaseDataset, OMOPBaseDataset\n",
    "# base_dataset = MIMIC3BaseDataset(root=\"/srv/local/data/physionet.org/files/mimiciii/1.4\")\n",
    "# base_dataset = eICUBaseDataset(root=\"/srv/local/data/physionet.org/files/eicu-crd/2.0\")\n",
    "# base_dataset = MIMIC4BaseDataset(root=\"/srv/local/data/physionet.org/files/mimiciv/2.0/hosp\")\n",
    "base_dataset = OMOPBaseDataset(root=\"/srv/local/data/zw12/pyhealth/raw_data/synpuf1k_omop_cdm_5.2.2\")\n",
    "base_dataset.info()"
   ]
  },
  {
   "cell_type": "markdown",
   "id": "f9ddc278",
   "metadata": {
    "pycharm": {
     "name": "#%% md\n"
    }
   },
   "source": [
    "user can use this module for data processing\n",
    "- **[researchers from CS]** build their own model on top of it\n",
    "- **[reserachers from medical area]** use the models in the package"
   ]
  },
  {
   "cell_type": "code",
   "execution_count": 28,
   "id": "daf88b81",
   "metadata": {
    "pycharm": {
     "name": "#%%\n"
    }
   },
   "outputs": [
    {
     "name": "stdout",
     "output_type": "stream",
     "text": [
      "\n",
      "        ----- Output Data Structure -----\n",
      "        >> drug_rec_dataloader[0]\n",
      "        >> {\n",
      "            \"conditions\": List[tensor],\n",
      "            \"procedures\": List[tensor],\n",
      "            \"drugs\": List[tensor]\n",
      "        }\n",
      "        \n"
     ]
    }
   ],
   "source": [
    "# create task-specific dataset\n",
    "from pyhealth.tasks import DrugRecDataset\n",
    "drug_rec_dataset = DrugRecDataset(base_dataset)\n",
    "drug_rec_dataset.info()"
   ]
  },
  {
   "cell_type": "code",
   "execution_count": 29,
   "id": "9ad3cb8f",
   "metadata": {
    "pycharm": {
     "name": "#%%\n"
    }
   },
   "outputs": [
    {
     "name": "stdout",
     "output_type": "stream",
     "text": [
      "1000 532\n"
     ]
    }
   ],
   "source": [
    "print (len(base_dataset), len(drug_rec_dataset))"
   ]
  },
  {
   "cell_type": "markdown",
   "id": "0496334c",
   "metadata": {
    "pycharm": {
     "name": "#%% md\n"
    }
   },
   "source": [
    "# Step2: healthcare predictive model"
   ]
  },
  {
   "cell_type": "code",
   "execution_count": 30,
   "id": "fb07a1c2",
   "metadata": {
    "pycharm": {
     "name": "#%%\n"
    }
   },
   "outputs": [],
   "source": [
    "voc_size = drug_rec_dataset.voc_size\n",
    "params = drug_rec_dataset.params\n",
    "\n",
    "from pyhealth.models import RETAIN\n",
    "model = RETAIN(voc_size, params)"
   ]
  },
  {
   "cell_type": "markdown",
   "id": "381e779c",
   "metadata": {
    "pycharm": {
     "name": "#%% md\n"
    }
   },
   "source": [
    "# Step 3: create train / val / test dataloader"
   ]
  },
  {
   "cell_type": "code",
   "execution_count": 31,
   "id": "92ae1391",
   "metadata": {
    "pycharm": {
     "name": "#%%\n"
    }
   },
   "outputs": [],
   "source": [
    "from pyhealth.data import split\n",
    "from torch.utils.data import DataLoader\n",
    "\n",
    "drug_rec_trainset, drug_rec_valset, drug_rec_testset = split.random_split(drug_rec_dataset, [0.8, 0.1, 0.1])\n",
    "drug_rec_train_loader = DataLoader(drug_rec_trainset, batch_size=1, collate_fn=lambda x: x[0])\n",
    "drug_rec_val_loader = DataLoader(drug_rec_valset, batch_size=1, collate_fn=lambda x: x[0])\n",
    "drug_rec_test_loader = DataLoader(drug_rec_testset, batch_size=1, collate_fn=lambda x: x[0])"
   ]
  },
  {
   "cell_type": "markdown",
   "id": "96882eb6",
   "metadata": {
    "pycharm": {
     "name": "#%% md\n"
    }
   },
   "source": [
    "# Step 4: model training and evaluation"
   ]
  },
  {
   "cell_type": "code",
   "execution_count": 32,
   "id": "0c3cb8c4",
   "metadata": {
    "pycharm": {
     "name": "#%%\n"
    }
   },
   "outputs": [
    {
     "name": "stderr",
     "output_type": "stream",
     "text": [
      "INFO:pytorch_lightning.utilities.rank_zero:GPU available: True, used: True\n",
      "INFO:pytorch_lightning.utilities.rank_zero:TPU available: False, using: 0 TPU cores\n",
      "INFO:pytorch_lightning.utilities.rank_zero:IPU available: False, using: 0 IPUs\n",
      "INFO:pytorch_lightning.utilities.rank_zero:HPU available: False, using: 0 HPUs\n",
      "INFO:pytorch_lightning.accelerators.gpu:LOCAL_RANK: 0 - CUDA_VISIBLE_DEVICES: [0,1,2,3,4,5,6,7]\n",
      "INFO:pytorch_lightning.callbacks.model_summary:\n",
      "  | Name                | Type       | Params\n",
      "---------------------------------------------------\n",
      "0 | condition_embedding | Sequential | 103 K \n",
      "1 | procedure_embedding | Sequential | 71.0 K\n",
      "2 | alpha_gru           | GRU        | 25.0 K\n",
      "3 | beta_gru            | GRU        | 25.0 K\n",
      "4 | alpha_li            | Linear     | 65    \n",
      "5 | beta_li             | Linear     | 4.2 K \n",
      "6 | output              | Linear     | 15.0 K\n",
      "---------------------------------------------------\n",
      "243 K     Trainable params\n",
      "0         Non-trainable params\n",
      "243 K     Total params\n",
      "0.975     Total estimated model params size (MB)\n"
     ]
    },
    {
     "data": {
      "application/vnd.jupyter.widget-view+json": {
       "model_id": "",
       "version_major": 2,
       "version_minor": 0
      },
      "text/plain": [
       "Sanity Checking: 0it [00:00, ?it/s]"
      ]
     },
     "metadata": {},
     "output_type": "display_data"
    },
    {
     "data": {
      "application/vnd.jupyter.widget-view+json": {
       "model_id": "fef2d8f6de414b668d4f178d33f86df2",
       "version_major": 2,
       "version_minor": 0
      },
      "text/plain": [
       "Training: 0it [00:00, ?it/s]"
      ]
     },
     "metadata": {},
     "output_type": "display_data"
    },
    {
     "data": {
      "application/vnd.jupyter.widget-view+json": {
       "model_id": "",
       "version_major": 2,
       "version_minor": 0
      },
      "text/plain": [
       "Validation: 0it [00:00, ?it/s]"
      ]
     },
     "metadata": {},
     "output_type": "display_data"
    },
    {
     "data": {
      "application/vnd.jupyter.widget-view+json": {
       "model_id": "",
       "version_major": 2,
       "version_minor": 0
      },
      "text/plain": [
       "Validation: 0it [00:00, ?it/s]"
      ]
     },
     "metadata": {},
     "output_type": "display_data"
    },
    {
     "data": {
      "application/vnd.jupyter.widget-view+json": {
       "model_id": "",
       "version_major": 2,
       "version_minor": 0
      },
      "text/plain": [
       "Validation: 0it [00:00, ?it/s]"
      ]
     },
     "metadata": {},
     "output_type": "display_data"
    }
   ],
   "source": [
    "# train\n",
    "from pytorch_lightning import Trainer\n",
    "\n",
    "trainer = Trainer(\n",
    "    gpus=1,\n",
    "    max_epochs=3,\n",
    "    progress_bar_refresh_rate=5,\n",
    ")\n",
    "\n",
    "trainer.fit(\n",
    "    model=model,\n",
    "    train_dataloaders=drug_rec_train_loader,\n",
    "    val_dataloaders=drug_rec_val_loader,\n",
    ")"
   ]
  },
  {
   "cell_type": "code",
   "execution_count": 33,
   "id": "847af363",
   "metadata": {
    "pycharm": {
     "name": "#%%\n"
    }
   },
   "outputs": [
    {
     "name": "stdout",
     "output_type": "stream",
     "text": [
      "\n",
      "Jaccard: 0.2067,  PRAUC: 0.3496, AVG_PRC: 0.3785, AVG_RECALL: 0.2712, AVG_F1: 0.2854, AVG_MED: 2.53\n",
      "\n"
     ]
    }
   ],
   "source": [
    "# evaluation\n",
    "from pyhealth.evaluator import DrugRecEvaluator\n",
    "evaluator = DrugRecEvaluator(model)\n",
    "evaluator.evaluate(drug_rec_test_loader)"
   ]
  },
  {
   "cell_type": "code",
   "execution_count": null,
   "id": "afa67d1f",
   "metadata": {
    "pycharm": {
     "name": "#%%\n"
    }
   },
   "outputs": [],
   "source": []
  },
  {
   "cell_type": "code",
   "execution_count": null,
   "id": "32f64438",
   "metadata": {
    "pycharm": {
     "name": "#%%\n"
    }
   },
   "outputs": [],
   "source": []
  },
  {
   "cell_type": "code",
   "execution_count": null,
   "id": "12b52167",
   "metadata": {
    "pycharm": {
     "name": "#%%\n"
    }
   },
   "outputs": [],
   "source": []
  }
 ],
 "metadata": {
  "kernelspec": {
   "display_name": "Python 3 (ipykernel)",
   "language": "python",
   "name": "python3"
  },
  "language_info": {
   "codemirror_mode": {
    "name": "ipython",
    "version": 3
   },
   "file_extension": ".py",
   "mimetype": "text/x-python",
   "name": "python",
   "nbconvert_exporter": "python",
   "pygments_lexer": "ipython3",
   "version": "3.9.12"
  }
 },
 "nbformat": 4,
 "nbformat_minor": 5
}