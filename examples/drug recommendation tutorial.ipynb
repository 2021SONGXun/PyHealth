{
 "cells": [
  {
   "cell_type": "code",
   "execution_count": 15,
   "id": "41993298",
   "metadata": {},
   "outputs": [],
   "source": [
    "import sys\n",
    "sys.path.append(\"/home/chaoqiy2/github/PyHealth-OMOP\")\n",
    "\n",
    "from warnings import simplefilter\n",
    "# ignore all warnings\n",
    "simplefilter(action='ignore')"
   ]
  },
  {
   "cell_type": "markdown",
   "id": "eefbb15f",
   "metadata": {
    "pycharm": {
     "name": "#%% md\n"
    }
   },
   "source": [
    "# 1. load general-purpose dataset"
   ]
  },
  {
   "cell_type": "code",
   "execution_count": 2,
   "id": "7c3465f4",
   "metadata": {
    "pycharm": {
     "name": "#%%\n"
    }
   },
   "outputs": [],
   "source": [
    "from pyhealth.datasets import MIMIC3BaseDataset\n",
    "\n",
    "base_ds = MIMIC3BaseDataset(\n",
    "    root=\"/srv/local/data/physionet.org/files/mimiciii/1.4\", \n",
    "    flag=\"dev\",\n",
    ")"
   ]
  },
  {
   "cell_type": "markdown",
   "id": "bc445429",
   "metadata": {},
   "source": [
    "# 2. process to task-specific dataset"
   ]
  },
  {
   "cell_type": "code",
   "execution_count": 3,
   "id": "2cc61aa9",
   "metadata": {},
   "outputs": [
    {
     "name": "stdout",
     "output_type": "stream",
     "text": [
      "----- preparing code mappings -----\n",
      "source loaded from /home/chaoqiy2/.cache/medcode/ cache\n",
      "mapping finished: NDC11 -> ATC4\n",
      "mapping finished: ATC4 -> NDC11\n",
      "load time: 2.453434705734253s\n",
      "-----------------------------------------\n"
     ]
    },
    {
     "name": "stderr",
     "output_type": "stream",
     "text": [
      "100%|█████████████████████████████████████████████████| 1000/1000 [00:00<00:00, 8553.57it/s]"
     ]
    },
    {
     "name": "stdout",
     "output_type": "stream",
     "text": [
      "1. finish cleaning the dataset for drug recommendation task\n",
      "2. tokenized the medical codes\n"
     ]
    },
    {
     "name": "stderr",
     "output_type": "stream",
     "text": [
      "\n"
     ]
    }
   ],
   "source": [
    "from pyhealth.tasks import DrugRecDataset\n",
    "drugrec_ds = DrugRecDataset(base_ds)"
   ]
  },
  {
   "cell_type": "code",
   "execution_count": 4,
   "id": "8798ff64",
   "metadata": {},
   "outputs": [
    {
     "name": "stdout",
     "output_type": "stream",
     "text": [
      "1. finish data splitting\n",
      "2. generate train / val / test data loaders\n"
     ]
    }
   ],
   "source": [
    "from pyhealth.data.split import split_by_pat\n",
    "train_loader, val_loader, test_loader = split_by_pat(\n",
    "                                            drugrec_ds,\n",
    "                                            ratios = [2/3, 1/6, 1/6], \n",
    "                                            batch_size = 64, \n",
    "                                            seed = 12345,\n",
    "                                        )"
   ]
  },
  {
   "cell_type": "markdown",
   "id": "851848ec",
   "metadata": {},
   "source": [
    "# 3. initialize DL models"
   ]
  },
  {
   "cell_type": "code",
   "execution_count": 11,
   "id": "4e663964",
   "metadata": {},
   "outputs": [],
   "source": [
    "from pyhealth.models import RETAIN, MLModel, RNN, Transformer, GAMENet, SafeDrug, MICRON\n",
    "\n",
    "model = RETAIN(\n",
    "    task = \"drug_recommendation\",\n",
    "    voc_size = drugrec_ds.voc_size,\n",
    "    tokenizers = drugrec_ds.tokenizers,\n",
    "    emb_dim = 64,\n",
    ")"
   ]
  },
  {
   "cell_type": "markdown",
   "id": "8ce6173a",
   "metadata": {},
   "source": [
    "# 4. traning"
   ]
  },
  {
   "cell_type": "code",
   "execution_count": 12,
   "id": "e21ec4e4",
   "metadata": {
    "scrolled": true
   },
   "outputs": [
    {
     "data": {
      "application/vnd.jupyter.widget-view+json": {
       "model_id": "835ac48f5ce14a88b151658894f84758",
       "version_major": 2,
       "version_minor": 0
      },
      "text/plain": [
       "Iteration:   0%|          | 0/4 [00:00<?, ?it/s]"
      ]
     },
     "metadata": {},
     "output_type": "display_data"
    },
    {
     "name": "stdout",
     "output_type": "stream",
     "text": [
      "{'loss': 0.6882487, 'ddi': 0.05085359163521137, 'jaccard': 0.2195066463140662, 'prauc': 0.2922156486015231, 'f1': 0.354803225467975}\n"
     ]
    },
    {
     "data": {
      "application/vnd.jupyter.widget-view+json": {
       "model_id": "3c5deb52c41c40d0a813a7156f5b0664",
       "version_major": 2,
       "version_minor": 0
      },
      "text/plain": [
       "Iteration:   0%|          | 0/4 [00:00<?, ?it/s]"
      ]
     },
     "metadata": {},
     "output_type": "display_data"
    },
    {
     "name": "stdout",
     "output_type": "stream",
     "text": [
      "{'loss': 0.68483543, 'ddi': 0.0508727051647824, 'jaccard': 0.21958755674078465, 'prauc': 0.31559299570817506, 'f1': 0.3549116226050744}\n"
     ]
    },
    {
     "data": {
      "application/vnd.jupyter.widget-view+json": {
       "model_id": "96f16ed54c404292b6c55c629255b25d",
       "version_major": 2,
       "version_minor": 0
      },
      "text/plain": [
       "Iteration:   0%|          | 0/4 [00:00<?, ?it/s]"
      ]
     },
     "metadata": {},
     "output_type": "display_data"
    },
    {
     "name": "stdout",
     "output_type": "stream",
     "text": [
      "{'loss': 0.6805311, 'ddi': 0.05085310124692861, 'jaccard': 0.2195577572328803, 'prauc': 0.34413829518510713, 'f1': 0.35487562377228576}\n"
     ]
    },
    {
     "data": {
      "application/vnd.jupyter.widget-view+json": {
       "model_id": "4b559c2befc7484aa0201eb7abc70fac",
       "version_major": 2,
       "version_minor": 0
      },
      "text/plain": [
       "Iteration:   0%|          | 0/4 [00:00<?, ?it/s]"
      ]
     },
     "metadata": {},
     "output_type": "display_data"
    },
    {
     "name": "stdout",
     "output_type": "stream",
     "text": [
      "{'loss': 0.6746202, 'ddi': 0.05088227287351201, 'jaccard': 0.2199741811492879, 'prauc': 0.3799587621551031, 'f1': 0.3554049335016782}\n"
     ]
    },
    {
     "data": {
      "application/vnd.jupyter.widget-view+json": {
       "model_id": "9ce7f62427104b83b8c0b2575f716cd5",
       "version_major": 2,
       "version_minor": 0
      },
      "text/plain": [
       "Iteration:   0%|          | 0/4 [00:00<?, ?it/s]"
      ]
     },
     "metadata": {},
     "output_type": "display_data"
    },
    {
     "name": "stdout",
     "output_type": "stream",
     "text": [
      "{'loss': 0.6662972, 'ddi': 0.05114055010108061, 'jaccard': 0.22125389917842644, 'prauc': 0.42511402781409857, 'f1': 0.35708387991987833}\n",
      "best_model_path: ../output/1665016652.567665/best.ckpt\n"
     ]
    }
   ],
   "source": [
    "from pyhealth.trainer import Trainer\n",
    "from pyhealth.evaluator.evaluating_multilabel import evaluate_multilabel\n",
    "\n",
    "# # ----------- DL model ---------\n",
    "trainer = Trainer(enable_logging=True, output_path=\"../output\")\n",
    "trainer.fit(model,\n",
    "            train_loader=train_loader,\n",
    "            epochs=5,\n",
    "            evaluate_fn=evaluate_multilabel,\n",
    "            eval_loader=val_loader,\n",
    "            monitor=\"jaccard\")"
   ]
  },
  {
   "cell_type": "markdown",
   "id": "9a01283a",
   "metadata": {},
   "source": [
    "# 5. evaluation"
   ]
  },
  {
   "cell_type": "code",
   "execution_count": 14,
   "id": "a04d8c43",
   "metadata": {
    "scrolled": true
   },
   "outputs": [
    {
     "data": {
      "text/plain": [
       "{'loss': 0.6662975,\n",
       " 'ddi': 0.05114055010108061,\n",
       " 'jaccard': 0.22125389917842644,\n",
       " 'prauc': 0.42501261449677036,\n",
       " 'f1': 0.35708387991987833}"
      ]
     },
     "execution_count": 14,
     "metadata": {},
     "output_type": "execute_result"
    }
   ],
   "source": [
    "from pyhealth.evaluator.evaluating_multilabel import evaluate_multilabel\n",
    "\n",
    "# load the best model\n",
    "best_model = trainer.load(model, path=\"../output/1665016652.567665/best.ckpt\") \n",
    "\n",
    "evaluate_multilabel(model, val_loader)"
   ]
  },
  {
   "cell_type": "code",
   "execution_count": null,
   "id": "a9259f6b",
   "metadata": {},
   "outputs": [],
   "source": []
  }
 ],
 "metadata": {
  "kernelspec": {
   "display_name": "Python 3",
   "language": "python",
   "name": "python3"
  },
  "language_info": {
   "codemirror_mode": {
    "name": "ipython",
    "version": 3
   },
   "file_extension": ".py",
   "mimetype": "text/x-python",
   "name": "python",
   "nbconvert_exporter": "python",
   "pygments_lexer": "ipython3",
   "version": "3.9.12"
  },
  "vscode": {
   "interpreter": {
    "hash": "31f2aee4e71d21fbe5cf8b01ff0e069b9275f58929596ceb00d14d90e3e16cd6"
   }
  }
 },
 "nbformat": 4,
 "nbformat_minor": 5
}
