{
 "cells": [
  {
   "cell_type": "markdown",
   "id": "eefbb15f",
   "metadata": {},
   "source": [
    "# 1. load/reload all dependency"
   ]
  },
  {
   "cell_type": "code",
   "execution_count": 1,
   "id": "e424d935",
   "metadata": {},
   "outputs": [
    {
     "name": "stdout",
     "output_type": "stream",
     "text": [
      "True\n"
     ]
    }
   ],
   "source": [
    "import numpy as np\n",
    "import pandas as pd\n",
    "from pytorch_lightning import LightningModule, Trainer\n",
    "from pytorch_lightning.callbacks import ModelCheckpoint\n",
    "\n",
    "import sys\n",
    "sys.path.append(\"../\")\n",
    "import pyhealth.datasets.datasets as datasets\n",
    "import pyhealth.models.models as models\n",
    "from importlib import reload\n",
    "reload(datasets)\n",
    "reload(models)\n",
    "import torch\n",
    "print(torch.cuda.is_available())\n"
   ]
  },
  {
   "cell_type": "markdown",
   "id": "4674cd6a",
   "metadata": {},
   "source": [
    "# 2. load dataset and initialize model"
   ]
  },
  {
   "cell_type": "code",
   "execution_count": 2,
   "id": "406fd4ad",
   "metadata": {},
   "outputs": [
    {
     "name": "stdout",
     "output_type": "stream",
     "text": [
      "loaded the med table!\n",
      "loaded the diag table!\n",
      "loaded the prod table!\n",
      "generated .pat_to_visit!\n",
      "generated .visit_dict!\n",
      "----- preparing code mappings -----\n",
      "source loaded from ./data cache\n",
      "source loaded from ./data cache\n",
      "source loaded from ./data cache\n",
      "source loaded from ./data cache\n",
      "mapping finished: RxNorm -> ATC4\n",
      "mapping finished: ATC4 -> RxNorm\n",
      "load time: 2.4580435752868652s\n",
      "-----------------------------------------\n",
      "generated .encoded_visit_dict!\n",
      "generated .maps (for code to index mappings)!\n",
      "load severe ddi pairs from https://drive.google.com/uc?id=1R88OIhn-DbOYmtmVYICmjBSOIsEljJMh!\n",
      "ddi info is from https://drive.google.com/file/d/1mnPc0O0ztz0fkv3HF-dpmBb8PLWsEoDz/view?usp=sharing!\n",
      "generated train/val/test dataloaders for GAMENet model!\n"
     ]
    }
   ],
   "source": [
    "# load MIMIC-III\n",
    "dataset = datasets.MIMIC_III()\n",
    "\n",
    "# initialize the model and build the dataloaders\n",
    "dataset.get_dataloader(\"GAMENet\")\n",
    "model = models.GAMENet(\n",
    "    dataset=dataset,\n",
    "    emb_dim=64,\n",
    ")"
   ]
  },
  {
   "cell_type": "markdown",
   "id": "2bad0ee6",
   "metadata": {},
   "source": [
    "# 3. train and test"
   ]
  },
  {
   "cell_type": "code",
   "execution_count": 3,
   "id": "f968427a",
   "metadata": {
    "scrolled": false
   },
   "outputs": [
    {
     "name": "stderr",
     "output_type": "stream",
     "text": [
      "GPU available: True, used: True\n",
      "TPU available: False, using: 0 TPU cores\n",
      "IPU available: False, using: 0 IPUs\n",
      "HPU available: False, using: 0 HPUs\n",
      "LOCAL_RANK: 0 - CUDA_VISIBLE_DEVICES: [0,1,2,3,4,5,6,7]\n",
      "\n",
      "  | Name       | Type       | Params\n",
      "------------------------------------------\n",
      "0 | embeddings | ModuleList | 551 K \n",
      "1 | dropout    | Dropout    | 0     \n",
      "2 | encoders   | ModuleList | 49.9 K\n",
      "3 | query      | Sequential | 8.3 K \n",
      "4 | ehr_gcn    | _GCN       | 71.4 K\n",
      "5 | ddi_gcn    | _GCN       | 71.4 K\n",
      "6 | output     | Sequential | 46.4 K\n",
      "------------------------------------------\n",
      "685 K     Trainable params\n",
      "141 K     Non-trainable params\n",
      "826 K     Total params\n",
      "3.308     Total estimated model params size (MB)\n"
     ]
    },
    {
     "data": {
      "application/vnd.jupyter.widget-view+json": {
       "model_id": "",
       "version_major": 2,
       "version_minor": 0
      },
      "text/plain": [
       "Sanity Checking: 0it [00:00, ?it/s]"
      ]
     },
     "metadata": {},
     "output_type": "display_data"
    },
    {
     "data": {
      "application/vnd.jupyter.widget-view+json": {
       "model_id": "4fc1c2d375b64c138aaa4d89a0c3f684",
       "version_major": 2,
       "version_minor": 0
      },
      "text/plain": [
       "Training: 0it [00:00, ?it/s]"
      ]
     },
     "metadata": {},
     "output_type": "display_data"
    },
    {
     "data": {
      "application/vnd.jupyter.widget-view+json": {
       "model_id": "",
       "version_major": 2,
       "version_minor": 0
      },
      "text/plain": [
       "Validation: 0it [00:00, ?it/s]"
      ]
     },
     "metadata": {},
     "output_type": "display_data"
    },
    {
     "data": {
      "application/vnd.jupyter.widget-view+json": {
       "model_id": "",
       "version_major": 2,
       "version_minor": 0
      },
      "text/plain": [
       "Validation: 0it [00:00, ?it/s]"
      ]
     },
     "metadata": {},
     "output_type": "display_data"
    },
    {
     "data": {
      "application/vnd.jupyter.widget-view+json": {
       "model_id": "",
       "version_major": 2,
       "version_minor": 0
      },
      "text/plain": [
       "Validation: 0it [00:00, ?it/s]"
      ]
     },
     "metadata": {},
     "output_type": "display_data"
    },
    {
     "name": "stdout",
     "output_type": "stream",
     "text": [
      "--- Test Summary ---\n",
      "DDI rate: 0.08581\n",
      "Jaccard: 0.4236\n",
      "PRAUC: 0.7306\n",
      "AVG_PRC: 0.6929\n",
      "AVG_RECALL: 0.55\n",
      "AVG_F1: 0.5902\n",
      "AVG_MED: 27.75\n",
      "\n"
     ]
    }
   ],
   "source": [
    "# set trainer with checkpoint\n",
    "checkpoint_callback = ModelCheckpoint(dirpath='./model_cpt')\n",
    "trainer = Trainer(\n",
    "    gpus=1,\n",
    "    max_epochs=3,\n",
    "    progress_bar_refresh_rate=5,\n",
    "    callbacks=[checkpoint_callback],\n",
    ")\n",
    "\n",
    "# train model\n",
    "trainer.fit(\n",
    "    model=model,\n",
    "    train_dataloaders=dataset.train_loader,\n",
    "    val_dataloaders=dataset.val_loader,\n",
    ")\n",
    "\n",
    "# test the best model\n",
    "model.summary(\n",
    "    test_dataloaders=dataset.test_loader,\n",
    "    ckpt_path=checkpoint_callback.best_model_path,\n",
    ")"
   ]
  },
  {
   "cell_type": "code",
   "execution_count": null,
   "id": "31f82563",
   "metadata": {},
   "outputs": [],
   "source": []
  }
 ],
 "metadata": {
  "kernelspec": {
   "display_name": "Python 3 (ipykernel)",
   "language": "python",
   "name": "python3"
  },
  "language_info": {
   "codemirror_mode": {
    "name": "ipython",
    "version": 3
   },
   "file_extension": ".py",
   "mimetype": "text/x-python",
   "name": "python",
   "nbconvert_exporter": "python",
   "pygments_lexer": "ipython3",
   "version": "3.9.12"
  }
 },
 "nbformat": 4,
 "nbformat_minor": 5
}
