{
 "cells": [
  {
   "cell_type": "markdown",
   "id": "eefbb15f",
   "metadata": {},
   "source": [
    "# 1. load/reload all dependency"
   ]
  },
  {
   "cell_type": "code",
   "execution_count": 2,
   "id": "e424d935",
   "metadata": {},
   "outputs": [
    {
     "name": "stdout",
     "output_type": "stream",
     "text": [
      "True\n"
     ]
    }
   ],
   "source": [
    "import numpy as np\n",
    "import pandas as pd\n",
    "from pytorch_lightning import LightningModule, Trainer\n",
    "from pytorch_lightning.callbacks import ModelCheckpoint\n",
    "\n",
    "import sys\n",
    "sys.path.append(\"../\")\n",
    "import pyhealth\n",
    "\n",
    "import torch\n",
    "print(torch.cuda.is_available())\n"
   ]
  },
  {
   "cell_type": "markdown",
   "id": "4674cd6a",
   "metadata": {},
   "source": [
    "# 2. load dataset and initialize model"
   ]
  },
  {
   "cell_type": "code",
   "execution_count": 3,
   "id": "52b511ec",
   "metadata": {},
   "outputs": [
    {
     "ename": "AttributeError",
     "evalue": "module 'pyhealth' has no attribute 'datasets'",
     "output_type": "error",
     "traceback": [
      "\u001b[0;31m---------------------------------------------------------------------------\u001b[0m",
      "\u001b[0;31mAttributeError\u001b[0m                            Traceback (most recent call last)",
      "Input \u001b[0;32mIn [3]\u001b[0m, in \u001b[0;36m<cell line: 2>\u001b[0;34m()\u001b[0m\n\u001b[1;32m      1\u001b[0m \u001b[38;5;66;03m# load MIMIC-III\u001b[39;00m\n\u001b[0;32m----> 2\u001b[0m dataset \u001b[38;5;241m=\u001b[39m \u001b[43mpyhealth\u001b[49m\u001b[38;5;241;43m.\u001b[39;49m\u001b[43mdatasets\u001b[49m\u001b[38;5;241m.\u001b[39mMIMIC_III(\n\u001b[1;32m      3\u001b[0m     table_names\u001b[38;5;241m=\u001b[39m[\u001b[38;5;124m'\u001b[39m\u001b[38;5;124mmed\u001b[39m\u001b[38;5;124m'\u001b[39m, \u001b[38;5;124m'\u001b[39m\u001b[38;5;124mprod\u001b[39m\u001b[38;5;124m'\u001b[39m, \u001b[38;5;124m'\u001b[39m\u001b[38;5;124mdiag\u001b[39m\u001b[38;5;124m'\u001b[39m]\n\u001b[1;32m      4\u001b[0m )\n\u001b[1;32m      6\u001b[0m \u001b[38;5;66;03m# initialize the model and build the dataloaders\u001b[39;00m\n\u001b[1;32m      7\u001b[0m model \u001b[38;5;241m=\u001b[39m RETAIN(\n\u001b[1;32m      8\u001b[0m     voc_size\u001b[38;5;241m=\u001b[39mdataset\u001b[38;5;241m.\u001b[39mvoc_size,\n\u001b[1;32m      9\u001b[0m     ddi_adj\u001b[38;5;241m=\u001b[39mdataset\u001b[38;5;241m.\u001b[39mddi_adj,\n\u001b[1;32m     10\u001b[0m     emb_dim\u001b[38;5;241m=\u001b[39m\u001b[38;5;241m64\u001b[39m,\n\u001b[1;32m     11\u001b[0m )\n",
      "\u001b[0;31mAttributeError\u001b[0m: module 'pyhealth' has no attribute 'datasets'"
     ]
    }
   ],
   "source": [
    "# load MIMIC-III\n",
    "dataset = pyhealth.datasets.MIMIC_III(\n",
    "    table_names=['med', 'prod', 'diag']\n",
    ")\n",
    "\n",
    "# initialize the model and build the dataloaders\n",
    "model = RETAIN(\n",
    "    voc_size=dataset.voc_size,\n",
    "    ddi_adj=dataset.ddi_adj,\n",
    "    emb_dim=64,\n",
    ")\n",
    "dataset.get_dataloader(\"RETAIN\")"
   ]
  },
  {
   "cell_type": "markdown",
   "id": "2bad0ee6",
   "metadata": {},
   "source": [
    "# 3. Training and test"
   ]
  },
  {
   "cell_type": "code",
   "execution_count": null,
   "id": "f968427a",
   "metadata": {
    "scrolled": true
   },
   "outputs": [],
   "source": [
    "# set trainer with checkpoint\n",
    "checkpoint_callback = ModelCheckpoint(dirpath='./model_cpt')\n",
    "trainer = Trainer(\n",
    "    gpus=1,\n",
    "    max_epochs=1,\n",
    "    progress_bar_refresh_rate=5,\n",
    "    callbacks=[checkpoint_callback],\n",
    ")\n",
    "\n",
    "# train model\n",
    "trainer.fit(\n",
    "    model=model,\n",
    "    train_dataloaders=dataset.train_loader,\n",
    "    val_dataloaders=dataset.val_loader,\n",
    ")\n",
    "\n",
    "# test the best model\n",
    "model.summary(\n",
    "    test_dataloaders=dataset.test_loader,\n",
    "    ckpt_path=checkpoint_callback.best_model_path,\n",
    ")"
   ]
  },
  {
   "cell_type": "code",
   "execution_count": null,
   "id": "1daf3c64",
   "metadata": {},
   "outputs": [],
   "source": []
  }
 ],
 "metadata": {
  "kernelspec": {
   "display_name": "Python 3 (ipykernel)",
   "language": "python",
   "name": "python3"
  },
  "language_info": {
   "codemirror_mode": {
    "name": "ipython",
    "version": 3
   },
   "file_extension": ".py",
   "mimetype": "text/x-python",
   "name": "python",
   "nbconvert_exporter": "python",
   "pygments_lexer": "ipython3",
   "version": "3.9.12"
  }
 },
 "nbformat": 4,
 "nbformat_minor": 5
}
