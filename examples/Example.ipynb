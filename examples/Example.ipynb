{
 "cells": [
  {
   "cell_type": "markdown",
   "id": "eefbb15f",
   "metadata": {},
   "source": [
    "# 1. load/reload all dependency"
   ]
  },
  {
   "cell_type": "code",
   "execution_count": 54,
   "id": "e424d935",
   "metadata": {},
   "outputs": [
    {
     "name": "stdout",
     "output_type": "stream",
     "text": [
      "True\n"
     ]
    }
   ],
   "source": [
    "import numpy as np\n",
    "import pandas as pd\n",
    "from pytorch_lightning import LightningModule, Trainer\n",
    "from pytorch_lightning.callbacks import ModelCheckpoint\n",
    "\n",
    "import sys\n",
    "sys.path.append(\"../\")\n",
    "import pyhealth.datasets.datasets as datasets\n",
    "import pyhealth.models.models as models\n",
    "from importlib import reload\n",
    "reload(datasets)\n",
    "reload(models)\n",
    "import torch\n",
    "print(torch.cuda.is_available())\n"
   ]
  },
  {
   "cell_type": "markdown",
   "id": "4674cd6a",
   "metadata": {},
   "source": [
    "# 2. load dataset and initialize model"
   ]
  },
  {
   "cell_type": "code",
   "execution_count": null,
   "id": "406fd4ad",
   "metadata": {},
   "outputs": [],
   "source": [
    "# load MIMIC-III\n",
    "dataset = datasets.MIMIC_III()\n",
    "\n",
    "# initialize the model and build the dataloaders\n",
    "dataset.get_dataloader(\"GAMENet\")\n",
    "model = models.GAMENet(\n",
    "    dataset=dataset,\n",
    "    emb_dim=64,\n",
    ")"
   ]
  },
  {
   "cell_type": "markdown",
   "id": "2bad0ee6",
   "metadata": {},
   "source": [
    "# 3. train and test"
   ]
  },
  {
   "cell_type": "code",
   "execution_count": null,
   "id": "f968427a",
   "metadata": {
    "scrolled": false
   },
   "outputs": [],
   "source": [
    "# set trainer with checkpoint\n",
    "checkpoint_callback = ModelCheckpoint(dirpath='./model_cpt')\n",
    "trainer = Trainer(\n",
    "    gpus=1,\n",
    "    max_epochs=3,\n",
    "    progress_bar_refresh_rate=5,\n",
    "    callbacks=[checkpoint_callback],\n",
    ")\n",
    "\n",
    "# train model\n",
    "trainer.fit(\n",
    "    model=model,\n",
    "    train_dataloaders=dataset.train_loader,\n",
    "    val_dataloaders=dataset.val_loader,\n",
    ")\n",
    "\n",
    "# test the best model\n",
    "model.summary(\n",
    "    test_dataloaders=dataset.test_loader,\n",
    "    ckpt_path=checkpoint_callback.best_model_path,\n",
    ")"
   ]
  },
  {
   "cell_type": "code",
   "execution_count": null,
   "id": "31f82563",
   "metadata": {},
   "outputs": [],
   "source": []
  }
 ],
 "metadata": {
  "kernelspec": {
   "display_name": "Python 3 (ipykernel)",
   "language": "python",
   "name": "python3"
  },
  "language_info": {
   "codemirror_mode": {
    "name": "ipython",
    "version": 3
   },
   "file_extension": ".py",
   "mimetype": "text/x-python",
   "name": "python",
   "nbconvert_exporter": "python",
   "pygments_lexer": "ipython3",
   "version": "3.9.12"
  }
 },
 "nbformat": 4,
 "nbformat_minor": 5
}
