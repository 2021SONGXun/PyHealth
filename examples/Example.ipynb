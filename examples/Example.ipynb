{
 "cells": [
  {
   "cell_type": "code",
   "execution_count": 1,
   "id": "41993298",
   "metadata": {},
   "outputs": [],
   "source": [
    "import sys\n",
    "sys.path.append(\"/home/chaoqiy2/github/PyHealth-OMOP\")"
   ]
  },
  {
   "cell_type": "markdown",
   "id": "eefbb15f",
   "metadata": {
    "pycharm": {
     "name": "#%% md\n"
    }
   },
   "source": [
    "# 1. load dataset"
   ]
  },
  {
   "cell_type": "code",
   "execution_count": 2,
   "id": "7c3465f4",
   "metadata": {
    "pycharm": {
     "name": "#%%\n"
    }
   },
   "outputs": [
    {
     "name": "stdout",
     "output_type": "stream",
     "text": [
      "1. loaded the based dataset from cache\n"
     ]
    }
   ],
   "source": [
    "from pyhealth.datasets import MIMIC3BaseDataset\n",
    "base_ds = MIMIC3BaseDataset(root=\"/srv/local/data/physionet.org/files/mimiciii/1.4\", flag=\"dev\")"
   ]
  },
  {
   "cell_type": "markdown",
   "id": "bc445429",
   "metadata": {},
   "source": [
    "# 2. drug recommendation task"
   ]
  },
  {
   "cell_type": "code",
   "execution_count": 3,
   "id": "2cc61aa9",
   "metadata": {},
   "outputs": [
    {
     "name": "stdout",
     "output_type": "stream",
     "text": [
      "----- preparing code mappings -----\n",
      "source loaded from ./data cache\n",
      "source loaded from ./data cache\n",
      "source loaded from ./data cache\n",
      "source loaded from ./data cache\n",
      "mapping finished: RxNorm -> ATC4\n",
      "mapping finished: ATC4 -> RxNorm\n",
      "load time: 2.8688981533050537s\n",
      "-----------------------------------------\n",
      "1. finish cleaning the dataset for drug recommendation task\n",
      "2. tokenized the medical codes\n"
     ]
    }
   ],
   "source": [
    "from pyhealth.tasks import DrugRecDataset\n",
    "drugrec_ds = DrugRecDataset(base_ds)"
   ]
  },
  {
   "cell_type": "code",
   "execution_count": 9,
   "id": "f968427a",
   "metadata": {
    "pycharm": {
     "name": "#%%\n"
    },
    "scrolled": false
   },
   "outputs": [
    {
     "name": "stdout",
     "output_type": "stream",
     "text": [
      "1. finish data splitting\n",
      "2. generate train / val / test data loaders\n"
     ]
    }
   ],
   "source": [
    "from pyhealth.data.split import split_by_pat\n",
    "train_loader, val_loader, test_loader = split_by_pat(drugrec_ds, [0.8, 0.1, 0.1], 64)"
   ]
  },
  {
   "cell_type": "markdown",
   "id": "164fea46",
   "metadata": {},
   "source": [
    "# 3. initialize ML models"
   ]
  },
  {
   "cell_type": "code",
   "execution_count": 5,
   "id": "3423f13d",
   "metadata": {},
   "outputs": [],
   "source": [
    "from pyhealth.models import RetainDrugRec\n",
    "Retain = RetainDrugRec(\n",
    "    voc_size = drugrec_ds.voc_size,\n",
    "    tokenizers = drugrec_ds.tokenizers,\n",
    "    emb_dim = 64,\n",
    ")"
   ]
  },
  {
   "cell_type": "code",
   "execution_count": null,
   "id": "aef8aaec",
   "metadata": {},
   "outputs": [],
   "source": []
  }
 ],
 "metadata": {
  "kernelspec": {
   "display_name": "Python 3 (ipykernel)",
   "language": "python",
   "name": "python3"
  },
  "language_info": {
   "codemirror_mode": {
    "name": "ipython",
    "version": 3
   },
   "file_extension": ".py",
   "mimetype": "text/x-python",
   "name": "python",
   "nbconvert_exporter": "python",
   "pygments_lexer": "ipython3",
   "version": "3.8.13"
  },
  "vscode": {
   "interpreter": {
    "hash": "31f2aee4e71d21fbe5cf8b01ff0e069b9275f58929596ceb00d14d90e3e16cd6"
   }
  }
 },
 "nbformat": 4,
 "nbformat_minor": 5
}
