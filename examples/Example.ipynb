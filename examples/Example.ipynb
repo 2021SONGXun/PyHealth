{
 "cells": [
  {
   "cell_type": "code",
   "execution_count": 4,
   "id": "41993298",
   "metadata": {
    "pycharm": {
     "name": "#%%\n"
    }
   },
   "outputs": [],
   "source": [
    "import sys\n",
    "sys.path.append(\"/home/chaoqiy2/github/PyHealth-OMOP\")"
   ]
  },
  {
   "cell_type": "markdown",
   "id": "eefbb15f",
   "metadata": {
    "pycharm": {
     "name": "#%% md\n"
    }
   },
   "source": [
    "# 1. load dataset"
   ]
  },
  {
   "cell_type": "code",
   "execution_count": 5,
   "id": "7c3465f4",
   "metadata": {
    "pycharm": {
     "name": "#%%\n"
    }
   },
   "outputs": [],
   "source": [
    "from pyhealth.datasets import MIMIC3BaseDataset\n",
    "base_ds = MIMIC3BaseDataset(root=\"/srv/local/data/physionet.org/files/mimiciii/1.4\", flag=\"prod\")"
   ]
  },
  {
   "cell_type": "markdown",
   "id": "bc445429",
   "metadata": {
    "pycharm": {
     "name": "#%% md\n"
    }
   },
   "source": [
    "# 2. drug recommendation task"
   ]
  },
  {
   "cell_type": "code",
   "execution_count": 6,
   "id": "2cc61aa9",
   "metadata": {
    "pycharm": {
     "name": "#%%\n"
    }
   },
   "outputs": [
    {
     "name": "stdout",
     "output_type": "stream",
     "text": [
      "----- preparing code mappings -----\n",
      "source loaded from ./data cache\n",
      "source loaded from ./data cache\n",
      "source loaded from ./data cache\n",
      "source loaded from ./data cache\n",
      "mapping finished: RxNorm -> ATC4\n",
      "mapping finished: ATC4 -> RxNorm\n",
      "load time: 2.9381930828094482s\n",
      "-----------------------------------------\n"
     ]
    },
    {
     "name": "stderr",
     "output_type": "stream",
     "text": [
      "100%|█████████████████████████████████████████████████████████████████████████| 46518/46518 [00:09<00:00, 5029.12it/s]\n"
     ]
    },
    {
     "name": "stdout",
     "output_type": "stream",
     "text": [
      "1. finish cleaning the dataset for drug recommendation task\n",
      "2. tokenized the medical codes\n"
     ]
    }
   ],
   "source": [
    "from pyhealth.tasks import DrugRecDataset\n",
    "drugrec_ds = DrugRecDataset(base_ds)"
   ]
  },
  {
   "cell_type": "code",
   "execution_count": 4,
   "id": "8798ff64",
   "metadata": {
    "pycharm": {
     "name": "#%%\n"
    }
   },
   "outputs": [
    {
     "name": "stdout",
     "output_type": "stream",
     "text": [
      "1. finish data splitting\n",
      "2. generate train / val / test data loaders\n"
     ]
    }
   ],
   "source": [
    "from pyhealth.data.split import split_by_pat\n",
    "train_loader, val_loader, test_loader = split_by_pat(drugrec_ds, [2/3, 1/6, 1/6], batch_size=64)"
   ]
  },
  {
   "cell_type": "markdown",
   "id": "b96af6fb",
   "metadata": {
    "pycharm": {
     "name": "#%% md\n"
    }
   },
   "source": [
    "# 3. use basic ML models"
   ]
  },
  {
   "cell_type": "code",
   "execution_count": 5,
   "id": "d349db98",
   "metadata": {
    "pycharm": {
     "name": "#%%\n"
    }
   },
   "outputs": [],
   "source": [
    "from pyhealth.models import MLModel\n",
    "from sklearn.linear_model import LogisticRegression\n",
    "from sklearn.svm import SVC\n",
    "model = MLModel(\n",
    "    task = \"drug_recommendation\",\n",
    "    classifier = SVC(gamma='auto', verbose=1),\n",
    "#     classifier = LogisticRegression(random_state=0, n_jobs=-1, max_iter=10, verbose=1),\n",
    "    voc_size = drugrec_ds.voc_size,\n",
    "    tokenizers = drugrec_ds.tokenizers\n",
    ")"
   ]
  },
  {
   "cell_type": "markdown",
   "id": "1ec2fe1c",
   "metadata": {
    "pycharm": {
     "name": "#%% md\n"
    }
   },
   "source": [
    "# 4. training"
   ]
  },
  {
   "cell_type": "code",
   "execution_count": null,
   "id": "f1c58902",
   "metadata": {
    "scrolled": true,
    "pycharm": {
     "name": "#%%\n"
    }
   },
   "outputs": [
    {
     "name": "stdout",
     "output_type": "stream",
     "text": [
      "[LibSVM]*..\n",
      "Warning: using -h 0 may be faster\n",
      "*\n",
      "optimization finished, #iter = 2077\n",
      "obj = -1683.366462, rho = -0.912677\n",
      "nSV = 2124, nBSV = 1389\n",
      "Total nSV = 2124\n",
      "[LibSVM]*\n",
      "optimization finished, #iter = 24\n",
      "obj = -7.992431, rho = -0.999244\n",
      "nSV = 27, nBSV = 4\n",
      "Total nSV = 27\n",
      "[LibSVM]"
     ]
    }
   ],
   "source": [
    "from pyhealth.evaluator.evaluating_multilabel import evaluate_multilabel\n",
    "\n",
    "model.fit(\n",
    "    train_loader=train_loader,\n",
    "    evaluate_fn=evaluate_multilabel,\n",
    "    eval_loader=val_loader,\n",
    "    monitor=\"jaccard\",\n",
    ")"
   ]
  },
  {
   "cell_type": "markdown",
   "id": "5a5cda37",
   "metadata": {
    "pycharm": {
     "name": "#%% md\n"
    }
   },
   "source": [
    "# 5. evaluation"
   ]
  },
  {
   "cell_type": "code",
   "execution_count": null,
   "id": "0033f0a1",
   "metadata": {
    "pycharm": {
     "name": "#%%\n"
    }
   },
   "outputs": [],
   "source": [
    "evaluate_multilabel(model, test_loader, 'cpu')"
   ]
  },
  {
   "cell_type": "code",
   "execution_count": null,
   "id": "39a1606a",
   "metadata": {
    "pycharm": {
     "name": "#%%\n"
    }
   },
   "outputs": [],
   "source": [
    "aa"
   ]
  },
  {
   "cell_type": "markdown",
   "id": "851848ec",
   "metadata": {
    "pycharm": {
     "name": "#%% md\n"
    }
   },
   "source": [
    "# 3. initialize DL models"
   ]
  },
  {
   "cell_type": "code",
   "execution_count": null,
   "id": "4e663964",
   "metadata": {
    "pycharm": {
     "name": "#%%\n"
    }
   },
   "outputs": [],
   "source": [
    "from pyhealth.models import RETAIN\n",
    "model = RETAIN(\n",
    "    task = \"drug_recommendation\",\n",
    "    voc_size = drugrec_ds.voc_size,\n",
    "    tokenizers = drugrec_ds.tokenizers,\n",
    "    emb_dim = 64,\n",
    ")"
   ]
  },
  {
   "cell_type": "markdown",
   "id": "8ce6173a",
   "metadata": {
    "pycharm": {
     "name": "#%% md\n"
    }
   },
   "source": [
    "# 4. traning"
   ]
  },
  {
   "cell_type": "code",
   "execution_count": null,
   "id": "e21ec4e4",
   "metadata": {
    "scrolled": true,
    "pycharm": {
     "name": "#%%\n"
    }
   },
   "outputs": [],
   "source": [
    "from pyhealth.trainer import Trainer\n",
    "from pyhealth.evaluator.evaluating_multilabel import evaluate_multilabel\n",
    "\n",
    "trainer = Trainer(enable_logging=True, output_path=\"../output\")\n",
    "trainer.fit(model,\n",
    "            train_loader=train_loader,\n",
    "            epochs=50,\n",
    "            evaluate_fn=evaluate_multilabel,\n",
    "            eval_loader=val_loader,\n",
    "            monitor=\"jaccard\")\n",
    "\n",
    "# load the best model\n",
    "best_model = trainer.load_best(model)"
   ]
  },
  {
   "cell_type": "markdown",
   "id": "9a01283a",
   "metadata": {
    "pycharm": {
     "name": "#%% md\n"
    }
   },
   "source": [
    "# 5. evaluation"
   ]
  },
  {
   "cell_type": "code",
   "execution_count": null,
   "id": "ae2a37e1",
   "metadata": {
    "pycharm": {
     "name": "#%%\n"
    }
   },
   "outputs": [],
   "source": [
    "evaluate_multilabel(model, test_loader, 'cpu')"
   ]
  },
  {
   "cell_type": "code",
   "execution_count": null,
   "id": "5c8c2e62",
   "metadata": {
    "pycharm": {
     "name": "#%%\n"
    }
   },
   "outputs": [],
   "source": []
  },
  {
   "cell_type": "code",
   "execution_count": null,
   "id": "2db75c35",
   "metadata": {
    "pycharm": {
     "name": "#%%\n"
    }
   },
   "outputs": [],
   "source": []
  },
  {
   "cell_type": "code",
   "execution_count": null,
   "id": "5b4d36ca",
   "metadata": {
    "pycharm": {
     "name": "#%%\n"
    }
   },
   "outputs": [],
   "source": []
  },
  {
   "cell_type": "code",
   "execution_count": null,
   "id": "a04d8c43",
   "metadata": {
    "pycharm": {
     "name": "#%%\n"
    }
   },
   "outputs": [],
   "source": []
  }
 ],
 "metadata": {
  "kernelspec": {
   "display_name": "Python 3",
   "language": "python",
   "name": "python3"
  },
  "language_info": {
   "codemirror_mode": {
    "name": "ipython",
    "version": 3
   },
   "file_extension": ".py",
   "mimetype": "text/x-python",
   "name": "python",
   "nbconvert_exporter": "python",
   "pygments_lexer": "ipython3",
   "version": "3.9.12"
  },
  "vscode": {
   "interpreter": {
    "hash": "31f2aee4e71d21fbe5cf8b01ff0e069b9275f58929596ceb00d14d90e3e16cd6"
   }
  }
 },
 "nbformat": 4,
 "nbformat_minor": 5
}