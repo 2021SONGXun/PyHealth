{
 "cells": [
  {
   "cell_type": "code",
   "execution_count": 1,
   "id": "7383d89c",
   "metadata": {
    "pycharm": {
     "name": "#%%\n"
    }
   },
   "outputs": [],
   "source": [
    "import numpy as np \n",
    "import sys\n",
    "sys.path.append(\"../\")\n",
    "from xgboost import XGBClassifier\n",
    "from sklearn.model_selection import KFold\n",
    "from sklearn.multioutput import MultiOutputClassifier"
   ]
  },
  {
   "cell_type": "code",
   "execution_count": 2,
   "id": "de20f154",
   "metadata": {
    "pycharm": {
     "name": "#%%\n"
    }
   },
   "outputs": [
    {
     "name": "stderr",
     "output_type": "stream",
     "text": [
      "/home/pj20/miniconda3/envs/pyhealth/lib/python3.8/site-packages/tqdm/auto.py:22: TqdmWarning: IProgress not found. Please update jupyter and ipywidgets. See https://ipywidgets.readthedocs.io/en/stable/user_install.html\n",
      "  from .autonotebook import tqdm as notebook_tqdm\n"
     ]
    },
    {
     "name": "stdout",
     "output_type": "stream",
     "text": [
      "\n",
      "        ----- Output Data Structure -----\n",
      "        Dataset.patients: [\n",
      "            {\n",
      "                patient_id: patient_id, \n",
      "                visits: [\n",
      "                    {\n",
      "                        visit_id: visit_id, \n",
      "                        patient_id: patient_id, \n",
      "                        conditions: [List], \n",
      "                        procedures: [List],\n",
      "                        drugs: [List],\n",
      "                        visit_info: <dict>\n",
      "                    }\n",
      "                    ...\n",
      "                ]                    \n",
      "            } \n",
      "            ...\n",
      "        ]\n",
      "        \n"
     ]
    }
   ],
   "source": [
    "from pyhealth.datasets import MIMIC3BaseDataset, MIMIC4BaseDataset, eICUBaseDataset, OMOPBaseDataset\n",
    "base_dataset = MIMIC3BaseDataset(root=\"../srv/local/data/physionet.org/files/mimiciii/1.4\")\n",
    "# base_dataset = eICUBaseDataset(root=\"/srv/local/data/physionet.org/files/eicu-crd/2.0\")\n",
    "# base_dataset = MIMIC4BaseDataset(root=\"/srv/local/data/physionet.org/files/mimiciv/2.0/hosp\")\n",
    "# base_dataset = OMOPBaseDataset(root=\"/srv/local/data/zw12/pyhealth/raw_data/synpuf1k_omop_cdm_5.2.2\")\n",
    "base_dataset.info()"
   ]
  },
  {
   "cell_type": "code",
   "execution_count": 3,
   "id": "0050482e",
   "metadata": {
    "pycharm": {
     "name": "#%%\n"
    }
   },
   "outputs": [
    {
     "name": "stdout",
     "output_type": "stream",
     "text": [
      "\n",
      "        ----- Output Data Structure -----\n",
      "        >> drug_rec_dataloader[0]\n",
      "        >> {\n",
      "            \"conditions\": List[tensor],\n",
      "            \"procedures\": List[tensor],\n",
      "            \"drugs\": List[tensor]\n",
      "        }\n",
      "        \n"
     ]
    }
   ],
   "source": [
    "from pyhealth.tasks import DrugRecDataset\n",
    "drug_rec_dataset = DrugRecDataset(base_dataset)\n",
    "drug_rec_dataset.info()"
   ]
  },
  {
   "cell_type": "code",
   "execution_count": 4,
   "id": "7ea3936b",
   "metadata": {
    "pycharm": {
     "name": "#%%\n"
    }
   },
   "outputs": [],
   "source": [
    "from pyhealth.models import BaseModel\n",
    "\n",
    "xgboost = BaseModel(drug_rec_dataset, 'XGBoost')"
   ]
  },
  {
   "cell_type": "code",
   "execution_count": null,
   "id": "bad15b07",
   "metadata": {
    "pycharm": {
     "name": "#%%\n"
    }
   },
   "outputs": [
    {
     "name": "stdout",
     "output_type": "stream",
     "text": [
      "Starting fold:  0\n"
     ]
    }
   ],
   "source": [
    "# Train\n",
    "xgboost.train(0.9)"
   ]
  },
  {
   "cell_type": "code",
   "execution_count": null,
   "id": "b22926d7",
   "metadata": {
    "pycharm": {
     "name": "#%%\n"
    }
   },
   "outputs": [],
   "source": [
    "xgboost.predict()"
   ]
  },
  {
   "cell_type": "code",
   "execution_count": null,
   "id": "ce16d28d",
   "metadata": {
    "pycharm": {
     "name": "#%%\n"
    }
   },
   "outputs": [],
   "source": [
    "from pyhealth.data import split\n",
    "\n",
    "drug_rec_trainset, drug_rec_valset, drug_rec_testset = split.random_split(drug_rec_dataset, [0.8, 0.1, 0.1])"
   ]
  },
  {
   "cell_type": "code",
   "execution_count": null,
   "id": "83b10ba0",
   "metadata": {
    "pycharm": {
     "name": "#%%\n"
    }
   },
   "outputs": [],
   "source": [
    "drug_rec_trainset[4358]['conditions']"
   ]
  },
  {
   "cell_type": "code",
   "execution_count": null,
   "id": "b79fecf0",
   "metadata": {
    "pycharm": {
     "name": "#%%\n"
    }
   },
   "outputs": [],
   "source": [
    "visit_embs = []\n",
    "\n",
    "for i in range(len(drug_rec_dataset)):\n",
    "    # visit embedding\n",
    "    condition_emb = condition_embedding(drug_rec_dataset[i]['conditions']).sum(dim=1).data\n",
    "    procedure_emb = condition_embedding(drug_rec_dataset[i]['procedures']).sum(dim=1).data\n",
    "    visit_embs.append(condition_emb + procedure_emb)\n",
    "    \n",
    "visit_embs"
   ]
  },
  {
   "cell_type": "code",
   "execution_count": null,
   "id": "9e062f6a",
   "metadata": {
    "pycharm": {
     "name": "#%%\n"
    }
   },
   "outputs": [],
   "source": [
    "import torch\n",
    "\n",
    "x_emb = []\n",
    "y_emb = []\n",
    "for patient in range(len(visit_embs)):\n",
    "    for visit in range(len(visit_embs[patient])):\n",
    "        x_emb.append(visit_embs[patient][visit].numpy())\n",
    "        \n",
    "        #drug multi-hot\n",
    "        drugs_index = drug_rec_dataset[patient]['drugs'][visit]\n",
    "        drugs_multihot = torch.zeros(1, voc_size[2])\n",
    "        drugs_multihot[0][drugs_index] = 1\n",
    "        y_emb.append(drugs_multihot[0].numpy())\n",
    "        \n",
    "X = np.array(x_emb, dtype=float)\n",
    "y = np.array(y_emb, dtype=int)\n",
    "\n",
    "X, y"
   ]
  },
  {
   "cell_type": "code",
   "execution_count": null,
   "id": "1fea1bf8",
   "metadata": {
    "pycharm": {
     "name": "#%%\n"
    }
   },
   "outputs": [],
   "source": [
    "idx = (int)(len(X) * 0.9)\n",
    "X_train, X_test = X[:idx], X[idx:]\n",
    "y_train, y_test = y[:idx], y[idx:]\n"
   ]
  },
  {
   "cell_type": "code",
   "execution_count": null,
   "id": "e5ae12c1",
   "metadata": {
    "pycharm": {
     "name": "#%%\n"
    }
   },
   "outputs": [],
   "source": [
    "from sklearn.metrics import log_loss\n",
    "\n",
    "xgb_estimator = XGBClassifier(objective='binary:logistic',tree_method='gpu_hist')\n",
    "predictor = MultiOutputClassifier(xgb_estimator)"
   ]
  },
  {
   "cell_type": "code",
   "execution_count": null,
   "id": "3663d9b0",
   "metadata": {
    "pycharm": {
     "name": "#%%\n"
    }
   },
   "outputs": [],
   "source": [
    "oof_preds = np.zeros(y_train.shape)\n",
    "test_preds = np.zeros((X_test.shape[0], y_test.shape[1]))\n",
    "oof_losses = []\n",
    "kf = KFold(n_splits=5)\n",
    "for fn, (trn_idx, val_idx) in enumerate(kf.split(X_train, y_train)):\n",
    "    print('Starting fold: ', fn)\n",
    "    X_train_, X_val = X_train[trn_idx], X_train[val_idx]\n",
    "    y_train_, y_val = y_train[trn_idx], y_train[val_idx]\n",
    "    \n",
    "    predictor.fit(X_train_, y_train_)\n",
    "    val_preds = predictor.predict_proba(X_val) # list of preds per class\n",
    "    val_preds = np.array(val_preds)[:,:,1].T # take the positive class\n",
    "    oof_preds[val_idx] = val_preds\n",
    "    \n",
    "    loss = log_loss(np.ravel(y_val), np.ravel(val_preds))\n",
    "    oof_losses.append(loss)\n",
    "    preds = predictor.predict_proba(X_test)\n",
    "    preds = np.array(preds)[:,:,1].T # take the positive class\n",
    "    test_preds += preds / 5\n",
    "    \n",
    "print(oof_losses)\n",
    "print('Mean OOF loss across folds', np.mean(oof_losses))\n",
    "print('STD OOF loss across folds', np.std(oof_losses))"
   ]
  },
  {
   "cell_type": "code",
   "execution_count": null,
   "id": "be761722",
   "metadata": {
    "pycharm": {
     "name": "#%%\n"
    }
   },
   "outputs": [],
   "source": [
    "predict_result = predictor.predict(X_test)\n"
   ]
  },
  {
   "cell_type": "code",
   "execution_count": null,
   "id": "abf21980",
   "metadata": {
    "pycharm": {
     "name": "#%%\n"
    }
   },
   "outputs": [],
   "source": []
  }
 ],
 "metadata": {
  "kernelspec": {
   "display_name": "Python 3 (ipykernel)",
   "language": "python",
   "name": "python3"
  },
  "language_info": {
   "codemirror_mode": {
    "name": "ipython",
    "version": 3
   },
   "file_extension": ".py",
   "mimetype": "text/x-python",
   "name": "python",
   "nbconvert_exporter": "python",
   "pygments_lexer": "ipython3",
   "version": "3.8.13"
  }
 },
 "nbformat": 4,
 "nbformat_minor": 5
}
