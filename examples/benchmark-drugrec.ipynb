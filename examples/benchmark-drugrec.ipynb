{
 "cells": [
  {
   "cell_type": "code",
   "execution_count": 1,
   "id": "41993298",
   "metadata": {},
   "outputs": [],
   "source": [
    "import sys\n",
    "sys.path.append(\"/home/chaoqiy2/github/PyHealth-OMOP\")\n",
    "\n",
    "from warnings import simplefilter\n",
    "\n",
    "# ignore all warnings\n",
    "simplefilter(action='ignore')"
   ]
  },
  {
   "cell_type": "markdown",
   "id": "eefbb15f",
   "metadata": {
    "pycharm": {
     "name": "#%% md\n"
    }
   },
   "source": [
    "# 1. load dataset"
   ]
  },
  {
   "cell_type": "code",
   "execution_count": 2,
   "id": "7c3465f4",
   "metadata": {
    "pycharm": {
     "name": "#%%\n"
    }
   },
   "outputs": [],
   "source": [
    "from pyhealth.datasets import MIMIC3BaseDataset\n",
    "\n",
    "# used for development\n",
    "# base_ds = MIMIC3BaseDataset(root=\"/srv/local/data/physionet.org/files/mimiciii/1.4\", flag=\"dev\")\n",
    "\n",
    "# used for product\n",
    "base_ds = MIMIC3BaseDataset(root=\"/srv/local/data/physionet.org/files/mimiciii/1.4\", flag=\"prod\")"
   ]
  },
  {
   "cell_type": "markdown",
   "id": "bc445429",
   "metadata": {},
   "source": [
    "# 2. drug recommendation task"
   ]
  },
  {
   "cell_type": "code",
   "execution_count": 3,
   "id": "2cc61aa9",
   "metadata": {},
   "outputs": [
    {
     "name": "stdout",
     "output_type": "stream",
     "text": [
      "----- preparing code mappings -----\n",
      "source loaded from ./data cache\n",
      "source loaded from ./data cache\n",
      "source loaded from ./data cache\n",
      "source loaded from ./data cache\n",
      "mapping finished: RxNorm -> ATC4\n",
      "mapping finished: ATC4 -> RxNorm\n",
      "load time: 2.741455078125s\n",
      "-----------------------------------------\n"
     ]
    },
    {
     "name": "stderr",
     "output_type": "stream",
     "text": [
      "100%|█████████████████████████████████████████████████████████████████████████| 46518/46518 [00:06<00:00, 7163.59it/s]\n"
     ]
    },
    {
     "name": "stdout",
     "output_type": "stream",
     "text": [
      "1. finish cleaning the dataset for drug recommendation task\n",
      "2. tokenized the medical codes\n"
     ]
    }
   ],
   "source": [
    "from pyhealth.tasks import DrugRecDataset\n",
    "drugrec_ds = DrugRecDataset(base_ds)"
   ]
  },
  {
   "cell_type": "code",
   "execution_count": 4,
   "id": "8798ff64",
   "metadata": {},
   "outputs": [
    {
     "name": "stdout",
     "output_type": "stream",
     "text": [
      "1. finish data splitting\n",
      "2. generate train / val / test data loaders\n"
     ]
    }
   ],
   "source": [
    "from pyhealth.data.split import split_by_pat\n",
    "train_loader, val_loader, test_loader = split_by_pat(\n",
    "                                            drugrec_ds,\n",
    "                                            ratios = [2/3, 1/6, 1/6], \n",
    "                                            batch_size = 64, \n",
    "                                            seed = 12345,\n",
    "                                        )"
   ]
  },
  {
   "cell_type": "markdown",
   "id": "851848ec",
   "metadata": {},
   "source": [
    "# 3. initialize DL models"
   ]
  },
  {
   "cell_type": "code",
   "execution_count": 5,
   "id": "4e663964",
   "metadata": {},
   "outputs": [],
   "source": [
    "from pyhealth.models import RETAIN, MLModel, RNN, Transformer, GAMENet, SafeDrug\n",
    "from sklearn.linear_model import LogisticRegression\n",
    "from sklearn.ensemble import RandomForestClassifier\n",
    "from sklearn.neural_network import MLPClassifier\n",
    "\n",
    "# ------ DL model -------\n",
    "\n",
    "# # for GAMENet\n",
    "# visit_ls = train_loader.dataset.indices\n",
    "# ehr_adj = train_loader.dataset.dataset.generate_ehr_adj_for_GAMENet(visit_ls)\n",
    "# ddi_adj = train_loader.dataset.dataset.get_ddi_matrix()\n",
    "# model = GAMENet(\n",
    "#     task = \"drug_recommendation\",\n",
    "#     voc_size = drugrec_ds.voc_size,\n",
    "#     tokenizers = drugrec_ds.tokenizers,\n",
    "#     emb_dim = 64,\n",
    "#     ehr_adj = ehr_adj,\n",
    "#     ddi_adj = ddi_adj,\n",
    "# )\n",
    "\n",
    "# for SafeDrug\n",
    "# bipartite_info = train_loader.dataset.dataset.generate_ddi_mask_H_for_SafeDrug()\n",
    "# MPNN_info = train_loader.dataset.dataset.generate_med_molecule_info_for_SafeDrug()\n",
    "# ddi_adj = train_loader.dataset.dataset.get_ddi_matrix()\n",
    "model = RETAIN(\n",
    "    task = \"drug_recommendation\",\n",
    "    voc_size = drugrec_ds.voc_size,\n",
    "    tokenizers = drugrec_ds.tokenizers,\n",
    "    emb_dim = 64,\n",
    "#     MPNN_info = MPNN_info,\n",
    "#     bipartite_info = bipartite_info,\n",
    "#     ddi_adj = ddi_adj,\n",
    ")\n",
    "\n",
    "# # ------ ML model -----------\n",
    "# model = MLModel(\n",
    "#     output_path=\"../output\",\n",
    "#     task = \"drug_recommendation\",\n",
    "# #     classifier = SVC(gamma='auto', verbose=1),\n",
    "# #     classifier = LogisticRegression(random_state=0, max_iter=10, verbose=1),\n",
    "# #     classifier = RandomForestClassifier(random_state=0, n_estimators=20, max_depth=3),\n",
    "#     classifier = MLPClassifier(max_iter=50, alpha=1e-3, hidden_layer_sizes=(16, 16)),\n",
    "#     voc_size = drugrec_ds.voc_size,\n",
    "#     tokenizers = drugrec_ds.tokenizers\n",
    "# )"
   ]
  },
  {
   "cell_type": "markdown",
   "id": "8ce6173a",
   "metadata": {},
   "source": [
    "# 4. traning"
   ]
  },
  {
   "cell_type": "code",
   "execution_count": 6,
   "id": "e21ec4e4",
   "metadata": {
    "scrolled": true
   },
   "outputs": [
    {
     "data": {
      "application/vnd.jupyter.widget-view+json": {
       "model_id": "381a8436fc2f434e91936d30ab603ea9",
       "version_major": 2,
       "version_minor": 0
      },
      "text/plain": [
       "Iteration:   0%|          | 0/183 [00:00<?, ?it/s]"
      ]
     },
     "metadata": {},
     "output_type": "display_data"
    },
    {
     "name": "stdout",
     "output_type": "stream",
     "text": [
      "{'loss': 0.35522148, 'ddi': 0.07971747350593601, 'jaccard': 0.42471984135043495, 'prauc': 0.7079653248442781, 'f1': 0.5874560527779868}\n"
     ]
    },
    {
     "data": {
      "application/vnd.jupyter.widget-view+json": {
       "model_id": "f730f7e1e3834bada72fa12a543c7d8e",
       "version_major": 2,
       "version_minor": 0
      },
      "text/plain": [
       "Iteration:   0%|          | 0/183 [00:00<?, ?it/s]"
      ]
     },
     "metadata": {},
     "output_type": "display_data"
    },
    {
     "name": "stdout",
     "output_type": "stream",
     "text": [
      "{'loss': 0.33739236, 'ddi': 0.08095505056998512, 'jaccard': 0.43710532034854166, 'prauc': 0.7204442675780293, 'f1': 0.6001921826444528}\n"
     ]
    },
    {
     "data": {
      "application/vnd.jupyter.widget-view+json": {
       "model_id": "47fa7ece31e1443d93b9bc840457a473",
       "version_major": 2,
       "version_minor": 0
      },
      "text/plain": [
       "Iteration:   0%|          | 0/183 [00:00<?, ?it/s]"
      ]
     },
     "metadata": {},
     "output_type": "display_data"
    },
    {
     "name": "stdout",
     "output_type": "stream",
     "text": [
      "{'loss': 0.3244608, 'ddi': 0.08221348829567368, 'jaccard': 0.44640993425370473, 'prauc': 0.7274429539483188, 'f1': 0.6090912361627203}\n"
     ]
    },
    {
     "data": {
      "application/vnd.jupyter.widget-view+json": {
       "model_id": "fb2923677c63433aaf7042f0f3ccbf0b",
       "version_major": 2,
       "version_minor": 0
      },
      "text/plain": [
       "Iteration:   0%|          | 0/183 [00:00<?, ?it/s]"
      ]
     },
     "metadata": {},
     "output_type": "display_data"
    },
    {
     "name": "stdout",
     "output_type": "stream",
     "text": [
      "{'loss': 0.31895474, 'ddi': 0.07674112320823766, 'jaccard': 0.4535921571686346, 'prauc': 0.7324781517799971, 'f1': 0.6156929513769976}\n"
     ]
    },
    {
     "data": {
      "application/vnd.jupyter.widget-view+json": {
       "model_id": "b309970c9d5c47f09059c1f88b182cd0",
       "version_major": 2,
       "version_minor": 0
      },
      "text/plain": [
       "Iteration:   0%|          | 0/183 [00:00<?, ?it/s]"
      ]
     },
     "metadata": {},
     "output_type": "display_data"
    },
    {
     "name": "stdout",
     "output_type": "stream",
     "text": [
      "{'loss': 0.31413004, 'ddi': 0.0804208790625727, 'jaccard': 0.4584402039795317, 'prauc': 0.7364676934457685, 'f1': 0.6201202483949553}\n"
     ]
    },
    {
     "data": {
      "application/vnd.jupyter.widget-view+json": {
       "model_id": "d4c9ec3ab85e49388d78432d73003e87",
       "version_major": 2,
       "version_minor": 0
      },
      "text/plain": [
       "Iteration:   0%|          | 0/183 [00:00<?, ?it/s]"
      ]
     },
     "metadata": {},
     "output_type": "display_data"
    },
    {
     "name": "stdout",
     "output_type": "stream",
     "text": [
      "{'loss': 0.31068295, 'ddi': 0.07889126098162628, 'jaccard': 0.4612289238171866, 'prauc': 0.7386169285463057, 'f1': 0.6226683496316107}\n"
     ]
    },
    {
     "data": {
      "application/vnd.jupyter.widget-view+json": {
       "model_id": "46fcb8bed1174000a1014a62a211ab03",
       "version_major": 2,
       "version_minor": 0
      },
      "text/plain": [
       "Iteration:   0%|          | 0/183 [00:00<?, ?it/s]"
      ]
     },
     "metadata": {},
     "output_type": "display_data"
    },
    {
     "name": "stdout",
     "output_type": "stream",
     "text": [
      "{'loss': 0.30774057, 'ddi': 0.0782957792375803, 'jaccard': 0.4650700936974334, 'prauc': 0.7410359781066879, 'f1': 0.6261665207524028}\n"
     ]
    },
    {
     "data": {
      "application/vnd.jupyter.widget-view+json": {
       "model_id": "219e436df3ba4cd69428d27bfa6b5165",
       "version_major": 2,
       "version_minor": 0
      },
      "text/plain": [
       "Iteration:   0%|          | 0/183 [00:00<?, ?it/s]"
      ]
     },
     "metadata": {},
     "output_type": "display_data"
    },
    {
     "name": "stdout",
     "output_type": "stream",
     "text": [
      "{'loss': 0.30552334, 'ddi': 0.0799163806769681, 'jaccard': 0.46948099688184725, 'prauc': 0.7436851645178318, 'f1': 0.6303086834627017}\n"
     ]
    },
    {
     "data": {
      "application/vnd.jupyter.widget-view+json": {
       "model_id": "d0a03da5219f4cfc87eea70ac37e42d6",
       "version_major": 2,
       "version_minor": 0
      },
      "text/plain": [
       "Iteration:   0%|          | 0/183 [00:00<?, ?it/s]"
      ]
     },
     "metadata": {},
     "output_type": "display_data"
    },
    {
     "name": "stdout",
     "output_type": "stream",
     "text": [
      "{'loss': 0.30345902, 'ddi': 0.07977917820225369, 'jaccard': 0.47181488601078303, 'prauc': 0.7458939219722963, 'f1': 0.632313842142914}\n"
     ]
    },
    {
     "data": {
      "application/vnd.jupyter.widget-view+json": {
       "model_id": "137598c26e8647e1831202322fd80317",
       "version_major": 2,
       "version_minor": 0
      },
      "text/plain": [
       "Iteration:   0%|          | 0/183 [00:00<?, ?it/s]"
      ]
     },
     "metadata": {},
     "output_type": "display_data"
    },
    {
     "name": "stdout",
     "output_type": "stream",
     "text": [
      "{'loss': 0.30248952, 'ddi': 0.07706777921312576, 'jaccard': 0.4748723716326017, 'prauc': 0.7470619935432014, 'f1': 0.6349024152818206}\n"
     ]
    },
    {
     "data": {
      "application/vnd.jupyter.widget-view+json": {
       "model_id": "651a422d58f04c95b9eace8d3d1b7fb4",
       "version_major": 2,
       "version_minor": 0
      },
      "text/plain": [
       "Iteration:   0%|          | 0/183 [00:00<?, ?it/s]"
      ]
     },
     "metadata": {},
     "output_type": "display_data"
    },
    {
     "name": "stdout",
     "output_type": "stream",
     "text": [
      "{'loss': 0.30066523, 'ddi': 0.07838363440869983, 'jaccard': 0.4774349640847125, 'prauc': 0.7485649136403066, 'f1': 0.6370859519613298}\n"
     ]
    },
    {
     "data": {
      "application/vnd.jupyter.widget-view+json": {
       "model_id": "2656832ae76140c5aa74e0092974c599",
       "version_major": 2,
       "version_minor": 0
      },
      "text/plain": [
       "Iteration:   0%|          | 0/183 [00:00<?, ?it/s]"
      ]
     },
     "metadata": {},
     "output_type": "display_data"
    },
    {
     "name": "stdout",
     "output_type": "stream",
     "text": [
      "{'loss': 0.29948238, 'ddi': 0.07674259035611862, 'jaccard': 0.47906306625366046, 'prauc': 0.7496446545033802, 'f1': 0.6386576643480806}\n"
     ]
    },
    {
     "data": {
      "application/vnd.jupyter.widget-view+json": {
       "model_id": "580b17dc96054844986735037875661e",
       "version_major": 2,
       "version_minor": 0
      },
      "text/plain": [
       "Iteration:   0%|          | 0/183 [00:00<?, ?it/s]"
      ]
     },
     "metadata": {},
     "output_type": "display_data"
    },
    {
     "name": "stdout",
     "output_type": "stream",
     "text": [
      "{'loss': 0.29810017, 'ddi': 0.07949196700241748, 'jaccard': 0.48066462409293503, 'prauc': 0.7509755174691185, 'f1': 0.6401925026781993}\n"
     ]
    },
    {
     "data": {
      "application/vnd.jupyter.widget-view+json": {
       "model_id": "f4e0fcfd4afa44a0a31c174b30bd727d",
       "version_major": 2,
       "version_minor": 0
      },
      "text/plain": [
       "Iteration:   0%|          | 0/183 [00:00<?, ?it/s]"
      ]
     },
     "metadata": {},
     "output_type": "display_data"
    },
    {
     "name": "stdout",
     "output_type": "stream",
     "text": [
      "{'loss': 0.29676133, 'ddi': 0.07839786827395279, 'jaccard': 0.48368753022201083, 'prauc': 0.7530379693322418, 'f1': 0.6427626062149749}\n"
     ]
    },
    {
     "data": {
      "application/vnd.jupyter.widget-view+json": {
       "model_id": "afe7e9bf8dcc4dc8b9391483d8ddd424",
       "version_major": 2,
       "version_minor": 0
      },
      "text/plain": [
       "Iteration:   0%|          | 0/183 [00:00<?, ?it/s]"
      ]
     },
     "metadata": {},
     "output_type": "display_data"
    },
    {
     "name": "stdout",
     "output_type": "stream",
     "text": [
      "{'loss': 0.29599634, 'ddi': 0.07828837742137054, 'jaccard': 0.48407860584846546, 'prauc': 0.754077455485815, 'f1': 0.6431229014277787}\n"
     ]
    },
    {
     "data": {
      "application/vnd.jupyter.widget-view+json": {
       "model_id": "35c37e748510410da3134b8a19a2be6f",
       "version_major": 2,
       "version_minor": 0
      },
      "text/plain": [
       "Iteration:   0%|          | 0/183 [00:00<?, ?it/s]"
      ]
     },
     "metadata": {},
     "output_type": "display_data"
    },
    {
     "name": "stdout",
     "output_type": "stream",
     "text": [
      "{'loss': 0.29525208, 'ddi': 0.07704531751675874, 'jaccard': 0.4856441766216357, 'prauc': 0.7548802300635112, 'f1': 0.6444595700331419}\n"
     ]
    },
    {
     "data": {
      "application/vnd.jupyter.widget-view+json": {
       "model_id": "f000eb85a75e4d88970846634b0bd495",
       "version_major": 2,
       "version_minor": 0
      },
      "text/plain": [
       "Iteration:   0%|          | 0/183 [00:00<?, ?it/s]"
      ]
     },
     "metadata": {},
     "output_type": "display_data"
    },
    {
     "name": "stdout",
     "output_type": "stream",
     "text": [
      "{'loss': 0.29431784, 'ddi': 0.07636559305674974, 'jaccard': 0.48763549406203327, 'prauc': 0.7558627458877117, 'f1': 0.6461186955259183}\n"
     ]
    },
    {
     "data": {
      "application/vnd.jupyter.widget-view+json": {
       "model_id": "6fd7a3b8ba1c4f039249f177fb806db6",
       "version_major": 2,
       "version_minor": 0
      },
      "text/plain": [
       "Iteration:   0%|          | 0/183 [00:00<?, ?it/s]"
      ]
     },
     "metadata": {},
     "output_type": "display_data"
    },
    {
     "name": "stdout",
     "output_type": "stream",
     "text": [
      "{'loss': 0.2935467, 'ddi': 0.07566608058690365, 'jaccard': 0.48828111836890536, 'prauc': 0.7568711470296895, 'f1': 0.6466999814088267}\n"
     ]
    },
    {
     "data": {
      "application/vnd.jupyter.widget-view+json": {
       "model_id": "9967b1eb06be40a8b7e7dc44fa57f809",
       "version_major": 2,
       "version_minor": 0
      },
      "text/plain": [
       "Iteration:   0%|          | 0/183 [00:00<?, ?it/s]"
      ]
     },
     "metadata": {},
     "output_type": "display_data"
    },
    {
     "name": "stdout",
     "output_type": "stream",
     "text": [
      "{'loss': 0.2928833, 'ddi': 0.07661368276043193, 'jaccard': 0.49051411623280394, 'prauc': 0.7580822449006449, 'f1': 0.6486559577844827}\n"
     ]
    },
    {
     "data": {
      "application/vnd.jupyter.widget-view+json": {
       "model_id": "3b88979a9d51472ca56e6d82eede446e",
       "version_major": 2,
       "version_minor": 0
      },
      "text/plain": [
       "Iteration:   0%|          | 0/183 [00:00<?, ?it/s]"
      ]
     },
     "metadata": {},
     "output_type": "display_data"
    },
    {
     "name": "stdout",
     "output_type": "stream",
     "text": [
      "{'loss': 0.2919151, 'ddi': 0.07791669644431885, 'jaccard': 0.49050617881007313, 'prauc': 0.7588811609337716, 'f1': 0.6487200276930716}\n"
     ]
    },
    {
     "data": {
      "application/vnd.jupyter.widget-view+json": {
       "model_id": "83c649b929184e13a5c7e4da3d70791e",
       "version_major": 2,
       "version_minor": 0
      },
      "text/plain": [
       "Iteration:   0%|          | 0/183 [00:00<?, ?it/s]"
      ]
     },
     "metadata": {},
     "output_type": "display_data"
    },
    {
     "name": "stdout",
     "output_type": "stream",
     "text": [
      "{'loss': 0.29140422, 'ddi': 0.07707135963806913, 'jaccard': 0.4923516884739172, 'prauc': 0.7597176256805462, 'f1': 0.6502037550713585}\n"
     ]
    },
    {
     "data": {
      "application/vnd.jupyter.widget-view+json": {
       "model_id": "733eb7bfd7eb4d949881589aac4f9181",
       "version_major": 2,
       "version_minor": 0
      },
      "text/plain": [
       "Iteration:   0%|          | 0/183 [00:00<?, ?it/s]"
      ]
     },
     "metadata": {},
     "output_type": "display_data"
    },
    {
     "name": "stdout",
     "output_type": "stream",
     "text": [
      "{'loss': 0.29067853, 'ddi': 0.07698229407236336, 'jaccard': 0.4933717260684118, 'prauc': 0.7610286213188193, 'f1': 0.6511970963093865}\n"
     ]
    },
    {
     "data": {
      "application/vnd.jupyter.widget-view+json": {
       "model_id": "b4d9bb9f1dbc4d909cf527ed661a25b3",
       "version_major": 2,
       "version_minor": 0
      },
      "text/plain": [
       "Iteration:   0%|          | 0/183 [00:00<?, ?it/s]"
      ]
     },
     "metadata": {},
     "output_type": "display_data"
    },
    {
     "name": "stdout",
     "output_type": "stream",
     "text": [
      "{'loss': 0.2904328, 'ddi': 0.0765400212238426, 'jaccard': 0.49438608420300545, 'prauc': 0.7614234807297481, 'f1': 0.6520955130207958}\n"
     ]
    },
    {
     "data": {
      "application/vnd.jupyter.widget-view+json": {
       "model_id": "16c1874235ec4371b658410103ac3d8a",
       "version_major": 2,
       "version_minor": 0
      },
      "text/plain": [
       "Iteration:   0%|          | 0/183 [00:00<?, ?it/s]"
      ]
     },
     "metadata": {},
     "output_type": "display_data"
    },
    {
     "name": "stdout",
     "output_type": "stream",
     "text": [
      "{'loss': 0.29010195, 'ddi': 0.07430509221568615, 'jaccard': 0.4948957066831483, 'prauc': 0.7621430599362138, 'f1': 0.6523900470617092}\n"
     ]
    },
    {
     "data": {
      "application/vnd.jupyter.widget-view+json": {
       "model_id": "97e319a1701844fc9f43e0fea331e7f0",
       "version_major": 2,
       "version_minor": 0
      },
      "text/plain": [
       "Iteration:   0%|          | 0/183 [00:00<?, ?it/s]"
      ]
     },
     "metadata": {},
     "output_type": "display_data"
    },
    {
     "name": "stdout",
     "output_type": "stream",
     "text": [
      "{'loss': 0.28904602, 'ddi': 0.07605848134627761, 'jaccard': 0.49615006499317454, 'prauc': 0.7627788437684548, 'f1': 0.6534885100702003}\n"
     ]
    },
    {
     "data": {
      "application/vnd.jupyter.widget-view+json": {
       "model_id": "87be11c9d788469fa3aee2046f45b7be",
       "version_major": 2,
       "version_minor": 0
      },
      "text/plain": [
       "Iteration:   0%|          | 0/183 [00:00<?, ?it/s]"
      ]
     },
     "metadata": {},
     "output_type": "display_data"
    },
    {
     "name": "stdout",
     "output_type": "stream",
     "text": [
      "{'loss': 0.28868225, 'ddi': 0.07599916064356577, 'jaccard': 0.49656686097883534, 'prauc': 0.7631407759644079, 'f1': 0.654031119889731}\n"
     ]
    },
    {
     "data": {
      "application/vnd.jupyter.widget-view+json": {
       "model_id": "1f93a82b57f6431db27bef1a91c5b544",
       "version_major": 2,
       "version_minor": 0
      },
      "text/plain": [
       "Iteration:   0%|          | 0/183 [00:00<?, ?it/s]"
      ]
     },
     "metadata": {},
     "output_type": "display_data"
    },
    {
     "name": "stdout",
     "output_type": "stream",
     "text": [
      "{'loss': 0.28815377, 'ddi': 0.07554632290561544, 'jaccard': 0.4971867891686967, 'prauc': 0.7636591207070836, 'f1': 0.6543839994901521}\n"
     ]
    },
    {
     "data": {
      "application/vnd.jupyter.widget-view+json": {
       "model_id": "ece6431751914b4da157f4f4ee559c85",
       "version_major": 2,
       "version_minor": 0
      },
      "text/plain": [
       "Iteration:   0%|          | 0/183 [00:00<?, ?it/s]"
      ]
     },
     "metadata": {},
     "output_type": "display_data"
    },
    {
     "name": "stdout",
     "output_type": "stream",
     "text": [
      "{'loss': 0.28782386, 'ddi': 0.07497912669678511, 'jaccard': 0.49724521747173267, 'prauc': 0.763922314879851, 'f1': 0.6544265604040165}\n"
     ]
    },
    {
     "data": {
      "application/vnd.jupyter.widget-view+json": {
       "model_id": "76430792b2804f109d566e753a9cc8a0",
       "version_major": 2,
       "version_minor": 0
      },
      "text/plain": [
       "Iteration:   0%|          | 0/183 [00:00<?, ?it/s]"
      ]
     },
     "metadata": {},
     "output_type": "display_data"
    },
    {
     "name": "stdout",
     "output_type": "stream",
     "text": [
      "{'loss': 0.28739154, 'ddi': 0.07590455169273386, 'jaccard': 0.4973455521617216, 'prauc': 0.7643422920945426, 'f1': 0.6546068016026806}\n"
     ]
    },
    {
     "data": {
      "application/vnd.jupyter.widget-view+json": {
       "model_id": "0e695796194e4937a505869e679c6a18",
       "version_major": 2,
       "version_minor": 0
      },
      "text/plain": [
       "Iteration:   0%|          | 0/183 [00:00<?, ?it/s]"
      ]
     },
     "metadata": {},
     "output_type": "display_data"
    },
    {
     "name": "stdout",
     "output_type": "stream",
     "text": [
      "{'loss': 0.28712824, 'ddi': 0.07570578986943742, 'jaccard': 0.49845370993756566, 'prauc': 0.7648934465340356, 'f1': 0.6554131170255528}\n"
     ]
    },
    {
     "data": {
      "application/vnd.jupyter.widget-view+json": {
       "model_id": "ad081a18c7fd4820801430d4361466be",
       "version_major": 2,
       "version_minor": 0
      },
      "text/plain": [
       "Iteration:   0%|          | 0/183 [00:00<?, ?it/s]"
      ]
     },
     "metadata": {},
     "output_type": "display_data"
    },
    {
     "name": "stdout",
     "output_type": "stream",
     "text": [
      "{'loss': 0.2873326, 'ddi': 0.07540493006435456, 'jaccard': 0.49869096540993296, 'prauc': 0.7651134857944376, 'f1': 0.6556530303278038}\n"
     ]
    },
    {
     "data": {
      "application/vnd.jupyter.widget-view+json": {
       "model_id": "51a6b1be5990439d8e6599a503735d6d",
       "version_major": 2,
       "version_minor": 0
      },
      "text/plain": [
       "Iteration:   0%|          | 0/183 [00:00<?, ?it/s]"
      ]
     },
     "metadata": {},
     "output_type": "display_data"
    },
    {
     "name": "stdout",
     "output_type": "stream",
     "text": [
      "{'loss': 0.28706548, 'ddi': 0.07475588033852215, 'jaccard': 0.4996653742910857, 'prauc': 0.7658143737976577, 'f1': 0.6565311100691222}\n"
     ]
    },
    {
     "data": {
      "application/vnd.jupyter.widget-view+json": {
       "model_id": "097a6ff9aced4feb9a679dbda439b259",
       "version_major": 2,
       "version_minor": 0
      },
      "text/plain": [
       "Iteration:   0%|          | 0/183 [00:00<?, ?it/s]"
      ]
     },
     "metadata": {},
     "output_type": "display_data"
    },
    {
     "name": "stdout",
     "output_type": "stream",
     "text": [
      "{'loss': 0.28629506, 'ddi': 0.0753227805010494, 'jaccard': 0.5003048997309132, 'prauc': 0.7663902062499528, 'f1': 0.6570628521531956}\n"
     ]
    },
    {
     "data": {
      "application/vnd.jupyter.widget-view+json": {
       "model_id": "d5c603ad3de6444cacdca7a45c7336ce",
       "version_major": 2,
       "version_minor": 0
      },
      "text/plain": [
       "Iteration:   0%|          | 0/183 [00:00<?, ?it/s]"
      ]
     },
     "metadata": {},
     "output_type": "display_data"
    },
    {
     "name": "stdout",
     "output_type": "stream",
     "text": [
      "{'loss': 0.2857387, 'ddi': 0.07507958173402508, 'jaccard': 0.5008577553498372, 'prauc': 0.7668384920266782, 'f1': 0.6574190448225307}\n"
     ]
    },
    {
     "data": {
      "application/vnd.jupyter.widget-view+json": {
       "model_id": "ca6b5b4655c3472c90992739bc7919eb",
       "version_major": 2,
       "version_minor": 0
      },
      "text/plain": [
       "Iteration:   0%|          | 0/183 [00:00<?, ?it/s]"
      ]
     },
     "metadata": {},
     "output_type": "display_data"
    },
    {
     "name": "stdout",
     "output_type": "stream",
     "text": [
      "{'loss': 0.28563178, 'ddi': 0.07539189682059808, 'jaccard': 0.5010486105831112, 'prauc': 0.7669489209885911, 'f1': 0.657773724927821}\n"
     ]
    },
    {
     "data": {
      "application/vnd.jupyter.widget-view+json": {
       "model_id": "8c6ef282ffd44a0c876e4c42690d9d5a",
       "version_major": 2,
       "version_minor": 0
      },
      "text/plain": [
       "Iteration:   0%|          | 0/183 [00:00<?, ?it/s]"
      ]
     },
     "metadata": {},
     "output_type": "display_data"
    },
    {
     "name": "stdout",
     "output_type": "stream",
     "text": [
      "{'loss': 0.28555414, 'ddi': 0.07468027537707084, 'jaccard': 0.501780898350084, 'prauc': 0.7672055073353626, 'f1': 0.6584322980610283}\n"
     ]
    },
    {
     "data": {
      "application/vnd.jupyter.widget-view+json": {
       "model_id": "d7286457eaea4657b3244ff6e12a8397",
       "version_major": 2,
       "version_minor": 0
      },
      "text/plain": [
       "Iteration:   0%|          | 0/183 [00:00<?, ?it/s]"
      ]
     },
     "metadata": {},
     "output_type": "display_data"
    },
    {
     "name": "stdout",
     "output_type": "stream",
     "text": [
      "{'loss': 0.28553498, 'ddi': 0.07436391539124654, 'jaccard': 0.5023729098303149, 'prauc': 0.7676240845428027, 'f1': 0.658858969263233}\n"
     ]
    },
    {
     "data": {
      "application/vnd.jupyter.widget-view+json": {
       "model_id": "ff5352d004a24e6982e1880a1334f1ec",
       "version_major": 2,
       "version_minor": 0
      },
      "text/plain": [
       "Iteration:   0%|          | 0/183 [00:00<?, ?it/s]"
      ]
     },
     "metadata": {},
     "output_type": "display_data"
    },
    {
     "name": "stdout",
     "output_type": "stream",
     "text": [
      "{'loss': 0.28496352, 'ddi': 0.07607487858800903, 'jaccard': 0.5026539459751461, 'prauc': 0.7682240424867216, 'f1': 0.6590053650095585}\n"
     ]
    },
    {
     "data": {
      "application/vnd.jupyter.widget-view+json": {
       "model_id": "21238cf93fc14e27aecac291b7293686",
       "version_major": 2,
       "version_minor": 0
      },
      "text/plain": [
       "Iteration:   0%|          | 0/183 [00:00<?, ?it/s]"
      ]
     },
     "metadata": {},
     "output_type": "display_data"
    },
    {
     "name": "stdout",
     "output_type": "stream",
     "text": [
      "{'loss': 0.28472024, 'ddi': 0.07530826915710388, 'jaccard': 0.5022065626654308, 'prauc': 0.7683532968609428, 'f1': 0.6586783819045409}\n"
     ]
    },
    {
     "data": {
      "application/vnd.jupyter.widget-view+json": {
       "model_id": "a01f2fd90f1a4d9391362b66240ed4f5",
       "version_major": 2,
       "version_minor": 0
      },
      "text/plain": [
       "Iteration:   0%|          | 0/183 [00:00<?, ?it/s]"
      ]
     },
     "metadata": {},
     "output_type": "display_data"
    },
    {
     "name": "stdout",
     "output_type": "stream",
     "text": [
      "{'loss': 0.2844382, 'ddi': 0.07463498345945768, 'jaccard': 0.5036262688460442, 'prauc': 0.7689169907731173, 'f1': 0.659798905628241}\n"
     ]
    },
    {
     "data": {
      "application/vnd.jupyter.widget-view+json": {
       "model_id": "b0783328bf5e46cd8e6d47a4abc462c7",
       "version_major": 2,
       "version_minor": 0
      },
      "text/plain": [
       "Iteration:   0%|          | 0/183 [00:00<?, ?it/s]"
      ]
     },
     "metadata": {},
     "output_type": "display_data"
    },
    {
     "name": "stdout",
     "output_type": "stream",
     "text": [
      "{'loss': 0.28391284, 'ddi': 0.07534294699403507, 'jaccard': 0.5033960227088794, 'prauc': 0.7690372322545425, 'f1': 0.6597960435496454}\n"
     ]
    },
    {
     "data": {
      "application/vnd.jupyter.widget-view+json": {
       "model_id": "ab88dd6d63d34411a7483ca6c58c443c",
       "version_major": 2,
       "version_minor": 0
      },
      "text/plain": [
       "Iteration:   0%|          | 0/183 [00:00<?, ?it/s]"
      ]
     },
     "metadata": {},
     "output_type": "display_data"
    },
    {
     "name": "stdout",
     "output_type": "stream",
     "text": [
      "{'loss': 0.2841854, 'ddi': 0.07656963546933211, 'jaccard': 0.503626989409019, 'prauc': 0.7690884696958654, 'f1': 0.6599162351641915}\n"
     ]
    },
    {
     "data": {
      "application/vnd.jupyter.widget-view+json": {
       "model_id": "496fdf99e473453fa5e4ad49ec8ffe8d",
       "version_major": 2,
       "version_minor": 0
      },
      "text/plain": [
       "Iteration:   0%|          | 0/183 [00:00<?, ?it/s]"
      ]
     },
     "metadata": {},
     "output_type": "display_data"
    },
    {
     "name": "stdout",
     "output_type": "stream",
     "text": [
      "{'loss': 0.2835514, 'ddi': 0.07566539831092137, 'jaccard': 0.5037086720146603, 'prauc': 0.7694165808523011, 'f1': 0.6599939137558982}\n"
     ]
    },
    {
     "data": {
      "application/vnd.jupyter.widget-view+json": {
       "model_id": "d295245982884a58a0b51ea4d2633fcc",
       "version_major": 2,
       "version_minor": 0
      },
      "text/plain": [
       "Iteration:   0%|          | 0/183 [00:00<?, ?it/s]"
      ]
     },
     "metadata": {},
     "output_type": "display_data"
    },
    {
     "name": "stdout",
     "output_type": "stream",
     "text": [
      "{'loss': 0.28345138, 'ddi': 0.07637067778550821, 'jaccard': 0.5039633988504444, 'prauc': 0.7699264307596946, 'f1': 0.6601450849506715}\n"
     ]
    },
    {
     "data": {
      "application/vnd.jupyter.widget-view+json": {
       "model_id": "888d1581411b4cee807b9eea67d00453",
       "version_major": 2,
       "version_minor": 0
      },
      "text/plain": [
       "Iteration:   0%|          | 0/183 [00:00<?, ?it/s]"
      ]
     },
     "metadata": {},
     "output_type": "display_data"
    },
    {
     "name": "stdout",
     "output_type": "stream",
     "text": [
      "{'loss': 0.28323218, 'ddi': 0.07602931587720226, 'jaccard': 0.5040273679497035, 'prauc': 0.7705027193194938, 'f1': 0.6601060733160945}\n"
     ]
    },
    {
     "data": {
      "application/vnd.jupyter.widget-view+json": {
       "model_id": "635b4b996ab24a04a49e24a1c95a68a4",
       "version_major": 2,
       "version_minor": 0
      },
      "text/plain": [
       "Iteration:   0%|          | 0/183 [00:00<?, ?it/s]"
      ]
     },
     "metadata": {},
     "output_type": "display_data"
    },
    {
     "name": "stdout",
     "output_type": "stream",
     "text": [
      "{'loss': 0.2831832, 'ddi': 0.07625646967847512, 'jaccard': 0.5041739039650267, 'prauc': 0.770290996650374, 'f1': 0.6602620988599438}\n"
     ]
    },
    {
     "data": {
      "application/vnd.jupyter.widget-view+json": {
       "model_id": "6b9775ec6ca144e9a38b642f0e0f0a61",
       "version_major": 2,
       "version_minor": 0
      },
      "text/plain": [
       "Iteration:   0%|          | 0/183 [00:00<?, ?it/s]"
      ]
     },
     "metadata": {},
     "output_type": "display_data"
    },
    {
     "name": "stdout",
     "output_type": "stream",
     "text": [
      "{'loss': 0.2829288, 'ddi': 0.07649162966948787, 'jaccard': 0.5050211998579289, 'prauc': 0.7706437349328942, 'f1': 0.6610606406348024}\n"
     ]
    },
    {
     "data": {
      "application/vnd.jupyter.widget-view+json": {
       "model_id": "5d7f4f62558c4c0b90d1d85f615d9fec",
       "version_major": 2,
       "version_minor": 0
      },
      "text/plain": [
       "Iteration:   0%|          | 0/183 [00:00<?, ?it/s]"
      ]
     },
     "metadata": {},
     "output_type": "display_data"
    },
    {
     "name": "stdout",
     "output_type": "stream",
     "text": [
      "{'loss': 0.28277686, 'ddi': 0.0759859203358223, 'jaccard': 0.5061070203387855, 'prauc': 0.7708171475181143, 'f1': 0.66187929858879}\n"
     ]
    },
    {
     "data": {
      "application/vnd.jupyter.widget-view+json": {
       "model_id": "b5ac0376e9ba4e9c8af77ef9dce1bfe3",
       "version_major": 2,
       "version_minor": 0
      },
      "text/plain": [
       "Iteration:   0%|          | 0/183 [00:00<?, ?it/s]"
      ]
     },
     "metadata": {},
     "output_type": "display_data"
    },
    {
     "name": "stdout",
     "output_type": "stream",
     "text": [
      "{'loss': 0.2828255, 'ddi': 0.07574062724984679, 'jaccard': 0.5060354499603322, 'prauc': 0.7709154520749002, 'f1': 0.6618079943863866}\n"
     ]
    },
    {
     "data": {
      "application/vnd.jupyter.widget-view+json": {
       "model_id": "88e07fe512804481a75195c4350470da",
       "version_major": 2,
       "version_minor": 0
      },
      "text/plain": [
       "Iteration:   0%|          | 0/183 [00:00<?, ?it/s]"
      ]
     },
     "metadata": {},
     "output_type": "display_data"
    },
    {
     "name": "stdout",
     "output_type": "stream",
     "text": [
      "{'loss': 0.2826142, 'ddi': 0.07571606083770781, 'jaccard': 0.5054902599557095, 'prauc': 0.7714645328732147, 'f1': 0.6613837605342747}\n",
      "best_model_path: ../output/221003-230211/best.ckpt\n"
     ]
    }
   ],
   "source": [
    "from pyhealth.trainer import Trainer\n",
    "from pyhealth.evaluator.evaluating_multilabel import evaluate_multilabel\n",
    "\n",
    "# # ----------- DL model ---------\n",
    "trainer = Trainer(enable_logging=True, output_path=\"../output\")\n",
    "trainer.fit(model,\n",
    "            train_loader=train_loader,\n",
    "            epochs=50,\n",
    "            evaluate_fn=evaluate_multilabel,\n",
    "            eval_loader=val_loader,\n",
    "            monitor=\"jaccard\")\n",
    "\n",
    "\n",
    "# # ------------ ML model -----------\n",
    "# model.fit(\n",
    "#     train_loader=train_loader,\n",
    "#     evaluate_fn=evaluate_multilabel,\n",
    "#     eval_loader=val_loader,\n",
    "#     monitor=\"jaccard\",\n",
    "# )"
   ]
  },
  {
   "cell_type": "markdown",
   "id": "9a01283a",
   "metadata": {},
   "source": [
    "# 5. evaluation"
   ]
  },
  {
   "cell_type": "code",
   "execution_count": 7,
   "id": "a04d8c43",
   "metadata": {
    "scrolled": true
   },
   "outputs": [
    {
     "data": {
      "text/plain": [
       "{'loss': 0.2814709,\n",
       " 'ddi': 0.07786813654839098,\n",
       " 'jaccard': 0.5059418048067207,\n",
       " 'prauc': 0.771912330255681,\n",
       " 'f1': 0.6618826196452866}"
      ]
     },
     "execution_count": 7,
     "metadata": {},
     "output_type": "execute_result"
    }
   ],
   "source": [
    "# load the best model for ML model\n",
    "# model.load(path=\"../output/221002-170055/best.ckpt\")\n",
    "\n",
    "# load the best model for DL model\n",
    "best_model = trainer.load(model, path=\"../output/221003-015604/best.ckpt\") \n",
    "\n",
    "evaluate_multilabel(model, val_loader)"
   ]
  },
  {
   "cell_type": "code",
   "execution_count": 8,
   "id": "0e36fff6",
   "metadata": {},
   "outputs": [
    {
     "name": "stdout",
     "output_type": "stream",
     "text": [
      "0.0284 | 0.5117 | 0.7492 | 0.6651\n"
     ]
    }
   ],
   "source": [
    "result = {'loss': 0.28386995,\n",
    " 'ddi': 0.028440143827126126,\n",
    " 'jaccard': 0.511720070059319,\n",
    " 'prauc': 0.7492442698093882,\n",
    " 'f1': 0.6651079049698008}\n",
    "\n",
    "print (\"{:.4f} | {:.4f} | {:.4f} | {:.4f}\".format(\n",
    "    result['ddi'],\n",
    "    result['jaccard'],\n",
    "    result['prauc'],\n",
    "    result['f1']\n",
    "        )\n",
    "      )"
   ]
  },
  {
   "cell_type": "code",
   "execution_count": null,
   "id": "a9259f6b",
   "metadata": {},
   "outputs": [],
   "source": []
  },
  {
   "cell_type": "code",
   "execution_count": null,
   "id": "f40a15c9",
   "metadata": {},
   "outputs": [],
   "source": []
  },
  {
   "cell_type": "code",
   "execution_count": null,
   "id": "b00a4210",
   "metadata": {},
   "outputs": [],
   "source": []
  },
  {
   "cell_type": "code",
   "execution_count": null,
   "id": "1816dc80",
   "metadata": {},
   "outputs": [],
   "source": []
  },
  {
   "cell_type": "code",
   "execution_count": null,
   "id": "20716b9b",
   "metadata": {},
   "outputs": [],
   "source": []
  },
  {
   "cell_type": "code",
   "execution_count": null,
   "id": "ec1358aa",
   "metadata": {},
   "outputs": [],
   "source": []
  }
 ],
 "metadata": {
  "kernelspec": {
   "display_name": "Python 3",
   "language": "python",
   "name": "python3"
  },
  "language_info": {
   "codemirror_mode": {
    "name": "ipython",
    "version": 3
   },
   "file_extension": ".py",
   "mimetype": "text/x-python",
   "name": "python",
   "nbconvert_exporter": "python",
   "pygments_lexer": "ipython3",
   "version": "3.9.12"
  },
  "vscode": {
   "interpreter": {
    "hash": "31f2aee4e71d21fbe5cf8b01ff0e069b9275f58929596ceb00d14d90e3e16cd6"
   }
  }
 },
 "nbformat": 4,
 "nbformat_minor": 5
}
