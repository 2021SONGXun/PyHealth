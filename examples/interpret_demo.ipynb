{
 "cells": [
  {
   "cell_type": "code",
   "execution_count": 1,
   "metadata": {},
   "outputs": [],
   "source": [
    "import torch \n",
    "import torch\n",
    "import torch.nn as nn\n",
    "import torch.nn.functional as F\n",
    "import sys\n",
    "import matplotlib.pyplot as plt\n",
    "sys.path.append('/home/johnwu3/PyHealth/')\n",
    "\n",
    "from pyhealth.models import Transformer\n",
    "from pyhealth.interpret.methods.chefer import CheferRelevance\n"
   ]
  },
  {
   "cell_type": "code",
   "execution_count": 2,
   "metadata": {},
   "outputs": [
    {
     "name": "stdout",
     "output_type": "stream",
     "text": [
      "\n",
      "Statistics of base dataset (dev=True):\n",
      "\t- Dataset: MIMIC3Dataset\n",
      "\t- Number of patients: 1000\n",
      "\t- Number of visits: 1054\n",
      "\t- Number of visits per patient: 1.0540\n",
      "\t- Number of events per visit in DIAGNOSES_ICD: 9.2068\n",
      "\t- Number of events per visit in PROCEDURES_ICD: 3.0380\n",
      "\t- Number of events per visit in PRESCRIPTIONS: 29.2457\n",
      "\n",
      "\n",
      "Statistics of base dataset (dev=True):\n",
      "\t- Dataset: MIMIC3Dataset\n",
      "\t- Number of patients: 1000\n",
      "\t- Number of visits: 1054\n",
      "\t- Number of visits per patient: 1.0540\n",
      "\t- Number of events per visit in DIAGNOSES_ICD: 9.2068\n",
      "\t- Number of events per visit in PROCEDURES_ICD: 3.0380\n",
      "\t- Number of events per visit in PRESCRIPTIONS: 29.2457\n",
      "\n",
      "\n",
      "dataset.patients: patient_id -> <Patient>\n",
      "\n",
      "<Patient>\n",
      "    - visits: visit_id -> <Visit> \n",
      "    - other patient-level info\n",
      "    \n",
      "    <Visit>\n",
      "        - event_list_dict: table_name -> List[Event]\n",
      "        - other visit-level info\n",
      "    \n",
      "        <Event>\n",
      "            - code: str\n",
      "            - other event-level info\n",
      "\n"
     ]
    },
    {
     "name": "stderr",
     "output_type": "stream",
     "text": [
      "Generating samples for length_of_stay_prediction_mimic3_fn: 100%|██████████| 1000/1000 [00:00<00:00, 80341.42it/s]"
     ]
    }
   ],
   "source": [
    "from pyhealth.datasets import MIMIC3Dataset\n",
    "\n",
    "mimic3_ds = MIMIC3Dataset(\n",
    "        root=\"https://storage.googleapis.com/pyhealth/Synthetic_MIMIC-III/\",\n",
    "        tables=[\"DIAGNOSES_ICD\", \"PROCEDURES_ICD\", \"PRESCRIPTIONS\"],\n",
    "        dev=True,\n",
    ")\n",
    "\n",
    "print (mimic3_ds.stat())\n",
    "# data format\n",
    "mimic3_ds.info()\n",
    "from pyhealth.tasks import length_of_stay_prediction_mimic3_fn\n",
    "\n",
    "mimic3_ds = mimic3_ds.set_task(task_fn=length_of_stay_prediction_mimic3_fn)\n",
    "# stats info\n",
    "print (mimic3_ds.stat())\n",
    "\n",
    "\n",
    "{\n",
    "    \"patient_id\": \"p001\",\n",
    "    \"visit_id\": \"v001\",\n",
    "    \"diagnoses\": [...],\n",
    "    \"labs\": [...],\n",
    "    \"procedures\": [...],\n",
    "    \"label\": 1,\n",
    "}\n",
    "\n",
    "from pyhealth.datasets.splitter import split_by_patient\n",
    "from pyhealth.datasets import split_by_patient, get_dataloader\n",
    "\n",
    "# data split\n",
    "train_dataset, val_dataset, test_dataset = split_by_patient(mimic3_ds, [0.8, 0.1, 0.1])\n",
    "\n",
    "# create dataloaders (they are <torch.data.DataLoader> object)\n",
    "train_loader = get_dataloader(train_dataset, batch_size=64, shuffle=True)\n",
    "val_loader = get_dataloader(val_dataset, batch_size=64, shuffle=False)\n",
    "test_loader = get_dataloader(test_dataset, batch_size=1, shuffle=False)\n",
    "mimic3_ds.samples[0].keys()\n",
    "\n",
    "from pyhealth.models import Transformer\n",
    "model = Transformer(\n",
    "        dataset=mimic3_ds,\n",
    "        # look up what are available for \"feature_keys\" and \"label_keys\" in dataset.samples[0]\n",
    "        feature_keys=[\"conditions\", \"procedures\", \"drugs\"],\n",
    "        label_key=\"label\",\n",
    "        mode=\"multiclass\",\n",
    "    )\n",
    "\n",
    "print(\"Testing MIMIC3 STUFF\")\n",
    "sample = test_loader.dataset[0]\n",
    "\n",
    "print(sample)\n",
    "\n",
    "print(\"----\")\n",
    "print(model)\n",
    "# exit(0)\n",
    "from pyhealth.trainer import Trainer\n",
    "\n",
    "trainer = Trainer(\n",
    "    model=model,\n",
    "    metrics=[\"accuracy\", \"f1_weighted\"], # the metrics that we want to log\n",
    "    )\n",
    "\n",
    "trainer.train(\n",
    "    train_dataloader=train_loader,\n",
    "    val_dataloader=val_loader,\n",
    "    epochs=30,\n",
    "    monitor=\"accuracy\",\n",
    "    monitor_criterion=\"max\",optimizer_class=torch.optim.AdamW\n",
    ")\n",
    "data_iterator = iter(test_loader)\n",
    "data = next(data_iterator)\n",
    "print(data)\n",
    "model(**data)\n",
    "\n",
    "relevance = CheferRelevance(model)\n",
    "# returns a list ofr now\n",
    "# interpretability code here!\n",
    "data['class_index'] = data['label']\n",
    "rel_scores = relevance.get_relevance_matrix(**data)\n",
    "\n",
    "# weigh and plot these scores and their corresponding feature list\n",
    "print(rel_scores)"
   ]
  },
  {
   "cell_type": "markdown",
   "metadata": {},
   "source": [
    "### Plot The Relevance of Each Feature\n",
    "\n",
    "\n",
    "#### Note that normally, there'd be multiple tokens and we would use the tokenizer to visualize explicitly which codes mattered to the prediction, but for now, this is what we get."
   ]
  },
  {
   "cell_type": "code",
   "execution_count": null,
   "metadata": {},
   "outputs": [
    {
     "name": "stdout",
     "output_type": "stream",
     "text": [
      "[1.4826520681381226, 1.081631064414978, 1.0]\n"
     ]
    },
    {
     "data": {
      "text/plain": [
       "<BarContainer object of 3 artists>"
      ]
     },
     "execution_count": 3,
     "metadata": {},
     "output_type": "execute_result"
    },
    {
     "data": {
      "image/png": "[encoded data removed]",
      "text/plain": [
       "<Figure size 640x480 with 1 Axes>"
      ]
     },
     "metadata": {},
     "output_type": "display_data"
    }
   ],
   "source": [
    "barPlot = []\n",
    "barCategories = []\n",
    "for key in sorted(rel_scores.keys()):\n",
    "    barPlot.append(float(rel_scores[key].view(-1).detach().cpu()))\n",
    "    barCategories.append(key)\n",
    "\n",
    "print(barPlot)\n",
    "plt.xlabel(\"Feature Keys\")\n",
    "plt.ylabel(\"Relevance\")\n",
    "plt.title(\"Label:\" + str(sample['label']))\n",
    "plt.bar(barCategories, barPlot)"
   ]
  }
 ],
 "metadata": {
  "kernelspec": {
   "display_name": "base",
   "language": "python",
   "name": "python3"
  },
  "language_info": {
   "codemirror_mode": {
    "name": "ipython",
    "version": 3
   },
   "file_extension": ".py",
   "mimetype": "text/x-python",
   "name": "python",
   "nbconvert_exporter": "python",
   "pygments_lexer": "ipython3",
   "version": "3.11.4"
  },
  "orig_nbformat": 4
 },
 "nbformat": 4,
 "nbformat_minor": 2
}
