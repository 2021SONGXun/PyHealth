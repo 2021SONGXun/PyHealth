{
 "cells": [
  {
   "cell_type": "code",
   "execution_count": 1,
   "metadata": {},
   "outputs": [],
   "source": [
    "import torch \n",
    "import torch\n",
    "import torch.nn as nn\n",
    "import torch.nn.functional as F\n",
    "import sys\n",
    "import matplotlib.pyplot as plt\n",
    "sys.path.append('/home/johnwu3/PyHealth/')\n",
    "\n",
    "from pyhealth.models import Transformer\n",
    "from pyhealth.interpret.tasks.methods.chefer import CheferRelevance\n"
   ]
  },
  {
   "cell_type": "code",
   "execution_count": 2,
   "metadata": {},
   "outputs": [
    {
     "name": "stdout",
     "output_type": "stream",
     "text": [
      "\n",
      "Statistics of base dataset (dev=True):\n",
      "\t- Dataset: MIMIC3Dataset\n",
      "\t- Number of patients: 1000\n",
      "\t- Number of visits: 1054\n",
      "\t- Number of visits per patient: 1.0540\n",
      "\t- Number of events per visit in DIAGNOSES_ICD: 9.2068\n",
      "\t- Number of events per visit in PROCEDURES_ICD: 3.0380\n",
      "\t- Number of events per visit in PRESCRIPTIONS: 29.2457\n",
      "\n",
      "\n",
      "Statistics of base dataset (dev=True):\n",
      "\t- Dataset: MIMIC3Dataset\n",
      "\t- Number of patients: 1000\n",
      "\t- Number of visits: 1054\n",
      "\t- Number of visits per patient: 1.0540\n",
      "\t- Number of events per visit in DIAGNOSES_ICD: 9.2068\n",
      "\t- Number of events per visit in PROCEDURES_ICD: 3.0380\n",
      "\t- Number of events per visit in PRESCRIPTIONS: 29.2457\n",
      "\n",
      "\n",
      "dataset.patients: patient_id -> <Patient>\n",
      "\n",
      "<Patient>\n",
      "    - visits: visit_id -> <Visit> \n",
      "    - other patient-level info\n",
      "    \n",
      "    <Visit>\n",
      "        - event_list_dict: table_name -> List[Event]\n",
      "        - other visit-level info\n",
      "    \n",
      "        <Event>\n",
      "            - code: str\n",
      "            - other event-level info\n",
      "\n"
     ]
    },
    {
     "name": "stderr",
     "output_type": "stream",
     "text": [
      "Generating samples for length_of_stay_prediction_mimic3_fn: 100%|██████████| 1000/1000 [00:00<00:00, 82354.29it/s]\n",
      "/home/johnwu3/PyHealth/pyhealth/trainer.py:12: TqdmWarning: IProgress not found. Please update jupyter and ipywidgets. See https://ipywidgets.readthedocs.io/en/stable/user_install.html\n",
      "  from tqdm.autonotebook import trange\n"
     ]
    },
    {
     "name": "stdout",
     "output_type": "stream",
     "text": [
      "Statistics of sample dataset:\n",
      "\t- Dataset: MIMIC3Dataset\n",
      "\t- Task: length_of_stay_prediction_mimic3_fn\n",
      "\t- Number of samples: 896\n",
      "\t- Number of patients: 886\n",
      "\t- Number of visits: 896\n",
      "\t- Number of visits per patient: 1.0113\n",
      "\t- conditions:\n",
      "\t\t- Number of conditions per sample: 9.7377\n",
      "\t\t- Number of unique conditions: 1699\n",
      "\t\t- Distribution of conditions (Top-10): [('4019', 324), ('41401', 167), ('25000', 151), ('4280', 147), ('5849', 121), ('2724', 118), ('42731', 110), ('51881', 89), ('53081', 88), ('2720', 85)]\n",
      "\t- procedures:\n",
      "\t\t- Number of procedures per sample: 3.5647\n",
      "\t\t- Number of unique procedures: 558\n",
      "\t\t- Distribution of procedures (Top-10): [('3893', 155), ('9671', 139), ('9604', 123), ('9904', 100), ('8856', 85), ('966', 64), ('3615', 61), ('3961', 59), ('3722', 58), ('3891', 55)]\n",
      "\t- drugs:\n",
      "\t\t- Number of drugs per sample: 32.5804\n",
      "\t\t- Number of unique drugs: 1911\n",
      "\t\t- Distribution of drugs (Top-10): [('00338004904', 388), ('00008084199', 362), ('00338004903', 317), ('00338001702', 305), ('00641040025', 285), ('00338004938', 271), ('00338004902', 269), ('63323026201', 268), ('00904516561', 252), ('00182844789', 242)]\n",
      "\t- label:\n",
      "\t\t- Number of label per sample: 1.0000\n",
      "\t\t- Number of unique label: 10\n",
      "\t\t- Distribution of label (Top-10): [(0, 360), (1, 109), (2, 94), (8, 85), (3, 63), (4, 44), (7, 43), (6, 43), (5, 42), (9, 13)]\n",
      "Statistics of sample dataset:\n",
      "\t- Dataset: MIMIC3Dataset\n",
      "\t- Task: length_of_stay_prediction_mimic3_fn\n",
      "\t- Number of samples: 896\n",
      "\t- Number of patients: 886\n",
      "\t- Number of visits: 896\n",
      "\t- Number of visits per patient: 1.0113\n",
      "\t- conditions:\n",
      "\t\t- Number of conditions per sample: 9.7377\n",
      "\t\t- Number of unique conditions: 1699\n",
      "\t\t- Distribution of conditions (Top-10): [('4019', 324), ('41401', 167), ('25000', 151), ('4280', 147), ('5849', 121), ('2724', 118), ('42731', 110), ('51881', 89), ('53081', 88), ('2720', 85)]\n",
      "\t- procedures:\n",
      "\t\t- Number of procedures per sample: 3.5647\n",
      "\t\t- Number of unique procedures: 558\n",
      "\t\t- Distribution of procedures (Top-10): [('3893', 155), ('9671', 139), ('9604', 123), ('9904', 100), ('8856', 85), ('966', 64), ('3615', 61), ('3961', 59), ('3722', 58), ('3891', 55)]\n",
      "\t- drugs:\n",
      "\t\t- Number of drugs per sample: 32.5804\n",
      "\t\t- Number of unique drugs: 1911\n",
      "\t\t- Distribution of drugs (Top-10): [('00338004904', 388), ('00008084199', 362), ('00338004903', 317), ('00338001702', 305), ('00641040025', 285), ('00338004938', 271), ('00338004902', 269), ('63323026201', 268), ('00904516561', 252), ('00182844789', 242)]\n",
      "\t- label:\n",
      "\t\t- Number of label per sample: 1.0000\n",
      "\t\t- Number of unique label: 10\n",
      "\t\t- Distribution of label (Top-10): [(0, 360), (1, 109), (2, 94), (8, 85), (3, 63), (4, 44), (7, 43), (6, 43), (5, 42), (9, 13)]\n",
      "Testing MIMIC3 STUFF\n",
      "{'visit_id': '100370', 'patient_id': '348', 'conditions': [['V5867', '5772', '2554', '51882', '5768']], 'procedures': [['9604', '966', '5491', '311']], 'drugs': [['00008092355', '00338001702', '00074198530', '64253033335', '00338004904', '00310030011', '00641040025', '00338004903', '00074180001', '00006353750', '00517090125', '00074665305', '00517391025', '00338004902', '00054872425', '00300304613', '00085036207', '00054872625', '00338070341', '66553000401', '00006096328', '00338001703', '51079055271', '00074158302', '00517260225', '00338069104', '55390007310', '00074158411', '00074131701', '17714002001', '51079025520', '00074125901', '00074148402', '00024540134', '00338067104', '49502068524', '00054848616', '00165002241', '00074781124', '00641037625', '00338070541', '00264751020', '00121043130', '00677178110', '00054881611', '00045025501', '00310027539', '00074610204', '00068021217', '00074126102', '63323039923', '55390046001', '00074665106', '00009513502', '00283067902', '00071000740', '51079028420', '00555099702', '00904521735', '00029321121', '62856024641', '00044182610', '00045063965']], 'label': 8}\n",
      "----\n",
      "Transformer(\n",
      "  (embeddings): ModuleDict(\n",
      "    (conditions): Embedding(1701, 128, padding_idx=0)\n",
      "    (procedures): Embedding(560, 128, padding_idx=0)\n",
      "    (drugs): Embedding(1913, 128, padding_idx=0)\n",
      "  )\n",
      "  (linear_layers): ModuleDict()\n",
      "  (transformer): ModuleDict(\n",
      "    (conditions): TransformerLayer(\n",
      "      (transformer): ModuleList(\n",
      "        (0): TransformerBlock(\n",
      "          (attention): MultiHeadedAttention(\n",
      "            (linear_layers): ModuleList(\n",
      "              (0-2): 3 x Linear(in_features=128, out_features=128, bias=False)\n",
      "            )\n",
      "            (output_linear): Linear(in_features=128, out_features=128, bias=False)\n",
      "            (attention): Attention()\n",
      "            (dropout): Dropout(p=0.1, inplace=False)\n",
      "          )\n",
      "          (feed_forward): PositionwiseFeedForward(\n",
      "            (w_1): Linear(in_features=128, out_features=512, bias=True)\n",
      "            (w_2): Linear(in_features=512, out_features=128, bias=True)\n",
      "            (dropout): Dropout(p=0.5, inplace=False)\n",
      "            (activation): GELU(approximate='none')\n",
      "          )\n",
      "          (input_sublayer): SublayerConnection(\n",
      "            (norm): LayerNorm((128,), eps=1e-05, elementwise_affine=True)\n",
      "            (dropout): Dropout(p=0.5, inplace=False)\n",
      "          )\n",
      "          (output_sublayer): SublayerConnection(\n",
      "            (norm): LayerNorm((128,), eps=1e-05, elementwise_affine=True)\n",
      "            (dropout): Dropout(p=0.5, inplace=False)\n",
      "          )\n",
      "          (dropout): Dropout(p=0.5, inplace=False)\n",
      "        )\n",
      "      )\n",
      "    )\n",
      "    (procedures): TransformerLayer(\n",
      "      (transformer): ModuleList(\n",
      "        (0): TransformerBlock(\n",
      "          (attention): MultiHeadedAttention(\n",
      "            (linear_layers): ModuleList(\n",
      "              (0-2): 3 x Linear(in_features=128, out_features=128, bias=False)\n",
      "            )\n",
      "            (output_linear): Linear(in_features=128, out_features=128, bias=False)\n",
      "            (attention): Attention()\n",
      "            (dropout): Dropout(p=0.1, inplace=False)\n",
      "          )\n",
      "          (feed_forward): PositionwiseFeedForward(\n",
      "            (w_1): Linear(in_features=128, out_features=512, bias=True)\n",
      "            (w_2): Linear(in_features=512, out_features=128, bias=True)\n",
      "            (dropout): Dropout(p=0.5, inplace=False)\n",
      "            (activation): GELU(approximate='none')\n",
      "          )\n",
      "          (input_sublayer): SublayerConnection(\n",
      "            (norm): LayerNorm((128,), eps=1e-05, elementwise_affine=True)\n",
      "            (dropout): Dropout(p=0.5, inplace=False)\n",
      "          )\n",
      "          (output_sublayer): SublayerConnection(\n",
      "            (norm): LayerNorm((128,), eps=1e-05, elementwise_affine=True)\n",
      "            (dropout): Dropout(p=0.5, inplace=False)\n",
      "          )\n",
      "          (dropout): Dropout(p=0.5, inplace=False)\n",
      "        )\n",
      "      )\n",
      "    )\n",
      "    (drugs): TransformerLayer(\n",
      "      (transformer): ModuleList(\n",
      "        (0): TransformerBlock(\n",
      "          (attention): MultiHeadedAttention(\n",
      "            (linear_layers): ModuleList(\n",
      "              (0-2): 3 x Linear(in_features=128, out_features=128, bias=False)\n",
      "            )\n",
      "            (output_linear): Linear(in_features=128, out_features=128, bias=False)\n",
      "            (attention): Attention()\n",
      "            (dropout): Dropout(p=0.1, inplace=False)\n",
      "          )\n",
      "          (feed_forward): PositionwiseFeedForward(\n",
      "            (w_1): Linear(in_features=128, out_features=512, bias=True)\n",
      "            (w_2): Linear(in_features=512, out_features=128, bias=True)\n",
      "            (dropout): Dropout(p=0.5, inplace=False)\n",
      "            (activation): GELU(approximate='none')\n",
      "          )\n",
      "          (input_sublayer): SublayerConnection(\n",
      "            (norm): LayerNorm((128,), eps=1e-05, elementwise_affine=True)\n",
      "            (dropout): Dropout(p=0.5, inplace=False)\n",
      "          )\n",
      "          (output_sublayer): SublayerConnection(\n",
      "            (norm): LayerNorm((128,), eps=1e-05, elementwise_affine=True)\n",
      "            (dropout): Dropout(p=0.5, inplace=False)\n",
      "          )\n",
      "          (dropout): Dropout(p=0.5, inplace=False)\n",
      "        )\n",
      "      )\n",
      "    )\n",
      "  )\n",
      "  (fc): Linear(in_features=384, out_features=10, bias=True)\n",
      ")\n",
      "Transformer(\n",
      "  (embeddings): ModuleDict(\n",
      "    (conditions): Embedding(1701, 128, padding_idx=0)\n",
      "    (procedures): Embedding(560, 128, padding_idx=0)\n",
      "    (drugs): Embedding(1913, 128, padding_idx=0)\n",
      "  )\n",
      "  (linear_layers): ModuleDict()\n",
      "  (transformer): ModuleDict(\n",
      "    (conditions): TransformerLayer(\n",
      "      (transformer): ModuleList(\n",
      "        (0): TransformerBlock(\n",
      "          (attention): MultiHeadedAttention(\n",
      "            (linear_layers): ModuleList(\n",
      "              (0-2): 3 x Linear(in_features=128, out_features=128, bias=False)\n",
      "            )\n",
      "            (output_linear): Linear(in_features=128, out_features=128, bias=False)\n",
      "            (attention): Attention()\n",
      "            (dropout): Dropout(p=0.1, inplace=False)\n",
      "          )\n",
      "          (feed_forward): PositionwiseFeedForward(\n",
      "            (w_1): Linear(in_features=128, out_features=512, bias=True)\n",
      "            (w_2): Linear(in_features=512, out_features=128, bias=True)\n",
      "            (dropout): Dropout(p=0.5, inplace=False)\n",
      "            (activation): GELU(approximate='none')\n",
      "          )\n",
      "          (input_sublayer): SublayerConnection(\n",
      "            (norm): LayerNorm((128,), eps=1e-05, elementwise_affine=True)\n",
      "            (dropout): Dropout(p=0.5, inplace=False)\n",
      "          )\n",
      "          (output_sublayer): SublayerConnection(\n",
      "            (norm): LayerNorm((128,), eps=1e-05, elementwise_affine=True)\n",
      "            (dropout): Dropout(p=0.5, inplace=False)\n",
      "          )\n",
      "          (dropout): Dropout(p=0.5, inplace=False)\n",
      "        )\n",
      "      )\n",
      "    )\n",
      "    (procedures): TransformerLayer(\n",
      "      (transformer): ModuleList(\n",
      "        (0): TransformerBlock(\n",
      "          (attention): MultiHeadedAttention(\n",
      "            (linear_layers): ModuleList(\n",
      "              (0-2): 3 x Linear(in_features=128, out_features=128, bias=False)\n",
      "            )\n",
      "            (output_linear): Linear(in_features=128, out_features=128, bias=False)\n",
      "            (attention): Attention()\n",
      "            (dropout): Dropout(p=0.1, inplace=False)\n",
      "          )\n",
      "          (feed_forward): PositionwiseFeedForward(\n",
      "            (w_1): Linear(in_features=128, out_features=512, bias=True)\n",
      "            (w_2): Linear(in_features=512, out_features=128, bias=True)\n",
      "            (dropout): Dropout(p=0.5, inplace=False)\n",
      "            (activation): GELU(approximate='none')\n",
      "          )\n",
      "          (input_sublayer): SublayerConnection(\n",
      "            (norm): LayerNorm((128,), eps=1e-05, elementwise_affine=True)\n",
      "            (dropout): Dropout(p=0.5, inplace=False)\n",
      "          )\n",
      "          (output_sublayer): SublayerConnection(\n",
      "            (norm): LayerNorm((128,), eps=1e-05, elementwise_affine=True)\n",
      "            (dropout): Dropout(p=0.5, inplace=False)\n",
      "          )\n",
      "          (dropout): Dropout(p=0.5, inplace=False)\n",
      "        )\n",
      "      )\n",
      "    )\n",
      "    (drugs): TransformerLayer(\n",
      "      (transformer): ModuleList(\n",
      "        (0): TransformerBlock(\n",
      "          (attention): MultiHeadedAttention(\n",
      "            (linear_layers): ModuleList(\n",
      "              (0-2): 3 x Linear(in_features=128, out_features=128, bias=False)\n",
      "            )\n",
      "            (output_linear): Linear(in_features=128, out_features=128, bias=False)\n",
      "            (attention): Attention()\n",
      "            (dropout): Dropout(p=0.1, inplace=False)\n",
      "          )\n",
      "          (feed_forward): PositionwiseFeedForward(\n",
      "            (w_1): Linear(in_features=128, out_features=512, bias=True)\n",
      "            (w_2): Linear(in_features=512, out_features=128, bias=True)\n",
      "            (dropout): Dropout(p=0.5, inplace=False)\n",
      "            (activation): GELU(approximate='none')\n",
      "          )\n",
      "          (input_sublayer): SublayerConnection(\n",
      "            (norm): LayerNorm((128,), eps=1e-05, elementwise_affine=True)\n",
      "            (dropout): Dropout(p=0.5, inplace=False)\n",
      "          )\n",
      "          (output_sublayer): SublayerConnection(\n",
      "            (norm): LayerNorm((128,), eps=1e-05, elementwise_affine=True)\n",
      "            (dropout): Dropout(p=0.5, inplace=False)\n",
      "          )\n",
      "          (dropout): Dropout(p=0.5, inplace=False)\n",
      "        )\n",
      "      )\n",
      "    )\n",
      "  )\n",
      "  (fc): Linear(in_features=384, out_features=10, bias=True)\n",
      ")\n",
      "Metrics: ['accuracy', 'f1_weighted']\n",
      "Device: cuda\n",
      "\n",
      "Training:\n",
      "Batch size: 64\n",
      "Optimizer: <class 'torch.optim.adamw.AdamW'>\n",
      "Optimizer params: {'lr': 0.001}\n",
      "Weight decay: 0.0\n",
      "Max grad norm: None\n",
      "Val dataloader: <torch.utils.data.dataloader.DataLoader object at 0x7f785e58c810>\n",
      "Monitor: accuracy\n",
      "Monitor criterion: max\n",
      "Epochs: 30\n",
      "\n"
     ]
    },
    {
     "name": "stderr",
     "output_type": "stream",
     "text": [
      "Epoch 0 / 30: 100%|██████████| 12/12 [00:00<00:00, 16.37it/s]"
     ]
    },
    {
     "name": "stdout",
     "output_type": "stream",
     "text": [
      "--- Train epoch-0, step-12 ---\n",
      "loss: 4.5111\n"
     ]
    },
    {
     "name": "stderr",
     "output_type": "stream",
     "text": [
      "\n",
      "Evaluation: 100%|██████████| 2/2 [00:00<00:00, 190.75it/s]"
     ]
    },
    {
     "name": "stdout",
     "output_type": "stream",
     "text": [
      "--- Eval epoch-0, step-12 ---\n",
      "accuracy: 0.3000\n",
      "f1_weighted: 0.2096\n",
      "loss: 3.1545\n",
      "New best accuracy score (0.3000) at epoch-0, step-12\n",
      "\n"
     ]
    },
    {
     "name": "stderr",
     "output_type": "stream",
     "text": [
      "\n",
      "Epoch 1 / 30: 100%|██████████| 12/12 [00:00<00:00, 94.43it/s]"
     ]
    },
    {
     "name": "stdout",
     "output_type": "stream",
     "text": [
      "--- Train epoch-1, step-24 ---\n",
      "loss: 3.6992\n"
     ]
    },
    {
     "name": "stderr",
     "output_type": "stream",
     "text": [
      "\n",
      "Evaluation: 100%|██████████| 2/2 [00:00<00:00, 196.19it/s]"
     ]
    },
    {
     "name": "stdout",
     "output_type": "stream",
     "text": [
      "--- Eval epoch-1, step-24 ---\n",
      "accuracy: 0.2778\n",
      "f1_weighted: 0.2208\n",
      "loss: 2.9139\n",
      "\n"
     ]
    },
    {
     "name": "stderr",
     "output_type": "stream",
     "text": [
      "\n",
      "Epoch 2 / 30: 100%|██████████| 12/12 [00:00<00:00, 96.88it/s]"
     ]
    },
    {
     "name": "stdout",
     "output_type": "stream",
     "text": [
      "--- Train epoch-2, step-36 ---\n",
      "loss: 2.9201\n"
     ]
    },
    {
     "name": "stderr",
     "output_type": "stream",
     "text": [
      "\n",
      "Evaluation: 100%|██████████| 2/2 [00:00<00:00, 200.92it/s]"
     ]
    },
    {
     "name": "stdout",
     "output_type": "stream",
     "text": [
      "--- Eval epoch-2, step-36 ---\n",
      "accuracy: 0.2444\n",
      "f1_weighted: 0.2032\n",
      "loss: 2.8704\n",
      "\n"
     ]
    },
    {
     "name": "stderr",
     "output_type": "stream",
     "text": [
      "\n",
      "Epoch 3 / 30: 100%|██████████| 12/12 [00:00<00:00, 91.86it/s]"
     ]
    },
    {
     "name": "stdout",
     "output_type": "stream",
     "text": [
      "--- Train epoch-3, step-48 ---\n",
      "loss: 2.5562\n"
     ]
    },
    {
     "name": "stderr",
     "output_type": "stream",
     "text": [
      "\n",
      "Evaluation: 100%|██████████| 2/2 [00:00<00:00, 199.35it/s]"
     ]
    },
    {
     "name": "stdout",
     "output_type": "stream",
     "text": [
      "--- Eval epoch-3, step-48 ---\n",
      "accuracy: 0.2778\n",
      "f1_weighted: 0.2264\n",
      "loss: 2.9516\n",
      "\n"
     ]
    },
    {
     "name": "stderr",
     "output_type": "stream",
     "text": [
      "\n",
      "Epoch 4 / 30: 100%|██████████| 12/12 [00:00<00:00, 95.93it/s]"
     ]
    },
    {
     "name": "stdout",
     "output_type": "stream",
     "text": [
      "--- Train epoch-4, step-60 ---\n",
      "loss: 2.3690\n"
     ]
    },
    {
     "name": "stderr",
     "output_type": "stream",
     "text": [
      "\n",
      "Evaluation: 100%|██████████| 2/2 [00:00<00:00, 200.23it/s]"
     ]
    },
    {
     "name": "stdout",
     "output_type": "stream",
     "text": [
      "--- Eval epoch-4, step-60 ---\n",
      "accuracy: 0.2444\n",
      "f1_weighted: 0.1836\n",
      "loss: 2.9244\n",
      "\n"
     ]
    },
    {
     "name": "stderr",
     "output_type": "stream",
     "text": [
      "\n",
      "Epoch 5 / 30: 100%|██████████| 12/12 [00:00<00:00, 95.85it/s]"
     ]
    },
    {
     "name": "stdout",
     "output_type": "stream",
     "text": [
      "--- Train epoch-5, step-72 ---\n",
      "loss: 1.9395\n"
     ]
    },
    {
     "name": "stderr",
     "output_type": "stream",
     "text": [
      "\n",
      "Evaluation: 100%|██████████| 2/2 [00:00<00:00, 198.16it/s]"
     ]
    },
    {
     "name": "stdout",
     "output_type": "stream",
     "text": [
      "--- Eval epoch-5, step-72 ---\n",
      "accuracy: 0.2556\n",
      "f1_weighted: 0.2052\n",
      "loss: 2.8662\n",
      "\n"
     ]
    },
    {
     "name": "stderr",
     "output_type": "stream",
     "text": [
      "\n",
      "Epoch 6 / 30: 100%|██████████| 12/12 [00:00<00:00, 96.62it/s]"
     ]
    },
    {
     "name": "stdout",
     "output_type": "stream",
     "text": [
      "--- Train epoch-6, step-84 ---\n",
      "loss: 1.7535\n"
     ]
    },
    {
     "name": "stderr",
     "output_type": "stream",
     "text": [
      "\n",
      "Evaluation: 100%|██████████| 2/2 [00:00<00:00, 201.46it/s]"
     ]
    },
    {
     "name": "stdout",
     "output_type": "stream",
     "text": [
      "--- Eval epoch-6, step-84 ---\n",
      "accuracy: 0.2444\n",
      "f1_weighted: 0.1897\n",
      "loss: 2.8942\n",
      "\n"
     ]
    },
    {
     "name": "stderr",
     "output_type": "stream",
     "text": [
      "\n",
      "Epoch 7 / 30: 100%|██████████| 12/12 [00:00<00:00, 95.93it/s]"
     ]
    },
    {
     "name": "stdout",
     "output_type": "stream",
     "text": [
      "--- Train epoch-7, step-96 ---\n",
      "loss: 1.5257\n"
     ]
    },
    {
     "name": "stderr",
     "output_type": "stream",
     "text": [
      "\n",
      "Evaluation: 100%|██████████| 2/2 [00:00<00:00, 200.67it/s]"
     ]
    },
    {
     "name": "stdout",
     "output_type": "stream",
     "text": [
      "--- Eval epoch-7, step-96 ---\n",
      "accuracy: 0.2556\n",
      "f1_weighted: 0.1898\n",
      "loss: 3.0455\n",
      "\n"
     ]
    },
    {
     "name": "stderr",
     "output_type": "stream",
     "text": [
      "\n",
      "Epoch 8 / 30: 100%|██████████| 12/12 [00:00<00:00, 96.10it/s]"
     ]
    },
    {
     "name": "stdout",
     "output_type": "stream",
     "text": [
      "--- Train epoch-8, step-108 ---\n",
      "loss: 1.3150\n"
     ]
    },
    {
     "name": "stderr",
     "output_type": "stream",
     "text": [
      "\n",
      "Evaluation: 100%|██████████| 2/2 [00:00<00:00, 201.20it/s]"
     ]
    },
    {
     "name": "stdout",
     "output_type": "stream",
     "text": [
      "--- Eval epoch-8, step-108 ---\n",
      "accuracy: 0.2444\n",
      "f1_weighted: 0.1966\n",
      "loss: 3.0844\n",
      "\n"
     ]
    },
    {
     "name": "stderr",
     "output_type": "stream",
     "text": [
      "\n",
      "Epoch 9 / 30: 100%|██████████| 12/12 [00:00<00:00, 96.68it/s]"
     ]
    },
    {
     "name": "stdout",
     "output_type": "stream",
     "text": [
      "--- Train epoch-9, step-120 ---\n",
      "loss: 1.3034\n"
     ]
    },
    {
     "name": "stderr",
     "output_type": "stream",
     "text": [
      "\n",
      "Evaluation: 100%|██████████| 2/2 [00:00<00:00, 203.29it/s]"
     ]
    },
    {
     "name": "stdout",
     "output_type": "stream",
     "text": [
      "--- Eval epoch-9, step-120 ---\n",
      "accuracy: 0.2222\n",
      "f1_weighted: 0.1905\n",
      "loss: 3.0797\n",
      "\n"
     ]
    },
    {
     "name": "stderr",
     "output_type": "stream",
     "text": [
      "\n",
      "Epoch 10 / 30: 100%|██████████| 12/12 [00:00<00:00, 97.17it/s]"
     ]
    },
    {
     "name": "stdout",
     "output_type": "stream",
     "text": [
      "--- Train epoch-10, step-132 ---\n",
      "loss: 1.1562\n"
     ]
    },
    {
     "name": "stderr",
     "output_type": "stream",
     "text": [
      "\n",
      "Evaluation: 100%|██████████| 2/2 [00:00<00:00, 198.67it/s]"
     ]
    },
    {
     "name": "stdout",
     "output_type": "stream",
     "text": [
      "--- Eval epoch-10, step-132 ---\n",
      "accuracy: 0.2444\n",
      "f1_weighted: 0.1997\n",
      "loss: 3.1196\n",
      "\n"
     ]
    },
    {
     "name": "stderr",
     "output_type": "stream",
     "text": [
      "\n",
      "Epoch 11 / 30: 100%|██████████| 12/12 [00:00<00:00, 96.37it/s]"
     ]
    },
    {
     "name": "stdout",
     "output_type": "stream",
     "text": [
      "--- Train epoch-11, step-144 ---\n",
      "loss: 1.0653\n"
     ]
    },
    {
     "name": "stderr",
     "output_type": "stream",
     "text": [
      "\n",
      "Evaluation: 100%|██████████| 2/2 [00:00<00:00, 202.17it/s]"
     ]
    },
    {
     "name": "stdout",
     "output_type": "stream",
     "text": [
      "--- Eval epoch-11, step-144 ---\n",
      "accuracy: 0.2667\n",
      "f1_weighted: 0.2202\n",
      "loss: 3.2089\n",
      "\n"
     ]
    },
    {
     "name": "stderr",
     "output_type": "stream",
     "text": [
      "\n",
      "Epoch 12 / 30: 100%|██████████| 12/12 [00:00<00:00, 96.88it/s]"
     ]
    },
    {
     "name": "stdout",
     "output_type": "stream",
     "text": [
      "--- Train epoch-12, step-156 ---\n",
      "loss: 0.9936\n"
     ]
    },
    {
     "name": "stderr",
     "output_type": "stream",
     "text": [
      "\n",
      "Evaluation: 100%|██████████| 2/2 [00:00<00:00, 200.62it/s]"
     ]
    },
    {
     "name": "stdout",
     "output_type": "stream",
     "text": [
      "--- Eval epoch-12, step-156 ---\n",
      "accuracy: 0.2556\n",
      "f1_weighted: 0.2144\n",
      "loss: 3.2332\n",
      "\n"
     ]
    },
    {
     "name": "stderr",
     "output_type": "stream",
     "text": [
      "\n",
      "Epoch 13 / 30: 100%|██████████| 12/12 [00:00<00:00, 95.58it/s]"
     ]
    },
    {
     "name": "stdout",
     "output_type": "stream",
     "text": [
      "--- Train epoch-13, step-168 ---\n",
      "loss: 0.9488\n"
     ]
    },
    {
     "name": "stderr",
     "output_type": "stream",
     "text": [
      "\n",
      "Evaluation: 100%|██████████| 2/2 [00:00<00:00, 200.62it/s]"
     ]
    },
    {
     "name": "stdout",
     "output_type": "stream",
     "text": [
      "--- Eval epoch-13, step-168 ---\n",
      "accuracy: 0.2667\n",
      "f1_weighted: 0.2129\n",
      "loss: 3.3312\n",
      "\n"
     ]
    },
    {
     "name": "stderr",
     "output_type": "stream",
     "text": [
      "\n",
      "Epoch 14 / 30: 100%|██████████| 12/12 [00:00<00:00, 96.35it/s]"
     ]
    },
    {
     "name": "stdout",
     "output_type": "stream",
     "text": [
      "--- Train epoch-14, step-180 ---\n",
      "loss: 0.8651\n"
     ]
    },
    {
     "name": "stderr",
     "output_type": "stream",
     "text": [
      "\n",
      "Evaluation: 100%|██████████| 2/2 [00:00<00:00, 201.64it/s]"
     ]
    },
    {
     "name": "stdout",
     "output_type": "stream",
     "text": [
      "--- Eval epoch-14, step-180 ---\n",
      "accuracy: 0.2556\n",
      "f1_weighted: 0.2095\n",
      "loss: 3.4241\n",
      "\n"
     ]
    },
    {
     "name": "stderr",
     "output_type": "stream",
     "text": [
      "\n",
      "Epoch 15 / 30: 100%|██████████| 12/12 [00:00<00:00, 95.46it/s]"
     ]
    },
    {
     "name": "stdout",
     "output_type": "stream",
     "text": [
      "--- Train epoch-15, step-192 ---\n",
      "loss: 0.7304\n"
     ]
    },
    {
     "name": "stderr",
     "output_type": "stream",
     "text": [
      "\n",
      "Evaluation: 100%|██████████| 2/2 [00:00<00:00, 202.33it/s]"
     ]
    },
    {
     "name": "stdout",
     "output_type": "stream",
     "text": [
      "--- Eval epoch-15, step-192 ---\n",
      "accuracy: 0.2333\n",
      "f1_weighted: 0.2026\n",
      "loss: 3.4344\n",
      "\n"
     ]
    },
    {
     "name": "stderr",
     "output_type": "stream",
     "text": [
      "\n",
      "Epoch 16 / 30: 100%|██████████| 12/12 [00:00<00:00, 96.49it/s]"
     ]
    },
    {
     "name": "stdout",
     "output_type": "stream",
     "text": [
      "--- Train epoch-16, step-204 ---\n",
      "loss: 0.6891\n"
     ]
    },
    {
     "name": "stderr",
     "output_type": "stream",
     "text": [
      "\n",
      "Evaluation: 100%|██████████| 2/2 [00:00<00:00, 202.07it/s]"
     ]
    },
    {
     "name": "stdout",
     "output_type": "stream",
     "text": [
      "--- Eval epoch-16, step-204 ---\n",
      "accuracy: 0.2667\n",
      "f1_weighted: 0.2206\n",
      "loss: 3.6070\n",
      "\n"
     ]
    },
    {
     "name": "stderr",
     "output_type": "stream",
     "text": [
      "\n",
      "Epoch 17 / 30: 100%|██████████| 12/12 [00:00<00:00, 98.19it/s]"
     ]
    },
    {
     "name": "stdout",
     "output_type": "stream",
     "text": [
      "--- Train epoch-17, step-216 ---\n",
      "loss: 0.6069\n"
     ]
    },
    {
     "name": "stderr",
     "output_type": "stream",
     "text": [
      "\n",
      "Evaluation: 100%|██████████| 2/2 [00:00<00:00, 201.66it/s]"
     ]
    },
    {
     "name": "stdout",
     "output_type": "stream",
     "text": [
      "--- Eval epoch-17, step-216 ---\n",
      "accuracy: 0.2778\n",
      "f1_weighted: 0.2296\n",
      "loss: 3.6129\n",
      "\n"
     ]
    },
    {
     "name": "stderr",
     "output_type": "stream",
     "text": [
      "\n",
      "Epoch 18 / 30: 100%|██████████| 12/12 [00:00<00:00, 97.83it/s]"
     ]
    },
    {
     "name": "stdout",
     "output_type": "stream",
     "text": [
      "--- Train epoch-18, step-228 ---\n",
      "loss: 0.5809\n"
     ]
    },
    {
     "name": "stderr",
     "output_type": "stream",
     "text": [
      "\n",
      "Evaluation: 100%|██████████| 2/2 [00:00<00:00, 202.28it/s]"
     ]
    },
    {
     "name": "stdout",
     "output_type": "stream",
     "text": [
      "--- Eval epoch-18, step-228 ---\n",
      "accuracy: 0.2667\n",
      "f1_weighted: 0.2139\n",
      "loss: 3.6810\n",
      "\n"
     ]
    },
    {
     "name": "stderr",
     "output_type": "stream",
     "text": [
      "\n",
      "Epoch 19 / 30: 100%|██████████| 12/12 [00:00<00:00, 97.84it/s]"
     ]
    },
    {
     "name": "stdout",
     "output_type": "stream",
     "text": [
      "--- Train epoch-19, step-240 ---\n",
      "loss: 0.5225\n"
     ]
    },
    {
     "name": "stderr",
     "output_type": "stream",
     "text": [
      "\n",
      "Evaluation: 100%|██████████| 2/2 [00:00<00:00, 202.66it/s]"
     ]
    },
    {
     "name": "stdout",
     "output_type": "stream",
     "text": [
      "--- Eval epoch-19, step-240 ---\n",
      "accuracy: 0.2889\n",
      "f1_weighted: 0.2349\n",
      "loss: 3.6747\n",
      "\n"
     ]
    },
    {
     "name": "stderr",
     "output_type": "stream",
     "text": [
      "\n",
      "Epoch 20 / 30: 100%|██████████| 12/12 [00:00<00:00, 95.60it/s]"
     ]
    },
    {
     "name": "stdout",
     "output_type": "stream",
     "text": [
      "--- Train epoch-20, step-252 ---\n",
      "loss: 0.5201\n"
     ]
    },
    {
     "name": "stderr",
     "output_type": "stream",
     "text": [
      "\n",
      "Evaluation: 100%|██████████| 2/2 [00:00<00:00, 199.54it/s]"
     ]
    },
    {
     "name": "stdout",
     "output_type": "stream",
     "text": [
      "--- Eval epoch-20, step-252 ---\n",
      "accuracy: 0.2778\n",
      "f1_weighted: 0.2300\n",
      "loss: 3.7943\n",
      "\n"
     ]
    },
    {
     "name": "stderr",
     "output_type": "stream",
     "text": [
      "\n",
      "Epoch 21 / 30: 100%|██████████| 12/12 [00:00<00:00, 97.25it/s]"
     ]
    },
    {
     "name": "stdout",
     "output_type": "stream",
     "text": [
      "--- Train epoch-21, step-264 ---\n",
      "loss: 0.4327\n"
     ]
    },
    {
     "name": "stderr",
     "output_type": "stream",
     "text": [
      "\n",
      "Evaluation: 100%|██████████| 2/2 [00:00<00:00, 201.60it/s]"
     ]
    },
    {
     "name": "stdout",
     "output_type": "stream",
     "text": [
      "--- Eval epoch-21, step-264 ---\n",
      "accuracy: 0.2556\n",
      "f1_weighted: 0.2146\n",
      "loss: 3.9815\n",
      "\n"
     ]
    },
    {
     "name": "stderr",
     "output_type": "stream",
     "text": [
      "\n",
      "Epoch 22 / 30: 100%|██████████| 12/12 [00:00<00:00, 96.43it/s]"
     ]
    },
    {
     "name": "stdout",
     "output_type": "stream",
     "text": [
      "--- Train epoch-22, step-276 ---\n",
      "loss: 0.3849\n"
     ]
    },
    {
     "name": "stderr",
     "output_type": "stream",
     "text": [
      "\n",
      "Evaluation: 100%|██████████| 2/2 [00:00<00:00, 200.57it/s]"
     ]
    },
    {
     "name": "stdout",
     "output_type": "stream",
     "text": [
      "--- Eval epoch-22, step-276 ---\n",
      "accuracy: 0.2556\n",
      "f1_weighted: 0.2151\n",
      "loss: 4.1753\n",
      "\n"
     ]
    },
    {
     "name": "stderr",
     "output_type": "stream",
     "text": [
      "\n",
      "Epoch 23 / 30: 100%|██████████| 12/12 [00:00<00:00, 96.12it/s]"
     ]
    },
    {
     "name": "stdout",
     "output_type": "stream",
     "text": [
      "--- Train epoch-23, step-288 ---\n",
      "loss: 0.3989\n"
     ]
    },
    {
     "name": "stderr",
     "output_type": "stream",
     "text": [
      "\n",
      "Evaluation: 100%|██████████| 2/2 [00:00<00:00, 198.87it/s]"
     ]
    },
    {
     "name": "stdout",
     "output_type": "stream",
     "text": [
      "--- Eval epoch-23, step-288 ---\n",
      "accuracy: 0.2556\n",
      "f1_weighted: 0.2150\n",
      "loss: 4.1572\n",
      "\n"
     ]
    },
    {
     "name": "stderr",
     "output_type": "stream",
     "text": [
      "\n",
      "Epoch 24 / 30: 100%|██████████| 12/12 [00:00<00:00, 96.12it/s]"
     ]
    },
    {
     "name": "stdout",
     "output_type": "stream",
     "text": [
      "--- Train epoch-24, step-300 ---\n",
      "loss: 0.3118\n"
     ]
    },
    {
     "name": "stderr",
     "output_type": "stream",
     "text": [
      "\n",
      "Evaluation: 100%|██████████| 2/2 [00:00<00:00, 199.49it/s]"
     ]
    },
    {
     "name": "stdout",
     "output_type": "stream",
     "text": [
      "--- Eval epoch-24, step-300 ---\n",
      "accuracy: 0.2556\n",
      "f1_weighted: 0.2155\n",
      "loss: 4.2281\n",
      "\n"
     ]
    },
    {
     "name": "stderr",
     "output_type": "stream",
     "text": [
      "\n",
      "Epoch 25 / 30: 100%|██████████| 12/12 [00:00<00:00, 95.81it/s]"
     ]
    },
    {
     "name": "stdout",
     "output_type": "stream",
     "text": [
      "--- Train epoch-25, step-312 ---\n",
      "loss: 0.2761\n"
     ]
    },
    {
     "name": "stderr",
     "output_type": "stream",
     "text": [
      "\n",
      "Evaluation: 100%|██████████| 2/2 [00:00<00:00, 202.36it/s]"
     ]
    },
    {
     "name": "stdout",
     "output_type": "stream",
     "text": [
      "--- Eval epoch-25, step-312 ---\n",
      "accuracy: 0.2667\n",
      "f1_weighted: 0.2179\n",
      "loss: 4.4134\n",
      "\n"
     ]
    },
    {
     "name": "stderr",
     "output_type": "stream",
     "text": [
      "\n",
      "Epoch 26 / 30: 100%|██████████| 12/12 [00:00<00:00, 98.51it/s]"
     ]
    },
    {
     "name": "stdout",
     "output_type": "stream",
     "text": [
      "--- Train epoch-26, step-324 ---\n",
      "loss: 0.2794\n"
     ]
    },
    {
     "name": "stderr",
     "output_type": "stream",
     "text": [
      "\n",
      "Evaluation: 100%|██████████| 2/2 [00:00<00:00, 202.55it/s]"
     ]
    },
    {
     "name": "stdout",
     "output_type": "stream",
     "text": [
      "--- Eval epoch-26, step-324 ---\n",
      "accuracy: 0.2556\n",
      "f1_weighted: 0.2146\n",
      "loss: 4.4242\n",
      "\n"
     ]
    },
    {
     "name": "stderr",
     "output_type": "stream",
     "text": [
      "\n",
      "Epoch 27 / 30: 100%|██████████| 12/12 [00:00<00:00, 95.41it/s]"
     ]
    },
    {
     "name": "stdout",
     "output_type": "stream",
     "text": [
      "--- Train epoch-27, step-336 ---\n",
      "loss: 0.2370\n"
     ]
    },
    {
     "name": "stderr",
     "output_type": "stream",
     "text": [
      "\n",
      "Evaluation: 100%|██████████| 2/2 [00:00<00:00, 201.11it/s]"
     ]
    },
    {
     "name": "stdout",
     "output_type": "stream",
     "text": [
      "--- Eval epoch-27, step-336 ---\n",
      "accuracy: 0.2444\n",
      "f1_weighted: 0.2081\n",
      "loss: 4.5527\n",
      "\n"
     ]
    },
    {
     "name": "stderr",
     "output_type": "stream",
     "text": [
      "\n",
      "Epoch 28 / 30: 100%|██████████| 12/12 [00:00<00:00, 97.88it/s]"
     ]
    },
    {
     "name": "stdout",
     "output_type": "stream",
     "text": [
      "--- Train epoch-28, step-348 ---\n",
      "loss: 0.2212\n"
     ]
    },
    {
     "name": "stderr",
     "output_type": "stream",
     "text": [
      "\n",
      "Evaluation: 100%|██████████| 2/2 [00:00<00:00, 201.56it/s]"
     ]
    },
    {
     "name": "stdout",
     "output_type": "stream",
     "text": [
      "--- Eval epoch-28, step-348 ---\n",
      "accuracy: 0.2556\n",
      "f1_weighted: 0.2194\n",
      "loss: 4.6971\n",
      "\n"
     ]
    },
    {
     "name": "stderr",
     "output_type": "stream",
     "text": [
      "\n",
      "Epoch 29 / 30: 100%|██████████| 12/12 [00:00<00:00, 92.17it/s]"
     ]
    },
    {
     "name": "stdout",
     "output_type": "stream",
     "text": [
      "--- Train epoch-29, step-360 ---\n",
      "loss: 0.1987\n"
     ]
    },
    {
     "name": "stderr",
     "output_type": "stream",
     "text": [
      "\n",
      "Evaluation: 100%|██████████| 2/2 [00:00<00:00, 196.73it/s]"
     ]
    },
    {
     "name": "stdout",
     "output_type": "stream",
     "text": [
      "--- Eval epoch-29, step-360 ---\n",
      "accuracy: 0.2667\n",
      "f1_weighted: 0.2256\n",
      "loss: 4.7178\n",
      "Loaded best model\n"
     ]
    },
    {
     "name": "stderr",
     "output_type": "stream",
     "text": [
      "\n"
     ]
    },
    {
     "name": "stdout",
     "output_type": "stream",
     "text": [
      "{'visit_id': ['100370'], 'patient_id': ['348'], 'conditions': [[['V5867', '5772', '2554', '51882', '5768']]], 'procedures': [[['9604', '966', '5491', '311']]], 'drugs': [[['00008092355', '00338001702', '00074198530', '64253033335', '00338004904', '00310030011', '00641040025', '00338004903', '00074180001', '00006353750', '00517090125', '00074665305', '00517391025', '00338004902', '00054872425', '00300304613', '00085036207', '00054872625', '00338070341', '66553000401', '00006096328', '00338001703', '51079055271', '00074158302', '00517260225', '00338069104', '55390007310', '00074158411', '00074131701', '17714002001', '51079025520', '00074125901', '00074148402', '00024540134', '00338067104', '49502068524', '00054848616', '00165002241', '00074781124', '00641037625', '00338070541', '00264751020', '00121043130', '00677178110', '00054881611', '00045025501', '00310027539', '00074610204', '00068021217', '00074126102', '63323039923', '55390046001', '00074665106', '00009513502', '00283067902', '00071000740', '51079028420', '00555099702', '00904521735', '00029321121', '62856024641', '00044182610', '00045063965']]], 'label': [8]}\n",
      "{'conditions': tensor([[0.]], device='cuda:0'), 'procedures': tensor([[0.1276]], device='cuda:0'), 'drugs': tensor([[0.0257]], device='cuda:0')}\n"
     ]
    }
   ],
   "source": [
    "from pyhealth.datasets import MIMIC3Dataset\n",
    "\n",
    "mimic3_ds = MIMIC3Dataset(\n",
    "        root=\"https://storage.googleapis.com/pyhealth/Synthetic_MIMIC-III/\",\n",
    "        tables=[\"DIAGNOSES_ICD\", \"PROCEDURES_ICD\", \"PRESCRIPTIONS\"],\n",
    "        dev=True,\n",
    ")\n",
    "\n",
    "print (mimic3_ds.stat())\n",
    "# data format\n",
    "mimic3_ds.info()\n",
    "from pyhealth.tasks import length_of_stay_prediction_mimic3_fn\n",
    "\n",
    "mimic3_ds = mimic3_ds.set_task(task_fn=length_of_stay_prediction_mimic3_fn)\n",
    "# stats info\n",
    "print (mimic3_ds.stat())\n",
    "\n",
    "\n",
    "{\n",
    "    \"patient_id\": \"p001\",\n",
    "    \"visit_id\": \"v001\",\n",
    "    \"diagnoses\": [...],\n",
    "    \"labs\": [...],\n",
    "    \"procedures\": [...],\n",
    "    \"label\": 1,\n",
    "}\n",
    "\n",
    "from pyhealth.datasets.splitter import split_by_patient\n",
    "from pyhealth.datasets import split_by_patient, get_dataloader\n",
    "\n",
    "# data split\n",
    "train_dataset, val_dataset, test_dataset = split_by_patient(mimic3_ds, [0.8, 0.1, 0.1])\n",
    "\n",
    "# create dataloaders (they are <torch.data.DataLoader> object)\n",
    "train_loader = get_dataloader(train_dataset, batch_size=64, shuffle=True)\n",
    "val_loader = get_dataloader(val_dataset, batch_size=64, shuffle=False)\n",
    "test_loader = get_dataloader(test_dataset, batch_size=1, shuffle=False)\n",
    "mimic3_ds.samples[0].keys()\n",
    "\n",
    "from pyhealth.models import Transformer\n",
    "model = Transformer(\n",
    "        dataset=mimic3_ds,\n",
    "        # look up what are available for \"feature_keys\" and \"label_keys\" in dataset.samples[0]\n",
    "        feature_keys=[\"conditions\", \"procedures\", \"drugs\"],\n",
    "        label_key=\"label\",\n",
    "        mode=\"multiclass\",\n",
    "    )\n",
    "\n",
    "print(\"Testing MIMIC3 STUFF\")\n",
    "sample = test_loader.dataset[0]\n",
    "\n",
    "print(sample)\n",
    "\n",
    "print(\"----\")\n",
    "print(model)\n",
    "# exit(0)\n",
    "from pyhealth.trainer import Trainer\n",
    "\n",
    "trainer = Trainer(\n",
    "    model=model,\n",
    "    metrics=[\"accuracy\", \"f1_weighted\"], # the metrics that we want to log\n",
    "    )\n",
    "\n",
    "trainer.train(\n",
    "    train_dataloader=train_loader,\n",
    "    val_dataloader=val_loader,\n",
    "    epochs=30,\n",
    "    monitor=\"accuracy\",\n",
    "    monitor_criterion=\"max\",optimizer_class=torch.optim.AdamW\n",
    ")\n",
    "data_iterator = iter(test_loader)\n",
    "data = next(data_iterator)\n",
    "print(data)\n",
    "model(**data)\n",
    "\n",
    "relevance = CheferRelevance(model)\n",
    "# returns a list ofr now\n",
    "# interpretability code here!\n",
    "data['class_index'] = data['label']\n",
    "rel_scores = relevance.get_relevance_matrix(**data)\n",
    "\n",
    "# weigh and plot these scores and their corresponding feature list\n",
    "print(rel_scores)"
   ]
  },
  {
   "cell_type": "markdown",
   "metadata": {},
   "source": [
    "### Plot The Relevance of Each Feature\n",
    "\n",
    "\n",
    "#### Note that normally, there'd be multiple tokens and we would use the tokenizer to visualize explicitly which codes mattered to the prediction, but for now, this is what we get."
   ]
  },
  {
   "cell_type": "code",
   "execution_count": 3,
   "metadata": {},
   "outputs": [
    {
     "name": "stdout",
     "output_type": "stream",
     "text": [
      "[0.0, 0.025707967579364777, 0.12755288183689117]\n"
     ]
    },
    {
     "data": {
      "text/plain": [
       "<BarContainer object of 3 artists>"
      ]
     },
     "execution_count": 3,
     "metadata": {},
     "output_type": "execute_result"
    },
    {
     "data": {
      "image/png": "[encoded data removed]",
      "text/plain": [
       "<Figure size 640x480 with 1 Axes>"
      ]
     },
     "metadata": {},
     "output_type": "display_data"
    }
   ],
   "source": [
    "barPlot = []\n",
    "barCategories = []\n",
    "for key in sorted(rel_scores.keys()):\n",
    "    barPlot.append(float(rel_scores[key].view(-1).detach().cpu()))\n",
    "    barCategories.append(key)\n",
    "\n",
    "print(barPlot)\n",
    "plt.xlabel(\"Feature Keys\")\n",
    "plt.ylabel(\"Relevance\")\n",
    "plt.title(\"Label:\" + str(sample['label']))\n",
    "plt.bar(barCategories, barPlot)"
   ]
  }
 ],
 "metadata": {
  "kernelspec": {
   "display_name": "base",
   "language": "python",
   "name": "python3"
  },
  "language_info": {
   "codemirror_mode": {
    "name": "ipython",
    "version": 3
   },
   "file_extension": ".py",
   "mimetype": "text/x-python",
   "name": "python",
   "nbconvert_exporter": "python",
   "pygments_lexer": "ipython3",
   "version": "3.11.4"
  },
  "orig_nbformat": 4
 },
 "nbformat": 4,
 "nbformat_minor": 2
}
