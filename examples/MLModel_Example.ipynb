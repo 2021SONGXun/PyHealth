{
 "cells": [
  {
   "cell_type": "code",
   "execution_count": 1,
   "id": "7383d89c",
   "metadata": {
    "pycharm": {
     "name": "#%%\n"
    }
   },
   "outputs": [],
   "source": [
    "import numpy as np \n",
    "import sys\n",
    "sys.path.append(\"../\")\n",
    "from xgboost import XGBClassifier\n",
    "from sklearn.model_selection import KFold\n",
    "from sklearn.multioutput import MultiOutputClassifier"
   ]
  },
  {
   "cell_type": "code",
   "execution_count": 2,
   "id": "de20f154",
   "metadata": {
    "pycharm": {
     "name": "#%%\n"
    }
   },
   "outputs": [
    {
     "name": "stderr",
     "output_type": "stream",
     "text": [
      "/home/pj20/miniconda3/envs/pyhealth/lib/python3.8/site-packages/tqdm/auto.py:22: TqdmWarning: IProgress not found. Please update jupyter and ipywidgets. See https://ipywidgets.readthedocs.io/en/stable/user_install.html\n",
      "  from .autonotebook import tqdm as notebook_tqdm\n"
     ]
    },
    {
     "name": "stdout",
     "output_type": "stream",
     "text": [
      "\n",
      "        ----- Output Data Structure -----\n",
      "        Dataset.patients: [\n",
      "            {\n",
      "                patient_id: patient_id, \n",
      "                visits: [\n",
      "                    {\n",
      "                        visit_id: visit_id, \n",
      "                        patient_id: patient_id, \n",
      "                        conditions: [List], \n",
      "                        procedures: [List],\n",
      "                        drugs: [List],\n",
      "                        visit_info: <dict>\n",
      "                    }\n",
      "                    ...\n",
      "                ]                    \n",
      "            } \n",
      "            ...\n",
      "        ]\n",
      "        \n"
     ]
    }
   ],
   "source": [
    "from pyhealth.datasets import MIMIC3BaseDataset, MIMIC4BaseDataset, eICUBaseDataset, OMOPBaseDataset\n",
    "base_dataset = MIMIC3BaseDataset(root=\"../srv/local/data/physionet.org/files/mimiciii/1.4\")\n",
    "# base_dataset = eICUBaseDataset(root=\"/srv/local/data/physionet.org/files/eicu-crd/2.0\")\n",
    "# base_dataset = MIMIC4BaseDataset(root=\"/srv/local/data/physionet.org/files/mimiciv/2.0/hosp\")\n",
    "# base_dataset = OMOPBaseDataset(root=\"/srv/local/data/zw12/pyhealth/raw_data/synpuf1k_omop_cdm_5.2.2\")\n",
    "base_dataset.info()"
   ]
  },
  {
   "cell_type": "code",
   "execution_count": 3,
   "id": "0050482e",
   "metadata": {
    "pycharm": {
     "name": "#%%\n"
    }
   },
   "outputs": [
    {
     "name": "stdout",
     "output_type": "stream",
     "text": [
      "\n",
      "        ----- Output Data Structure -----\n",
      "        >> drug_rec_dataloader[0]\n",
      "        >> {\n",
      "            \"conditions\": List[tensor],\n",
      "            \"procedures\": List[tensor],\n",
      "            \"drugs\": List[tensor]\n",
      "        }\n",
      "        \n"
     ]
    }
   ],
   "source": [
    "from pyhealth.tasks import DrugRecDataset\n",
    "drug_rec_dataset = DrugRecDataset(base_dataset)\n",
    "drug_rec_dataset.info()"
   ]
  },
  {
   "cell_type": "code",
   "execution_count": 4,
   "id": "7ea3936b",
   "metadata": {
    "pycharm": {
     "name": "#%%\n"
    }
   },
   "outputs": [],
   "source": [
    "from pyhealth.models import MLModel\n",
    "\n",
    "lr_model = MLModel(drug_rec_dataset, 'LR')"
   ]
  },
  {
   "cell_type": "code",
   "execution_count": 5,
   "id": "bad15b07",
   "metadata": {
    "pycharm": {
     "name": "#%%\n"
    }
   },
   "outputs": [
    {
     "name": "stdout",
     "output_type": "stream",
     "text": [
      "Starting fold:  0\n",
      "Mean loss across folds:  0.11795481888110033\n",
      "STD  loss across folds:  0.0\n",
      "Starting fold:  1\n",
      "Mean loss across folds:  0.12007267085260966\n",
      "STD  loss across folds:  0.0021178519715093214\n",
      "Starting fold:  2\n",
      "Mean loss across folds:  0.12064960767932104\n",
      "STD  loss across folds:  0.001912043458235771\n",
      "Starting fold:  3\n",
      "Mean loss across folds:  0.12141790203723198\n",
      "STD  loss across folds:  0.0021243260815679886\n",
      "Starting fold:  4\n",
      "Mean loss across folds:  0.12111781850016043\n",
      "STD  loss across folds:  0.0019925886573875363\n"
     ]
    }
   ],
   "source": [
    "# Train\n",
    "lr_model.train(0.1)"
   ]
  },
  {
   "cell_type": "code",
   "execution_count": 9,
   "id": "b22926d7",
   "metadata": {
    "pycharm": {
     "name": "#%%\n"
    }
   },
   "outputs": [],
   "source": [
    "gt = lr_model.y_test[:100]\n",
    "pred_res = lr_model.predict(lr_model.X_test[:100])"
   ]
  },
  {
   "cell_type": "code",
   "execution_count": 12,
   "id": "9129a678",
   "metadata": {
    "pycharm": {
     "name": "#%%\n"
    }
   },
   "outputs": [
    {
     "name": "stdout",
     "output_type": "stream",
     "text": [
      "73\n"
     ]
    }
   ],
   "source": [
    "count = 0\n",
    "res = pred_res\n",
    "ground_truth = gt\n",
    "zeros = np.zeros(len(pred_res), dtype=int)\n",
    "\n",
    "for i in range(len(res)):\n",
    "    if (np.sum(np.absolute(res[i] - ground_truth[i]))) < 100:\n",
    "        count += 1\n",
    "#         print(res[i])\n",
    "print(count)"
   ]
  },
  {
   "cell_type": "code",
   "execution_count": 13,
   "id": "abf21980",
   "metadata": {
    "pycharm": {
     "name": "#%%\n"
    }
   },
   "outputs": [],
   "source": [
    "svm = MLModel(drug_rec_dataset, 'SVM')"
   ]
  },
  {
   "cell_type": "code",
   "execution_count": 14,
   "id": "064b0e5e",
   "metadata": {
    "pycharm": {
     "name": "#%%\n"
    }
   },
   "outputs": [
    {
     "name": "stdout",
     "output_type": "stream",
     "text": [
      "Starting fold:  0\n",
      "Mean loss across folds:  0.06941270445217748\n",
      "STD  loss across folds:  0.0\n",
      "Starting fold:  1\n",
      "Mean loss across folds:  0.07095738444084362\n",
      "STD  loss across folds:  0.0015446799886661422\n",
      "Starting fold:  2\n",
      "Mean loss across folds:  0.07103016799812382\n",
      "STD  loss across folds:  0.0012654191943164432\n",
      "Starting fold:  3\n",
      "Mean loss across folds:  0.07144105797639207\n",
      "STD  loss across folds:  0.0013066966081429132\n",
      "Starting fold:  4\n",
      "Mean loss across folds:  0.07128432612347527\n",
      "STD  loss across folds:  0.0012100513689346757\n"
     ]
    }
   ],
   "source": [
    "svm.train(0.1)"
   ]
  },
  {
   "cell_type": "code",
   "execution_count": 15,
   "id": "db4e6061",
   "metadata": {
    "pycharm": {
     "name": "#%%\n"
    }
   },
   "outputs": [],
   "source": [
    "gt = svm.y_test[:100]\n",
    "pred_res = svm.predict(svm.X_test[:100])"
   ]
  },
  {
   "cell_type": "code",
   "execution_count": 16,
   "id": "759b905a",
   "metadata": {
    "pycharm": {
     "name": "#%%\n"
    }
   },
   "outputs": [
    {
     "name": "stdout",
     "output_type": "stream",
     "text": [
      "68\n"
     ]
    }
   ],
   "source": [
    "count = 0\n",
    "res = pred_res\n",
    "ground_truth = gt\n",
    "zeros = np.zeros(len(pred_res), dtype=int)\n",
    "\n",
    "for i in range(len(res)):\n",
    "    if (np.sum(np.absolute(res[i] - ground_truth[i]))) < 100:\n",
    "        count += 1\n",
    "#         print(res[i])\n",
    "print(count)"
   ]
  },
  {
   "cell_type": "code",
   "execution_count": 17,
   "id": "a4764a97",
   "metadata": {
    "pycharm": {
     "name": "#%%\n"
    }
   },
   "outputs": [
    {
     "name": "stdout",
     "output_type": "stream",
     "text": [
      "2\n"
     ]
    }
   ],
   "source": [
    "count = 0\n",
    "for i in range(len(res)):\n",
    "    if (np.sum(np.absolute(res[i] - ground_truth[i]))) < 30:\n",
    "        count += 1\n",
    "#         print(res[i])\n",
    "print(count)"
   ]
  },
  {
   "cell_type": "code",
   "execution_count": null,
   "id": "2241e3b9",
   "metadata": {
    "pycharm": {
     "name": "#%%\n"
    }
   },
   "outputs": [],
   "source": []
  }
 ],
 "metadata": {
  "kernelspec": {
   "display_name": "Python 3 (ipykernel)",
   "language": "python",
   "name": "python3"
  },
  "language_info": {
   "codemirror_mode": {
    "name": "ipython",
    "version": 3
   },
   "file_extension": ".py",
   "mimetype": "text/x-python",
   "name": "python",
   "nbconvert_exporter": "python",
   "pygments_lexer": "ipython3",
   "version": "3.8.13"
  }
 },
 "nbformat": 4,
 "nbformat_minor": 5
}