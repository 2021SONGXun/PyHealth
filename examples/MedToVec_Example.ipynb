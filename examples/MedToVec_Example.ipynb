{
 "cells": [
  {
   "cell_type": "code",
   "execution_count": 1,
   "id": "7a036505",
   "metadata": {
    "pycharm": {
     "name": "#%%\n"
    }
   },
   "outputs": [],
   "source": [
    "from datetime import datetime\n",
    "import pickle\n",
    "import pandas as pd\n",
    "import os\n",
    "import sys\n",
    "sys.path.append(\"../\")\n",
    "from tqdm import tqdm"
   ]
  },
  {
   "cell_type": "code",
   "execution_count": 2,
   "id": "70528cbd",
   "metadata": {
    "pycharm": {
     "name": "#%%\n"
    }
   },
   "outputs": [
    {
     "name": "stdout",
     "output_type": "stream",
     "text": [
      "bin   data  etc   lib\t media\tmnt  opt   root  sbin\t   srv\ttmp  var\r\n",
      "boot  dev   home  lib64  misc\tnet  proc  run\t software  sys\tusr\r\n"
     ]
    }
   ],
   "source": [
    "! ls ../../../../"
   ]
  },
  {
   "cell_type": "code",
   "execution_count": 3,
   "id": "a946a6c8",
   "metadata": {
    "pycharm": {
     "name": "#%%\n"
    }
   },
   "outputs": [
    {
     "name": "stderr",
     "output_type": "stream",
     "text": [
      "/home/pj20/miniconda3/envs/pyhealth/lib/python3.8/site-packages/tqdm/auto.py:22: TqdmWarning: IProgress not found. Please update jupyter and ipywidgets. See https://ipywidgets.readthedocs.io/en/stable/user_install.html\n",
      "  from .autonotebook import tqdm as notebook_tqdm\n"
     ]
    }
   ],
   "source": [
    "from pyhealth.datasets import MIMIC3BaseDataset, MIMIC4BaseDataset, eICUBaseDataset, OMOPBaseDataset\n",
    "base_dataset = MIMIC3BaseDataset(root=\"../../../../srv/local/data/physionet.org/files/mimiciii/1.4\")"
   ]
  },
  {
   "cell_type": "code",
   "execution_count": 4,
   "id": "3a35da1e",
   "metadata": {},
   "outputs": [
    {
     "name": "stderr",
     "output_type": "stream",
     "text": [
      "100%|█████████████████████████████████████████████████████████████████████████| 46518/46518 [00:21<00:00, 2178.37it/s]\n"
     ]
    }
   ],
   "source": [
    "from pyhealth.tasks import Med2VecDataset\n",
    "med2vec_dataset = Med2VecDataset(base_dataset)"
   ]
  },
  {
   "cell_type": "code",
   "execution_count": 5,
   "id": "4ab4e65b",
   "metadata": {},
   "outputs": [
    {
     "data": {
      "text/plain": [
       "(tensor([0, 0, 0,  ..., 0, 0, 0]),\n",
       " tensor([3714, 3714, 3714, 6119, 6119, 6119, 5024, 5024, 5024,  964,  964,  964]),\n",
       " tensor([6119, 5024,  964, 3714, 5024,  964, 3714, 6119,  964, 3714, 6119, 5024]),\n",
       " [])"
      ]
     },
     "execution_count": 5,
     "metadata": {},
     "output_type": "execute_result"
    }
   ],
   "source": [
    "med2vec_dataset.__getitem__(0)"
   ]
  },
  {
   "cell_type": "code",
   "execution_count": 6,
   "id": "47bb4270",
   "metadata": {},
   "outputs": [
    {
     "data": {
      "text/plain": [
       "(tensor([0, 0, 0,  ..., 0, 0, 0]),\n",
       " tensor([], dtype=torch.int64),\n",
       " tensor([], dtype=torch.int64),\n",
       " [])"
      ]
     },
     "execution_count": 6,
     "metadata": {},
     "output_type": "execute_result"
    }
   ],
   "source": [
    "med2vec_dataset.__getitem__(2)"
   ]
  },
  {
   "cell_type": "code",
   "execution_count": 7,
   "id": "9ea7bd0a",
   "metadata": {},
   "outputs": [],
   "source": [
    "from pyhealth.models import Med2Vec\n",
    "med2vec = Med2Vec(med2vec_dataset)"
   ]
  },
  {
   "cell_type": "code",
   "execution_count": 8,
   "id": "a3c240d7",
   "metadata": {},
   "outputs": [
    {
     "name": "stdout",
     "output_type": "stream",
     "text": [
      "Num of available GPUs:  8\n"
     ]
    },
    {
     "name": "stderr",
     "output_type": "stream",
     "text": [
      " 26%|███████████████████▍                                                        | 256/1000 [36:14<1:45:18,  8.49s/it]\n"
     ]
    }
   ],
   "source": [
    "med2vec.train(n_gpu=4)"
   ]
  },
  {
   "cell_type": "code",
   "execution_count": 16,
   "id": "a712b048",
   "metadata": {},
   "outputs": [],
   "source": [
    "data_loader = med2vec.get_loader(batch_size=512, shuffle=False, validation_split=0.1, num_workers=2)"
   ]
  },
  {
   "cell_type": "code",
   "execution_count": 20,
   "id": "a5f35ee3",
   "metadata": {},
   "outputs": [],
   "source": [
    "x = data_loader._split_sampler(0.1)"
   ]
  },
  {
   "cell_type": "code",
   "execution_count": 29,
   "id": "daf358cb",
   "metadata": {},
   "outputs": [
    {
     "name": "stdout",
     "output_type": "stream",
     "text": [
      "Num of available GPUs:  8\n"
     ]
    }
   ],
   "source": [
    "device, device_ids = med2vec.Med2VecTrainer.prepare_gpu(med2vec.Med2VecTrainer,n_gpu_use=2)"
   ]
  }
 ],
 "metadata": {
  "kernelspec": {
   "display_name": "Python 3 (ipykernel)",
   "language": "python",
   "name": "python3"
  },
  "language_info": {
   "codemirror_mode": {
    "name": "ipython",
    "version": 3
   },
   "file_extension": ".py",
   "mimetype": "text/x-python",
   "name": "python",
   "nbconvert_exporter": "python",
   "pygments_lexer": "ipython3",
   "version": "3.8.13"
  }
 },
 "nbformat": 4,
 "nbformat_minor": 5
}
