{
 "cells": [
  {
   "cell_type": "code",
   "execution_count": 1,
   "id": "4ab49b3d",
   "metadata": {},
   "outputs": [
    {
     "name": "stderr",
     "output_type": "stream",
     "text": [
      "/home/pj20/miniconda3/envs/pyhealth/lib/python3.8/site-packages/tqdm/auto.py:22: TqdmWarning: IProgress not found. Please update jupyter and ipywidgets. See https://ipywidgets.readthedocs.io/en/stable/user_install.html\n",
      "  from .autonotebook import tqdm as notebook_tqdm\n"
     ]
    },
    {
     "name": "stdout",
     "output_type": "stream",
     "text": [
      "Loaded OMOP base dataset from /home/pj20/.cache/pyhealth/datasets/5721324acc404b87cb3e2abaa51618c5.pkl\n",
      "\n",
      "Statistics of OMOP dataset (dev=True):\n",
      "\t- Number of patients: 1000\n",
      "\t- Number of visits: 55261\n",
      "\t- Number of visits per patient: 55.2610\n",
      "\t- Number of condition_occurrence per visit: 2.6635\n",
      "\t- Number of procedure_occurrence per visit: 2.4886\n",
      "\t- Number of drug_exposure per visit: 0.1387\n",
      "\t- Number of measurement per visit: 0.6253\n",
      "\n"
     ]
    },
    {
     "name": "stderr",
     "output_type": "stream",
     "text": [
      "Generating samples for mortality_prediction_omop_fn: 100%|██████████████████| 1000/1000 [00:00<00:00, 1187.32it/s]\n"
     ]
    },
    {
     "name": "stdout",
     "output_type": "stream",
     "text": [
      "\n",
      "Statistics of mortality_prediction_omop_fn task:\n",
      "\t- Dataset: OMOP (dev=True)\n",
      "\t- Number of patients: 903\n",
      "\t- Number of visits: 54147\n",
      "\t- Number of visits per patient: 59.9635\n",
      "\t- Number of visit_id per visit: 1.0000\n",
      "\t- Number of unique visit_id: 54147\n",
      "\t- Number of patient_id per visit: 1.0000\n",
      "\t- Number of unique patient_id: 903\n",
      "\t- Number of conditions per visit: 2.1424\n",
      "\t- Number of unique conditions: 5067\n",
      "\t- Number of procedures per visit: 2.0873\n",
      "\t- Number of unique procedures: 3149\n",
      "\t- Number of drugs per visit: 0.0974\n",
      "\t- Number of unique drugs: 238\n",
      "\t- Label distribution: {0: 54145, 1: 2}\n",
      "\n"
     ]
    }
   ],
   "source": [
    "from torch.utils.data import DataLoader\n",
    "import sys\n",
    "sys.path.append(\"../\")\n",
    "\n",
    "from pyhealth.datasets import MIMIC3Dataset, eICUDataset, MIMIC4Dataset, OMOPDataset\n",
    "from pyhealth.models import MLModel\n",
    "from pyhealth.split import split_by_patient\n",
    "from pyhealth.tasks import (\n",
    "    mortality_prediction_mimic3_fn,\n",
    "    mortality_prediction_eicu_fn,\n",
    "    mortality_prediction_mimic4_fn,\n",
    "    mortality_prediction_omop_fn,\n",
    ")\n",
    "from pyhealth.utils import collate_fn_dict\n",
    "from pyhealth.trainer import Trainer\n",
    "from pyhealth.evaluator import evaluate\n",
    "from pyhealth.metrics import *\n",
    "from sklearn.svm import SVC\n",
    "\n",
    "###############\n",
    "data = \"omop\"\n",
    "################\n",
    "\n",
    "# STEP 1 & 2: load data and set task\n",
    "\n",
    "if data == \"mimic3\":\n",
    "    mimic3dataset = MIMIC3Dataset(\n",
    "        root=\"/srv/local/data/physionet.org/files/mimiciii/1.4\",\n",
    "        tables=[\"DIAGNOSES_ICD\", \"PROCEDURES_ICD\", \"PRESCRIPTIONS\", \"LABEVENTS\"],\n",
    "        dev=True,\n",
    "        code_mapping={\"PRESCRIPTIONS\": \"ATC3\"},\n",
    "        refresh_cache=True,\n",
    "    )\n",
    "    mimic3dataset.stat()\n",
    "    mimic3dataset.set_task(drug_recommendation_mimic3_fn)\n",
    "    mimic3dataset.stat()\n",
    "    dataset = mimic3dataset\n",
    "\n",
    "elif data == \"eicu\":\n",
    "    eicudataset = eICUDataset(\n",
    "        root=\"/srv/local/data/physionet.org/files/eicu-crd/2.0\",\n",
    "        tables=[\"diagnosis\", \"medication\", \"physicalExam\"],\n",
    "        dev=True,\n",
    "        refresh_cache=False,\n",
    "    )\n",
    "    eicudataset.stat()\n",
    "    eicudataset.set_task(task_fn=drug_recommendation_eicu_fn)\n",
    "    eicudataset.stat()\n",
    "    dataset = eicudataset\n",
    "\n",
    "elif data == \"mimic4\":\n",
    "    mimic4dataset = MIMIC4Dataset(\n",
    "        root=\"/srv/local/data/physionet.org/files/mimiciv/2.0/hosp\",\n",
    "        tables=[\"diagnoses_icd\", \"procedures_icd\", \"prescriptions\"],\n",
    "        dev=True,\n",
    "        code_mapping={\"prescriptions\": \"ATC3\"},\n",
    "        refresh_cache=False,\n",
    "    )\n",
    "    mimic4dataset.stat()\n",
    "    mimic4dataset.set_task(task_fn=drug_recommendation_mimic4_fn)\n",
    "    mimic4dataset.stat()\n",
    "    dataset = mimic4dataset\n",
    "\n",
    "elif data == \"omop\":\n",
    "    omopdataset = OMOPDataset(\n",
    "        root=\"/srv/local/data/zw12/pyhealth/raw_data/synpuf1k_omop_cdm_5.2.2\",\n",
    "        tables=[\n",
    "            \"condition_occurrence\",\n",
    "            \"procedure_occurrence\",\n",
    "            \"drug_exposure\",\n",
    "            \"measurement\",\n",
    "        ],\n",
    "        dev=True,\n",
    "        refresh_cache=False,\n",
    "    )\n",
    "    omopdataset.stat()\n",
    "    omopdataset.set_task(task_fn=mortality_prediction_omop_fn)\n",
    "    omopdataset.stat()\n",
    "    dataset = omopdataset\n"
   ]
  },
  {
   "cell_type": "code",
   "execution_count": 2,
   "id": "e6fe10d8",
   "metadata": {},
   "outputs": [
    {
     "data": {
      "text/plain": [
       "{'visit_id': '316',\n",
       " 'patient_id': '10',\n",
       " 'conditions': [['194286']],\n",
       " 'procedures': [['2211511']],\n",
       " 'drugs': [[]],\n",
       " 'label': 0}"
      ]
     },
     "execution_count": 2,
     "metadata": {},
     "output_type": "execute_result"
    }
   ],
   "source": [
    "dataset[6]"
   ]
  },
  {
   "cell_type": "code",
   "execution_count": 3,
   "id": "ba4d4f03",
   "metadata": {},
   "outputs": [
    {
     "name": "stdout",
     "output_type": "stream",
     "text": [
      "(44147, 100) (44147,)\n",
      "[LibSVM]*\n",
      "optimization finished, #iter = 9\n",
      "obj = -1.993617, rho = 1.009045\n",
      "nSV = 8, nBSV = 1\n",
      "Total nSV = 8\n",
      "*\n",
      "optimization finished, #iter = 36\n",
      "obj = -3.997707, rho = 1.008881\n",
      "nSV = 23, nBSV = 2\n",
      "Total nSV = 23\n",
      "*\n",
      "optimization finished, #iter = 49\n",
      "obj = -3.995712, rho = 1.011013\n",
      "nSV = 32, nBSV = 2\n",
      "Total nSV = 32\n",
      "*\n",
      "optimization finished, #iter = 1\n",
      "obj = -2.000000, rho = 1.000000\n",
      "nSV = 2, nBSV = 2\n",
      "Total nSV = 2\n",
      "*\n",
      "optimization finished, #iter = 38\n",
      "obj = -3.997697, rho = 1.008371\n",
      "nSV = 24, nBSV = 2\n",
      "Total nSV = 24\n",
      "*\n",
      "optimization finished, #iter = 45\n",
      "obj = -3.997733, rho = -1.011456\n",
      "nSV = 35, nBSV = 2\n",
      "Total nSV = 35\n",
      "best_model_path: ./ckpt/mlmodel/1665548508.148289/best.ckpt\n"
     ]
    }
   ],
   "source": [
    "# data split\n",
    "train_dataset, val_dataset, test_dataset = split_by_patient(dataset, [0.8, 0.1, 0.1])\n",
    "train_loader = DataLoader(\n",
    "    train_dataset, batch_size=64, shuffle=True, collate_fn=collate_fn_dict\n",
    ")\n",
    "val_loader = DataLoader(\n",
    "    val_dataset, batch_size=64, shuffle=False, collate_fn=collate_fn_dict\n",
    ")\n",
    "test_loader = DataLoader(\n",
    "    test_dataset, batch_size=64, shuffle=False, collate_fn=collate_fn_dict\n",
    ")\n",
    "\n",
    "# STEP 3: define model\n",
    "\n",
    "model = MLModel(\n",
    "    dataset=dataset,\n",
    "    tables=[\"conditions\", \"procedures\", \"drugs\"],\n",
    "    target=\"label\",\n",
    "    classifier = SVC(gamma='auto', probability=True ,verbose=1),\n",
    "    mode=\"binary\",\n",
    "    output_path=\"./ckpt/mlmodel\"\n",
    ")\n",
    "\n",
    "# STEP 4: define trainer\n",
    "model.fit(train_loader=train_loader)"
   ]
  },
  {
   "cell_type": "code",
   "execution_count": 6,
   "id": "af3e8113",
   "metadata": {},
   "outputs": [
    {
     "name": "stdout",
     "output_type": "stream",
     "text": [
      "[[9.99947695e-01 5.23047428e-05]\n",
      " [9.99946573e-01 5.34271717e-05]\n",
      " [9.99950670e-01 4.93303890e-05]\n",
      " ...\n",
      " [9.99949818e-01 5.01818000e-05]\n",
      " [9.99947924e-01 5.20760967e-05]\n",
      " [9.99946688e-01 5.33122121e-05]] <class 'numpy.ndarray'>\n",
      "[[1. 1.]\n",
      " [0. 0.]\n",
      " [0. 0.]\n",
      " ...\n",
      " [0. 0.]\n",
      " [0. 0.]\n",
      " [0. 0.]]\n",
      "[[9.99947695e-01 5.23047428e-05]\n",
      " [9.99946573e-01 5.34271717e-05]\n",
      " [9.99950670e-01 4.93303890e-05]\n",
      " ...\n",
      " [9.99949818e-01 5.01818000e-05]\n",
      " [9.99947924e-01 5.20760967e-05]\n",
      " [9.99946688e-01 5.33122121e-05]]\n",
      "[[1 0]\n",
      " [1 0]\n",
      " [1 0]\n",
      " ...\n",
      " [1 0]\n",
      " [1 0]\n",
      " [1 0]]\n",
      "jaccard:  0.00021853146853146853\n",
      "accuracy:  0.0\n",
      "f1:  0.00043696744592527855\n"
     ]
    }
   ],
   "source": [
    "import warnings\n",
    "warnings.filterwarnings('ignore')\n",
    "# STEP 5: evaluate\n",
    "y_gt, y_prob, y_pred = evaluate(model, test_loader, isMLModel=True)\n",
    "\n",
    "print(y_gt)\n",
    "print(y_prob)\n",
    "print(y_pred)\n",
    "\n",
    "jaccard = jaccard_score(y_gt, y_pred, average=\"micro\")\n",
    "accuracy = accuracy_score(y_gt, y_pred)\n",
    "f1 = f1_score(y_gt, y_pred, average=\"micro\")\n",
    "\n",
    "# print metric name and score\n",
    "print(\"jaccard: \", jaccard)\n",
    "print(\"accuracy: \", accuracy)\n",
    "print(\"f1: \", f1)"
   ]
  },
  {
   "cell_type": "code",
   "execution_count": null,
   "id": "33d765b6",
   "metadata": {},
   "outputs": [],
   "source": [
    "y_gt = np.zeros([len(y_true), 2])"
   ]
  },
  {
   "cell_type": "code",
   "execution_count": null,
   "id": "94870914",
   "metadata": {},
   "outputs": [],
   "source": [
    "for i in range(len(y_gt)):\n",
    "    y_gt[y_true[i]] = 1\n",
    "    "
   ]
  }
 ],
 "metadata": {
  "kernelspec": {
   "display_name": "Python 3 (ipykernel)",
   "language": "python",
   "name": "python3"
  },
  "language_info": {
   "codemirror_mode": {
    "name": "ipython",
    "version": 3
   },
   "file_extension": ".py",
   "mimetype": "text/x-python",
   "name": "python",
   "nbconvert_exporter": "python",
   "pygments_lexer": "ipython3",
   "version": "3.8.13"
  }
 },
 "nbformat": 4,
 "nbformat_minor": 5
}
