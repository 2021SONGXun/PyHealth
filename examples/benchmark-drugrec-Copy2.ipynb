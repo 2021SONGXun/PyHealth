{
 "cells": [
  {
   "cell_type": "code",
   "execution_count": 1,
   "id": "41993298",
   "metadata": {},
   "outputs": [],
   "source": [
    "import sys\n",
    "sys.path.append(\"/home/chaoqiy2/github/PyHealth-OMOP\")\n",
    "\n",
    "from warnings import simplefilter\n",
    "\n",
    "# ignore all warnings\n",
    "simplefilter(action='ignore')"
   ]
  },
  {
   "cell_type": "markdown",
   "id": "eefbb15f",
   "metadata": {
    "pycharm": {
     "name": "#%% md\n"
    }
   },
   "source": [
    "# 1. load dataset"
   ]
  },
  {
   "cell_type": "code",
   "execution_count": 2,
   "id": "7c3465f4",
   "metadata": {
    "pycharm": {
     "name": "#%%\n"
    }
   },
   "outputs": [],
   "source": [
    "from pyhealth.datasets import MIMIC3BaseDataset\n",
    "\n",
    "# used for development\n",
    "# base_ds = MIMIC3BaseDataset(root=\"/srv/local/data/physionet.org/files/mimiciii/1.4\", flag=\"dev\")\n",
    "\n",
    "# used for product\n",
    "base_ds = MIMIC3BaseDataset(root=\"/srv/local/data/physionet.org/files/mimiciii/1.4\", flag=\"prod\")"
   ]
  },
  {
   "cell_type": "markdown",
   "id": "bc445429",
   "metadata": {},
   "source": [
    "# 2. drug recommendation task"
   ]
  },
  {
   "cell_type": "code",
   "execution_count": 3,
   "id": "2cc61aa9",
   "metadata": {},
   "outputs": [
    {
     "name": "stdout",
     "output_type": "stream",
     "text": [
      "----- preparing code mappings -----\n",
      "source loaded from ./data cache\n",
      "source loaded from ./data cache\n",
      "source loaded from ./data cache\n",
      "source loaded from ./data cache\n",
      "mapping finished: RxNorm -> ATC4\n",
      "mapping finished: ATC4 -> RxNorm\n",
      "load time: 2.75935697555542s\n",
      "-----------------------------------------\n"
     ]
    },
    {
     "name": "stderr",
     "output_type": "stream",
     "text": [
      "100%|█████████████████████████████████████████████████████████████████████████| 46518/46518 [00:06<00:00, 7319.67it/s]\n"
     ]
    },
    {
     "name": "stdout",
     "output_type": "stream",
     "text": [
      "1. finish cleaning the dataset for drug recommendation task\n",
      "2. tokenized the medical codes\n"
     ]
    }
   ],
   "source": [
    "from pyhealth.tasks import DrugRecDataset\n",
    "drugrec_ds = DrugRecDataset(base_ds)"
   ]
  },
  {
   "cell_type": "code",
   "execution_count": 4,
   "id": "8798ff64",
   "metadata": {},
   "outputs": [
    {
     "name": "stdout",
     "output_type": "stream",
     "text": [
      "1. finish data splitting\n",
      "2. generate train / val / test data loaders\n"
     ]
    }
   ],
   "source": [
    "from pyhealth.data.split import split_by_pat\n",
    "train_loader, val_loader, test_loader = split_by_pat(\n",
    "                                            drugrec_ds,\n",
    "                                            ratios = [2/3, 1/6, 1/6], \n",
    "                                            batch_size = 64, \n",
    "                                            seed = 12345,\n",
    "                                        )"
   ]
  },
  {
   "cell_type": "markdown",
   "id": "851848ec",
   "metadata": {},
   "source": [
    "# 3. initialize DL models"
   ]
  },
  {
   "cell_type": "code",
   "execution_count": 22,
   "id": "4e663964",
   "metadata": {},
   "outputs": [],
   "source": [
    "from pyhealth.models import RETAIN, MLModel, RNN, Transformer, GAMENet, SafeDrug\n",
    "from sklearn.linear_model import LogisticRegression\n",
    "from sklearn.ensemble import RandomForestClassifier\n",
    "from sklearn.neural_network import MLPClassifier\n",
    "\n",
    "# ------ DL model -------\n",
    "\n",
    "# # for GAMENet\n",
    "# visit_ls = train_loader.dataset.indices\n",
    "# ehr_adj = train_loader.dataset.dataset.generate_ehr_adj_for_GAMENet(visit_ls)\n",
    "# ddi_adj = train_loader.dataset.dataset.get_ddi_matrix()\n",
    "# model = GAMENet(\n",
    "#     task = \"drug_recommendation\",\n",
    "#     voc_size = drugrec_ds.voc_size,\n",
    "#     tokenizers = drugrec_ds.tokenizers,\n",
    "#     emb_dim = 64,\n",
    "#     ehr_adj = ehr_adj,\n",
    "#     ddi_adj = ddi_adj,\n",
    "# )\n",
    "\n",
    "# for SafeDrug\n",
    "# bipartite_info = train_loader.dataset.dataset.generate_ddi_mask_H_for_SafeDrug()\n",
    "# MPNN_info = train_loader.dataset.dataset.generate_med_molecule_info_for_SafeDrug()\n",
    "# ddi_adj = train_loader.dataset.dataset.get_ddi_matrix()\n",
    "# model = RETAIN(\n",
    "#     task = \"drug_recommendation\",\n",
    "#     voc_size = drugrec_ds.voc_size,\n",
    "#     tokenizers = drugrec_ds.tokenizers,\n",
    "#     emb_dim = 64,\n",
    "#     MPNN_info = MPNN_info,\n",
    "#     bipartite_info = bipartite_info,\n",
    "#     ddi_adj = ddi_adj,\n",
    "# )\n",
    "\n",
    "# ------ ML model -----------\n",
    "model = MLModel(\n",
    "    output_path=\"../output\",\n",
    "    task = \"drug_recommendation\",\n",
    "#     classifier = SVC(gamma='auto', verbose=1),\n",
    "#     classifier = LogisticRegression(random_state=0, max_iter=10, verbose=1),\n",
    "#     classifier = RandomForestClassifier(random_state=0, n_estimators=20, max_depth=3),\n",
    "    classifier = MLPClassifier(max_iter=50, alpha=1e-3, hidden_layer_sizes=(16, 16)),\n",
    "    voc_size = drugrec_ds.voc_size,\n",
    "    tokenizers = drugrec_ds.tokenizers\n",
    ")"
   ]
  },
  {
   "cell_type": "markdown",
   "id": "8ce6173a",
   "metadata": {},
   "source": [
    "# 4. traning"
   ]
  },
  {
   "cell_type": "code",
   "execution_count": 23,
   "id": "e21ec4e4",
   "metadata": {
    "scrolled": true
   },
   "outputs": [
    {
     "name": "stdout",
     "output_type": "stream",
     "text": [
      "(11680, 4706) (11680, 163)\n",
      "best_model_path: ../output/221003-230717/best.ckpt\n"
     ]
    }
   ],
   "source": [
    "# from pyhealth.trainer import Trainer\n",
    "# from pyhealth.evaluator.evaluating_multilabel import evaluate_multilabel\n",
    "\n",
    "# # # ----------- DL model ---------\n",
    "# trainer = Trainer(enable_logging=True, output_path=\"../output\")\n",
    "# trainer.fit(model,\n",
    "#             train_loader=train_loader,\n",
    "#             epochs=50,\n",
    "#             evaluate_fn=evaluate_multilabel,\n",
    "#             eval_loader=val_loader,\n",
    "#             monitor=\"jaccard\")\n",
    "\n",
    "\n",
    "# ------------ ML model -----------\n",
    "model.fit(\n",
    "    train_loader=train_loader,\n",
    "    evaluate_fn=evaluate_multilabel,\n",
    "    eval_loader=val_loader,\n",
    "    monitor=\"jaccard\",\n",
    ")"
   ]
  },
  {
   "cell_type": "markdown",
   "id": "9a01283a",
   "metadata": {},
   "source": [
    "# 5. evaluation"
   ]
  },
  {
   "cell_type": "code",
   "execution_count": 24,
   "id": "a04d8c43",
   "metadata": {
    "scrolled": true
   },
   "outputs": [
    {
     "data": {
      "text/plain": [
       "{'loss': 1.0,\n",
       " 'ddi': 0.07266116297106122,\n",
       " 'jaccard': 0.47675539329773964,\n",
       " 'prauc': 0.738596427730712,\n",
       " 'f1': 0.6366047688629042}"
      ]
     },
     "execution_count": 24,
     "metadata": {},
     "output_type": "execute_result"
    }
   ],
   "source": [
    "# load the best model for ML model\n",
    "# model.load(path=\"../output/221002-170055/best.ckpt\")\n",
    "\n",
    "# load the best model for DL model\n",
    "# best_model = trainer.load(model, path=\"../output/221003-015604/best.ckpt\") \n",
    "\n",
    "evaluate_multilabel(model, val_loader)"
   ]
  },
  {
   "cell_type": "code",
   "execution_count": 21,
   "id": "0e36fff6",
   "metadata": {},
   "outputs": [
    {
     "name": "stdout",
     "output_type": "stream",
     "text": [
      "0.0777 | 0.4483 | 0.7298 | 0.6120\n"
     ]
    }
   ],
   "source": [
    "result = {'loss': 1.0,\n",
    " 'ddi': 0.0776952846310419,\n",
    " 'jaccard': 0.4483472284051399,\n",
    " 'prauc': 0.7297839333122977,\n",
    " 'f1': 0.6120128574119359}\n",
    "\n",
    "print (\"{:.4f} | {:.4f} | {:.4f} | {:.4f}\".format(\n",
    "    result['ddi'],\n",
    "    result['jaccard'],\n",
    "    result['prauc'],\n",
    "    result['f1']\n",
    "        )\n",
    "      )"
   ]
  },
  {
   "cell_type": "code",
   "execution_count": null,
   "id": "a9259f6b",
   "metadata": {},
   "outputs": [],
   "source": []
  },
  {
   "cell_type": "code",
   "execution_count": null,
   "id": "f40a15c9",
   "metadata": {},
   "outputs": [],
   "source": []
  },
  {
   "cell_type": "code",
   "execution_count": null,
   "id": "b00a4210",
   "metadata": {},
   "outputs": [],
   "source": []
  },
  {
   "cell_type": "code",
   "execution_count": null,
   "id": "1816dc80",
   "metadata": {},
   "outputs": [],
   "source": []
  },
  {
   "cell_type": "code",
   "execution_count": null,
   "id": "20716b9b",
   "metadata": {},
   "outputs": [],
   "source": []
  },
  {
   "cell_type": "code",
   "execution_count": null,
   "id": "ec1358aa",
   "metadata": {},
   "outputs": [],
   "source": []
  }
 ],
 "metadata": {
  "kernelspec": {
   "display_name": "Python 3",
   "language": "python",
   "name": "python3"
  },
  "language_info": {
   "codemirror_mode": {
    "name": "ipython",
    "version": 3
   },
   "file_extension": ".py",
   "mimetype": "text/x-python",
   "name": "python",
   "nbconvert_exporter": "python",
   "pygments_lexer": "ipython3",
   "version": "3.9.12"
  },
  "vscode": {
   "interpreter": {
    "hash": "31f2aee4e71d21fbe5cf8b01ff0e069b9275f58929596ceb00d14d90e3e16cd6"
   }
  }
 },
 "nbformat": 4,
 "nbformat_minor": 5
}
