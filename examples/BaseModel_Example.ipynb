{
 "cells": [
  {
   "cell_type": "code",
   "execution_count": 1,
   "id": "7383d89c",
   "metadata": {
    "pycharm": {
     "name": "#%%\n"
    }
   },
   "outputs": [],
   "source": [
    "import numpy as np \n",
    "import sys\n",
    "sys.path.append(\"../\")\n",
    "from xgboost import XGBClassifier\n",
    "from sklearn.model_selection import KFold\n",
    "from sklearn.multioutput import MultiOutputClassifier"
   ]
  },
  {
   "cell_type": "code",
   "execution_count": 2,
   "id": "de20f154",
   "metadata": {
    "pycharm": {
     "name": "#%%\n"
    }
   },
   "outputs": [
    {
     "name": "stderr",
     "output_type": "stream",
     "text": [
      "/home/pj20/miniconda3/envs/pyhealth/lib/python3.8/site-packages/tqdm/auto.py:22: TqdmWarning: IProgress not found. Please update jupyter and ipywidgets. See https://ipywidgets.readthedocs.io/en/stable/user_install.html\n",
      "  from .autonotebook import tqdm as notebook_tqdm\n"
     ]
    },
    {
     "name": "stdout",
     "output_type": "stream",
     "text": [
      "\n",
      "        ----- Output Data Structure -----\n",
      "        Dataset.patients: [\n",
      "            {\n",
      "                patient_id: patient_id, \n",
      "                visits: [\n",
      "                    {\n",
      "                        visit_id: visit_id, \n",
      "                        patient_id: patient_id, \n",
      "                        conditions: [List], \n",
      "                        procedures: [List],\n",
      "                        drugs: [List],\n",
      "                        visit_info: <dict>\n",
      "                    }\n",
      "                    ...\n",
      "                ]                    \n",
      "            } \n",
      "            ...\n",
      "        ]\n",
      "        \n"
     ]
    }
   ],
   "source": [
    "from pyhealth.datasets import MIMIC3BaseDataset, MIMIC4BaseDataset, eICUBaseDataset, OMOPBaseDataset\n",
    "base_dataset = MIMIC3BaseDataset(root=\"../srv/local/data/physionet.org/files/mimiciii/1.4\")\n",
    "# base_dataset = eICUBaseDataset(root=\"/srv/local/data/physionet.org/files/eicu-crd/2.0\")\n",
    "# base_dataset = MIMIC4BaseDataset(root=\"/srv/local/data/physionet.org/files/mimiciv/2.0/hosp\")\n",
    "# base_dataset = OMOPBaseDataset(root=\"/srv/local/data/zw12/pyhealth/raw_data/synpuf1k_omop_cdm_5.2.2\")\n",
    "base_dataset.info()"
   ]
  },
  {
   "cell_type": "code",
   "execution_count": 3,
   "id": "0050482e",
   "metadata": {
    "pycharm": {
     "name": "#%%\n"
    }
   },
   "outputs": [
    {
     "name": "stdout",
     "output_type": "stream",
     "text": [
      "\n",
      "        ----- Output Data Structure -----\n",
      "        >> drug_rec_dataloader[0]\n",
      "        >> {\n",
      "            \"conditions\": List[tensor],\n",
      "            \"procedures\": List[tensor],\n",
      "            \"drugs\": List[tensor]\n",
      "        }\n",
      "        \n"
     ]
    }
   ],
   "source": [
    "from pyhealth.tasks import DrugRecDataset\n",
    "drug_rec_dataset = DrugRecDataset(base_dataset)\n",
    "drug_rec_dataset.info()"
   ]
  },
  {
   "cell_type": "code",
   "execution_count": 4,
   "id": "7ea3936b",
   "metadata": {
    "pycharm": {
     "name": "#%%\n"
    }
   },
   "outputs": [],
   "source": [
    "from pyhealth.models import BaseModel\n",
    "\n",
    "xgboost = BaseModel(drug_rec_dataset, 'XGBoost')"
   ]
  },
  {
   "cell_type": "code",
   "execution_count": null,
   "id": "bad15b07",
   "metadata": {
    "pycharm": {
     "name": "#%%\n"
    }
   },
   "outputs": [],
   "source": [
    "# Train\n",
    "xgboost.train(0.9)"
   ]
  },
  {
   "cell_type": "code",
   "execution_count": null,
   "id": "b22926d7",
   "metadata": {
    "pycharm": {
     "name": "#%%\n"
    }
   },
   "outputs": [],
   "source": [
    "xgboost.predict()"
   ]
  },
  {
   "cell_type": "code",
   "execution_count": null,
   "id": "9129a678",
   "metadata": {},
   "outputs": [],
   "source": [
    "count = 0\n",
    "res = pred_res\n",
    "ground_truth = xgboost.y_test\n",
    "zeros = np.zeros(len(pred_res), dtype=int)\n",
    "\n",
    "for i in range(len(res)):\n",
    "    if (np.sum(np.absolute(res[i] - ground_truth[i]))) < 30:\n",
    "        count += 1\n",
    "        print(res[i])\n",
    "print(count)"
   ]
  },
  {
   "cell_type": "code",
   "execution_count": 5,
   "id": "abf21980",
   "metadata": {
    "pycharm": {
     "name": "#%%\n"
    }
   },
   "outputs": [],
   "source": [
    "svm = BaseModel(drug_rec_dataset, 'SVM')"
   ]
  },
  {
   "cell_type": "code",
   "execution_count": null,
   "id": "064b0e5e",
   "metadata": {},
   "outputs": [],
   "source": [
    "svm.train(0.9)"
   ]
  },
  {
   "cell_type": "code",
   "execution_count": null,
   "id": "db4e6061",
   "metadata": {},
   "outputs": [],
   "source": [
    "svm.predict()"
   ]
  },
  {
   "cell_type": "code",
   "execution_count": null,
   "id": "759b905a",
   "metadata": {},
   "outputs": [],
   "source": []
  }
 ],
 "metadata": {
  "kernelspec": {
   "display_name": "Python 3 (ipykernel)",
   "language": "python",
   "name": "python3"
  },
  "language_info": {
   "codemirror_mode": {
    "name": "ipython",
    "version": 3
   },
   "file_extension": ".py",
   "mimetype": "text/x-python",
   "name": "python",
   "nbconvert_exporter": "python",
   "pygments_lexer": "ipython3",
   "version": "3.8.13"
  }
 },
 "nbformat": 4,
 "nbformat_minor": 5
}
