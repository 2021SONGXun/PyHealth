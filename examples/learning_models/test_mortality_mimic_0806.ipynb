{
 "cells": [
  {
   "cell_type": "markdown",
   "metadata": {},
   "source": [
    "Enviroment Setting"
   ]
  },
  {
   "cell_type": "code",
   "execution_count": 1,
   "metadata": {
    "scrolled": true
   },
   "outputs": [],
   "source": [
    "from __future__ import division\n",
    "from __future__ import print_function\n",
    "\n",
    "import os\n",
    "root_dir = os.getcwd().split('\\examples\\learning_models')[0]\n",
    "os.chdir(root_dir)\n",
    "import sys\n",
    "sys.path.append(root_dir)"
   ]
  },
  {
   "cell_type": "markdown",
   "metadata": {},
   "source": [
    "### ExpData Fetch"
   ]
  },
  {
   "cell_type": "code",
   "execution_count": 2,
   "metadata": {
    "scrolled": true
   },
   "outputs": [
    {
     "name": "stdout",
     "output_type": "stream",
     "text": [
      "Current ExpData_ID: 2020.0802.data.mortality.mimic.v2.test --- Target for CMS\n",
      "load finished\n",
      "target Task: mortality\n",
      "N of features: 59\n",
      "N of labels: 1\n",
      "N of TrainData: 76\n",
      "N of ValidData: 20\n",
      "N of TestData: 24\n",
      "------------Train--------------\n",
      "x_data ['C:\\\\Users\\\\zqiao\\\\Documents\\\\AutoML4H\\\\datasets\\\\mimic\\\\x_data\\\\10032_140372.csv', 'C:\\\\Users\\\\zqiao\\\\Documents\\\\AutoML4H\\\\datasets\\\\mimic\\\\x_data\\\\10093_165393.csv', 'C:\\\\Users\\\\zqiao\\\\Documents\\\\AutoML4H\\\\datasets\\\\mimic\\\\x_data\\\\10017_199207.csv']\n",
      "y_data [array([0.]), array([1.]), array([0.])]\n",
      "l_data [15, 3, 8]\n",
      "------------Valid--------------\n",
      "x_data ['C:\\\\Users\\\\zqiao\\\\Documents\\\\AutoML4H\\\\datasets\\\\mimic\\\\x_data\\\\10111_174739.csv', 'C:\\\\Users\\\\zqiao\\\\Documents\\\\AutoML4H\\\\datasets\\\\mimic\\\\x_data\\\\41976_176016.csv', 'C:\\\\Users\\\\zqiao\\\\Documents\\\\AutoML4H\\\\datasets\\\\mimic\\\\x_data\\\\10094_168074.csv']\n",
      "y_data [array([1.]), array([0.]), array([0.])]\n",
      "l_data [42, 42, 15]\n",
      "------------Test--------------\n",
      "x_data ['C:\\\\Users\\\\zqiao\\\\Documents\\\\AutoML4H\\\\datasets\\\\mimic\\\\x_data\\\\43879_158100.csv', 'C:\\\\Users\\\\zqiao\\\\Documents\\\\AutoML4H\\\\datasets\\\\mimic\\\\x_data\\\\42135_102203.csv', 'C:\\\\Users\\\\zqiao\\\\Documents\\\\AutoML4H\\\\datasets\\\\mimic\\\\x_data\\\\41914_101361.csv']\n",
      "y_data [array([0.]), array([0.]), array([0.])]\n",
      "l_data [3, 4, 51]\n"
     ]
    }
   ],
   "source": [
    "from pyhealth.data.expdata_generator import cms as cms_expdata_generator\n",
    "expdata_id = '2020.0802.data.mortality.mimic.v2.test'\n",
    "\n",
    "cur_dataset = cms_expdata_generator(expdata_id)\n",
    "cur_dataset.get_exp_data(sel_task = 'phenotyping', data_root = r'C:\\Users\\zqiao\\Documents\\AutoML4H\\datasets')\n",
    "cur_dataset.load_exp_data()\n",
    "cur_dataset.show_data()"
   ]
  },
  {
   "cell_type": "code",
   "execution_count": 7,
   "metadata": {
    "scrolled": true
   },
   "outputs": [],
   "source": [
    "# print(cur_dataset.train['y'])"
   ]
  },
  {
   "cell_type": "markdown",
   "metadata": {},
   "source": [
    "### Model "
   ]
  },
  {
   "cell_type": "markdown",
   "metadata": {},
   "source": [
    "#### Model Training"
   ]
  },
  {
   "cell_type": "code",
   "execution_count": 3,
   "metadata": {
    "scrolled": false
   },
   "outputs": [
    {
     "name": "stdout",
     "output_type": "stream",
     "text": [
      "use CPU recource\n"
     ]
    }
   ],
   "source": [
    "from pyhealth.models.dipole import Dipole\n",
    "from pyhealth.models.lstm import LSTM\n",
    "from pyhealth.models.gru import GRU\n",
    "from pyhealth.models.embedgru import EmbedGRU\n",
    "from pyhealth.models.retain import Retain\n",
    "from pyhealth.models.raim import RAIM\n",
    "from pyhealth.models.tlstm import tLSTM\n",
    "\n",
    "expmodel_id = '2020.0802.model.test.mortality.mimic.v2'\n",
    "clf = tLSTM(expmodel_id = expmodel_id)"
   ]
  },
  {
   "cell_type": "code",
   "execution_count": 4,
   "metadata": {
    "scrolled": true
   },
   "outputs": [
    {
     "name": "stderr",
     "output_type": "stream",
     "text": [
      "\r",
      "  0%|                                                                                          | 0/100 [00:00<?, ?it/s]"
     ]
    },
    {
     "name": "stdout",
     "output_type": "stream",
     "text": [
      "current task can beed seen as binaryclass\n"
     ]
    },
    {
     "name": "stderr",
     "output_type": "stream",
     "text": [
      "tr=>epoch=1 Valid Loss: 2.654, Train Loss: 2.610:   2%|▋                               | 2/100 [00:07<06:15,  3.83s/it]"
     ]
    },
    {
     "ename": "KeyboardInterrupt",
     "evalue": "",
     "output_type": "error",
     "traceback": [
      "\u001b[1;31m---------------------------------------------------------------------------\u001b[0m",
      "\u001b[1;31mKeyboardInterrupt\u001b[0m                         Traceback (most recent call last)",
      "\u001b[1;32m<ipython-input-4-72204ce00469>\u001b[0m in \u001b[0;36m<module>\u001b[1;34m\u001b[0m\n\u001b[1;32m----> 1\u001b[1;33m \u001b[0mclf\u001b[0m\u001b[1;33m.\u001b[0m\u001b[0mfit\u001b[0m\u001b[1;33m(\u001b[0m\u001b[0mcur_dataset\u001b[0m\u001b[1;33m.\u001b[0m\u001b[0mtrain\u001b[0m\u001b[1;33m,\u001b[0m \u001b[0mcur_dataset\u001b[0m\u001b[1;33m.\u001b[0m\u001b[0mvalid\u001b[0m\u001b[1;33m)\u001b[0m\u001b[1;33m\u001b[0m\u001b[1;33m\u001b[0m\u001b[0m\n\u001b[0m",
      "\u001b[1;32m~\\Documents\\GitHub\\publish\\AutoML4H\\pyhealth\\models\\tlstm.py\u001b[0m in \u001b[0;36mfit\u001b[1;34m(self, train_data, valid_data)\u001b[0m\n\u001b[0;32m    297\u001b[0m         \u001b[0mtrain_reader\u001b[0m \u001b[1;33m=\u001b[0m \u001b[0mself\u001b[0m\u001b[1;33m.\u001b[0m\u001b[0m_get_reader\u001b[0m\u001b[1;33m(\u001b[0m\u001b[0mtrain_data\u001b[0m\u001b[1;33m,\u001b[0m \u001b[1;34m'train'\u001b[0m\u001b[1;33m)\u001b[0m\u001b[1;33m\u001b[0m\u001b[1;33m\u001b[0m\u001b[0m\n\u001b[0;32m    298\u001b[0m         \u001b[0mvalid_reader\u001b[0m \u001b[1;33m=\u001b[0m \u001b[0mself\u001b[0m\u001b[1;33m.\u001b[0m\u001b[0m_get_reader\u001b[0m\u001b[1;33m(\u001b[0m\u001b[0mvalid_data\u001b[0m\u001b[1;33m,\u001b[0m \u001b[1;34m'valid'\u001b[0m\u001b[1;33m)\u001b[0m\u001b[1;33m\u001b[0m\u001b[1;33m\u001b[0m\u001b[0m\n\u001b[1;32m--> 299\u001b[1;33m         \u001b[0mself\u001b[0m\u001b[1;33m.\u001b[0m\u001b[0m_fit_model\u001b[0m\u001b[1;33m(\u001b[0m\u001b[0mtrain_reader\u001b[0m\u001b[1;33m,\u001b[0m \u001b[0mvalid_reader\u001b[0m\u001b[1;33m)\u001b[0m\u001b[1;33m\u001b[0m\u001b[1;33m\u001b[0m\u001b[0m\n\u001b[0m\u001b[0;32m    300\u001b[0m \u001b[1;33m\u001b[0m\u001b[0m\n\u001b[0;32m    301\u001b[0m     \u001b[1;32mdef\u001b[0m \u001b[0mload_model\u001b[0m\u001b[1;33m(\u001b[0m\u001b[0mself\u001b[0m\u001b[1;33m,\u001b[0m \u001b[0mloaded_epoch\u001b[0m \u001b[1;33m=\u001b[0m \u001b[1;34m''\u001b[0m\u001b[1;33m)\u001b[0m\u001b[1;33m:\u001b[0m\u001b[1;33m\u001b[0m\u001b[1;33m\u001b[0m\u001b[0m\n",
      "\u001b[1;32m~\\Documents\\GitHub\\publish\\AutoML4H\\pyhealth\\models\\base.py\u001b[0m in \u001b[0;36m_fit_model\u001b[1;34m(self, train_reader, valid_reader)\u001b[0m\n\u001b[0;32m    362\u001b[0m         \u001b[0mtqdm_trange\u001b[0m \u001b[1;33m=\u001b[0m \u001b[0mtrange\u001b[0m\u001b[1;33m(\u001b[0m\u001b[1;36m0\u001b[0m\u001b[1;33m,\u001b[0m \u001b[0mself\u001b[0m\u001b[1;33m.\u001b[0m\u001b[0mn_epoch\u001b[0m\u001b[1;33m)\u001b[0m\u001b[1;33m\u001b[0m\u001b[1;33m\u001b[0m\u001b[0m\n\u001b[0;32m    363\u001b[0m         \u001b[1;32mfor\u001b[0m \u001b[0mepoch\u001b[0m \u001b[1;32min\u001b[0m \u001b[0mtqdm_trange\u001b[0m\u001b[1;33m:\u001b[0m\u001b[1;33m\u001b[0m\u001b[1;33m\u001b[0m\u001b[0m\n\u001b[1;32m--> 364\u001b[1;33m             \u001b[0mself\u001b[0m\u001b[1;33m.\u001b[0m\u001b[0m_train_model\u001b[0m\u001b[1;33m(\u001b[0m\u001b[0mtrain_reader\u001b[0m\u001b[1;33m)\u001b[0m\u001b[1;33m\u001b[0m\u001b[1;33m\u001b[0m\u001b[0m\n\u001b[0m\u001b[0;32m    365\u001b[0m             \u001b[0mself\u001b[0m\u001b[1;33m.\u001b[0m\u001b[0m_valid_model\u001b[0m\u001b[1;33m(\u001b[0m\u001b[0mvalid_reader\u001b[0m\u001b[1;33m)\u001b[0m\u001b[1;33m\u001b[0m\u001b[1;33m\u001b[0m\u001b[0m\n\u001b[0;32m    366\u001b[0m             \u001b[0mtrain_loss\u001b[0m \u001b[1;33m=\u001b[0m \u001b[0mself\u001b[0m\u001b[1;33m.\u001b[0m\u001b[0macc\u001b[0m\u001b[1;33m[\u001b[0m\u001b[1;34m'train'\u001b[0m\u001b[1;33m]\u001b[0m\u001b[1;33m[\u001b[0m\u001b[1;33m-\u001b[0m\u001b[1;36m1\u001b[0m\u001b[1;33m]\u001b[0m\u001b[1;33m\u001b[0m\u001b[1;33m\u001b[0m\u001b[0m\n",
      "\u001b[1;32m~\\Documents\\GitHub\\publish\\AutoML4H\\pyhealth\\models\\base.py\u001b[0m in \u001b[0;36m_train_model\u001b[1;34m(self, train_loader)\u001b[0m\n\u001b[0;32m    274\u001b[0m             \u001b[0mloss\u001b[0m \u001b[1;33m=\u001b[0m \u001b[0mself\u001b[0m\u001b[1;33m.\u001b[0m\u001b[0mcriterion\u001b[0m\u001b[1;33m(\u001b[0m\u001b[0mdata_output\u001b[0m\u001b[1;33m)\u001b[0m\u001b[1;33m\u001b[0m\u001b[1;33m\u001b[0m\u001b[0m\n\u001b[0;32m    275\u001b[0m             \u001b[0mself\u001b[0m\u001b[1;33m.\u001b[0m\u001b[0moptimizer\u001b[0m\u001b[1;33m.\u001b[0m\u001b[0mzero_grad\u001b[0m\u001b[1;33m(\u001b[0m\u001b[1;33m)\u001b[0m\u001b[1;33m\u001b[0m\u001b[1;33m\u001b[0m\u001b[0m\n\u001b[1;32m--> 276\u001b[1;33m             \u001b[0mloss\u001b[0m\u001b[1;33m.\u001b[0m\u001b[0mbackward\u001b[0m\u001b[1;33m(\u001b[0m\u001b[1;33m)\u001b[0m\u001b[1;33m\u001b[0m\u001b[1;33m\u001b[0m\u001b[0m\n\u001b[0m\u001b[0;32m    277\u001b[0m             \u001b[0mself\u001b[0m\u001b[1;33m.\u001b[0m\u001b[0moptimizer\u001b[0m\u001b[1;33m.\u001b[0m\u001b[0mstep\u001b[0m\u001b[1;33m(\u001b[0m\u001b[1;33m)\u001b[0m\u001b[1;33m\u001b[0m\u001b[1;33m\u001b[0m\u001b[0m\n\u001b[0;32m    278\u001b[0m             \u001b[0mloss_v\u001b[0m\u001b[1;33m.\u001b[0m\u001b[0mappend\u001b[0m\u001b[1;33m(\u001b[0m\u001b[0mloss\u001b[0m\u001b[1;33m.\u001b[0m\u001b[0mcpu\u001b[0m\u001b[1;33m(\u001b[0m\u001b[1;33m)\u001b[0m\u001b[1;33m.\u001b[0m\u001b[0mdata\u001b[0m\u001b[1;33m.\u001b[0m\u001b[0mnumpy\u001b[0m\u001b[1;33m(\u001b[0m\u001b[1;33m)\u001b[0m\u001b[1;33m)\u001b[0m\u001b[1;33m\u001b[0m\u001b[1;33m\u001b[0m\u001b[0m\n",
      "\u001b[1;32m~\\Anaconda3\\lib\\site-packages\\torch\\tensor.py\u001b[0m in \u001b[0;36mbackward\u001b[1;34m(self, gradient, retain_graph, create_graph)\u001b[0m\n\u001b[0;32m    196\u001b[0m                 \u001b[0mproducts\u001b[0m\u001b[1;33m.\u001b[0m \u001b[0mDefaults\u001b[0m \u001b[0mto\u001b[0m\u001b[0;31m \u001b[0m\u001b[0;31m`\u001b[0m\u001b[0;31m`\u001b[0m\u001b[1;32mFalse\u001b[0m\u001b[0;31m`\u001b[0m\u001b[0;31m`\u001b[0m\u001b[1;33m.\u001b[0m\u001b[1;33m\u001b[0m\u001b[1;33m\u001b[0m\u001b[0m\n\u001b[0;32m    197\u001b[0m         \"\"\"\n\u001b[1;32m--> 198\u001b[1;33m         \u001b[0mtorch\u001b[0m\u001b[1;33m.\u001b[0m\u001b[0mautograd\u001b[0m\u001b[1;33m.\u001b[0m\u001b[0mbackward\u001b[0m\u001b[1;33m(\u001b[0m\u001b[0mself\u001b[0m\u001b[1;33m,\u001b[0m \u001b[0mgradient\u001b[0m\u001b[1;33m,\u001b[0m \u001b[0mretain_graph\u001b[0m\u001b[1;33m,\u001b[0m \u001b[0mcreate_graph\u001b[0m\u001b[1;33m)\u001b[0m\u001b[1;33m\u001b[0m\u001b[1;33m\u001b[0m\u001b[0m\n\u001b[0m\u001b[0;32m    199\u001b[0m \u001b[1;33m\u001b[0m\u001b[0m\n\u001b[0;32m    200\u001b[0m     \u001b[1;32mdef\u001b[0m \u001b[0mregister_hook\u001b[0m\u001b[1;33m(\u001b[0m\u001b[0mself\u001b[0m\u001b[1;33m,\u001b[0m \u001b[0mhook\u001b[0m\u001b[1;33m)\u001b[0m\u001b[1;33m:\u001b[0m\u001b[1;33m\u001b[0m\u001b[1;33m\u001b[0m\u001b[0m\n",
      "\u001b[1;32m~\\Anaconda3\\lib\\site-packages\\torch\\autograd\\__init__.py\u001b[0m in \u001b[0;36mbackward\u001b[1;34m(tensors, grad_tensors, retain_graph, create_graph, grad_variables)\u001b[0m\n\u001b[0;32m     98\u001b[0m     Variable._execution_engine.run_backward(\n\u001b[0;32m     99\u001b[0m         \u001b[0mtensors\u001b[0m\u001b[1;33m,\u001b[0m \u001b[0mgrad_tensors\u001b[0m\u001b[1;33m,\u001b[0m \u001b[0mretain_graph\u001b[0m\u001b[1;33m,\u001b[0m \u001b[0mcreate_graph\u001b[0m\u001b[1;33m,\u001b[0m\u001b[1;33m\u001b[0m\u001b[1;33m\u001b[0m\u001b[0m\n\u001b[1;32m--> 100\u001b[1;33m         allow_unreachable=True)  # allow_unreachable flag\n\u001b[0m\u001b[0;32m    101\u001b[0m \u001b[1;33m\u001b[0m\u001b[0m\n\u001b[0;32m    102\u001b[0m \u001b[1;33m\u001b[0m\u001b[0m\n",
      "\u001b[1;31mKeyboardInterrupt\u001b[0m: "
     ]
    }
   ],
   "source": [
    "clf.fit(cur_dataset.train, cur_dataset.valid)"
   ]
  },
  {
   "cell_type": "markdown",
   "metadata": {},
   "source": [
    "#### Model Inference"
   ]
  },
  {
   "cell_type": "code",
   "execution_count": 5,
   "metadata": {
    "scrolled": true
   },
   "outputs": [
    {
     "name": "stdout",
     "output_type": "stream",
     "text": [
      "load best-th epoch model\n",
      "current task can beed seen as binaryclass\n",
      "{'hat_y': array([[0.570449  ],\n",
      "       [0.5459292 ],\n",
      "       [0.52889717],\n",
      "       [0.55627126],\n",
      "       [0.5260372 ],\n",
      "       [0.5275712 ],\n",
      "       [0.52262545],\n",
      "       [0.55194044],\n",
      "       [0.54134035],\n",
      "       [0.54646254],\n",
      "       [0.5761886 ],\n",
      "       [0.5128729 ],\n",
      "       [0.5565166 ],\n",
      "       [0.5396871 ],\n",
      "       [0.54096186],\n",
      "       [0.5524561 ],\n",
      "       [0.54465884],\n",
      "       [0.5363676 ],\n",
      "       [0.52247584],\n",
      "       [0.54520625]], dtype=float32), 'y': array([[0.],\n",
      "       [0.],\n",
      "       [0.],\n",
      "       [0.],\n",
      "       [0.],\n",
      "       [0.],\n",
      "       [0.],\n",
      "       [1.],\n",
      "       [1.],\n",
      "       [0.],\n",
      "       [0.],\n",
      "       [0.],\n",
      "       [1.],\n",
      "       [0.],\n",
      "       [0.],\n",
      "       [0.],\n",
      "       [0.],\n",
      "       [1.],\n",
      "       [0.],\n",
      "       [1.]], dtype=float32)}\n"
     ]
    }
   ],
   "source": [
    "clf.load_model()\n",
    "clf.inference(cur_dataset.test)\n",
    "results = clf.get_results()\n",
    "print (results)"
   ]
  },
  {
   "cell_type": "markdown",
   "metadata": {},
   "source": [
    "### Measurement"
   ]
  },
  {
   "cell_type": "code",
   "execution_count": 6,
   "metadata": {
    "scrolled": true
   },
   "outputs": [
    {
     "name": "stdout",
     "output_type": "stream",
     "text": [
      "current data evaluate using binaryclass evaluation-type\n",
      "{'l1': 10.382174, 'avg_precision_micro': 0.3441558441558441, 'avg_precision_macro': 0.3441558441558441, 'roc_auc_score_micro': 0.6266666666666667, 'roc_auc_score_macro': 0.6266666666666667, 'recall': 1.0, 'precision': 0.25, 'f1_score': 0.4}\n"
     ]
    }
   ],
   "source": [
    "from pyhealth.evaluation.evaluator import func \n",
    "r = func(results['hat_y'], results['y'])\n",
    "print (r)"
   ]
  },
  {
   "cell_type": "code",
   "execution_count": 6,
   "metadata": {
    "scrolled": true
   },
   "outputs": [
    {
     "name": "stdout",
     "output_type": "stream",
     "text": [
      "[[0.4528846 ]\n",
      " [0.4544193 ]\n",
      " [0.4570445 ]\n",
      " [0.44458738]\n",
      " [0.44819158]\n",
      " [0.45690122]\n",
      " [0.454049  ]\n",
      " [0.4434665 ]\n",
      " [0.4455619 ]\n",
      " [0.45020893]\n",
      " [0.42689538]\n",
      " [0.43801218]\n",
      " [0.44074437]\n",
      " [0.45120323]\n",
      " [0.44498944]\n",
      " [0.4531417 ]\n",
      " [0.4608069 ]\n",
      " [0.44964656]\n",
      " [0.45317605]\n",
      " [0.44337317]]\n"
     ]
    }
   ],
   "source": [
    "print (results['hat_y'])"
   ]
  }
 ],
 "metadata": {
  "kernelspec": {
   "display_name": "Python 3",
   "language": "python",
   "name": "python3"
  },
  "language_info": {
   "codemirror_mode": {
    "name": "ipython",
    "version": 3
   },
   "file_extension": ".py",
   "mimetype": "text/x-python",
   "name": "python",
   "nbconvert_exporter": "python",
   "pygments_lexer": "ipython3",
   "version": "3.7.6"
  },
  "toc": {
   "base_numbering": 1,
   "nav_menu": {},
   "number_sections": true,
   "sideBar": true,
   "skip_h1_title": false,
   "title_cell": "Table of Contents",
   "title_sidebar": "Contents",
   "toc_cell": false,
   "toc_position": {},
   "toc_section_display": true,
   "toc_window_display": false
  }
 },
 "nbformat": 4,
 "nbformat_minor": 4
}
