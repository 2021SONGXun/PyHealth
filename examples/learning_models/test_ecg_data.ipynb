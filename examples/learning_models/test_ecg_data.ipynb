{
 "cells": [
  {
   "cell_type": "code",
   "execution_count": 1,
   "metadata": {},
   "outputs": [
    {
     "name": "stdout",
     "output_type": "stream",
     "text": [
      "C:\\Users\\zqiao\\Downloads\\pyhealth\n"
     ]
    }
   ],
   "source": [
    "from __future__ import division\n",
    "from __future__ import print_function\n",
    "\n",
    "import os\n",
    "root_dir = os.getcwd().split('\\examples\\learning_models')[0]\n",
    "print (root_dir)\n",
    "os.chdir(root_dir)\n",
    "import sys\n",
    "sys.path.append(root_dir)"
   ]
  },
  {
   "cell_type": "code",
   "execution_count": 2,
   "metadata": {
    "scrolled": true
   },
   "outputs": [
    {
     "name": "stdout",
     "output_type": "stream",
     "text": [
      "Current ExpData_ID: 2020.0810.data.diagnose.ecg --- Target for ECG\n",
      "load finished\n",
      "target Task: diagnose\n",
      "N of features: 3000\n",
      "N of labels: 4\n",
      "N of TrainData: 2115\n",
      "N of ValidData: 529\n",
      "N of TestData: 661\n",
      "------------Train--------------\n",
      "x_data [array([ 1.32617756,  1.32617756,  1.30873027, ..., -1.47154751,\n",
      "       -1.35762694, -1.18931185]), array([-0.33468343, -0.34566033, -0.35663722, ..., -0.4334755 ,\n",
      "       -0.44994084, -0.46091774]), array([-0.00722989, -0.01191111, -0.02127355, ..., -0.559614  ,\n",
      "       -0.559614  , -0.559614  ])]\n",
      "y_data [array([0., 0., 1., 0.]), array([0., 0., 1., 0.]), array([0., 1., 0., 0.])]\n",
      "------------Valid--------------\n",
      "x_data [array([-0.14160562, -0.160953  , -0.17062669, ..., -1.07027981,\n",
      "       -1.0799535 , -1.05093243]), array([ 1.37309212,  2.06896236,  2.61261098, ..., -0.60035238,\n",
      "       -0.60578887, -0.61122536]), array([-0.32927509, -0.31013663, -0.28621355, ..., -0.0804751 ,\n",
      "       -0.07569048, -0.07569048])]\n",
      "y_data [array([1., 0., 0., 0.]), array([0., 0., 1., 0.]), array([0., 1., 0., 0.])]\n",
      "------------Test--------------\n",
      "x_data [array([-0.03358493, -0.04878631, -0.04878631, ...,  0.07282477,\n",
      "        0.05762339,  0.05762339]), array([ 0.37611113,  0.37966079,  0.38143562, ..., -0.00370267,\n",
      "       -0.01612649, -0.02677547]), array([0.2165013 , 0.48458809, 0.89890404, ..., 0.26524435, 0.28149203,\n",
      "       0.28961588])]\n",
      "y_data [array([1., 0., 0., 0.]), array([1., 0., 0., 0.]), array([1., 0., 0., 0.])]\n"
     ]
    }
   ],
   "source": [
    "from pyhealth.data.expdata_generator import ecgdata as expdata_generator\n",
    "expdata_id = '2020.0810.data.diagnose.ecg'\n",
    "# phenotyping\n",
    "cur_dataset = expdata_generator(expdata_id)\n",
    "# cur_dataset.get_exp_data(sel_task = 'diagnose', data_root = r'./datasets/ecg')\n",
    "cur_dataset.load_exp_data()\n",
    "cur_dataset.show_data()"
   ]
  },
  {
   "cell_type": "code",
   "execution_count": 6,
   "metadata": {},
   "outputs": [
    {
     "name": "stderr",
     "output_type": "stream",
     "text": [
      "\n",
      "\n",
      "  0%|                                                                                          | 0/100 [00:00<?, ?it/s]\u001b[A\u001b[A"
     ]
    },
    {
     "name": "stdout",
     "output_type": "stream",
     "text": [
      "not find effcient GPU, use CPU recource\n",
      "current task can beed seen as multiclass\n"
     ]
    },
    {
     "name": "stderr",
     "output_type": "stream",
     "text": [
      "\n",
      "\n",
      "tr=>epoch=0 Valid Loss: 32.726, Train Loss: 32.732:   0%|                                      | 0/100 [00:03<?, ?it/s]\u001b[A\u001b[A\n",
      "\n",
      "tr=>epoch=0 Valid Loss: 32.726, Train Loss: 32.732:   1%|▎                             | 1/100 [00:03<06:08,  3.72s/it]\u001b[A\u001b[A"
     ]
    },
    {
     "ename": "KeyboardInterrupt",
     "evalue": "",
     "output_type": "error",
     "traceback": [
      "\u001b[1;31m---------------------------------------------------------------------------\u001b[0m",
      "\u001b[1;31mKeyboardInterrupt\u001b[0m                         Traceback (most recent call last)",
      "\u001b[1;32m<ipython-input-6-d9bbae66e4f8>\u001b[0m in \u001b[0;36m<module>\u001b[1;34m\u001b[0m\n\u001b[0;32m      7\u001b[0m \u001b[0mclf\u001b[0m \u001b[1;33m=\u001b[0m \u001b[0mmodel\u001b[0m\u001b[1;33m(\u001b[0m\u001b[0mexpmodel_id\u001b[0m \u001b[1;33m=\u001b[0m \u001b[0mexpmodel_id\u001b[0m\u001b[1;33m,\u001b[0m \u001b[0muse_gpu\u001b[0m \u001b[1;33m=\u001b[0m \u001b[1;32mTrue\u001b[0m\u001b[1;33m)\u001b[0m\u001b[1;33m\u001b[0m\u001b[1;33m\u001b[0m\u001b[0m\n\u001b[0;32m      8\u001b[0m \u001b[1;31m# clf.load_model('0')\u001b[0m\u001b[1;33m\u001b[0m\u001b[1;33m\u001b[0m\u001b[1;33m\u001b[0m\u001b[0m\n\u001b[1;32m----> 9\u001b[1;33m \u001b[0mclf\u001b[0m\u001b[1;33m.\u001b[0m\u001b[0mfit\u001b[0m\u001b[1;33m(\u001b[0m\u001b[0mcur_dataset\u001b[0m\u001b[1;33m.\u001b[0m\u001b[0mtrain\u001b[0m\u001b[1;33m,\u001b[0m \u001b[0mcur_dataset\u001b[0m\u001b[1;33m.\u001b[0m\u001b[0mvalid\u001b[0m\u001b[1;33m)\u001b[0m\u001b[1;33m\u001b[0m\u001b[1;33m\u001b[0m\u001b[0m\n\u001b[0m\u001b[0;32m     10\u001b[0m \u001b[1;31m#\u001b[0m\u001b[1;33m\u001b[0m\u001b[1;33m\u001b[0m\u001b[1;33m\u001b[0m\u001b[0m\n",
      "\u001b[1;32m~\\Downloads\\pyhealth\\pyhealth\\models\\ecg\\basicnn.py\u001b[0m in \u001b[0;36mfit\u001b[1;34m(self, train_data, valid_data, assign_task_type)\u001b[0m\n\u001b[0;32m    217\u001b[0m         \u001b[0mtrain_reader\u001b[0m \u001b[1;33m=\u001b[0m \u001b[0mself\u001b[0m\u001b[1;33m.\u001b[0m\u001b[0m_get_reader\u001b[0m\u001b[1;33m(\u001b[0m\u001b[0mtrain_data\u001b[0m\u001b[1;33m,\u001b[0m \u001b[1;34m'train'\u001b[0m\u001b[1;33m)\u001b[0m\u001b[1;33m\u001b[0m\u001b[1;33m\u001b[0m\u001b[0m\n\u001b[0;32m    218\u001b[0m         \u001b[0mvalid_reader\u001b[0m \u001b[1;33m=\u001b[0m \u001b[0mself\u001b[0m\u001b[1;33m.\u001b[0m\u001b[0m_get_reader\u001b[0m\u001b[1;33m(\u001b[0m\u001b[0mvalid_data\u001b[0m\u001b[1;33m,\u001b[0m \u001b[1;34m'valid'\u001b[0m\u001b[1;33m)\u001b[0m\u001b[1;33m\u001b[0m\u001b[1;33m\u001b[0m\u001b[0m\n\u001b[1;32m--> 219\u001b[1;33m         \u001b[0mself\u001b[0m\u001b[1;33m.\u001b[0m\u001b[0m_fit_model\u001b[0m\u001b[1;33m(\u001b[0m\u001b[0mtrain_reader\u001b[0m\u001b[1;33m,\u001b[0m \u001b[0mvalid_reader\u001b[0m\u001b[1;33m)\u001b[0m\u001b[1;33m\u001b[0m\u001b[1;33m\u001b[0m\u001b[0m\n\u001b[0m\u001b[0;32m    220\u001b[0m \u001b[1;33m\u001b[0m\u001b[0m\n\u001b[0;32m    221\u001b[0m     def load_model(self, \n",
      "\u001b[1;32m~\\Downloads\\pyhealth\\pyhealth\\models\\ecg\\_dlbase.py\u001b[0m in \u001b[0;36m_fit_model\u001b[1;34m(self, train_reader, valid_reader)\u001b[0m\n\u001b[0;32m    330\u001b[0m         \u001b[0mtqdm_trange\u001b[0m \u001b[1;33m=\u001b[0m \u001b[0mtrange\u001b[0m\u001b[1;33m(\u001b[0m\u001b[1;36m0\u001b[0m\u001b[1;33m,\u001b[0m \u001b[0mself\u001b[0m\u001b[1;33m.\u001b[0m\u001b[0mn_epoch\u001b[0m\u001b[1;33m)\u001b[0m\u001b[1;33m\u001b[0m\u001b[1;33m\u001b[0m\u001b[0m\n\u001b[0;32m    331\u001b[0m         \u001b[1;32mfor\u001b[0m \u001b[0mepoch\u001b[0m \u001b[1;32min\u001b[0m \u001b[0mtqdm_trange\u001b[0m\u001b[1;33m:\u001b[0m\u001b[1;33m\u001b[0m\u001b[1;33m\u001b[0m\u001b[0m\n\u001b[1;32m--> 332\u001b[1;33m             \u001b[0mself\u001b[0m\u001b[1;33m.\u001b[0m\u001b[0m_train_model\u001b[0m\u001b[1;33m(\u001b[0m\u001b[0mtrain_reader\u001b[0m\u001b[1;33m)\u001b[0m\u001b[1;33m\u001b[0m\u001b[1;33m\u001b[0m\u001b[0m\n\u001b[0m\u001b[0;32m    333\u001b[0m             \u001b[0mself\u001b[0m\u001b[1;33m.\u001b[0m\u001b[0m_valid_model\u001b[0m\u001b[1;33m(\u001b[0m\u001b[0mvalid_reader\u001b[0m\u001b[1;33m)\u001b[0m\u001b[1;33m\u001b[0m\u001b[1;33m\u001b[0m\u001b[0m\n\u001b[0;32m    334\u001b[0m             \u001b[0mtrain_loss\u001b[0m \u001b[1;33m=\u001b[0m \u001b[0mself\u001b[0m\u001b[1;33m.\u001b[0m\u001b[0macc\u001b[0m\u001b[1;33m[\u001b[0m\u001b[1;34m'train'\u001b[0m\u001b[1;33m]\u001b[0m\u001b[1;33m[\u001b[0m\u001b[1;33m-\u001b[0m\u001b[1;36m1\u001b[0m\u001b[1;33m]\u001b[0m\u001b[1;33m\u001b[0m\u001b[1;33m\u001b[0m\u001b[0m\n",
      "\u001b[1;32m~\\Downloads\\pyhealth\\pyhealth\\models\\ecg\\_dlbase.py\u001b[0m in \u001b[0;36m_train_model\u001b[1;34m(self, train_loader)\u001b[0m\n\u001b[0;32m    260\u001b[0m             \u001b[0mloss\u001b[0m \u001b[1;33m=\u001b[0m \u001b[0mself\u001b[0m\u001b[1;33m.\u001b[0m\u001b[0mcriterion\u001b[0m\u001b[1;33m(\u001b[0m\u001b[1;33m{\u001b[0m\u001b[1;34m'hat_y'\u001b[0m\u001b[1;33m:\u001b[0m \u001b[0moutputs\u001b[0m\u001b[1;33m,\u001b[0m \u001b[1;34m'y'\u001b[0m\u001b[1;33m:\u001b[0m \u001b[0mtargets\u001b[0m\u001b[1;33m}\u001b[0m\u001b[1;33m)\u001b[0m\u001b[1;33m\u001b[0m\u001b[1;33m\u001b[0m\u001b[0m\n\u001b[0;32m    261\u001b[0m             \u001b[0mself\u001b[0m\u001b[1;33m.\u001b[0m\u001b[0moptimizer\u001b[0m\u001b[1;33m.\u001b[0m\u001b[0mzero_grad\u001b[0m\u001b[1;33m(\u001b[0m\u001b[1;33m)\u001b[0m\u001b[1;33m\u001b[0m\u001b[1;33m\u001b[0m\u001b[0m\n\u001b[1;32m--> 262\u001b[1;33m             \u001b[0mloss\u001b[0m\u001b[1;33m.\u001b[0m\u001b[0mbackward\u001b[0m\u001b[1;33m(\u001b[0m\u001b[1;33m)\u001b[0m\u001b[1;33m\u001b[0m\u001b[1;33m\u001b[0m\u001b[0m\n\u001b[0m\u001b[0;32m    263\u001b[0m             \u001b[0mself\u001b[0m\u001b[1;33m.\u001b[0m\u001b[0moptimizer\u001b[0m\u001b[1;33m.\u001b[0m\u001b[0mstep\u001b[0m\u001b[1;33m(\u001b[0m\u001b[1;33m)\u001b[0m\u001b[1;33m\u001b[0m\u001b[1;33m\u001b[0m\u001b[0m\n\u001b[0;32m    264\u001b[0m             \u001b[0mloss_v\u001b[0m\u001b[1;33m.\u001b[0m\u001b[0mappend\u001b[0m\u001b[1;33m(\u001b[0m\u001b[0mloss\u001b[0m\u001b[1;33m.\u001b[0m\u001b[0mcpu\u001b[0m\u001b[1;33m(\u001b[0m\u001b[1;33m)\u001b[0m\u001b[1;33m.\u001b[0m\u001b[0mdata\u001b[0m\u001b[1;33m.\u001b[0m\u001b[0mnumpy\u001b[0m\u001b[1;33m(\u001b[0m\u001b[1;33m)\u001b[0m\u001b[1;33m)\u001b[0m\u001b[1;33m\u001b[0m\u001b[1;33m\u001b[0m\u001b[0m\n",
      "\u001b[1;32m~\\Anaconda3\\lib\\site-packages\\torch\\tensor.py\u001b[0m in \u001b[0;36mbackward\u001b[1;34m(self, gradient, retain_graph, create_graph)\u001b[0m\n\u001b[0;32m    196\u001b[0m                 \u001b[0mproducts\u001b[0m\u001b[1;33m.\u001b[0m \u001b[0mDefaults\u001b[0m \u001b[0mto\u001b[0m\u001b[0;31m \u001b[0m\u001b[0;31m`\u001b[0m\u001b[0;31m`\u001b[0m\u001b[1;32mFalse\u001b[0m\u001b[0;31m`\u001b[0m\u001b[0;31m`\u001b[0m\u001b[1;33m.\u001b[0m\u001b[1;33m\u001b[0m\u001b[1;33m\u001b[0m\u001b[0m\n\u001b[0;32m    197\u001b[0m         \"\"\"\n\u001b[1;32m--> 198\u001b[1;33m         \u001b[0mtorch\u001b[0m\u001b[1;33m.\u001b[0m\u001b[0mautograd\u001b[0m\u001b[1;33m.\u001b[0m\u001b[0mbackward\u001b[0m\u001b[1;33m(\u001b[0m\u001b[0mself\u001b[0m\u001b[1;33m,\u001b[0m \u001b[0mgradient\u001b[0m\u001b[1;33m,\u001b[0m \u001b[0mretain_graph\u001b[0m\u001b[1;33m,\u001b[0m \u001b[0mcreate_graph\u001b[0m\u001b[1;33m)\u001b[0m\u001b[1;33m\u001b[0m\u001b[1;33m\u001b[0m\u001b[0m\n\u001b[0m\u001b[0;32m    199\u001b[0m \u001b[1;33m\u001b[0m\u001b[0m\n\u001b[0;32m    200\u001b[0m     \u001b[1;32mdef\u001b[0m \u001b[0mregister_hook\u001b[0m\u001b[1;33m(\u001b[0m\u001b[0mself\u001b[0m\u001b[1;33m,\u001b[0m \u001b[0mhook\u001b[0m\u001b[1;33m)\u001b[0m\u001b[1;33m:\u001b[0m\u001b[1;33m\u001b[0m\u001b[1;33m\u001b[0m\u001b[0m\n",
      "\u001b[1;32m~\\Anaconda3\\lib\\site-packages\\torch\\autograd\\__init__.py\u001b[0m in \u001b[0;36mbackward\u001b[1;34m(tensors, grad_tensors, retain_graph, create_graph, grad_variables)\u001b[0m\n\u001b[0;32m     98\u001b[0m     Variable._execution_engine.run_backward(\n\u001b[0;32m     99\u001b[0m         \u001b[0mtensors\u001b[0m\u001b[1;33m,\u001b[0m \u001b[0mgrad_tensors\u001b[0m\u001b[1;33m,\u001b[0m \u001b[0mretain_graph\u001b[0m\u001b[1;33m,\u001b[0m \u001b[0mcreate_graph\u001b[0m\u001b[1;33m,\u001b[0m\u001b[1;33m\u001b[0m\u001b[1;33m\u001b[0m\u001b[0m\n\u001b[1;32m--> 100\u001b[1;33m         allow_unreachable=True)  # allow_unreachable flag\n\u001b[0m\u001b[0;32m    101\u001b[0m \u001b[1;33m\u001b[0m\u001b[0m\n\u001b[0;32m    102\u001b[0m \u001b[1;33m\u001b[0m\u001b[0m\n",
      "\u001b[1;31mKeyboardInterrupt\u001b[0m: "
     ]
    }
   ],
   "source": [
    "from pyhealth.models.ecg.basicnn import BasicCNN as model\n",
    "#from pyhealth.models.ecg.rf import RandomForest as model\n",
    "#from pyhealth.models.ecg.xgboost import XGBoost as model\n",
    "\n",
    "\n",
    "expmodel_id = '2020.0821.ecg.diagnose.BasicCNN'\n",
    "clf = model(expmodel_id = expmodel_id, use_gpu = True)\n",
    "# clf.load_model('0')\n",
    "clf.fit(cur_dataset.train, cur_dataset.valid)\n",
    "# "
   ]
  },
  {
   "cell_type": "code",
   "execution_count": 5,
   "metadata": {},
   "outputs": [
    {
     "name": "stdout",
     "output_type": "stream",
     "text": [
      "load predictor config file from ./experiments_records\\2020.0821.ecg.diagnose.BasicCNN\\checkouts\\predictor_config.json\n",
      "load best-th epoch model\n",
      "current task can beed seen as multiclass\n",
      "{'hat_y': array([[0.24998708, 0.2501306 , 0.2498834 , 0.24999888],\n",
      "       [0.25000948, 0.2501437 , 0.24983446, 0.2500124 ],\n",
      "       [0.2500127 , 0.2500872 , 0.24989067, 0.25000945],\n",
      "       ...,\n",
      "       [0.25001392, 0.2500936 , 0.24989253, 0.25      ],\n",
      "       [0.25000668, 0.25009894, 0.2498964 , 0.2499979 ],\n",
      "       [0.25000605, 0.2500902 , 0.24989595, 0.2500078 ]], dtype=float32), 'y': array([[1., 0., 0., 0.],\n",
      "       [1., 0., 0., 0.],\n",
      "       [1., 0., 0., 0.],\n",
      "       ...,\n",
      "       [1., 0., 0., 0.],\n",
      "       [0., 1., 0., 0.],\n",
      "       [1., 0., 0., 0.]], dtype=float32)}\n",
      "current data evaluate using multiclass evaluation-type\n",
      "{'avg_precision_micro': 0.28166216906178543, 'roc_auc_score_micro': 0.4944876798285889, 'coverage_error': 2.5484848484848484, 'label_ranking_average_precision_score': 0.5186868686868683, 'label_ranking_loss': 0.5161616161616162, 'hamming_loss@1': 0.36742424242424243, 'recall@1': 0.26515151515151514, 'precision@1': 0.26515151515151514, 'hamming_loss@3': 0.6303030303030303, 'recall@3': 0.7393939393939394, 'precision@3': 0.24646464646464644}\n"
     ]
    }
   ],
   "source": [
    "clf.load_model()\n",
    "clf.inference(cur_dataset.test)\n",
    "results = clf.get_results()\n",
    "print (results)\n",
    "\n",
    "from pyhealth.evaluation.evaluator import func \n",
    "r = func(results['hat_y'], results['y'])\n",
    "print (r)"
   ]
  }
 ],
 "metadata": {
  "kernelspec": {
   "display_name": "Python 3",
   "language": "python",
   "name": "python3"
  },
  "language_info": {
   "codemirror_mode": {
    "name": "ipython",
    "version": 3
   },
   "file_extension": ".py",
   "mimetype": "text/x-python",
   "name": "python",
   "nbconvert_exporter": "python",
   "pygments_lexer": "ipython3",
   "version": "3.7.6"
  },
  "toc": {
   "base_numbering": 1,
   "nav_menu": {},
   "number_sections": true,
   "sideBar": true,
   "skip_h1_title": false,
   "title_cell": "Table of Contents",
   "title_sidebar": "Contents",
   "toc_cell": false,
   "toc_position": {},
   "toc_section_display": true,
   "toc_window_display": false
  }
 },
 "nbformat": 4,
 "nbformat_minor": 4
}
