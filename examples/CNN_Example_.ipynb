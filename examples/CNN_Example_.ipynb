{
 "cells": [
  {
   "cell_type": "code",
   "execution_count": null,
   "id": "3b9aaba8",
   "metadata": {
    "pycharm": {
     "name": "#%%\n"
    }
   },
   "outputs": [],
   "source": [
    "import numpy as np \n",
    "import sys\n",
    "import os\n",
    "sys.path.append(\"../\")"
   ]
  },
  {
   "cell_type": "code",
   "execution_count": null,
   "id": "3bb5e42f",
   "metadata": {
    "pycharm": {
     "name": "#%%\n"
    }
   },
   "outputs": [],
   "source": [
    "from pyhealth.datasets import MIMIC3BaseDataset, MIMIC4BaseDataset, eICUBaseDataset, OMOPBaseDataset\n",
    "base_dataset = MIMIC3BaseDataset(root=\"../../../../srv/local/data/physionet.org/files/mimiciii/1.4\")\n",
    "# base_dataset = eICUBaseDataset(root=\"/srv/local/data/physionet.org/files/eicu-crd/2.0\")\n",
    "# base_dataset = MIMIC4BaseDataset(root=\"/srv/local/data/physionet.org/files/mimiciv/2.0/hosp\")\n",
    "# base_dataset = OMOPBaseDataset(root=\"/srv/local/data/zw12/pyhealth/raw_data/synpuf1k_omop_cdm_5.2.2\")\n",
    "# base_dataset.info()"
   ]
  },
  {
   "cell_type": "code",
   "execution_count": null,
   "id": "57c77888",
   "metadata": {
    "pycharm": {
     "name": "#%%\n"
    }
   },
   "outputs": [],
   "source": [
    "from pyhealth.tasks import DrugRecDataset\n",
    "drug_rec_dataset = DrugRecDataset(base_dataset)\n",
    "# drug_rec_dataset.info()"
   ]
  },
  {
   "cell_type": "code",
   "execution_count": null,
   "id": "70c6ca69",
   "metadata": {
    "pycharm": {
     "name": "#%%\n"
    }
   },
   "outputs": [],
   "source": [
    "from pyhealth.models import CNN\n",
    "\n",
    "cnn_model = CNN(drug_rec_dataset, 'resnet')"
   ]
  },
  {
   "cell_type": "code",
   "execution_count": null,
   "id": "51830dc9",
   "metadata": {
    "pycharm": {
     "name": "#%%\n"
    }
   },
   "outputs": [],
   "source": [
    "cnn_model.train(task='drug_rec', n_gpus=1, save=False)"
   ]
  },
  {
   "cell_type": "code",
   "execution_count": null,
   "id": "4ef26401",
   "metadata": {
    "pycharm": {
     "name": "#%%\n"
    }
   },
   "outputs": [],
   "source": [
    "cnn_model.eval()"
   ]
  }
 ],
 "metadata": {
  "kernelspec": {
   "display_name": "Python 3 (ipykernel)",
   "language": "python",
   "name": "python3"
  },
  "language_info": {
   "codemirror_mode": {
    "name": "ipython",
    "version": 3
   },
   "file_extension": ".py",
   "mimetype": "text/x-python",
   "name": "python",
   "nbconvert_exporter": "python",
   "pygments_lexer": "ipython3",
   "version": "3.8.13"
  }
 },
 "nbformat": 4,
 "nbformat_minor": 5
}