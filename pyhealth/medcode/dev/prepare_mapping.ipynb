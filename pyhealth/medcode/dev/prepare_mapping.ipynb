{
 "cells": [
  {
   "cell_type": "code",
   "execution_count": 1,
   "metadata": {
    "ExecuteTime": {
     "end_time": "2022-10-10T21:23:02.772476Z",
     "start_time": "2022-10-10T21:23:02.764287Z"
    }
   },
   "outputs": [],
   "source": [
    "import os\n",
    "import sys\n",
    "\n",
    "src_path = os.path.abspath(\"../../..\")\n",
    "print(src_path)\n",
    "sys.path.append(src_path)"
   ]
  },
  {
   "cell_type": "code",
   "execution_count": 2,
   "metadata": {
    "ExecuteTime": {
     "end_time": "2022-10-10T21:23:02.782831Z",
     "start_time": "2022-10-10T21:23:02.774183Z"
    }
   },
   "outputs": [],
   "source": [
    "resource_directory = os.path.abspath(\"./resource\")\n",
    "resource_directory"
   ]
  },
  {
   "cell_type": "code",
   "execution_count": 3,
   "metadata": {
    "ExecuteTime": {
     "end_time": "2022-10-10T21:23:03.089656Z",
     "start_time": "2022-10-10T21:23:02.784212Z"
    }
   },
   "outputs": [],
   "source": [
    "import pandas as pd\n",
    "import re"
   ]
  },
  {
   "cell_type": "markdown",
   "metadata": {},
   "source": [
    "## ICD9CM"
   ]
  },
  {
   "cell_type": "markdown",
   "metadata": {},
   "source": [
    "### base"
   ]
  },
  {
   "cell_type": "code",
   "execution_count": 4,
   "metadata": {
    "ExecuteTime": {
     "end_time": "2022-10-10T21:23:03.345096Z",
     "start_time": "2022-10-10T21:23:03.092585Z"
    }
   },
   "outputs": [
    {
     "data": {
      "text/html": [
       "<div>\n",
       "<style scoped>\n",
       "    .dataframe tbody tr th:only-of-type {\n",
       "        vertical-align: middle;\n",
       "    }\n",
       "\n",
       "    .dataframe tbody tr th {\n",
       "        vertical-align: top;\n",
       "    }\n",
       "\n",
       "    .dataframe thead th {\n",
       "        text-align: right;\n",
       "    }\n",
       "</style>\n",
       "<table border=\"1\" class=\"dataframe\">\n",
       "  <thead>\n",
       "    <tr style=\"text-align: right;\">\n",
       "      <th></th>\n",
       "      <th>code</th>\n",
       "      <th>parent_code</th>\n",
       "      <th>name</th>\n",
       "    </tr>\n",
       "  </thead>\n",
       "  <tbody>\n",
       "    <tr>\n",
       "      <th>0</th>\n",
       "      <td>806.11</td>\n",
       "      <td>806.1</td>\n",
       "      <td>Open fracture of C1-C4 level with complete les...</td>\n",
       "    </tr>\n",
       "    <tr>\n",
       "      <th>1</th>\n",
       "      <td>642.41</td>\n",
       "      <td>642.4</td>\n",
       "      <td>Mild or unspecified pre-eclampsia, delivered, ...</td>\n",
       "    </tr>\n",
       "    <tr>\n",
       "      <th>2</th>\n",
       "      <td>647.13</td>\n",
       "      <td>647.1</td>\n",
       "      <td>Gonorrhea of mother, complicating pregnancy, c...</td>\n",
       "    </tr>\n",
       "    <tr>\n",
       "      <th>3</th>\n",
       "      <td>374.21</td>\n",
       "      <td>374.2</td>\n",
       "      <td>Paralytic lagophthalmos</td>\n",
       "    </tr>\n",
       "    <tr>\n",
       "      <th>4</th>\n",
       "      <td>679.00</td>\n",
       "      <td>679.0</td>\n",
       "      <td>Maternal complications from in utero procedure...</td>\n",
       "    </tr>\n",
       "  </tbody>\n",
       "</table>\n",
       "</div>"
      ],
      "text/plain": [
       "     code parent_code                                               name\n",
       "0  806.11       806.1  Open fracture of C1-C4 level with complete les...\n",
       "1  642.41       642.4  Mild or unspecified pre-eclampsia, delivered, ...\n",
       "2  647.13       647.1  Gonorrhea of mother, complicating pregnancy, c...\n",
       "3  374.21       374.2                            Paralytic lagophthalmos\n",
       "4  679.00       679.0  Maternal complications from in utero procedure..."
      ]
     },
     "execution_count": 4,
     "metadata": {},
     "output_type": "execute_result"
    }
   ],
   "source": [
    "\"\"\" https://bioportal.bioontology.org/ontologies/ICD9CM \"\"\"\n",
    "\n",
    "raw_data = pd.read_csv(os.path.join(resource_directory, \"raw/ICD9CM.csv\"))\n",
    "raw_data[\"code\"] = raw_data[\"Class ID\"].apply(lambda x: x.split(\"/\")[-1])\n",
    "raw_data[\"vocab\"] = raw_data[\"Class ID\"].apply(lambda x: x.split(\"/\")[-2])\n",
    "raw_data[\"parent_code\"] = raw_data[\"Parents\"].apply(lambda x: x.split(\"/\")[-1] if not pd.isna(x) else \"\")\n",
    "raw_data[\"parent_vocab\"] = raw_data[\"Parents\"].apply(lambda x: x.split(\"/\")[-2] if not pd.isna(x) else \"\")\n",
    "raw_data[\"name\"] = raw_data[\"Preferred Label\"]\n",
    "# exclude non icd9 codes\n",
    "raw_data = raw_data[raw_data.vocab == \"ICD9CM\"]\n",
    "# exclude icd9proc codes\n",
    "# icd9cm codes: 001-999.99, icd9proc: 00.00-99.99\n",
    "raw_data = raw_data[raw_data.code.apply(lambda x: len(re.split(\"\\.|-\", x)[0]) > 2)]\n",
    "data = raw_data[[\"code\", \"parent_code\", \"name\"]]\n",
    "# exclude non ICD9CM parent code\n",
    "invalid_parents = list(set(data.parent_code.unique()) - set(data.code.unique()))\n",
    "data = data.replace({\"parent_code\": invalid_parents}, \"\")\n",
    "data.to_csv(os.path.join(resource_directory, 'processed/ICD9CM.csv'), index=False)\n",
    "data.head()"
   ]
  },
  {
   "cell_type": "markdown",
   "metadata": {},
   "source": [
    "### to CCSCM"
   ]
  },
  {
   "cell_type": "code",
   "execution_count": 5,
   "metadata": {
    "ExecuteTime": {
     "end_time": "2022-10-10T21:23:03.352906Z",
     "start_time": "2022-10-10T21:23:03.348402Z"
    }
   },
   "outputs": [
    {
     "data": {
      "text/plain": [
       "'010.00'"
      ]
     },
     "execution_count": 5,
     "metadata": {},
     "output_type": "execute_result"
    }
   ],
   "source": [
    "def normalize_icd9cm(code: str):\n",
    "    \"\"\"Normalize ICD9CM code\"\"\"\n",
    "    if code.startswith(\"E\"):\n",
    "        assert len(code) >= 4\n",
    "        if len(code) == 4:\n",
    "            return code\n",
    "        return code[:4] + \".\" + code[4:]\n",
    "    else:\n",
    "        assert len(code) >= 3\n",
    "        if len(code) == 3:\n",
    "            return code\n",
    "        return code[:3] + \".\" + code[3:]\n",
    "    \n",
    "\n",
    "normalize_icd9cm(\"01000\")"
   ]
  },
  {
   "cell_type": "code",
   "execution_count": 6,
   "metadata": {
    "ExecuteTime": {
     "end_time": "2022-10-10T21:23:03.406852Z",
     "start_time": "2022-10-10T21:23:03.354353Z"
    }
   },
   "outputs": [
    {
     "data": {
      "text/html": [
       "<div>\n",
       "<style scoped>\n",
       "    .dataframe tbody tr th:only-of-type {\n",
       "        vertical-align: middle;\n",
       "    }\n",
       "\n",
       "    .dataframe tbody tr th {\n",
       "        vertical-align: top;\n",
       "    }\n",
       "\n",
       "    .dataframe thead th {\n",
       "        text-align: right;\n",
       "    }\n",
       "</style>\n",
       "<table border=\"1\" class=\"dataframe\">\n",
       "  <thead>\n",
       "    <tr style=\"text-align: right;\">\n",
       "      <th></th>\n",
       "      <th>ICD9CM</th>\n",
       "      <th>CCSCM</th>\n",
       "    </tr>\n",
       "  </thead>\n",
       "  <tbody>\n",
       "    <tr>\n",
       "      <th>0</th>\n",
       "      <td>010.00</td>\n",
       "      <td>1</td>\n",
       "    </tr>\n",
       "    <tr>\n",
       "      <th>1</th>\n",
       "      <td>010.01</td>\n",
       "      <td>1</td>\n",
       "    </tr>\n",
       "    <tr>\n",
       "      <th>2</th>\n",
       "      <td>010.02</td>\n",
       "      <td>1</td>\n",
       "    </tr>\n",
       "    <tr>\n",
       "      <th>3</th>\n",
       "      <td>010.03</td>\n",
       "      <td>1</td>\n",
       "    </tr>\n",
       "    <tr>\n",
       "      <th>4</th>\n",
       "      <td>010.04</td>\n",
       "      <td>1</td>\n",
       "    </tr>\n",
       "  </tbody>\n",
       "</table>\n",
       "</div>"
      ],
      "text/plain": [
       "   ICD9CM CCSCM\n",
       "0  010.00     1\n",
       "1  010.01     1\n",
       "2  010.02     1\n",
       "3  010.03     1\n",
       "4  010.04     1"
      ]
     },
     "execution_count": 6,
     "metadata": {},
     "output_type": "execute_result"
    }
   ],
   "source": [
    "\"\"\"https://www.hcup-us.ahrq.gov/toolssoftware/ccs/ccs.jsp\"\"\"\n",
    "\n",
    "mapping = {}\n",
    "with open(os.path.join(resource_directory, 'raw/$dxref 2015.csv')) as f:\n",
    "    lines = f.readlines()\n",
    "    for line in lines[3:]:\n",
    "        line = line.split(',')\n",
    "        icd9cm_code = line[0].strip(\"'\").strip()\n",
    "        ccscm_code = line[1].strip(\"'\").strip()\n",
    "        assert icd9cm_code not in mapping\n",
    "        mapping[icd9cm_code] = ccscm_code\n",
    "data = {'ICD9CM': mapping.keys(), 'CCSCM': mapping.values()}\n",
    "data = pd.DataFrame.from_dict(data)\n",
    "data.ICD9CM = data.ICD9CM.map(normalize_icd9cm)\n",
    "data.to_csv(os.path.join(resource_directory, 'processed/ICD9CM_to_CCSCM.csv'), index=False)\n",
    "data.head()"
   ]
  },
  {
   "cell_type": "markdown",
   "metadata": {},
   "source": [
    "## CCSCM"
   ]
  },
  {
   "cell_type": "markdown",
   "metadata": {},
   "source": [
    "### base"
   ]
  },
  {
   "cell_type": "code",
   "execution_count": 7,
   "metadata": {
    "ExecuteTime": {
     "end_time": "2022-10-10T21:23:03.431957Z",
     "start_time": "2022-10-10T21:23:03.408048Z"
    }
   },
   "outputs": [
    {
     "data": {
      "text/html": [
       "<div>\n",
       "<style scoped>\n",
       "    .dataframe tbody tr th:only-of-type {\n",
       "        vertical-align: middle;\n",
       "    }\n",
       "\n",
       "    .dataframe tbody tr th {\n",
       "        vertical-align: top;\n",
       "    }\n",
       "\n",
       "    .dataframe thead th {\n",
       "        text-align: right;\n",
       "    }\n",
       "</style>\n",
       "<table border=\"1\" class=\"dataframe\">\n",
       "  <thead>\n",
       "    <tr style=\"text-align: right;\">\n",
       "      <th></th>\n",
       "      <th>code</th>\n",
       "      <th>name</th>\n",
       "    </tr>\n",
       "  </thead>\n",
       "  <tbody>\n",
       "    <tr>\n",
       "      <th>0</th>\n",
       "      <td>1</td>\n",
       "      <td>Tuberculosis</td>\n",
       "    </tr>\n",
       "    <tr>\n",
       "      <th>1</th>\n",
       "      <td>10</td>\n",
       "      <td>Immuniz/scrn</td>\n",
       "    </tr>\n",
       "    <tr>\n",
       "      <th>2</th>\n",
       "      <td>100</td>\n",
       "      <td>Acute MI</td>\n",
       "    </tr>\n",
       "    <tr>\n",
       "      <th>3</th>\n",
       "      <td>101</td>\n",
       "      <td>Coron athero</td>\n",
       "    </tr>\n",
       "    <tr>\n",
       "      <th>4</th>\n",
       "      <td>102</td>\n",
       "      <td>Chest pain</td>\n",
       "    </tr>\n",
       "  </tbody>\n",
       "</table>\n",
       "</div>"
      ],
      "text/plain": [
       "  code          name\n",
       "0    1  Tuberculosis\n",
       "1   10  Immuniz/scrn\n",
       "2  100      Acute MI\n",
       "3  101  Coron athero\n",
       "4  102    Chest pain"
      ]
     },
     "execution_count": 7,
     "metadata": {},
     "output_type": "execute_result"
    }
   ],
   "source": [
    "\"\"\" https://www.hcup-us.ahrq.gov/toolssoftware/ccs/ccs.jsp \"\"\"\n",
    "\n",
    "data = {}\n",
    "with open(os.path.join(resource_directory, 'raw/$dxref 2015.csv')) as f:\n",
    "    lines = f.readlines()\n",
    "    for line in lines[3:]:\n",
    "        line = line.split(',')\n",
    "        code = line[1].strip(\"'\").strip()\n",
    "        name = line[2].strip(\"'\").strip()\n",
    "        data[code] = {'name': name}\n",
    "data = pd.DataFrame.from_dict(data, orient=\"index\").reset_index().rename(columns={\"index\": \"code\"})\n",
    "data.to_csv(os.path.join(resource_directory, 'processed/CCSCM.csv'), index=False)\n",
    "data.head()"
   ]
  },
  {
   "cell_type": "markdown",
   "metadata": {
    "ExecuteTime": {
     "end_time": "2022-10-09T21:30:43.988944Z",
     "start_time": "2022-10-09T21:30:43.982447Z"
    }
   },
   "source": [
    "## ICD9PROC"
   ]
  },
  {
   "cell_type": "markdown",
   "metadata": {},
   "source": [
    "### base"
   ]
  },
  {
   "cell_type": "code",
   "execution_count": 8,
   "metadata": {
    "ExecuteTime": {
     "end_time": "2022-10-10T21:23:03.629787Z",
     "start_time": "2022-10-10T21:23:03.433468Z"
    }
   },
   "outputs": [
    {
     "data": {
      "text/html": [
       "<div>\n",
       "<style scoped>\n",
       "    .dataframe tbody tr th:only-of-type {\n",
       "        vertical-align: middle;\n",
       "    }\n",
       "\n",
       "    .dataframe tbody tr th {\n",
       "        vertical-align: top;\n",
       "    }\n",
       "\n",
       "    .dataframe thead th {\n",
       "        text-align: right;\n",
       "    }\n",
       "</style>\n",
       "<table border=\"1\" class=\"dataframe\">\n",
       "  <thead>\n",
       "    <tr style=\"text-align: right;\">\n",
       "      <th></th>\n",
       "      <th>code</th>\n",
       "      <th>parent_code</th>\n",
       "      <th>name</th>\n",
       "    </tr>\n",
       "  </thead>\n",
       "  <tbody>\n",
       "    <tr>\n",
       "      <th>16</th>\n",
       "      <td>94.62</td>\n",
       "      <td>94.6</td>\n",
       "      <td>Alcohol detoxification</td>\n",
       "    </tr>\n",
       "    <tr>\n",
       "      <th>17</th>\n",
       "      <td>94.69</td>\n",
       "      <td>94.6</td>\n",
       "      <td>Combined alcohol and drug rehabilitation and d...</td>\n",
       "    </tr>\n",
       "    <tr>\n",
       "      <th>18</th>\n",
       "      <td>94.6</td>\n",
       "      <td>94</td>\n",
       "      <td>Alcohol and drug rehabilitation and detoxifica...</td>\n",
       "    </tr>\n",
       "    <tr>\n",
       "      <th>19</th>\n",
       "      <td>94.61</td>\n",
       "      <td>94.6</td>\n",
       "      <td>Alcohol rehabilitation</td>\n",
       "    </tr>\n",
       "    <tr>\n",
       "      <th>20</th>\n",
       "      <td>94.67</td>\n",
       "      <td>94.6</td>\n",
       "      <td>Combined alcohol and drug rehabilitation</td>\n",
       "    </tr>\n",
       "  </tbody>\n",
       "</table>\n",
       "</div>"
      ],
      "text/plain": [
       "     code parent_code                                               name\n",
       "16  94.62        94.6                             Alcohol detoxification\n",
       "17  94.69        94.6  Combined alcohol and drug rehabilitation and d...\n",
       "18   94.6          94  Alcohol and drug rehabilitation and detoxifica...\n",
       "19  94.61        94.6                             Alcohol rehabilitation\n",
       "20  94.67        94.6           Combined alcohol and drug rehabilitation"
      ]
     },
     "execution_count": 8,
     "metadata": {},
     "output_type": "execute_result"
    }
   ],
   "source": [
    "\"\"\" https://bioportal.bioontology.org/ontologies/ICD9CM \"\"\"\n",
    "\n",
    "raw_data = pd.read_csv(os.path.join(resource_directory, \"raw/ICD9CM.csv\"))\n",
    "raw_data[\"code\"] = raw_data[\"Class ID\"].apply(lambda x: x.split(\"/\")[-1])\n",
    "raw_data[\"vocab\"] = raw_data[\"Class ID\"].apply(lambda x: x.split(\"/\")[-2])\n",
    "raw_data[\"parent_code\"] = raw_data[\"Parents\"].apply(lambda x: x.split(\"/\")[-1] if not pd.isna(x) else \"\")\n",
    "raw_data[\"parent_vocab\"] = raw_data[\"Parents\"].apply(lambda x: x.split(\"/\")[-2] if not pd.isna(x) else \"\")\n",
    "raw_data[\"name\"] = raw_data[\"Preferred Label\"]\n",
    "# exclude non icd9 codes\n",
    "raw_data = raw_data[raw_data.vocab == \"ICD9CM\"]\n",
    "# exclude icd9cm codes\n",
    "# icd9cm codes: 001-999.99, icd9proc: 00.00-99.99\n",
    "raw_data = raw_data[raw_data.code.apply(lambda x: len(re.split(\"\\.|-\", x)[0]) <= 2)]\n",
    "data = raw_data[[\"code\", \"parent_code\", \"name\"]]\n",
    "# exclude non icd9proc parent code\n",
    "invalid_parents = list(set(data.parent_code.unique()) - set(data.code.unique()))\n",
    "data = data.replace({\"parent_code\": invalid_parents}, \"\")\n",
    "data.to_csv(os.path.join(resource_directory, 'processed/ICD9PROC.csv'), index=False)\n",
    "data.head()"
   ]
  },
  {
   "cell_type": "markdown",
   "metadata": {},
   "source": [
    "### to CCSPROC"
   ]
  },
  {
   "cell_type": "code",
   "execution_count": 9,
   "metadata": {
    "ExecuteTime": {
     "end_time": "2022-10-10T21:23:03.637027Z",
     "start_time": "2022-10-10T21:23:03.633131Z"
    }
   },
   "outputs": [
    {
     "data": {
      "text/plain": [
       "'61.11'"
      ]
     },
     "execution_count": 9,
     "metadata": {},
     "output_type": "execute_result"
    }
   ],
   "source": [
    "def normalize_icd9proc(code: str):\n",
    "    \"\"\"Normalize ICD9PROC code\"\"\"\n",
    "    assert len(code) >= 2\n",
    "    if len(code) == 2:\n",
    "        return code\n",
    "    return code[:2] + \".\" + code[2:]\n",
    "\n",
    "normalize_icd9proc(\"6111\")"
   ]
  },
  {
   "cell_type": "code",
   "execution_count": 10,
   "metadata": {
    "ExecuteTime": {
     "end_time": "2022-10-10T21:23:03.661617Z",
     "start_time": "2022-10-10T21:23:03.638368Z"
    }
   },
   "outputs": [
    {
     "data": {
      "text/html": [
       "<div>\n",
       "<style scoped>\n",
       "    .dataframe tbody tr th:only-of-type {\n",
       "        vertical-align: middle;\n",
       "    }\n",
       "\n",
       "    .dataframe tbody tr th {\n",
       "        vertical-align: top;\n",
       "    }\n",
       "\n",
       "    .dataframe thead th {\n",
       "        text-align: right;\n",
       "    }\n",
       "</style>\n",
       "<table border=\"1\" class=\"dataframe\">\n",
       "  <thead>\n",
       "    <tr style=\"text-align: right;\">\n",
       "      <th></th>\n",
       "      <th>ICD9PROC</th>\n",
       "      <th>CCSPROC</th>\n",
       "    </tr>\n",
       "  </thead>\n",
       "  <tbody>\n",
       "    <tr>\n",
       "      <th>0</th>\n",
       "      <td>01.01</td>\n",
       "      <td>1</td>\n",
       "    </tr>\n",
       "    <tr>\n",
       "      <th>1</th>\n",
       "      <td>01.09</td>\n",
       "      <td>1</td>\n",
       "    </tr>\n",
       "    <tr>\n",
       "      <th>2</th>\n",
       "      <td>01.21</td>\n",
       "      <td>1</td>\n",
       "    </tr>\n",
       "    <tr>\n",
       "      <th>3</th>\n",
       "      <td>01.22</td>\n",
       "      <td>1</td>\n",
       "    </tr>\n",
       "    <tr>\n",
       "      <th>4</th>\n",
       "      <td>01.23</td>\n",
       "      <td>1</td>\n",
       "    </tr>\n",
       "  </tbody>\n",
       "</table>\n",
       "</div>"
      ],
      "text/plain": [
       "  ICD9PROC CCSPROC\n",
       "0    01.01       1\n",
       "1    01.09       1\n",
       "2    01.21       1\n",
       "3    01.22       1\n",
       "4    01.23       1"
      ]
     },
     "execution_count": 10,
     "metadata": {},
     "output_type": "execute_result"
    }
   ],
   "source": [
    "\"\"\"https://www.hcup-us.ahrq.gov/toolssoftware/ccs/ccs.jsp\"\"\"\n",
    "\n",
    "mapping = {}\n",
    "with open(os.path.join(resource_directory, 'raw/$prref 2015.csv')) as f:\n",
    "    lines = f.readlines()\n",
    "    for line in lines[3:]:\n",
    "        line = line.split(',')\n",
    "        icd9proc_code = line[0].strip(\"'\").strip()\n",
    "        ccsproc_code = line[1].strip(\"'\").strip()\n",
    "        assert icd9proc_code not in mapping\n",
    "        mapping[icd9proc_code] = ccsproc_code\n",
    "        \n",
    "data = {'ICD9PROC': mapping.keys(), 'CCSPROC': mapping.values()}\n",
    "data = pd.DataFrame.from_dict(data)\n",
    "data.ICD9PROC = data.ICD9PROC.map(normalize_icd9proc)\n",
    "data.to_csv(os.path.join(resource_directory, 'processed/ICD9PROC_to_CCSPROC.csv'), index=False)\n",
    "data.head()"
   ]
  },
  {
   "cell_type": "markdown",
   "metadata": {},
   "source": [
    "## CCSPROC"
   ]
  },
  {
   "cell_type": "markdown",
   "metadata": {},
   "source": [
    "### base"
   ]
  },
  {
   "cell_type": "code",
   "execution_count": 11,
   "metadata": {
    "ExecuteTime": {
     "end_time": "2022-10-10T21:23:03.678442Z",
     "start_time": "2022-10-10T21:23:03.663140Z"
    }
   },
   "outputs": [
    {
     "data": {
      "text/html": [
       "<div>\n",
       "<style scoped>\n",
       "    .dataframe tbody tr th:only-of-type {\n",
       "        vertical-align: middle;\n",
       "    }\n",
       "\n",
       "    .dataframe tbody tr th {\n",
       "        vertical-align: top;\n",
       "    }\n",
       "\n",
       "    .dataframe thead th {\n",
       "        text-align: right;\n",
       "    }\n",
       "</style>\n",
       "<table border=\"1\" class=\"dataframe\">\n",
       "  <thead>\n",
       "    <tr style=\"text-align: right;\">\n",
       "      <th></th>\n",
       "      <th>code</th>\n",
       "      <th>name</th>\n",
       "    </tr>\n",
       "  </thead>\n",
       "  <tbody>\n",
       "    <tr>\n",
       "      <th>0</th>\n",
       "      <td>1</td>\n",
       "      <td>Inc/exc CNS</td>\n",
       "    </tr>\n",
       "    <tr>\n",
       "      <th>1</th>\n",
       "      <td>10</td>\n",
       "      <td>Thyroidect</td>\n",
       "    </tr>\n",
       "    <tr>\n",
       "      <th>2</th>\n",
       "      <td>100</td>\n",
       "      <td>Urin endosco</td>\n",
       "    </tr>\n",
       "    <tr>\n",
       "      <th>3</th>\n",
       "      <td>101</td>\n",
       "      <td>Transur rem</td>\n",
       "    </tr>\n",
       "    <tr>\n",
       "      <th>4</th>\n",
       "      <td>102</td>\n",
       "      <td>Ureter cath</td>\n",
       "    </tr>\n",
       "  </tbody>\n",
       "</table>\n",
       "</div>"
      ],
      "text/plain": [
       "  code          name\n",
       "0    1   Inc/exc CNS\n",
       "1   10    Thyroidect\n",
       "2  100  Urin endosco\n",
       "3  101   Transur rem\n",
       "4  102   Ureter cath"
      ]
     },
     "execution_count": 11,
     "metadata": {},
     "output_type": "execute_result"
    }
   ],
   "source": [
    "\"\"\" https://www.hcup-us.ahrq.gov/toolssoftware/ccs/ccs.jsp \"\"\"\n",
    "\n",
    "data = {}\n",
    "with open(os.path.join(resource_directory, 'raw/$prref 2015.csv')) as f:\n",
    "    lines = f.readlines()\n",
    "    for line in lines[3:]:\n",
    "        line = line.split(',')\n",
    "        code = line[1].strip(\"'\").strip()\n",
    "        name = line[2].strip(\"'\").strip()\n",
    "        data[code] = {'name': name}\n",
    "data = pd.DataFrame.from_dict(data, orient=\"index\").reset_index().rename(columns={\"index\": \"code\"})\n",
    "data.to_csv(os.path.join(resource_directory, 'processed/CCSPROC.csv'), index=False)\n",
    "data.head()"
   ]
  },
  {
   "cell_type": "markdown",
   "metadata": {},
   "source": [
    "## ICD10CM"
   ]
  },
  {
   "cell_type": "markdown",
   "metadata": {},
   "source": [
    "### base"
   ]
  },
  {
   "cell_type": "code",
   "execution_count": 12,
   "metadata": {
    "ExecuteTime": {
     "end_time": "2022-10-10T21:23:04.600183Z",
     "start_time": "2022-10-10T21:23:03.679825Z"
    }
   },
   "outputs": [
    {
     "data": {
      "text/html": [
       "<div>\n",
       "<style scoped>\n",
       "    .dataframe tbody tr th:only-of-type {\n",
       "        vertical-align: middle;\n",
       "    }\n",
       "\n",
       "    .dataframe tbody tr th {\n",
       "        vertical-align: top;\n",
       "    }\n",
       "\n",
       "    .dataframe thead th {\n",
       "        text-align: right;\n",
       "    }\n",
       "</style>\n",
       "<table border=\"1\" class=\"dataframe\">\n",
       "  <thead>\n",
       "    <tr style=\"text-align: right;\">\n",
       "      <th></th>\n",
       "      <th>code</th>\n",
       "      <th>parent_code</th>\n",
       "      <th>name</th>\n",
       "    </tr>\n",
       "  </thead>\n",
       "  <tbody>\n",
       "    <tr>\n",
       "      <th>0</th>\n",
       "      <td>Z62.811</td>\n",
       "      <td>Z62.81</td>\n",
       "      <td>Personal history of psychological abuse in chi...</td>\n",
       "    </tr>\n",
       "    <tr>\n",
       "      <th>1</th>\n",
       "      <td>Z01.81</td>\n",
       "      <td>Z01.8</td>\n",
       "      <td>Encounter for preprocedural examinations</td>\n",
       "    </tr>\n",
       "    <tr>\n",
       "      <th>2</th>\n",
       "      <td>Z01.89</td>\n",
       "      <td>Z01.8</td>\n",
       "      <td>Encounter for other specified special examinat...</td>\n",
       "    </tr>\n",
       "    <tr>\n",
       "      <th>3</th>\n",
       "      <td>Z01.8</td>\n",
       "      <td>Z01</td>\n",
       "      <td>Encounter for other specified special examinat...</td>\n",
       "    </tr>\n",
       "    <tr>\n",
       "      <th>4</th>\n",
       "      <td>Z01.82</td>\n",
       "      <td>Z01.8</td>\n",
       "      <td>Encounter for allergy testing</td>\n",
       "    </tr>\n",
       "  </tbody>\n",
       "</table>\n",
       "</div>"
      ],
      "text/plain": [
       "      code parent_code                                               name\n",
       "0  Z62.811      Z62.81  Personal history of psychological abuse in chi...\n",
       "1   Z01.81       Z01.8           Encounter for preprocedural examinations\n",
       "2   Z01.89       Z01.8  Encounter for other specified special examinat...\n",
       "3    Z01.8         Z01  Encounter for other specified special examinat...\n",
       "4   Z01.82       Z01.8                      Encounter for allergy testing"
      ]
     },
     "execution_count": 12,
     "metadata": {},
     "output_type": "execute_result"
    }
   ],
   "source": [
    "\"\"\" https://bioportal.bioontology.org/ontologies/ICD10CM \"\"\"\n",
    "\n",
    "raw_data = pd.read_csv(os.path.join(resource_directory, \"raw/ICD10CM.csv\"))\n",
    "raw_data[\"code\"] = raw_data[\"Class ID\"].apply(lambda x: x.split(\"/\")[-1])\n",
    "raw_data[\"vocab\"] = raw_data[\"Class ID\"].apply(lambda x: x.split(\"/\")[-2])\n",
    "raw_data[\"parent_code\"] = raw_data[\"Parents\"].apply(lambda x: x.split(\"/\")[-1] if not pd.isna(x) else \"\")\n",
    "raw_data[\"parent_vocab\"] = raw_data[\"Parents\"].apply(lambda x: x.split(\"/\")[-2] if not pd.isna(x) else \"\")\n",
    "raw_data[\"name\"] = raw_data[\"Preferred Label\"]\n",
    "# # exclude non icd10cm codes\n",
    "raw_data = raw_data[raw_data.vocab == \"ICD10CM\"]\n",
    "data = raw_data[[\"code\", \"parent_code\", \"name\"]]\n",
    "# exclude non icd10cm parent code\n",
    "invalid_parents = list(set(data.parent_code.unique()) - set(data.code.unique()))\n",
    "data = data.replace({\"parent_code\": invalid_parents}, \"\")\n",
    "data.to_csv(os.path.join(resource_directory, 'processed/ICD10CM.csv'), index=False)\n",
    "data.head()"
   ]
  },
  {
   "cell_type": "markdown",
   "metadata": {},
   "source": [
    "### to CCSCM"
   ]
  },
  {
   "cell_type": "code",
   "execution_count": 13,
   "metadata": {
    "ExecuteTime": {
     "end_time": "2022-10-10T21:23:04.606549Z",
     "start_time": "2022-10-10T21:23:04.601929Z"
    }
   },
   "outputs": [
    {
     "data": {
      "text/plain": [
       "'Y92.84'"
      ]
     },
     "execution_count": 13,
     "metadata": {},
     "output_type": "execute_result"
    }
   ],
   "source": [
    "def normalize_icd10cm(code: str):\n",
    "    \"\"\"Normalize ICD10CM code\"\"\"\n",
    "    assert len(code) >= 3\n",
    "    if len(code) == 3:\n",
    "        return code\n",
    "    return code[:3] + \".\" + code[3:]\n",
    "\n",
    "normalize_icd10cm(\"Y9284\")"
   ]
  },
  {
   "cell_type": "code",
   "execution_count": 14,
   "metadata": {
    "ExecuteTime": {
     "end_time": "2022-10-10T21:23:04.843879Z",
     "start_time": "2022-10-10T21:23:04.608327Z"
    }
   },
   "outputs": [
    {
     "data": {
      "text/html": [
       "<div>\n",
       "<style scoped>\n",
       "    .dataframe tbody tr th:only-of-type {\n",
       "        vertical-align: middle;\n",
       "    }\n",
       "\n",
       "    .dataframe tbody tr th {\n",
       "        vertical-align: top;\n",
       "    }\n",
       "\n",
       "    .dataframe thead th {\n",
       "        text-align: right;\n",
       "    }\n",
       "</style>\n",
       "<table border=\"1\" class=\"dataframe\">\n",
       "  <thead>\n",
       "    <tr style=\"text-align: right;\">\n",
       "      <th></th>\n",
       "      <th>ICD10CM</th>\n",
       "      <th>CCSCM</th>\n",
       "    </tr>\n",
       "  </thead>\n",
       "  <tbody>\n",
       "    <tr>\n",
       "      <th>0</th>\n",
       "      <td>A15.0</td>\n",
       "      <td>1</td>\n",
       "    </tr>\n",
       "    <tr>\n",
       "      <th>1</th>\n",
       "      <td>A15.4</td>\n",
       "      <td>1</td>\n",
       "    </tr>\n",
       "    <tr>\n",
       "      <th>2</th>\n",
       "      <td>A15.5</td>\n",
       "      <td>1</td>\n",
       "    </tr>\n",
       "    <tr>\n",
       "      <th>3</th>\n",
       "      <td>A15.6</td>\n",
       "      <td>1</td>\n",
       "    </tr>\n",
       "    <tr>\n",
       "      <th>4</th>\n",
       "      <td>A15.7</td>\n",
       "      <td>1</td>\n",
       "    </tr>\n",
       "  </tbody>\n",
       "</table>\n",
       "</div>"
      ],
      "text/plain": [
       "  ICD10CM CCSCM\n",
       "0   A15.0     1\n",
       "1   A15.4     1\n",
       "2   A15.5     1\n",
       "3   A15.6     1\n",
       "4   A15.7     1"
      ]
     },
     "execution_count": 14,
     "metadata": {},
     "output_type": "execute_result"
    }
   ],
   "source": [
    "\"\"\"https://www.hcup-us.ahrq.gov/toolssoftware/ccsr/ccsr_archive.jsp#ccsr\"\"\"\n",
    "\n",
    "mapping = {}\n",
    "with open(os.path.join(resource_directory, 'raw/ccs_dx_icd10cm_2019_1.csv')) as f:\n",
    "    lines = f.readlines()\n",
    "    for line in lines[1:]:\n",
    "        line = line.split(',')\n",
    "        icd10cm_code = line[0].strip(\"'\").strip()\n",
    "        ccscm_code = line[1].strip(\"'\").strip()\n",
    "        assert icd10cm_code not in mapping\n",
    "        mapping[icd10cm_code] = ccscm_code\n",
    "data = {'ICD10CM': mapping.keys(), 'CCSCM': mapping.values()}\n",
    "data = pd.DataFrame.from_dict(data)\n",
    "data.ICD10CM = data.ICD10CM.map(normalize_icd10cm)\n",
    "data.to_csv(os.path.join(resource_directory, 'processed/ICD10CM_to_CCSCM.csv'), index=False)\n",
    "data.head()"
   ]
  },
  {
   "cell_type": "markdown",
   "metadata": {},
   "source": [
    "## ICD10PROC"
   ]
  },
  {
   "cell_type": "markdown",
   "metadata": {},
   "source": [
    "### base"
   ]
  },
  {
   "cell_type": "code",
   "execution_count": 15,
   "metadata": {
    "ExecuteTime": {
     "end_time": "2022-10-10T21:23:06.833713Z",
     "start_time": "2022-10-10T21:23:04.845143Z"
    }
   },
   "outputs": [
    {
     "data": {
      "text/html": [
       "<div>\n",
       "<style scoped>\n",
       "    .dataframe tbody tr th:only-of-type {\n",
       "        vertical-align: middle;\n",
       "    }\n",
       "\n",
       "    .dataframe tbody tr th {\n",
       "        vertical-align: top;\n",
       "    }\n",
       "\n",
       "    .dataframe thead th {\n",
       "        text-align: right;\n",
       "    }\n",
       "</style>\n",
       "<table border=\"1\" class=\"dataframe\">\n",
       "  <thead>\n",
       "    <tr style=\"text-align: right;\">\n",
       "      <th></th>\n",
       "      <th>code</th>\n",
       "      <th>parent_code</th>\n",
       "      <th>name</th>\n",
       "    </tr>\n",
       "  </thead>\n",
       "  <tbody>\n",
       "    <tr>\n",
       "      <th>0</th>\n",
       "      <td>0Q894Z</td>\n",
       "      <td>0Q894</td>\n",
       "      <td>Medical and Surgical @ Lower Bones @ Division ...</td>\n",
       "    </tr>\n",
       "    <tr>\n",
       "      <th>1</th>\n",
       "      <td>0Q894ZZ</td>\n",
       "      <td>0Q894Z</td>\n",
       "      <td>Division of Left Femoral Shaft, Percutaneous E...</td>\n",
       "    </tr>\n",
       "    <tr>\n",
       "      <th>2</th>\n",
       "      <td>005W3Z</td>\n",
       "      <td>005W3</td>\n",
       "      <td>Medical and Surgical @ Central Nervous System ...</td>\n",
       "    </tr>\n",
       "    <tr>\n",
       "      <th>3</th>\n",
       "      <td>005W3ZZ</td>\n",
       "      <td>005W3Z</td>\n",
       "      <td>Destruction of Cervical Spinal Cord, Percutane...</td>\n",
       "    </tr>\n",
       "    <tr>\n",
       "      <th>4</th>\n",
       "      <td>2W0MX3</td>\n",
       "      <td>2W0MX</td>\n",
       "      <td>Placement @ Anatomical Regions @ Change @ Lowe...</td>\n",
       "    </tr>\n",
       "  </tbody>\n",
       "</table>\n",
       "</div>"
      ],
      "text/plain": [
       "      code parent_code                                               name\n",
       "0   0Q894Z       0Q894  Medical and Surgical @ Lower Bones @ Division ...\n",
       "1  0Q894ZZ      0Q894Z  Division of Left Femoral Shaft, Percutaneous E...\n",
       "2   005W3Z       005W3  Medical and Surgical @ Central Nervous System ...\n",
       "3  005W3ZZ      005W3Z  Destruction of Cervical Spinal Cord, Percutane...\n",
       "4   2W0MX3       2W0MX  Placement @ Anatomical Regions @ Change @ Lowe..."
      ]
     },
     "execution_count": 15,
     "metadata": {},
     "output_type": "execute_result"
    }
   ],
   "source": [
    "\"\"\" https://bioportal.bioontology.org/ontologies/ICD10PCS \"\"\"\n",
    "\n",
    "raw_data = pd.read_csv(os.path.join(resource_directory, \"raw/ICD10PCS.csv\"))\n",
    "raw_data[\"code\"] = raw_data[\"Class ID\"].apply(lambda x: x.split(\"/\")[-1])\n",
    "raw_data[\"vocab\"] = raw_data[\"Class ID\"].apply(lambda x: x.split(\"/\")[-2])\n",
    "raw_data[\"parent_code\"] = raw_data[\"Parents\"].apply(lambda x: x.split(\"/\")[-1] if not pd.isna(x) else \"\")\n",
    "raw_data[\"parent_vocab\"] = raw_data[\"Parents\"].apply(lambda x: x.split(\"/\")[-2] if not pd.isna(x) else \"\")\n",
    "raw_data[\"name\"] = raw_data[\"Preferred Label\"]\n",
    "# # exclude non icd10proc codes\n",
    "raw_data = raw_data[raw_data.vocab == \"ICD10PCS\"]\n",
    "data = raw_data[[\"code\", \"parent_code\", \"name\"]]\n",
    "# exclude non icd10proc parent code\n",
    "invalid_parents = list(set(data.parent_code.unique()) - set(data.code.unique()))\n",
    "data = data.replace({\"parent_code\": invalid_parents}, \"\")\n",
    "data.to_csv(os.path.join(resource_directory, 'processed/ICD10PROC.csv'), index=False)\n",
    "data.head()"
   ]
  },
  {
   "cell_type": "markdown",
   "metadata": {},
   "source": [
    "### to CCSPROC"
   ]
  },
  {
   "cell_type": "code",
   "execution_count": 16,
   "metadata": {
    "ExecuteTime": {
     "end_time": "2022-10-10T21:23:07.064147Z",
     "start_time": "2022-10-10T21:23:06.835407Z"
    }
   },
   "outputs": [
    {
     "data": {
      "text/html": [
       "<div>\n",
       "<style scoped>\n",
       "    .dataframe tbody tr th:only-of-type {\n",
       "        vertical-align: middle;\n",
       "    }\n",
       "\n",
       "    .dataframe tbody tr th {\n",
       "        vertical-align: top;\n",
       "    }\n",
       "\n",
       "    .dataframe thead th {\n",
       "        text-align: right;\n",
       "    }\n",
       "</style>\n",
       "<table border=\"1\" class=\"dataframe\">\n",
       "  <thead>\n",
       "    <tr style=\"text-align: right;\">\n",
       "      <th></th>\n",
       "      <th>ICD10PROC</th>\n",
       "      <th>CCSPROC</th>\n",
       "    </tr>\n",
       "  </thead>\n",
       "  <tbody>\n",
       "    <tr>\n",
       "      <th>0</th>\n",
       "      <td>00800ZZ</td>\n",
       "      <td>1</td>\n",
       "    </tr>\n",
       "    <tr>\n",
       "      <th>1</th>\n",
       "      <td>00803ZZ</td>\n",
       "      <td>1</td>\n",
       "    </tr>\n",
       "    <tr>\n",
       "      <th>2</th>\n",
       "      <td>00804ZZ</td>\n",
       "      <td>1</td>\n",
       "    </tr>\n",
       "    <tr>\n",
       "      <th>3</th>\n",
       "      <td>00870ZZ</td>\n",
       "      <td>1</td>\n",
       "    </tr>\n",
       "    <tr>\n",
       "      <th>4</th>\n",
       "      <td>00873ZZ</td>\n",
       "      <td>1</td>\n",
       "    </tr>\n",
       "  </tbody>\n",
       "</table>\n",
       "</div>"
      ],
      "text/plain": [
       "  ICD10PROC CCSPROC\n",
       "0   00800ZZ       1\n",
       "1   00803ZZ       1\n",
       "2   00804ZZ       1\n",
       "3   00870ZZ       1\n",
       "4   00873ZZ       1"
      ]
     },
     "execution_count": 16,
     "metadata": {},
     "output_type": "execute_result"
    }
   ],
   "source": [
    "\"\"\"https://www.hcup-us.ahrq.gov/toolssoftware/ccs10/ccs10.jsp\"\"\"\n",
    "\n",
    "mapping = {}\n",
    "with open(os.path.join(resource_directory, 'raw/ccs_pr_icd10pcs_2019_1.csv')) as f:\n",
    "    lines = f.readlines()\n",
    "    for line in lines[1:]:\n",
    "        line = line.split(',')\n",
    "        icd10proc_code = line[0].strip(\"'\").strip()\n",
    "        ccsproc_code = line[1].strip(\"'\").strip()\n",
    "        assert icd10proc_code not in mapping\n",
    "        mapping[icd10proc_code] = ccsproc_code\n",
    "data = {'ICD10PROC': mapping.keys(), 'CCSPROC': mapping.values()}\n",
    "data = pd.DataFrame.from_dict(data)\n",
    "data.to_csv(os.path.join(resource_directory, 'processed/ICD10PROC_to_CCSPROC.csv'), index=False)\n",
    "data.head()"
   ]
  },
  {
   "cell_type": "markdown",
   "metadata": {},
   "source": [
    "## NDC\n",
    "\n",
    "Download NDC, RxNorm, ATC from https://athena.ohdsi.org/vocabulary/list"
   ]
  },
  {
   "cell_type": "code",
   "execution_count": 17,
   "metadata": {
    "ExecuteTime": {
     "end_time": "2022-10-10T21:23:07.067609Z",
     "start_time": "2022-10-10T21:23:07.065456Z"
    }
   },
   "outputs": [],
   "source": [
    "foldername = 'NDC_RxNorm_ATC'"
   ]
  },
  {
   "cell_type": "code",
   "execution_count": 18,
   "metadata": {
    "ExecuteTime": {
     "end_time": "2022-10-10T21:23:09.514789Z",
     "start_time": "2022-10-10T21:23:07.068983Z"
    }
   },
   "outputs": [
    {
     "name": "stderr",
     "output_type": "stream",
     "text": [
      "/Users/zzachw/miniconda3/envs/pytorch19/lib/python3.8/site-packages/IPython/core/interactiveshell.py:3441: DtypeWarning: Columns (9) have mixed types.Specify dtype option on import or set low_memory=False.\n",
      "  exec(code_obj, self.user_global_ns, self.user_ns)\n"
     ]
    },
    {
     "data": {
      "text/html": [
       "<div>\n",
       "<style scoped>\n",
       "    .dataframe tbody tr th:only-of-type {\n",
       "        vertical-align: middle;\n",
       "    }\n",
       "\n",
       "    .dataframe tbody tr th {\n",
       "        vertical-align: top;\n",
       "    }\n",
       "\n",
       "    .dataframe thead th {\n",
       "        text-align: right;\n",
       "    }\n",
       "</style>\n",
       "<table border=\"1\" class=\"dataframe\">\n",
       "  <thead>\n",
       "    <tr style=\"text-align: right;\">\n",
       "      <th></th>\n",
       "      <th>concept_id</th>\n",
       "      <th>concept_name</th>\n",
       "      <th>domain_id</th>\n",
       "      <th>vocabulary_id</th>\n",
       "      <th>concept_class_id</th>\n",
       "      <th>standard_concept</th>\n",
       "      <th>concept_code</th>\n",
       "      <th>valid_start_date</th>\n",
       "      <th>valid_end_date</th>\n",
       "      <th>invalid_reason</th>\n",
       "    </tr>\n",
       "  </thead>\n",
       "  <tbody>\n",
       "    <tr>\n",
       "      <th>0</th>\n",
       "      <td>21600001</td>\n",
       "      <td>ALIMENTARY TRACT AND METABOLISM</td>\n",
       "      <td>Drug</td>\n",
       "      <td>ATC</td>\n",
       "      <td>ATC 1st</td>\n",
       "      <td>C</td>\n",
       "      <td>A</td>\n",
       "      <td>19700101</td>\n",
       "      <td>20991231</td>\n",
       "      <td>NaN</td>\n",
       "    </tr>\n",
       "    <tr>\n",
       "      <th>1</th>\n",
       "      <td>21600002</td>\n",
       "      <td>STOMATOLOGICAL PREPARATIONS</td>\n",
       "      <td>Drug</td>\n",
       "      <td>ATC</td>\n",
       "      <td>ATC 2nd</td>\n",
       "      <td>C</td>\n",
       "      <td>A01</td>\n",
       "      <td>19700101</td>\n",
       "      <td>20991231</td>\n",
       "      <td>NaN</td>\n",
       "    </tr>\n",
       "    <tr>\n",
       "      <th>2</th>\n",
       "      <td>21600003</td>\n",
       "      <td>STOMATOLOGICAL PREPARATIONS</td>\n",
       "      <td>Drug</td>\n",
       "      <td>ATC</td>\n",
       "      <td>ATC 3rd</td>\n",
       "      <td>C</td>\n",
       "      <td>A01A</td>\n",
       "      <td>19700101</td>\n",
       "      <td>20991231</td>\n",
       "      <td>NaN</td>\n",
       "    </tr>\n",
       "    <tr>\n",
       "      <th>3</th>\n",
       "      <td>21600004</td>\n",
       "      <td>Caries prophylactic agents</td>\n",
       "      <td>Drug</td>\n",
       "      <td>ATC</td>\n",
       "      <td>ATC 4th</td>\n",
       "      <td>C</td>\n",
       "      <td>A01AA</td>\n",
       "      <td>19700101</td>\n",
       "      <td>20991231</td>\n",
       "      <td>NaN</td>\n",
       "    </tr>\n",
       "    <tr>\n",
       "      <th>4</th>\n",
       "      <td>21600005</td>\n",
       "      <td>sodium fluoride; oral, local oral (caries prop...</td>\n",
       "      <td>Drug</td>\n",
       "      <td>ATC</td>\n",
       "      <td>ATC 5th</td>\n",
       "      <td>C</td>\n",
       "      <td>A01AA01</td>\n",
       "      <td>19700101</td>\n",
       "      <td>20991231</td>\n",
       "      <td>NaN</td>\n",
       "    </tr>\n",
       "  </tbody>\n",
       "</table>\n",
       "</div>"
      ],
      "text/plain": [
       "  concept_id                                       concept_name domain_id  \\\n",
       "0   21600001                    ALIMENTARY TRACT AND METABOLISM      Drug   \n",
       "1   21600002                        STOMATOLOGICAL PREPARATIONS      Drug   \n",
       "2   21600003                        STOMATOLOGICAL PREPARATIONS      Drug   \n",
       "3   21600004                         Caries prophylactic agents      Drug   \n",
       "4   21600005  sodium fluoride; oral, local oral (caries prop...      Drug   \n",
       "\n",
       "  vocabulary_id concept_class_id standard_concept concept_code  \\\n",
       "0           ATC          ATC 1st                C            A   \n",
       "1           ATC          ATC 2nd                C          A01   \n",
       "2           ATC          ATC 3rd                C         A01A   \n",
       "3           ATC          ATC 4th                C        A01AA   \n",
       "4           ATC          ATC 5th                C      A01AA01   \n",
       "\n",
       "   valid_start_date  valid_end_date invalid_reason  \n",
       "0          19700101        20991231            NaN  \n",
       "1          19700101        20991231            NaN  \n",
       "2          19700101        20991231            NaN  \n",
       "3          19700101        20991231            NaN  \n",
       "4          19700101        20991231            NaN  "
      ]
     },
     "execution_count": 18,
     "metadata": {},
     "output_type": "execute_result"
    }
   ],
   "source": [
    "concept = pd.read_csv(os.path.join(resource_directory, f'raw/{foldername}/CONCEPT.csv'),\n",
    "                      dtype={'concept_id': str, 'vocabulary_id': str, 'concept_class_id': str, 'concept_code': str},\n",
    "                      sep='\\t')\n",
    "concept.head()"
   ]
  },
  {
   "cell_type": "code",
   "execution_count": 19,
   "metadata": {
    "ExecuteTime": {
     "end_time": "2022-10-10T21:23:12.295978Z",
     "start_time": "2022-10-10T21:23:09.516435Z"
    }
   },
   "outputs": [
    {
     "data": {
      "text/html": [
       "<div>\n",
       "<style scoped>\n",
       "    .dataframe tbody tr th:only-of-type {\n",
       "        vertical-align: middle;\n",
       "    }\n",
       "\n",
       "    .dataframe tbody tr th {\n",
       "        vertical-align: top;\n",
       "    }\n",
       "\n",
       "    .dataframe thead th {\n",
       "        text-align: right;\n",
       "    }\n",
       "</style>\n",
       "<table border=\"1\" class=\"dataframe\">\n",
       "  <thead>\n",
       "    <tr style=\"text-align: right;\">\n",
       "      <th></th>\n",
       "      <th>concept_id_1</th>\n",
       "      <th>concept_id_2</th>\n",
       "      <th>relationship_id</th>\n",
       "      <th>valid_start_date</th>\n",
       "      <th>valid_end_date</th>\n",
       "      <th>invalid_reason</th>\n",
       "    </tr>\n",
       "  </thead>\n",
       "  <tbody>\n",
       "    <tr>\n",
       "      <th>0</th>\n",
       "      <td>45093654</td>\n",
       "      <td>1154196</td>\n",
       "      <td>Maps to</td>\n",
       "      <td>19700101</td>\n",
       "      <td>20991231</td>\n",
       "      <td>NaN</td>\n",
       "    </tr>\n",
       "    <tr>\n",
       "      <th>1</th>\n",
       "      <td>44923643</td>\n",
       "      <td>19035209</td>\n",
       "      <td>Maps to</td>\n",
       "      <td>19700101</td>\n",
       "      <td>20991231</td>\n",
       "      <td>NaN</td>\n",
       "    </tr>\n",
       "    <tr>\n",
       "      <th>2</th>\n",
       "      <td>45144409</td>\n",
       "      <td>19039121</td>\n",
       "      <td>Maps to</td>\n",
       "      <td>19700101</td>\n",
       "      <td>20991231</td>\n",
       "      <td>NaN</td>\n",
       "    </tr>\n",
       "    <tr>\n",
       "      <th>3</th>\n",
       "      <td>44849505</td>\n",
       "      <td>19133296</td>\n",
       "      <td>Maps to</td>\n",
       "      <td>20090101</td>\n",
       "      <td>20991231</td>\n",
       "      <td>NaN</td>\n",
       "    </tr>\n",
       "    <tr>\n",
       "      <th>4</th>\n",
       "      <td>19058667</td>\n",
       "      <td>19047727</td>\n",
       "      <td>Brand name of</td>\n",
       "      <td>20161007</td>\n",
       "      <td>20991231</td>\n",
       "      <td>NaN</td>\n",
       "    </tr>\n",
       "    <tr>\n",
       "      <th>...</th>\n",
       "      <td>...</td>\n",
       "      <td>...</td>\n",
       "      <td>...</td>\n",
       "      <td>...</td>\n",
       "      <td>...</td>\n",
       "      <td>...</td>\n",
       "    </tr>\n",
       "    <tr>\n",
       "      <th>4773359</th>\n",
       "      <td>40224172</td>\n",
       "      <td>827884</td>\n",
       "      <td>Mapped from</td>\n",
       "      <td>20210509</td>\n",
       "      <td>20991231</td>\n",
       "      <td>NaN</td>\n",
       "    </tr>\n",
       "    <tr>\n",
       "      <th>4773360</th>\n",
       "      <td>40224172</td>\n",
       "      <td>829918</td>\n",
       "      <td>Mapped from</td>\n",
       "      <td>20210509</td>\n",
       "      <td>20991231</td>\n",
       "      <td>NaN</td>\n",
       "    </tr>\n",
       "    <tr>\n",
       "      <th>4773361</th>\n",
       "      <td>40224166</td>\n",
       "      <td>829917</td>\n",
       "      <td>Mapped from</td>\n",
       "      <td>20210509</td>\n",
       "      <td>20991231</td>\n",
       "      <td>NaN</td>\n",
       "    </tr>\n",
       "    <tr>\n",
       "      <th>4773362</th>\n",
       "      <td>40224166</td>\n",
       "      <td>827886</td>\n",
       "      <td>Mapped from</td>\n",
       "      <td>20210509</td>\n",
       "      <td>20991231</td>\n",
       "      <td>NaN</td>\n",
       "    </tr>\n",
       "    <tr>\n",
       "      <th>4773363</th>\n",
       "      <td>19087978</td>\n",
       "      <td>45774915</td>\n",
       "      <td>Brand name of</td>\n",
       "      <td>20161007</td>\n",
       "      <td>20991231</td>\n",
       "      <td>NaN</td>\n",
       "    </tr>\n",
       "  </tbody>\n",
       "</table>\n",
       "<p>4773364 rows × 6 columns</p>\n",
       "</div>"
      ],
      "text/plain": [
       "        concept_id_1 concept_id_2 relationship_id  valid_start_date  \\\n",
       "0           45093654      1154196         Maps to          19700101   \n",
       "1           44923643     19035209         Maps to          19700101   \n",
       "2           45144409     19039121         Maps to          19700101   \n",
       "3           44849505     19133296         Maps to          20090101   \n",
       "4           19058667     19047727   Brand name of          20161007   \n",
       "...              ...          ...             ...               ...   \n",
       "4773359     40224172       827884     Mapped from          20210509   \n",
       "4773360     40224172       829918     Mapped from          20210509   \n",
       "4773361     40224166       829917     Mapped from          20210509   \n",
       "4773362     40224166       827886     Mapped from          20210509   \n",
       "4773363     19087978     45774915   Brand name of          20161007   \n",
       "\n",
       "         valid_end_date  invalid_reason  \n",
       "0              20991231             NaN  \n",
       "1              20991231             NaN  \n",
       "2              20991231             NaN  \n",
       "3              20991231             NaN  \n",
       "4              20991231             NaN  \n",
       "...                 ...             ...  \n",
       "4773359        20991231             NaN  \n",
       "4773360        20991231             NaN  \n",
       "4773361        20991231             NaN  \n",
       "4773362        20991231             NaN  \n",
       "4773363        20991231             NaN  \n",
       "\n",
       "[4773364 rows x 6 columns]"
      ]
     },
     "execution_count": 19,
     "metadata": {},
     "output_type": "execute_result"
    }
   ],
   "source": [
    "concept_relationship = pd.read_csv(os.path.join(resource_directory, f'raw/{foldername}/CONCEPT_RELATIONSHIP.csv'),\n",
    "                                   dtype={'concept_id_1': str, 'concept_id_2': str, 'relationship_id': str},\n",
    "                                   sep='\\t')\n",
    "concept_relationship"
   ]
  },
  {
   "cell_type": "code",
   "execution_count": 20,
   "metadata": {
    "ExecuteTime": {
     "end_time": "2022-10-10T21:23:13.512885Z",
     "start_time": "2022-10-10T21:23:12.297650Z"
    }
   },
   "outputs": [
    {
     "data": {
      "text/html": [
       "<div>\n",
       "<style scoped>\n",
       "    .dataframe tbody tr th:only-of-type {\n",
       "        vertical-align: middle;\n",
       "    }\n",
       "\n",
       "    .dataframe tbody tr th {\n",
       "        vertical-align: top;\n",
       "    }\n",
       "\n",
       "    .dataframe thead th {\n",
       "        text-align: right;\n",
       "    }\n",
       "</style>\n",
       "<table border=\"1\" class=\"dataframe\">\n",
       "  <thead>\n",
       "    <tr style=\"text-align: right;\">\n",
       "      <th></th>\n",
       "      <th>ancestor_concept_id</th>\n",
       "      <th>descendant_concept_id</th>\n",
       "      <th>min_levels_of_separation</th>\n",
       "      <th>max_levels_of_separation</th>\n",
       "    </tr>\n",
       "  </thead>\n",
       "  <tbody>\n",
       "    <tr>\n",
       "      <th>0</th>\n",
       "      <td>742267</td>\n",
       "      <td>40172924</td>\n",
       "      <td>2</td>\n",
       "      <td>3</td>\n",
       "    </tr>\n",
       "    <tr>\n",
       "      <th>1</th>\n",
       "      <td>703547</td>\n",
       "      <td>40090686</td>\n",
       "      <td>1</td>\n",
       "      <td>2</td>\n",
       "    </tr>\n",
       "    <tr>\n",
       "      <th>2</th>\n",
       "      <td>723013</td>\n",
       "      <td>19117335</td>\n",
       "      <td>1</td>\n",
       "      <td>1</td>\n",
       "    </tr>\n",
       "    <tr>\n",
       "      <th>3</th>\n",
       "      <td>561425</td>\n",
       "      <td>40233203</td>\n",
       "      <td>1</td>\n",
       "      <td>1</td>\n",
       "    </tr>\n",
       "    <tr>\n",
       "      <th>4</th>\n",
       "      <td>711584</td>\n",
       "      <td>1593324</td>\n",
       "      <td>2</td>\n",
       "      <td>3</td>\n",
       "    </tr>\n",
       "    <tr>\n",
       "      <th>...</th>\n",
       "      <td>...</td>\n",
       "      <td>...</td>\n",
       "      <td>...</td>\n",
       "      <td>...</td>\n",
       "    </tr>\n",
       "    <tr>\n",
       "      <th>3072534</th>\n",
       "      <td>45893526</td>\n",
       "      <td>46221584</td>\n",
       "      <td>2</td>\n",
       "      <td>3</td>\n",
       "    </tr>\n",
       "    <tr>\n",
       "      <th>3072535</th>\n",
       "      <td>45893526</td>\n",
       "      <td>46287704</td>\n",
       "      <td>1</td>\n",
       "      <td>1</td>\n",
       "    </tr>\n",
       "    <tr>\n",
       "      <th>3072536</th>\n",
       "      <td>45893526</td>\n",
       "      <td>46287705</td>\n",
       "      <td>1</td>\n",
       "      <td>2</td>\n",
       "    </tr>\n",
       "    <tr>\n",
       "      <th>3072537</th>\n",
       "      <td>45893526</td>\n",
       "      <td>46287706</td>\n",
       "      <td>2</td>\n",
       "      <td>3</td>\n",
       "    </tr>\n",
       "    <tr>\n",
       "      <th>3072538</th>\n",
       "      <td>45893529</td>\n",
       "      <td>44816302</td>\n",
       "      <td>0</td>\n",
       "      <td>0</td>\n",
       "    </tr>\n",
       "  </tbody>\n",
       "</table>\n",
       "<p>3072539 rows × 4 columns</p>\n",
       "</div>"
      ],
      "text/plain": [
       "        ancestor_concept_id descendant_concept_id  min_levels_of_separation  \\\n",
       "0                    742267              40172924                         2   \n",
       "1                    703547              40090686                         1   \n",
       "2                    723013              19117335                         1   \n",
       "3                    561425              40233203                         1   \n",
       "4                    711584               1593324                         2   \n",
       "...                     ...                   ...                       ...   \n",
       "3072534            45893526              46221584                         2   \n",
       "3072535            45893526              46287704                         1   \n",
       "3072536            45893526              46287705                         1   \n",
       "3072537            45893526              46287706                         2   \n",
       "3072538            45893529              44816302                         0   \n",
       "\n",
       "         max_levels_of_separation  \n",
       "0                               3  \n",
       "1                               2  \n",
       "2                               1  \n",
       "3                               1  \n",
       "4                               3  \n",
       "...                           ...  \n",
       "3072534                         3  \n",
       "3072535                         1  \n",
       "3072536                         2  \n",
       "3072537                         3  \n",
       "3072538                         0  \n",
       "\n",
       "[3072539 rows x 4 columns]"
      ]
     },
     "execution_count": 20,
     "metadata": {},
     "output_type": "execute_result"
    }
   ],
   "source": [
    "concept_ancestor = pd.read_csv(os.path.join(resource_directory, f'raw/{foldername}/CONCEPT_ANCESTOR.csv'),\n",
    "                               dtype={'ancestor_concept_id': str, 'descendant_concept_id': str},\n",
    "                               sep='\\t')\n",
    "concept_ancestor"
   ]
  },
  {
   "cell_type": "markdown",
   "metadata": {},
   "source": [
    "### base"
   ]
  },
  {
   "cell_type": "code",
   "execution_count": 21,
   "metadata": {
    "ExecuteTime": {
     "end_time": "2022-10-10T21:23:16.410473Z",
     "start_time": "2022-10-10T21:23:13.514472Z"
    }
   },
   "outputs": [
    {
     "name": "stderr",
     "output_type": "stream",
     "text": [
      "/var/folders/28/p3hkwj8169s656m2d0fhrbym0000gn/T/ipykernel_18599/237910732.py:2: SettingWithCopyWarning: \n",
      "A value is trying to be set on a copy of a slice from a DataFrame.\n",
      "Try using .loc[row_indexer,col_indexer] = value instead\n",
      "\n",
      "See the caveats in the documentation: https://pandas.pydata.org/pandas-docs/stable/user_guide/indexing.html#returning-a-view-versus-a-copy\n",
      "  data[\"code\"] = data.concept_code\n",
      "/var/folders/28/p3hkwj8169s656m2d0fhrbym0000gn/T/ipykernel_18599/237910732.py:3: SettingWithCopyWarning: \n",
      "A value is trying to be set on a copy of a slice from a DataFrame.\n",
      "Try using .loc[row_indexer,col_indexer] = value instead\n",
      "\n",
      "See the caveats in the documentation: https://pandas.pydata.org/pandas-docs/stable/user_guide/indexing.html#returning-a-view-versus-a-copy\n",
      "  data[\"name\"] = data.concept_name\n"
     ]
    },
    {
     "data": {
      "text/html": [
       "<div>\n",
       "<style scoped>\n",
       "    .dataframe tbody tr th:only-of-type {\n",
       "        vertical-align: middle;\n",
       "    }\n",
       "\n",
       "    .dataframe tbody tr th {\n",
       "        vertical-align: top;\n",
       "    }\n",
       "\n",
       "    .dataframe thead th {\n",
       "        text-align: right;\n",
       "    }\n",
       "</style>\n",
       "<table border=\"1\" class=\"dataframe\">\n",
       "  <thead>\n",
       "    <tr style=\"text-align: right;\">\n",
       "      <th></th>\n",
       "      <th>code</th>\n",
       "      <th>name</th>\n",
       "    </tr>\n",
       "  </thead>\n",
       "  <tbody>\n",
       "    <tr>\n",
       "      <th>8536</th>\n",
       "      <td>00000000001</td>\n",
       "      <td>ferric pyrophosphate citrate 5.44 MG/ML Inject...</td>\n",
       "    </tr>\n",
       "    <tr>\n",
       "      <th>8537</th>\n",
       "      <td>00002000001</td>\n",
       "      <td>Ergocalciferol 50000 UNT Oral Capsule [Deltalin]</td>\n",
       "    </tr>\n",
       "    <tr>\n",
       "      <th>8538</th>\n",
       "      <td>00002000002</td>\n",
       "      <td>Ergocalciferol 50000 UNT Oral Capsule [Deltalin]</td>\n",
       "    </tr>\n",
       "    <tr>\n",
       "      <th>8539</th>\n",
       "      <td>00002001402</td>\n",
       "      <td>Flurandrenolide 0.004 MG/SQCM Medicated Tape [...</td>\n",
       "    </tr>\n",
       "    <tr>\n",
       "      <th>8540</th>\n",
       "      <td>00002001801</td>\n",
       "      <td>Capreomycin 500 MG/ML Injectable Solution [Cap...</td>\n",
       "    </tr>\n",
       "  </tbody>\n",
       "</table>\n",
       "</div>"
      ],
      "text/plain": [
       "             code                                               name\n",
       "8536  00000000001  ferric pyrophosphate citrate 5.44 MG/ML Inject...\n",
       "8537  00002000001   Ergocalciferol 50000 UNT Oral Capsule [Deltalin]\n",
       "8538  00002000002   Ergocalciferol 50000 UNT Oral Capsule [Deltalin]\n",
       "8539  00002001402  Flurandrenolide 0.004 MG/SQCM Medicated Tape [...\n",
       "8540  00002001801  Capreomycin 500 MG/ML Injectable Solution [Cap..."
      ]
     },
     "execution_count": 21,
     "metadata": {},
     "output_type": "execute_result"
    }
   ],
   "source": [
    "data = concept[concept.vocabulary_id == 'NDC']\n",
    "data[\"code\"] = data.concept_code\n",
    "data[\"name\"] = data.concept_name\n",
    "data = data[[\"code\", \"name\"]]\n",
    "data = data.drop_duplicates().dropna()\n",
    "data.to_csv(os.path.join(resource_directory, 'processed/NDC.csv'), index=False)\n",
    "data.head()"
   ]
  },
  {
   "cell_type": "markdown",
   "metadata": {},
   "source": [
    "### to RxNorm"
   ]
  },
  {
   "cell_type": "code",
   "execution_count": 22,
   "metadata": {
    "ExecuteTime": {
     "end_time": "2022-10-10T21:23:20.310668Z",
     "start_time": "2022-10-10T21:23:16.412342Z"
    }
   },
   "outputs": [
    {
     "data": {
      "text/html": [
       "<div>\n",
       "<style scoped>\n",
       "    .dataframe tbody tr th:only-of-type {\n",
       "        vertical-align: middle;\n",
       "    }\n",
       "\n",
       "    .dataframe tbody tr th {\n",
       "        vertical-align: top;\n",
       "    }\n",
       "\n",
       "    .dataframe thead th {\n",
       "        text-align: right;\n",
       "    }\n",
       "</style>\n",
       "<table border=\"1\" class=\"dataframe\">\n",
       "  <thead>\n",
       "    <tr style=\"text-align: right;\">\n",
       "      <th></th>\n",
       "      <th>NDC</th>\n",
       "      <th>RxNorm</th>\n",
       "    </tr>\n",
       "  </thead>\n",
       "  <tbody>\n",
       "    <tr>\n",
       "      <th>0</th>\n",
       "      <td>00002000001</td>\n",
       "      <td>1367414</td>\n",
       "    </tr>\n",
       "    <tr>\n",
       "      <th>1</th>\n",
       "      <td>00002000002</td>\n",
       "      <td>1367414</td>\n",
       "    </tr>\n",
       "    <tr>\n",
       "      <th>2</th>\n",
       "      <td>00002001402</td>\n",
       "      <td>797697</td>\n",
       "    </tr>\n",
       "    <tr>\n",
       "      <th>3</th>\n",
       "      <td>000235870</td>\n",
       "      <td>797697</td>\n",
       "    </tr>\n",
       "    <tr>\n",
       "      <th>4</th>\n",
       "      <td>00023587024</td>\n",
       "      <td>797697</td>\n",
       "    </tr>\n",
       "  </tbody>\n",
       "</table>\n",
       "</div>"
      ],
      "text/plain": [
       "           NDC   RxNorm\n",
       "0  00002000001  1367414\n",
       "1  00002000002  1367414\n",
       "2  00002001402   797697\n",
       "3    000235870   797697\n",
       "4  00023587024   797697"
      ]
     },
     "execution_count": 22,
     "metadata": {},
     "output_type": "execute_result"
    }
   ],
   "source": [
    "concept_ndc = concept[concept.vocabulary_id == 'NDC']\n",
    "concept_relationship_maps_to = concept_relationship[concept_relationship.relationship_id == 'Maps to']\n",
    "concept_relationship_maps_to = concept_relationship_maps_to[pd.isna(concept_relationship_maps_to.invalid_reason)]\n",
    "concept_rxnorm = concept[concept.vocabulary_id == 'RxNorm']\n",
    "\n",
    "ndc_rxnorm = concept_ndc.merge(concept_relationship_maps_to, left_on='concept_id', right_on='concept_id_1', \n",
    "                                  how='inner', suffixes=('_ndc', '_r'))\n",
    "ndc_rxnorm = ndc_rxnorm.merge(concept_rxnorm, left_on='concept_id_2', right_on='concept_id', how='inner',\n",
    "                                   suffixes=('_ndc', '_rxnorm'))\n",
    "ndc_rxnorm = ndc_rxnorm[['concept_id_ndc', 'concept_name_ndc', 'concept_code_ndc',\n",
    "                               'concept_id_rxnorm', 'concept_name_rxnorm', 'concept_code_rxnorm']]\n",
    "\n",
    "data = pd.DataFrame()\n",
    "data[\"NDC\"] = ndc_rxnorm.concept_code_ndc\n",
    "data[\"RxNorm\"] = ndc_rxnorm.concept_code_rxnorm\n",
    "data.to_csv(os.path.join(resource_directory, 'processed/NDC_to_RxNorm.csv'), index=False)\n",
    "data.head()"
   ]
  },
  {
   "cell_type": "markdown",
   "metadata": {},
   "source": [
    "### to ATC"
   ]
  },
  {
   "cell_type": "code",
   "execution_count": 23,
   "metadata": {
    "ExecuteTime": {
     "end_time": "2022-10-10T21:23:28.546849Z",
     "start_time": "2022-10-10T21:23:20.313147Z"
    }
   },
   "outputs": [
    {
     "data": {
      "text/html": [
       "<div>\n",
       "<style scoped>\n",
       "    .dataframe tbody tr th:only-of-type {\n",
       "        vertical-align: middle;\n",
       "    }\n",
       "\n",
       "    .dataframe tbody tr th {\n",
       "        vertical-align: top;\n",
       "    }\n",
       "\n",
       "    .dataframe thead th {\n",
       "        text-align: right;\n",
       "    }\n",
       "</style>\n",
       "<table border=\"1\" class=\"dataframe\">\n",
       "  <thead>\n",
       "    <tr style=\"text-align: right;\">\n",
       "      <th></th>\n",
       "      <th>NDC</th>\n",
       "      <th>ATC</th>\n",
       "    </tr>\n",
       "  </thead>\n",
       "  <tbody>\n",
       "    <tr>\n",
       "      <th>0</th>\n",
       "      <td>00002000001</td>\n",
       "      <td>A11CC01</td>\n",
       "    </tr>\n",
       "    <tr>\n",
       "      <th>1</th>\n",
       "      <td>00002000002</td>\n",
       "      <td>A11CC01</td>\n",
       "    </tr>\n",
       "    <tr>\n",
       "      <th>2</th>\n",
       "      <td>00002026002</td>\n",
       "      <td>A11CC01</td>\n",
       "    </tr>\n",
       "    <tr>\n",
       "      <th>3</th>\n",
       "      <td>00115014000</td>\n",
       "      <td>A11CC01</td>\n",
       "    </tr>\n",
       "    <tr>\n",
       "      <th>4</th>\n",
       "      <td>00115014001</td>\n",
       "      <td>A11CC01</td>\n",
       "    </tr>\n",
       "  </tbody>\n",
       "</table>\n",
       "</div>"
      ],
      "text/plain": [
       "           NDC      ATC\n",
       "0  00002000001  A11CC01\n",
       "1  00002000002  A11CC01\n",
       "2  00002026002  A11CC01\n",
       "3  00115014000  A11CC01\n",
       "4  00115014001  A11CC01"
      ]
     },
     "execution_count": 23,
     "metadata": {},
     "output_type": "execute_result"
    }
   ],
   "source": [
    "# first convert NDC to RxNorm\n",
    "concept_ndc = concept[concept.vocabulary_id == 'NDC']\n",
    "concept_relationship_maps_to = concept_relationship[concept_relationship.relationship_id == 'Maps to']\n",
    "concept_relationship_maps_to = concept_relationship_maps_to[pd.isna(concept_relationship_maps_to.invalid_reason)]\n",
    "concept_rxnorm = concept[concept.vocabulary_id == 'RxNorm']\n",
    "\n",
    "ndc_rxnorm = concept_ndc.merge(concept_relationship_maps_to, left_on='concept_id', right_on='concept_id_1', \n",
    "                                  how='inner', suffixes=('_ndc', '_r'))\n",
    "ndc_rxnorm = ndc_rxnorm.merge(concept_rxnorm, left_on='concept_id_2', right_on='concept_id', how='inner',\n",
    "                                   suffixes=('_ndc', '_rxnorm'))\n",
    "ndc_rxnorm = ndc_rxnorm[['concept_id_ndc', 'concept_name_ndc', 'concept_code_ndc',\n",
    "                               'concept_id_rxnorm', 'concept_name_rxnorm', 'concept_code_rxnorm']]\n",
    "\n",
    "# then convert RxNorm to ATC5\n",
    "concept_atc5 = concept[concept.vocabulary_id == 'ATC']\n",
    "concept_atc5 = concept_atc5[concept_atc5.concept_class_id == 'ATC 5th']\n",
    "\n",
    "ndc_rxnorm_atc5 = ndc_rxnorm.merge(concept_ancestor, left_on='concept_id_rxnorm', right_on='descendant_concept_id',\n",
    "                                     how='inner', suffixes=('_rxnorm', '_r'))\n",
    "ndc_rxnorm_atc5 = ndc_rxnorm_atc5.merge(concept_atc5, left_on='ancestor_concept_id', right_on='concept_id', how='inner',\n",
    "                              suffixes=('_rxnorm', '_atc'))\n",
    "ndc_rxnorm_atc5 = ndc_rxnorm_atc5.rename(columns={'concept_id': 'concept_id_atc5', \n",
    "                                        'concept_name': 'concept_name_atc5',  \n",
    "                                        'concept_code': 'concept_code_atc5'})\n",
    "ndc_rxnorm_atc5 = ndc_rxnorm_atc5[['concept_id_ndc', 'concept_name_ndc', 'concept_code_ndc',\n",
    "                         'concept_id_rxnorm', 'concept_name_rxnorm', 'concept_code_rxnorm',\n",
    "                         'concept_id_atc5', 'concept_name_atc5', 'concept_code_atc5']]\n",
    "\n",
    "data = pd.DataFrame()\n",
    "data[\"NDC\"] = ndc_rxnorm_atc5.concept_code_ndc\n",
    "data[\"ATC\"] = ndc_rxnorm_atc5.concept_code_atc5\n",
    "data.to_csv(os.path.join(resource_directory, 'processed/NDC_to_ATC.csv'), index=False)\n",
    "data.head()"
   ]
  },
  {
   "cell_type": "markdown",
   "metadata": {},
   "source": [
    "## RxNorm\n",
    "\n",
    "Download NDC, RxNorm, ATC from https://athena.ohdsi.org/vocabulary/list"
   ]
  },
  {
   "cell_type": "code",
   "execution_count": 24,
   "metadata": {
    "ExecuteTime": {
     "end_time": "2022-10-10T21:23:28.551877Z",
     "start_time": "2022-10-10T21:23:28.549290Z"
    }
   },
   "outputs": [],
   "source": [
    "foldername = 'NDC_RxNorm_ATC'"
   ]
  },
  {
   "cell_type": "code",
   "execution_count": 25,
   "metadata": {
    "ExecuteTime": {
     "end_time": "2022-10-10T21:23:30.781332Z",
     "start_time": "2022-10-10T21:23:28.553843Z"
    }
   },
   "outputs": [
    {
     "name": "stderr",
     "output_type": "stream",
     "text": [
      "/Users/zzachw/miniconda3/envs/pytorch19/lib/python3.8/site-packages/IPython/core/interactiveshell.py:3441: DtypeWarning: Columns (9) have mixed types.Specify dtype option on import or set low_memory=False.\n",
      "  exec(code_obj, self.user_global_ns, self.user_ns)\n"
     ]
    },
    {
     "data": {
      "text/html": [
       "<div>\n",
       "<style scoped>\n",
       "    .dataframe tbody tr th:only-of-type {\n",
       "        vertical-align: middle;\n",
       "    }\n",
       "\n",
       "    .dataframe tbody tr th {\n",
       "        vertical-align: top;\n",
       "    }\n",
       "\n",
       "    .dataframe thead th {\n",
       "        text-align: right;\n",
       "    }\n",
       "</style>\n",
       "<table border=\"1\" class=\"dataframe\">\n",
       "  <thead>\n",
       "    <tr style=\"text-align: right;\">\n",
       "      <th></th>\n",
       "      <th>concept_id</th>\n",
       "      <th>concept_name</th>\n",
       "      <th>domain_id</th>\n",
       "      <th>vocabulary_id</th>\n",
       "      <th>concept_class_id</th>\n",
       "      <th>standard_concept</th>\n",
       "      <th>concept_code</th>\n",
       "      <th>valid_start_date</th>\n",
       "      <th>valid_end_date</th>\n",
       "      <th>invalid_reason</th>\n",
       "    </tr>\n",
       "  </thead>\n",
       "  <tbody>\n",
       "    <tr>\n",
       "      <th>0</th>\n",
       "      <td>21600001</td>\n",
       "      <td>ALIMENTARY TRACT AND METABOLISM</td>\n",
       "      <td>Drug</td>\n",
       "      <td>ATC</td>\n",
       "      <td>ATC 1st</td>\n",
       "      <td>C</td>\n",
       "      <td>A</td>\n",
       "      <td>19700101</td>\n",
       "      <td>20991231</td>\n",
       "      <td>NaN</td>\n",
       "    </tr>\n",
       "    <tr>\n",
       "      <th>1</th>\n",
       "      <td>21600002</td>\n",
       "      <td>STOMATOLOGICAL PREPARATIONS</td>\n",
       "      <td>Drug</td>\n",
       "      <td>ATC</td>\n",
       "      <td>ATC 2nd</td>\n",
       "      <td>C</td>\n",
       "      <td>A01</td>\n",
       "      <td>19700101</td>\n",
       "      <td>20991231</td>\n",
       "      <td>NaN</td>\n",
       "    </tr>\n",
       "    <tr>\n",
       "      <th>2</th>\n",
       "      <td>21600003</td>\n",
       "      <td>STOMATOLOGICAL PREPARATIONS</td>\n",
       "      <td>Drug</td>\n",
       "      <td>ATC</td>\n",
       "      <td>ATC 3rd</td>\n",
       "      <td>C</td>\n",
       "      <td>A01A</td>\n",
       "      <td>19700101</td>\n",
       "      <td>20991231</td>\n",
       "      <td>NaN</td>\n",
       "    </tr>\n",
       "    <tr>\n",
       "      <th>3</th>\n",
       "      <td>21600004</td>\n",
       "      <td>Caries prophylactic agents</td>\n",
       "      <td>Drug</td>\n",
       "      <td>ATC</td>\n",
       "      <td>ATC 4th</td>\n",
       "      <td>C</td>\n",
       "      <td>A01AA</td>\n",
       "      <td>19700101</td>\n",
       "      <td>20991231</td>\n",
       "      <td>NaN</td>\n",
       "    </tr>\n",
       "    <tr>\n",
       "      <th>4</th>\n",
       "      <td>21600005</td>\n",
       "      <td>sodium fluoride; oral, local oral (caries prop...</td>\n",
       "      <td>Drug</td>\n",
       "      <td>ATC</td>\n",
       "      <td>ATC 5th</td>\n",
       "      <td>C</td>\n",
       "      <td>A01AA01</td>\n",
       "      <td>19700101</td>\n",
       "      <td>20991231</td>\n",
       "      <td>NaN</td>\n",
       "    </tr>\n",
       "  </tbody>\n",
       "</table>\n",
       "</div>"
      ],
      "text/plain": [
       "  concept_id                                       concept_name domain_id  \\\n",
       "0   21600001                    ALIMENTARY TRACT AND METABOLISM      Drug   \n",
       "1   21600002                        STOMATOLOGICAL PREPARATIONS      Drug   \n",
       "2   21600003                        STOMATOLOGICAL PREPARATIONS      Drug   \n",
       "3   21600004                         Caries prophylactic agents      Drug   \n",
       "4   21600005  sodium fluoride; oral, local oral (caries prop...      Drug   \n",
       "\n",
       "  vocabulary_id concept_class_id standard_concept concept_code  \\\n",
       "0           ATC          ATC 1st                C            A   \n",
       "1           ATC          ATC 2nd                C          A01   \n",
       "2           ATC          ATC 3rd                C         A01A   \n",
       "3           ATC          ATC 4th                C        A01AA   \n",
       "4           ATC          ATC 5th                C      A01AA01   \n",
       "\n",
       "   valid_start_date  valid_end_date invalid_reason  \n",
       "0          19700101        20991231            NaN  \n",
       "1          19700101        20991231            NaN  \n",
       "2          19700101        20991231            NaN  \n",
       "3          19700101        20991231            NaN  \n",
       "4          19700101        20991231            NaN  "
      ]
     },
     "execution_count": 25,
     "metadata": {},
     "output_type": "execute_result"
    }
   ],
   "source": [
    "concept = pd.read_csv(os.path.join(resource_directory, f'raw/{foldername}/CONCEPT.csv'),\n",
    "                      dtype={'concept_id': str, 'vocabulary_id': str, 'concept_class_id': str, 'concept_code': str},\n",
    "                      sep='\\t')\n",
    "concept.head()"
   ]
  },
  {
   "cell_type": "code",
   "execution_count": 26,
   "metadata": {
    "ExecuteTime": {
     "end_time": "2022-10-10T21:23:33.404264Z",
     "start_time": "2022-10-10T21:23:30.783058Z"
    }
   },
   "outputs": [
    {
     "data": {
      "text/html": [
       "<div>\n",
       "<style scoped>\n",
       "    .dataframe tbody tr th:only-of-type {\n",
       "        vertical-align: middle;\n",
       "    }\n",
       "\n",
       "    .dataframe tbody tr th {\n",
       "        vertical-align: top;\n",
       "    }\n",
       "\n",
       "    .dataframe thead th {\n",
       "        text-align: right;\n",
       "    }\n",
       "</style>\n",
       "<table border=\"1\" class=\"dataframe\">\n",
       "  <thead>\n",
       "    <tr style=\"text-align: right;\">\n",
       "      <th></th>\n",
       "      <th>concept_id_1</th>\n",
       "      <th>concept_id_2</th>\n",
       "      <th>relationship_id</th>\n",
       "      <th>valid_start_date</th>\n",
       "      <th>valid_end_date</th>\n",
       "      <th>invalid_reason</th>\n",
       "    </tr>\n",
       "  </thead>\n",
       "  <tbody>\n",
       "    <tr>\n",
       "      <th>0</th>\n",
       "      <td>45093654</td>\n",
       "      <td>1154196</td>\n",
       "      <td>Maps to</td>\n",
       "      <td>19700101</td>\n",
       "      <td>20991231</td>\n",
       "      <td>NaN</td>\n",
       "    </tr>\n",
       "    <tr>\n",
       "      <th>1</th>\n",
       "      <td>44923643</td>\n",
       "      <td>19035209</td>\n",
       "      <td>Maps to</td>\n",
       "      <td>19700101</td>\n",
       "      <td>20991231</td>\n",
       "      <td>NaN</td>\n",
       "    </tr>\n",
       "    <tr>\n",
       "      <th>2</th>\n",
       "      <td>45144409</td>\n",
       "      <td>19039121</td>\n",
       "      <td>Maps to</td>\n",
       "      <td>19700101</td>\n",
       "      <td>20991231</td>\n",
       "      <td>NaN</td>\n",
       "    </tr>\n",
       "    <tr>\n",
       "      <th>3</th>\n",
       "      <td>44849505</td>\n",
       "      <td>19133296</td>\n",
       "      <td>Maps to</td>\n",
       "      <td>20090101</td>\n",
       "      <td>20991231</td>\n",
       "      <td>NaN</td>\n",
       "    </tr>\n",
       "    <tr>\n",
       "      <th>4</th>\n",
       "      <td>19058667</td>\n",
       "      <td>19047727</td>\n",
       "      <td>Brand name of</td>\n",
       "      <td>20161007</td>\n",
       "      <td>20991231</td>\n",
       "      <td>NaN</td>\n",
       "    </tr>\n",
       "    <tr>\n",
       "      <th>...</th>\n",
       "      <td>...</td>\n",
       "      <td>...</td>\n",
       "      <td>...</td>\n",
       "      <td>...</td>\n",
       "      <td>...</td>\n",
       "      <td>...</td>\n",
       "    </tr>\n",
       "    <tr>\n",
       "      <th>4773359</th>\n",
       "      <td>40224172</td>\n",
       "      <td>827884</td>\n",
       "      <td>Mapped from</td>\n",
       "      <td>20210509</td>\n",
       "      <td>20991231</td>\n",
       "      <td>NaN</td>\n",
       "    </tr>\n",
       "    <tr>\n",
       "      <th>4773360</th>\n",
       "      <td>40224172</td>\n",
       "      <td>829918</td>\n",
       "      <td>Mapped from</td>\n",
       "      <td>20210509</td>\n",
       "      <td>20991231</td>\n",
       "      <td>NaN</td>\n",
       "    </tr>\n",
       "    <tr>\n",
       "      <th>4773361</th>\n",
       "      <td>40224166</td>\n",
       "      <td>829917</td>\n",
       "      <td>Mapped from</td>\n",
       "      <td>20210509</td>\n",
       "      <td>20991231</td>\n",
       "      <td>NaN</td>\n",
       "    </tr>\n",
       "    <tr>\n",
       "      <th>4773362</th>\n",
       "      <td>40224166</td>\n",
       "      <td>827886</td>\n",
       "      <td>Mapped from</td>\n",
       "      <td>20210509</td>\n",
       "      <td>20991231</td>\n",
       "      <td>NaN</td>\n",
       "    </tr>\n",
       "    <tr>\n",
       "      <th>4773363</th>\n",
       "      <td>19087978</td>\n",
       "      <td>45774915</td>\n",
       "      <td>Brand name of</td>\n",
       "      <td>20161007</td>\n",
       "      <td>20991231</td>\n",
       "      <td>NaN</td>\n",
       "    </tr>\n",
       "  </tbody>\n",
       "</table>\n",
       "<p>4773364 rows × 6 columns</p>\n",
       "</div>"
      ],
      "text/plain": [
       "        concept_id_1 concept_id_2 relationship_id  valid_start_date  \\\n",
       "0           45093654      1154196         Maps to          19700101   \n",
       "1           44923643     19035209         Maps to          19700101   \n",
       "2           45144409     19039121         Maps to          19700101   \n",
       "3           44849505     19133296         Maps to          20090101   \n",
       "4           19058667     19047727   Brand name of          20161007   \n",
       "...              ...          ...             ...               ...   \n",
       "4773359     40224172       827884     Mapped from          20210509   \n",
       "4773360     40224172       829918     Mapped from          20210509   \n",
       "4773361     40224166       829917     Mapped from          20210509   \n",
       "4773362     40224166       827886     Mapped from          20210509   \n",
       "4773363     19087978     45774915   Brand name of          20161007   \n",
       "\n",
       "         valid_end_date  invalid_reason  \n",
       "0              20991231             NaN  \n",
       "1              20991231             NaN  \n",
       "2              20991231             NaN  \n",
       "3              20991231             NaN  \n",
       "4              20991231             NaN  \n",
       "...                 ...             ...  \n",
       "4773359        20991231             NaN  \n",
       "4773360        20991231             NaN  \n",
       "4773361        20991231             NaN  \n",
       "4773362        20991231             NaN  \n",
       "4773363        20991231             NaN  \n",
       "\n",
       "[4773364 rows x 6 columns]"
      ]
     },
     "execution_count": 26,
     "metadata": {},
     "output_type": "execute_result"
    }
   ],
   "source": [
    "concept_relationship = pd.read_csv(os.path.join(resource_directory, f'raw/{foldername}/CONCEPT_RELATIONSHIP.csv'),\n",
    "                                   dtype={'concept_id_1': str, 'concept_id_2': str, 'relationship_id': str},\n",
    "                                   sep='\\t')\n",
    "concept_relationship"
   ]
  },
  {
   "cell_type": "code",
   "execution_count": 27,
   "metadata": {
    "ExecuteTime": {
     "end_time": "2022-10-10T21:23:34.597487Z",
     "start_time": "2022-10-10T21:23:33.410216Z"
    }
   },
   "outputs": [
    {
     "data": {
      "text/html": [
       "<div>\n",
       "<style scoped>\n",
       "    .dataframe tbody tr th:only-of-type {\n",
       "        vertical-align: middle;\n",
       "    }\n",
       "\n",
       "    .dataframe tbody tr th {\n",
       "        vertical-align: top;\n",
       "    }\n",
       "\n",
       "    .dataframe thead th {\n",
       "        text-align: right;\n",
       "    }\n",
       "</style>\n",
       "<table border=\"1\" class=\"dataframe\">\n",
       "  <thead>\n",
       "    <tr style=\"text-align: right;\">\n",
       "      <th></th>\n",
       "      <th>ancestor_concept_id</th>\n",
       "      <th>descendant_concept_id</th>\n",
       "      <th>min_levels_of_separation</th>\n",
       "      <th>max_levels_of_separation</th>\n",
       "    </tr>\n",
       "  </thead>\n",
       "  <tbody>\n",
       "    <tr>\n",
       "      <th>0</th>\n",
       "      <td>742267</td>\n",
       "      <td>40172924</td>\n",
       "      <td>2</td>\n",
       "      <td>3</td>\n",
       "    </tr>\n",
       "    <tr>\n",
       "      <th>1</th>\n",
       "      <td>703547</td>\n",
       "      <td>40090686</td>\n",
       "      <td>1</td>\n",
       "      <td>2</td>\n",
       "    </tr>\n",
       "    <tr>\n",
       "      <th>2</th>\n",
       "      <td>723013</td>\n",
       "      <td>19117335</td>\n",
       "      <td>1</td>\n",
       "      <td>1</td>\n",
       "    </tr>\n",
       "    <tr>\n",
       "      <th>3</th>\n",
       "      <td>561425</td>\n",
       "      <td>40233203</td>\n",
       "      <td>1</td>\n",
       "      <td>1</td>\n",
       "    </tr>\n",
       "    <tr>\n",
       "      <th>4</th>\n",
       "      <td>711584</td>\n",
       "      <td>1593324</td>\n",
       "      <td>2</td>\n",
       "      <td>3</td>\n",
       "    </tr>\n",
       "    <tr>\n",
       "      <th>...</th>\n",
       "      <td>...</td>\n",
       "      <td>...</td>\n",
       "      <td>...</td>\n",
       "      <td>...</td>\n",
       "    </tr>\n",
       "    <tr>\n",
       "      <th>3072534</th>\n",
       "      <td>45893526</td>\n",
       "      <td>46221584</td>\n",
       "      <td>2</td>\n",
       "      <td>3</td>\n",
       "    </tr>\n",
       "    <tr>\n",
       "      <th>3072535</th>\n",
       "      <td>45893526</td>\n",
       "      <td>46287704</td>\n",
       "      <td>1</td>\n",
       "      <td>1</td>\n",
       "    </tr>\n",
       "    <tr>\n",
       "      <th>3072536</th>\n",
       "      <td>45893526</td>\n",
       "      <td>46287705</td>\n",
       "      <td>1</td>\n",
       "      <td>2</td>\n",
       "    </tr>\n",
       "    <tr>\n",
       "      <th>3072537</th>\n",
       "      <td>45893526</td>\n",
       "      <td>46287706</td>\n",
       "      <td>2</td>\n",
       "      <td>3</td>\n",
       "    </tr>\n",
       "    <tr>\n",
       "      <th>3072538</th>\n",
       "      <td>45893529</td>\n",
       "      <td>44816302</td>\n",
       "      <td>0</td>\n",
       "      <td>0</td>\n",
       "    </tr>\n",
       "  </tbody>\n",
       "</table>\n",
       "<p>3072539 rows × 4 columns</p>\n",
       "</div>"
      ],
      "text/plain": [
       "        ancestor_concept_id descendant_concept_id  min_levels_of_separation  \\\n",
       "0                    742267              40172924                         2   \n",
       "1                    703547              40090686                         1   \n",
       "2                    723013              19117335                         1   \n",
       "3                    561425              40233203                         1   \n",
       "4                    711584               1593324                         2   \n",
       "...                     ...                   ...                       ...   \n",
       "3072534            45893526              46221584                         2   \n",
       "3072535            45893526              46287704                         1   \n",
       "3072536            45893526              46287705                         1   \n",
       "3072537            45893526              46287706                         2   \n",
       "3072538            45893529              44816302                         0   \n",
       "\n",
       "         max_levels_of_separation  \n",
       "0                               3  \n",
       "1                               2  \n",
       "2                               1  \n",
       "3                               1  \n",
       "4                               3  \n",
       "...                           ...  \n",
       "3072534                         3  \n",
       "3072535                         1  \n",
       "3072536                         2  \n",
       "3072537                         3  \n",
       "3072538                         0  \n",
       "\n",
       "[3072539 rows x 4 columns]"
      ]
     },
     "execution_count": 27,
     "metadata": {},
     "output_type": "execute_result"
    }
   ],
   "source": [
    "concept_ancestor = pd.read_csv(os.path.join(resource_directory, f'raw/{foldername}/CONCEPT_ANCESTOR.csv'),\n",
    "                               dtype={'ancestor_concept_id': str, 'descendant_concept_id': str},\n",
    "                               sep='\\t')\n",
    "concept_ancestor"
   ]
  },
  {
   "cell_type": "markdown",
   "metadata": {},
   "source": [
    "### base"
   ]
  },
  {
   "cell_type": "code",
   "execution_count": 28,
   "metadata": {
    "ExecuteTime": {
     "end_time": "2022-10-10T21:23:35.442351Z",
     "start_time": "2022-10-10T21:23:34.599310Z"
    }
   },
   "outputs": [
    {
     "name": "stderr",
     "output_type": "stream",
     "text": [
      "/var/folders/28/p3hkwj8169s656m2d0fhrbym0000gn/T/ipykernel_18599/2609616381.py:2: SettingWithCopyWarning: \n",
      "A value is trying to be set on a copy of a slice from a DataFrame.\n",
      "Try using .loc[row_indexer,col_indexer] = value instead\n",
      "\n",
      "See the caveats in the documentation: https://pandas.pydata.org/pandas-docs/stable/user_guide/indexing.html#returning-a-view-versus-a-copy\n",
      "  data[\"code\"] = data.concept_code\n",
      "/var/folders/28/p3hkwj8169s656m2d0fhrbym0000gn/T/ipykernel_18599/2609616381.py:3: SettingWithCopyWarning: \n",
      "A value is trying to be set on a copy of a slice from a DataFrame.\n",
      "Try using .loc[row_indexer,col_indexer] = value instead\n",
      "\n",
      "See the caveats in the documentation: https://pandas.pydata.org/pandas-docs/stable/user_guide/indexing.html#returning-a-view-versus-a-copy\n",
      "  data[\"name\"] = data.concept_name\n"
     ]
    },
    {
     "data": {
      "text/html": [
       "<div>\n",
       "<style scoped>\n",
       "    .dataframe tbody tr th:only-of-type {\n",
       "        vertical-align: middle;\n",
       "    }\n",
       "\n",
       "    .dataframe tbody tr th {\n",
       "        vertical-align: top;\n",
       "    }\n",
       "\n",
       "    .dataframe thead th {\n",
       "        text-align: right;\n",
       "    }\n",
       "</style>\n",
       "<table border=\"1\" class=\"dataframe\">\n",
       "  <thead>\n",
       "    <tr style=\"text-align: right;\">\n",
       "      <th></th>\n",
       "      <th>code</th>\n",
       "      <th>name</th>\n",
       "    </tr>\n",
       "  </thead>\n",
       "  <tbody>\n",
       "    <tr>\n",
       "      <th>1299328</th>\n",
       "      <td>1000000</td>\n",
       "      <td>amlodipine 5 MG / hydrochlorothiazide 12.5 MG ...</td>\n",
       "    </tr>\n",
       "    <tr>\n",
       "      <th>1299329</th>\n",
       "      <td>1000001</td>\n",
       "      <td>amlodipine 5 MG / hydrochlorothiazide 25 MG / ...</td>\n",
       "    </tr>\n",
       "    <tr>\n",
       "      <th>1299330</th>\n",
       "      <td>1000002</td>\n",
       "      <td>Tribenzor 40/5/25</td>\n",
       "    </tr>\n",
       "    <tr>\n",
       "      <th>1299331</th>\n",
       "      <td>1000003</td>\n",
       "      <td>amlodipine 5 MG / hydrochlorothiazide 25 MG / ...</td>\n",
       "    </tr>\n",
       "    <tr>\n",
       "      <th>1299332</th>\n",
       "      <td>1000004</td>\n",
       "      <td>Amlodipine / Hydrochlorothiazide / Olmesartan ...</td>\n",
       "    </tr>\n",
       "  </tbody>\n",
       "</table>\n",
       "</div>"
      ],
      "text/plain": [
       "            code                                               name\n",
       "1299328  1000000  amlodipine 5 MG / hydrochlorothiazide 12.5 MG ...\n",
       "1299329  1000001  amlodipine 5 MG / hydrochlorothiazide 25 MG / ...\n",
       "1299330  1000002                                  Tribenzor 40/5/25\n",
       "1299331  1000003  amlodipine 5 MG / hydrochlorothiazide 25 MG / ...\n",
       "1299332  1000004  Amlodipine / Hydrochlorothiazide / Olmesartan ..."
      ]
     },
     "execution_count": 28,
     "metadata": {},
     "output_type": "execute_result"
    }
   ],
   "source": [
    "data = concept[concept.vocabulary_id == 'RxNorm']\n",
    "data[\"code\"] = data.concept_code\n",
    "data[\"name\"] = data.concept_name\n",
    "data = data[[\"code\", \"name\"]]\n",
    "data = data.drop_duplicates().dropna()\n",
    "data.to_csv(os.path.join(resource_directory, 'processed/RxNorm.csv'), index=False)\n",
    "data.head()"
   ]
  },
  {
   "cell_type": "markdown",
   "metadata": {},
   "source": [
    "### to ATC"
   ]
  },
  {
   "cell_type": "code",
   "execution_count": 29,
   "metadata": {
    "ExecuteTime": {
     "end_time": "2022-10-10T21:23:39.248186Z",
     "start_time": "2022-10-10T21:23:35.443530Z"
    }
   },
   "outputs": [
    {
     "data": {
      "text/html": [
       "<div>\n",
       "<style scoped>\n",
       "    .dataframe tbody tr th:only-of-type {\n",
       "        vertical-align: middle;\n",
       "    }\n",
       "\n",
       "    .dataframe tbody tr th {\n",
       "        vertical-align: top;\n",
       "    }\n",
       "\n",
       "    .dataframe thead th {\n",
       "        text-align: right;\n",
       "    }\n",
       "</style>\n",
       "<table border=\"1\" class=\"dataframe\">\n",
       "  <thead>\n",
       "    <tr style=\"text-align: right;\">\n",
       "      <th></th>\n",
       "      <th>RxNorm</th>\n",
       "      <th>ATC</th>\n",
       "    </tr>\n",
       "  </thead>\n",
       "  <tbody>\n",
       "    <tr>\n",
       "      <th>0</th>\n",
       "      <td>1000000</td>\n",
       "      <td>C09DA08</td>\n",
       "    </tr>\n",
       "    <tr>\n",
       "      <th>1</th>\n",
       "      <td>1000001</td>\n",
       "      <td>C09DA08</td>\n",
       "    </tr>\n",
       "    <tr>\n",
       "      <th>2</th>\n",
       "      <td>1000003</td>\n",
       "      <td>C09DA08</td>\n",
       "    </tr>\n",
       "    <tr>\n",
       "      <th>3</th>\n",
       "      <td>1000005</td>\n",
       "      <td>C09DA08</td>\n",
       "    </tr>\n",
       "    <tr>\n",
       "      <th>4</th>\n",
       "      <td>10763</td>\n",
       "      <td>C09DA08</td>\n",
       "    </tr>\n",
       "  </tbody>\n",
       "</table>\n",
       "</div>"
      ],
      "text/plain": [
       "    RxNorm      ATC\n",
       "0  1000000  C09DA08\n",
       "1  1000001  C09DA08\n",
       "2  1000003  C09DA08\n",
       "3  1000005  C09DA08\n",
       "4    10763  C09DA08"
      ]
     },
     "execution_count": 29,
     "metadata": {},
     "output_type": "execute_result"
    }
   ],
   "source": [
    "concept_rxnorm = concept[concept.vocabulary_id == 'RxNorm']\n",
    "concept_atc5 = concept[concept.vocabulary_id == 'ATC']\n",
    "concept_atc5 = concept_atc5[concept_atc5.concept_class_id == 'ATC 5th']\n",
    "\n",
    "rxnorm_atc5 = concept_rxnorm.merge(concept_ancestor, left_on='concept_id', right_on='descendant_concept_id',\n",
    "                                   how='inner', suffixes=('_rxnorm', '_r'))\n",
    "rxnorm_atc5 = rxnorm_atc5.merge(concept_atc5, left_on='ancestor_concept_id', right_on='concept_id', how='inner',\n",
    "                                suffixes=('_rxnorm', '_atc'))\n",
    "rxnorm_atc5 = rxnorm_atc5[['concept_id_rxnorm', 'concept_name_rxnorm', 'concept_code_rxnorm',\n",
    "                           'concept_id_atc', 'concept_name_atc', 'concept_code_atc']]\n",
    "\n",
    "data = pd.DataFrame()\n",
    "data[\"RxNorm\"] = rxnorm_atc5.concept_code_rxnorm\n",
    "data[\"ATC\"] = rxnorm_atc5.concept_code_atc\n",
    "data.to_csv(os.path.join(resource_directory, 'processed/RxNorm_to_ATC.csv'), index=False)\n",
    "data.head()"
   ]
  },
  {
   "cell_type": "markdown",
   "metadata": {},
   "source": [
    "## ATC"
   ]
  },
  {
   "cell_type": "markdown",
   "metadata": {},
   "source": [
    "### base"
   ]
  },
  {
   "cell_type": "code",
   "execution_count": 30,
   "metadata": {
    "ExecuteTime": {
     "end_time": "2022-10-10T21:23:39.255574Z",
     "start_time": "2022-10-10T21:23:39.250541Z"
    }
   },
   "outputs": [
    {
     "data": {
      "text/plain": [
       "'V10XA'"
      ]
     },
     "execution_count": 30,
     "metadata": {},
     "output_type": "execute_result"
    }
   ],
   "source": [
    "def get_atc_parent(code: str):\n",
    "    \"\"\"Get parent code of ATC code\"\"\"\n",
    "    if len(code) == 7:\n",
    "        return code[:5]\n",
    "    elif len(code) == 5:\n",
    "        return code[:4]\n",
    "    elif len(code) == 4:\n",
    "        return code[:3]\n",
    "    elif len(code) == 3:\n",
    "        return code[:1]\n",
    "    else:\n",
    "        return \"\"\n",
    "    \n",
    "get_atc_parent(\"V10XA53\")"
   ]
  },
  {
   "cell_type": "code",
   "execution_count": 31,
   "metadata": {
    "ExecuteTime": {
     "end_time": "2022-10-10T21:23:39.296906Z",
     "start_time": "2022-10-10T21:23:39.256844Z"
    }
   },
   "outputs": [
    {
     "data": {
      "text/html": [
       "<div>\n",
       "<style scoped>\n",
       "    .dataframe tbody tr th:only-of-type {\n",
       "        vertical-align: middle;\n",
       "    }\n",
       "\n",
       "    .dataframe tbody tr th {\n",
       "        vertical-align: top;\n",
       "    }\n",
       "\n",
       "    .dataframe thead th {\n",
       "        text-align: right;\n",
       "    }\n",
       "</style>\n",
       "<table border=\"1\" class=\"dataframe\">\n",
       "  <thead>\n",
       "    <tr style=\"text-align: right;\">\n",
       "      <th></th>\n",
       "      <th>code</th>\n",
       "      <th>parent_code</th>\n",
       "      <th>name</th>\n",
       "      <th>level</th>\n",
       "    </tr>\n",
       "  </thead>\n",
       "  <tbody>\n",
       "    <tr>\n",
       "      <th>5732</th>\n",
       "      <td>A</td>\n",
       "      <td></td>\n",
       "      <td>ALIMENTARY TRACT AND METABOLISM DRUGS</td>\n",
       "      <td>1.0</td>\n",
       "    </tr>\n",
       "    <tr>\n",
       "      <th>5993</th>\n",
       "      <td>B</td>\n",
       "      <td></td>\n",
       "      <td>BLOOD AND BLOOD FORMING ORGAN DRUGS</td>\n",
       "      <td>1.0</td>\n",
       "    </tr>\n",
       "    <tr>\n",
       "      <th>5477</th>\n",
       "      <td>C</td>\n",
       "      <td></td>\n",
       "      <td>CARDIOVASCULAR SYSTEM DRUGS</td>\n",
       "      <td>1.0</td>\n",
       "    </tr>\n",
       "    <tr>\n",
       "      <th>2143</th>\n",
       "      <td>D</td>\n",
       "      <td></td>\n",
       "      <td>DERMATOLOGICALS</td>\n",
       "      <td>1.0</td>\n",
       "    </tr>\n",
       "    <tr>\n",
       "      <th>6393</th>\n",
       "      <td>G</td>\n",
       "      <td></td>\n",
       "      <td>GENITO URINARY SYSTEM AND SEX HORMONES</td>\n",
       "      <td>1.0</td>\n",
       "    </tr>\n",
       "  </tbody>\n",
       "</table>\n",
       "</div>"
      ],
      "text/plain": [
       "     code parent_code                                    name  level\n",
       "5732    A               ALIMENTARY TRACT AND METABOLISM DRUGS    1.0\n",
       "5993    B                 BLOOD AND BLOOD FORMING ORGAN DRUGS    1.0\n",
       "5477    C                         CARDIOVASCULAR SYSTEM DRUGS    1.0\n",
       "2143    D                                     DERMATOLOGICALS    1.0\n",
       "6393    G              GENITO URINARY SYSTEM AND SEX HORMONES    1.0"
      ]
     },
     "execution_count": 31,
     "metadata": {},
     "output_type": "execute_result"
    }
   ],
   "source": [
    "\"\"\"https://bioportal.bioontology.org/ontologies/ATC\"\"\"\n",
    "\n",
    "atc = pd.read_csv(os.path.join(resource_directory, 'raw/ATC.csv'))\n",
    "atc = atc[['Class ID', 'Preferred Label', 'ATC LEVEL']]\n",
    "atc['Class ID'] = atc['Class ID'].apply(lambda x: x.split('/')[-1])\n",
    "atc = atc.dropna()\n",
    "atc = atc.drop_duplicates()\n",
    "atc[\"parent_code\"] = atc['Class ID'].map(get_atc_parent)\n",
    "atc = atc.sort_values(by=['ATC LEVEL', 'Class ID'])\n",
    "atc.columns = [\"code\", \"name\", \"level\", \"parent_code\"]\n",
    "atc = atc[[\"code\", \"parent_code\", \"name\", \"level\"]]\n",
    "atc.head()"
   ]
  },
  {
   "cell_type": "markdown",
   "metadata": {},
   "source": [
    "additional info"
   ]
  },
  {
   "cell_type": "code",
   "execution_count": 32,
   "metadata": {
    "ExecuteTime": {
     "end_time": "2022-10-10T21:23:39.646645Z",
     "start_time": "2022-10-10T21:23:39.298138Z"
    }
   },
   "outputs": [
    {
     "data": {
      "text/html": [
       "<div>\n",
       "<style scoped>\n",
       "    .dataframe tbody tr th:only-of-type {\n",
       "        vertical-align: middle;\n",
       "    }\n",
       "\n",
       "    .dataframe tbody tr th {\n",
       "        vertical-align: top;\n",
       "    }\n",
       "\n",
       "    .dataframe thead th {\n",
       "        text-align: right;\n",
       "    }\n",
       "</style>\n",
       "<table border=\"1\" class=\"dataframe\">\n",
       "  <thead>\n",
       "    <tr style=\"text-align: right;\">\n",
       "      <th></th>\n",
       "      <th>code</th>\n",
       "      <th>parent_code</th>\n",
       "      <th>name</th>\n",
       "      <th>level</th>\n",
       "      <th>description</th>\n",
       "      <th>indication</th>\n",
       "      <th>smiles</th>\n",
       "      <th>drugbank_id</th>\n",
       "    </tr>\n",
       "  </thead>\n",
       "  <tbody>\n",
       "    <tr>\n",
       "      <th>0</th>\n",
       "      <td>A</td>\n",
       "      <td></td>\n",
       "      <td>ALIMENTARY TRACT AND METABOLISM DRUGS</td>\n",
       "      <td>1.0</td>\n",
       "      <td>NaN</td>\n",
       "      <td>NaN</td>\n",
       "      <td>NaN</td>\n",
       "      <td>NaN</td>\n",
       "    </tr>\n",
       "    <tr>\n",
       "      <th>1</th>\n",
       "      <td>B</td>\n",
       "      <td></td>\n",
       "      <td>BLOOD AND BLOOD FORMING ORGAN DRUGS</td>\n",
       "      <td>1.0</td>\n",
       "      <td>NaN</td>\n",
       "      <td>NaN</td>\n",
       "      <td>NaN</td>\n",
       "      <td>NaN</td>\n",
       "    </tr>\n",
       "    <tr>\n",
       "      <th>2</th>\n",
       "      <td>C</td>\n",
       "      <td></td>\n",
       "      <td>CARDIOVASCULAR SYSTEM DRUGS</td>\n",
       "      <td>1.0</td>\n",
       "      <td>NaN</td>\n",
       "      <td>NaN</td>\n",
       "      <td>NaN</td>\n",
       "      <td>NaN</td>\n",
       "    </tr>\n",
       "    <tr>\n",
       "      <th>3</th>\n",
       "      <td>D</td>\n",
       "      <td></td>\n",
       "      <td>DERMATOLOGICALS</td>\n",
       "      <td>1.0</td>\n",
       "      <td>NaN</td>\n",
       "      <td>NaN</td>\n",
       "      <td>NaN</td>\n",
       "      <td>NaN</td>\n",
       "    </tr>\n",
       "    <tr>\n",
       "      <th>4</th>\n",
       "      <td>G</td>\n",
       "      <td></td>\n",
       "      <td>GENITO URINARY SYSTEM AND SEX HORMONES</td>\n",
       "      <td>1.0</td>\n",
       "      <td>NaN</td>\n",
       "      <td>NaN</td>\n",
       "      <td>NaN</td>\n",
       "      <td>NaN</td>\n",
       "    </tr>\n",
       "  </tbody>\n",
       "</table>\n",
       "</div>"
      ],
      "text/plain": [
       "  code parent_code                                    name  level description  \\\n",
       "0    A               ALIMENTARY TRACT AND METABOLISM DRUGS    1.0         NaN   \n",
       "1    B                 BLOOD AND BLOOD FORMING ORGAN DRUGS    1.0         NaN   \n",
       "2    C                         CARDIOVASCULAR SYSTEM DRUGS    1.0         NaN   \n",
       "3    D                                     DERMATOLOGICALS    1.0         NaN   \n",
       "4    G              GENITO URINARY SYSTEM AND SEX HORMONES    1.0         NaN   \n",
       "\n",
       "  indication smiles drugbank_id  \n",
       "0        NaN    NaN         NaN  \n",
       "1        NaN    NaN         NaN  \n",
       "2        NaN    NaN         NaN  \n",
       "3        NaN    NaN         NaN  \n",
       "4        NaN    NaN         NaN  "
      ]
     },
     "execution_count": 32,
     "metadata": {},
     "output_type": "execute_result"
    }
   ],
   "source": [
    "\"\"\"https://go.drugbank.com/releases/latest\"\"\"\n",
    "\n",
    "drugbank = pd.read_csv(os.path.join(resource_directory, 'raw/drugs_info_5_1_8.csv').replace(\"\\\\\", \"/\"))\n",
    "drugbank = drugbank.fillna('')\n",
    "drugbank.atc_codes = drugbank.atc_codes.apply(lambda x: x.split(\"|\"))\n",
    "drugbank = drugbank.explode(\"atc_codes\")\n",
    "drugbank = drugbank[[\"drugbank_id\", \"description\", \"indication\", \"atc_codes\", \"smiles\"]]\n",
    "atc = atc.merge(drugbank, left_on=\"code\", right_on=\"atc_codes\", how=\"left\")\n",
    "atc = atc[[\"code\", \"parent_code\", \"name\", \"level\", \"description\", \"indication\", \"smiles\", \"drugbank_id\"]]\n",
    "atc.to_csv(os.path.join(resource_directory, 'processed/ATC.csv'), index=False)\n",
    "atc.head()"
   ]
  },
  {
   "cell_type": "markdown",
   "metadata": {},
   "source": [
    "### to ICD9CM"
   ]
  },
  {
   "cell_type": "code",
   "execution_count": 33,
   "metadata": {
    "ExecuteTime": {
     "end_time": "2022-10-10T21:23:39.766060Z",
     "start_time": "2022-10-10T21:23:39.647949Z"
    }
   },
   "outputs": [
    {
     "data": {
      "text/html": [
       "<div>\n",
       "<style scoped>\n",
       "    .dataframe tbody tr th:only-of-type {\n",
       "        vertical-align: middle;\n",
       "    }\n",
       "\n",
       "    .dataframe tbody tr th {\n",
       "        vertical-align: top;\n",
       "    }\n",
       "\n",
       "    .dataframe thead th {\n",
       "        text-align: right;\n",
       "    }\n",
       "</style>\n",
       "<table border=\"1\" class=\"dataframe\">\n",
       "  <thead>\n",
       "    <tr style=\"text-align: right;\">\n",
       "      <th></th>\n",
       "      <th>ATC</th>\n",
       "      <th>ICD9CM</th>\n",
       "    </tr>\n",
       "  </thead>\n",
       "  <tbody>\n",
       "    <tr>\n",
       "      <th>0</th>\n",
       "      <td>R05CB05</td>\n",
       "      <td>595</td>\n",
       "    </tr>\n",
       "    <tr>\n",
       "      <th>1</th>\n",
       "      <td>R05CB05</td>\n",
       "      <td>977.9</td>\n",
       "    </tr>\n",
       "    <tr>\n",
       "      <th>2</th>\n",
       "      <td>R05CB05</td>\n",
       "      <td>595.9</td>\n",
       "    </tr>\n",
       "    <tr>\n",
       "      <th>3</th>\n",
       "      <td>R05CB05</td>\n",
       "      <td>459</td>\n",
       "    </tr>\n",
       "    <tr>\n",
       "      <th>4</th>\n",
       "      <td>V03AF01</td>\n",
       "      <td>595</td>\n",
       "    </tr>\n",
       "  </tbody>\n",
       "</table>\n",
       "</div>"
      ],
      "text/plain": [
       "       ATC ICD9CM\n",
       "0  R05CB05    595\n",
       "1  R05CB05  977.9\n",
       "2  R05CB05  595.9\n",
       "3  R05CB05    459\n",
       "4  V03AF01    595"
      ]
     },
     "execution_count": 33,
     "metadata": {},
     "output_type": "execute_result"
    }
   ],
   "source": [
    "\"\"\"https://www.vumc.org/cpm/cpm-blog/medi-ensemble-medication-indication-resource-0\"\"\"\n",
    "\n",
    "medi = pd.read_csv(os.path.join(resource_directory, 'raw/MEDI_11242015.csv'))\n",
    "medi = medi[medi.HSP == 1]\n",
    "medi.CODE = medi.CODE.apply(lambda x: x.split('|'))\n",
    "medi = medi.explode('CODE')\n",
    "medi = medi.dropna().drop_duplicates().reset_index(drop=True)\n",
    "medi = medi[[\"ATC\", \"CODE\"]]\n",
    "medi.columns = [\"ATC\", \"ICD9CM\"]\n",
    "medi.to_csv(os.path.join(resource_directory, 'processed/ATC_to_ICD9CM.csv'), index=False)\n",
    "medi.head()"
   ]
  },
  {
   "cell_type": "code",
   "execution_count": null,
   "metadata": {},
   "outputs": [],
   "source": []
  }
 ],
 "metadata": {
  "kernelspec": {
   "display_name": "pytorch19",
   "language": "python",
   "name": "pytorch19"
  },
  "language_info": {
   "codemirror_mode": {
    "name": "ipython",
    "version": 3
   },
   "file_extension": ".py",
   "mimetype": "text/x-python",
   "name": "python",
   "nbconvert_exporter": "python",
   "pygments_lexer": "ipython3",
   "version": "3.8.11"
  },
  "toc": {
   "base_numbering": 1,
   "nav_menu": {},
   "number_sections": false,
   "sideBar": true,
   "skip_h1_title": true,
   "title_cell": "Table of Contents",
   "title_sidebar": "Contents",
   "toc_cell": false,
   "toc_position": {
    "height": "calc(100% - 180px)",
    "left": "10px",
    "top": "150px",
    "width": "460.796875px"
   },
   "toc_section_display": true,
   "toc_window_display": true
  }
 },
 "nbformat": 4,
 "nbformat_minor": 4
}
