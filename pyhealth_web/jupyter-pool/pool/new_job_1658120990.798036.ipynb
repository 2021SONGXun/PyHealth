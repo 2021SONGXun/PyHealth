{
 "cells": [
  {
   "cell_type": "markdown",
   "metadata": {},
   "source": [
    "## Step 1: show dataset, task, model on db list "
   ]
  },
  {
   "cell_type": "code",
   "execution_count": 1,
   "metadata": {},
   "outputs": [],
   "source": [
    "import warnings\n",
    "warnings.filterwarnings('ignore')\n",
    "import sys\n",
    "sys.path.append(\"../../../\")\n",
    "\n",
    "# ------- user entry to db ----\n",
    "DATASET = 'mimic iii'\n",
    "TASK = 'drug recommendation'\n",
    "MODEL = 'RETAIN'\n",
    "# -----------------------------"
   ]
  },
  {
   "cell_type": "markdown",
   "metadata": {},
   "source": [
    "## Step 2: load data and define model"
   ]
  },
  {
   "cell_type": "code",
   "execution_count": 2,
   "metadata": {},
   "outputs": [
    {
     "name": "stderr",
     "output_type": "stream",
     "text": [
      "100%|█| 39363/39363 [00:18<00:00, 2089.86\n",
      "100%|█████████████████████████████████████████████████████████████████████████████████████| 46520/46520 [00:20<00:00, 2219.35it/s]\n",
      "100%|█████████████████████████████████████████████████████████████████████████████████████| 45354/45354 [00:19<00:00, 2301.92it/s]\n"
     ]
    },
    {
     "name": "stdout",
     "output_type": "stream",
     "text": [
      "generated .pat_to_visit!\n",
      "generated .visit_dict!\n",
      "----- preparing code mappings -----\n",
      "source loaded from https://drive.google.com/uc?id=1I2G6fsBDXDiAK95qFWwtnl3Ib2MaLeCx\n",
      "source loaded from https://drive.google.com/uc?id=1d2HzsByXrPadvjaKDOEaOt78OkAZOrjC\n",
      "source loaded from https://drive.google.com/uc?id=199i8mP2gMQNhwUe-2ZNmIr5fhiBbzVlK\n",
      "source loaded from https://drive.google.com/uc?id=1Z11J4st1sI44jPborls9jIxzcpF-GpGt\n",
      "mapping finished: RxNorm -> ATC4\n",
      "mapping finished: ATC4 -> RxNorm\n",
      "load time: 11.606762409210205s\n",
      "-----------------------------------------\n"
     ]
    },
    {
     "name": "stderr",
     "output_type": "stream",
     "text": [
      "100%|█████████████████████████████████████████████████████████████████████████████████████| 58976/58976 [00:18<00:00, 3165.83it/s]\n"
     ]
    },
    {
     "name": "stdout",
     "output_type": "stream",
     "text": [
      "generated .encoded_visit_dict!\n",
      "generated .maps (for code to index mappings)!\n",
      "load severe ddi pairs from https://drive.google.com/uc?id=1R88OIhn-DbOYmtmVYICmjBSOIsEljJMh!\n",
      "ddi info is from https://drive.google.com/file/d/1mnPc0O0ztz0fkv3HF-dpmBb8PLWsEoDz/view?usp=sharing!\n",
      "generated train/val/test dataloaders for RETAIN model!\n"
     ]
    }
   ],
   "source": [
    "import pyhealth.datasets.datasets as datasets\n",
    "import pyhealth.models.models as models\n",
    "\n",
    "# load MIMIC-III\n",
    "dataset = datasets.MIMIC_III()\n",
    "\n",
    "# initialize the model and build the dataloaders\n",
    "dataset.get_dataloader(\"RETAIN\")\n",
    "\n",
    "model = models.RETAIN(\n",
    "    dataset=dataset,\n",
    "    emb_dim=64,\n",
    ")"
   ]
  },
  {
   "cell_type": "markdown",
   "metadata": {},
   "source": [
    "## Step 3: send updates to postgres db"
   ]
  },
  {
   "cell_type": "code",
   "execution_count": 3,
   "metadata": {},
   "outputs": [],
   "source": [
    "from datetime import datetime, timedelta, timezone\n",
    "sys.path.append(\"../../\")\n",
    "from pyhealth_web.app import Job, db\n",
    "\n",
    "RUN_ID = Job.query.count()\n",
    "TRIGGER_TIME = datetime.now()\n",
    "RUN_STATS = 'Pending'\n",
    "example_job = Job(\n",
    "    run_id = RUN_ID,\n",
    "    trigger_time = TRIGGER_TIME,\n",
    "    dataset = DATASET,\n",
    "    task_name = TASK,\n",
    "    model = MODEL,\n",
    "    run_stats = RUN_STATS,\n",
    "    downloads = \"\",\n",
    ")\n",
    "db.session.add(example_job)\n",
    "db.session.commit()"
   ]
  },
  {
   "cell_type": "markdown",
   "metadata": {},
   "source": [
    "## Step 4: train healthcare ML model"
   ]
  },
  {
   "cell_type": "code",
   "execution_count": null,
   "metadata": {},
   "outputs": [
    {
     "name": "stderr",
     "output_type": "stream",
     "text": [
      "GPU available: True, used: True\n",
      "TPU available: False, using: 0 TPU cores\n",
      "IPU available: False, using: 0 IPUs\n",
      "HPU available: False, using: 0 HPUs\n",
      "Missing logger folder: /mnt/disks/ssd_new/github/PyHealth-OMOP/pyhealth_web/jupyter-pool/pool/lightning_logs\n",
      "LOCAL_RANK: 0 - CUDA_VISIBLE_DEVICES: [0,1]\n",
      "\n",
      "  | Name      | Type       | Params\n",
      "-----------------------------------------\n",
      "0 | embedding | Sequential | 517 K \n",
      "1 | alpha_gru | GRU        | 25.0 K\n",
      "2 | beta_gru  | GRU        | 25.0 K\n",
      "3 | alpha_li  | Linear     | 65    \n",
      "4 | beta_li   | Linear     | 4.2 K \n",
      "5 | output    | Linear     | 10.9 K\n",
      "-----------------------------------------\n",
      "582 K     Trainable params\n",
      "28.2 K    Non-trainable params\n",
      "611 K     Total params\n",
      "2.445     Total estimated model params size (MB)\n"
     ]
    },
    {
     "name": "stdout",
     "output_type": "stream",
     "text": [
      "Epoch 0:  16%|█████████▎                                                  | 835/5368 [00:08<00:44, 101.07it/s, loss=1.37, v_num=0]"
     ]
    }
   ],
   "source": [
    "from pytorch_lightning import LightningModule, Trainer\n",
    "from pytorch_lightning.callbacks import ModelCheckpoint\n",
    "\n",
    "# set trainer with checkpoint\n",
    "checkpoint_callback = ModelCheckpoint(dirpath='./../data/model_cpt')\n",
    "trainer = Trainer(\n",
    "    gpus=1,\n",
    "    max_epochs=1,\n",
    "    progress_bar_refresh_rate=5,\n",
    "    callbacks=[checkpoint_callback],\n",
    ")\n",
    "\n",
    "# train model\n",
    "trainer.fit(\n",
    "    model=model,\n",
    "    train_dataloaders=dataset.train_loader,\n",
    "    val_dataloaders=dataset.val_loader,\n",
    ")\n",
    "\n",
    "# test the best model\n",
    "model.summary(\n",
    "    output_path='./data',\n",
    "    test_dataloaders=dataset.test_loader,\n",
    "    ckpt_path=checkpoint_callback.best_model_path,\n",
    ")"
   ]
  },
  {
   "cell_type": "markdown",
   "metadata": {},
   "source": [
    "## Step 5: update the db log"
   ]
  },
  {
   "cell_type": "code",
   "execution_count": null,
   "metadata": {},
   "outputs": [],
   "source": [
    "# -------- user enter --------\n",
    "success = 1\n",
    "# ----------------------------\n",
    "\n",
    "if success:\n",
    "    Job.query.filter_by(run_id=RUN_ID).update(dict(run_stats='SUCCESS', downloads=\"##\"))\n",
    "else:\n",
    "    Job.query.filter_by(run_id=RUN_ID).update(dict(run_stats='FAILURE', downloads=\"\"))\n",
    "db.session.commit()"
   ]
  },
  {
   "cell_type": "code",
   "execution_count": null,
   "metadata": {},
   "outputs": [],
   "source": []
  },
  {
   "cell_type": "code",
   "execution_count": null,
   "metadata": {},
   "outputs": [],
   "source": []
  },
  {
   "cell_type": "code",
   "execution_count": null,
   "metadata": {},
   "outputs": [],
   "source": []
  },
  {
   "cell_type": "code",
   "execution_count": null,
   "metadata": {},
   "outputs": [],
   "source": []
  }
 ],
 "metadata": {
  "kernelspec": {
   "display_name": "Python [conda env:pyhealth]",
   "language": "python",
   "name": "conda-env-pyhealth-py"
  },
  "language_info": {
   "codemirror_mode": {
    "name": "ipython",
    "version": 3
   },
   "file_extension": ".py",
   "mimetype": "text/x-python",
   "name": "python",
   "nbconvert_exporter": "python",
   "pygments_lexer": "ipython3",
   "version": "3.9.13"
  }
 },
 "nbformat": 4,
 "nbformat_minor": 4
}
