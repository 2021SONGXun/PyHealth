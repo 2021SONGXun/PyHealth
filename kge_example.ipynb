{
 "cells": [
  {
   "cell_type": "code",
   "execution_count": 4,
   "metadata": {},
   "outputs": [
    {
     "name": "stdout",
     "output_type": "stream",
     "text": [
      "INFO: Pandarallel will run on 40 workers.\n",
      "INFO: Pandarallel will use Memory file system to transfer data between the main process and workers.\n"
     ]
    }
   ],
   "source": [
    "from pyhealth.datasets import UMLSDataset\n",
    "\n",
    "umls_ds = UMLSDataset(\n",
    "    root=\"https://storage.googleapis.com/pyhealth/umls/\",\n",
    "    dev=True,\n",
    ")"
   ]
  },
  {
   "cell_type": "code",
   "execution_count": 5,
   "metadata": {},
   "outputs": [
    {
     "name": "stdout",
     "output_type": "stream",
     "text": [
      "\n",
      "Statistics of base dataset (dev=True):\n",
      "\t- Dataset: UMLSDataset\n",
      "\t- Number of triples: 88176\n",
      "\t- Number of entities: 9737\n",
      "\t- Number of relations: 8\n",
      "\t- Task name: Null\n",
      "\t- Number of samples: 0\n",
      "\n"
     ]
    }
   ],
   "source": [
    "umls_ds.stat()"
   ]
  },
  {
   "cell_type": "code",
   "execution_count": 6,
   "metadata": {},
   "outputs": [
    {
     "name": "stdout",
     "output_type": "stream",
     "text": [
      "Loading UMLSDataset base dataset from /home/pj20/.cache/pyhealth/datasets/46e7370273967c215741135e6ccdd2b9.pkl\n"
     ]
    }
   ],
   "source": [
    "from pyhealth.tasks import link_prediction_fn\n",
    "\n",
    "umls_ds = umls_ds.set_task(link_prediction_fn, negative_sampling=256)"
   ]
  },
  {
   "cell_type": "code",
   "execution_count": 7,
   "metadata": {},
   "outputs": [
    {
     "name": "stdout",
     "output_type": "stream",
     "text": [
      "\n",
      "Statistics of base dataset (dev=True):\n",
      "\t- Dataset: UMLSDataset\n",
      "\t- Number of triples: 88176\n",
      "\t- Number of entities: 9737\n",
      "\t- Number of relations: 8\n",
      "\t- Task name: link_prediction_fn\n",
      "\t- Number of samples: 176352\n",
      "\n"
     ]
    }
   ],
   "source": [
    "umls_ds.stat()"
   ]
  },
  {
   "cell_type": "code",
   "execution_count": 8,
   "metadata": {},
   "outputs": [],
   "source": [
    "from pyhealth.datasets import split_by_keys, get_dataloader_kg\n",
    "\n",
    "train_dataset, val_dataset, test_dataset = split_by_keys(umls_ds, [0.8, 0.1, 0.1])"
   ]
  },
  {
   "cell_type": "code",
   "execution_count": 9,
   "metadata": {},
   "outputs": [
    {
     "data": {
      "text/plain": [
       "70540"
      ]
     },
     "execution_count": 9,
     "metadata": {},
     "output_type": "execute_result"
    }
   ],
   "source": [
    "len(train_dataset['head'])"
   ]
  },
  {
   "cell_type": "code",
   "execution_count": 10,
   "metadata": {},
   "outputs": [],
   "source": [
    "batch_size = 256\n",
    "\n",
    "train_loader, num_batch_train = get_dataloader_kg(train_dataset, batch_size=batch_size, shuffle=True)\n",
    "val_loader, num_batch_val = get_dataloader_kg(val_dataset, batch_size=batch_size, shuffle=False)\n",
    "test_loader, num_batch_test = get_dataloader_kg(test_dataset, batch_size=batch_size, shuffle=False)"
   ]
  },
  {
   "cell_type": "code",
   "execution_count": 15,
   "metadata": {},
   "outputs": [],
   "source": [
    "from pyhealth.models.kg import TransE, RotatE\n",
    "\n",
    "model = RotatE(\n",
    "    dataset=umls_ds\n",
    ")"
   ]
  },
  {
   "cell_type": "code",
   "execution_count": 16,
   "metadata": {},
   "outputs": [
    {
     "name": "stderr",
     "output_type": "stream",
     "text": [
      "RotatE()\n",
      "Metrics: None\n",
      "Device: cuda:6\n",
      "\n",
      "Training:\n",
      "Batch size: 256\n",
      "Optimizer: <class 'torch.optim.adam.Adam'>\n",
      "Optimizer params: {'lr': 0.001}\n",
      "Weight decay: 0.0\n",
      "Max grad norm: None\n",
      "Val dataloader: None\n",
      "Monitor: None\n",
      "Monitor criterion: max\n",
      "Epochs: 20\n",
      "\n",
      "Epoch 0 / 20: 100%|██████████| 100/100 [00:01<00:00, 89.96it/s]\n",
      "--- Train epoch-0, step-100 ---\n",
      "loss: 1.5617\n",
      "\n",
      "Epoch 1 / 20: 100%|██████████| 100/100 [00:01<00:00, 90.39it/s]\n",
      "--- Train epoch-1, step-200 ---\n",
      "loss: 0.8205\n",
      "\n",
      "Epoch 2 / 20: 100%|██████████| 100/100 [00:01<00:00, 89.43it/s]\n",
      "--- Train epoch-2, step-300 ---\n",
      "loss: 0.6435\n",
      "\n",
      "Epoch 3 / 20: 100%|██████████| 100/100 [00:01<00:00, 90.11it/s]\n",
      "--- Train epoch-3, step-400 ---\n",
      "loss: 0.4536\n",
      "\n",
      "Epoch 4 / 20: 100%|██████████| 100/100 [00:01<00:00, 89.96it/s]\n",
      "--- Train epoch-4, step-500 ---\n",
      "loss: 0.3030\n",
      "\n",
      "Epoch 5 / 20: 100%|██████████| 100/100 [00:01<00:00, 92.03it/s]\n",
      "--- Train epoch-5, step-600 ---\n",
      "loss: 0.2002\n",
      "\n",
      "Epoch 6 / 20: 100%|██████████| 100/100 [00:01<00:00, 92.05it/s]\n",
      "--- Train epoch-6, step-700 ---\n",
      "loss: 0.1301\n",
      "\n",
      "Epoch 7 / 20: 100%|██████████| 100/100 [00:01<00:00, 91.94it/s]\n",
      "--- Train epoch-7, step-800 ---\n",
      "loss: 0.1016\n",
      "\n",
      "Epoch 8 / 20: 100%|██████████| 100/100 [00:01<00:00, 91.87it/s]\n",
      "--- Train epoch-8, step-900 ---\n",
      "loss: 0.0839\n",
      "\n",
      "Epoch 9 / 20: 100%|██████████| 100/100 [00:01<00:00, 91.81it/s]\n",
      "--- Train epoch-9, step-1000 ---\n",
      "loss: 0.0707\n",
      "\n",
      "Epoch 10 / 20: 100%|██████████| 100/100 [00:01<00:00, 91.59it/s]\n",
      "--- Train epoch-10, step-1100 ---\n",
      "loss: 0.0611\n",
      "\n",
      "Epoch 11 / 20: 100%|██████████| 100/100 [00:01<00:00, 92.08it/s]\n",
      "--- Train epoch-11, step-1200 ---\n",
      "loss: 0.0512\n",
      "\n",
      "Epoch 12 / 20: 100%|██████████| 100/100 [00:01<00:00, 92.27it/s]\n",
      "--- Train epoch-12, step-1300 ---\n",
      "loss: 0.0437\n",
      "\n",
      "Epoch 13 / 20: 100%|██████████| 100/100 [00:01<00:00, 91.32it/s]\n",
      "--- Train epoch-13, step-1400 ---\n",
      "loss: 0.0393\n",
      "\n",
      "Epoch 14 / 20: 100%|██████████| 100/100 [00:01<00:00, 92.08it/s]\n",
      "--- Train epoch-14, step-1500 ---\n",
      "loss: 0.0350\n",
      "\n",
      "Epoch 15 / 20: 100%|██████████| 100/100 [00:01<00:00, 92.02it/s]\n",
      "--- Train epoch-15, step-1600 ---\n",
      "loss: 0.0318\n",
      "\n",
      "Epoch 16 / 20: 100%|██████████| 100/100 [00:01<00:00, 92.16it/s]\n",
      "--- Train epoch-16, step-1700 ---\n",
      "loss: 0.0292\n",
      "\n",
      "Epoch 17 / 20: 100%|██████████| 100/100 [00:01<00:00, 92.03it/s]\n",
      "--- Train epoch-17, step-1800 ---\n",
      "loss: 0.0259\n",
      "\n",
      "Epoch 18 / 20: 100%|██████████| 100/100 [00:01<00:00, 91.61it/s]\n",
      "--- Train epoch-18, step-1900 ---\n",
      "loss: 0.0237\n",
      "\n",
      "Epoch 19 / 20: 100%|██████████| 100/100 [00:01<00:00, 90.65it/s]\n",
      "--- Train epoch-19, step-2000 ---\n",
      "loss: 0.0220\n",
      "Loaded best model\n"
     ]
    },
    {
     "ename": "FileNotFoundError",
     "evalue": "[Errno 2] No such file or directory: '/home/pj20/PyHealth/output/20230223-153408/best.ckpt'",
     "output_type": "error",
     "traceback": [
      "\u001b[0;31m---------------------------------------------------------------------------\u001b[0m",
      "\u001b[0;31mFileNotFoundError\u001b[0m                         Traceback (most recent call last)",
      "Cell \u001b[0;32mIn[16], line 5\u001b[0m\n\u001b[1;32m      2\u001b[0m \u001b[39mimport\u001b[39;00m \u001b[39mtorch\u001b[39;00m\n\u001b[1;32m      4\u001b[0m trainer \u001b[39m=\u001b[39m Trainer(model\u001b[39m=\u001b[39mmodel, device\u001b[39m=\u001b[39m\u001b[39m'\u001b[39m\u001b[39mcuda:6\u001b[39m\u001b[39m'\u001b[39m)\n\u001b[0;32m----> 5\u001b[0m trainer\u001b[39m.\u001b[39;49mtrain(\n\u001b[1;32m      6\u001b[0m     train_dataloader\u001b[39m=\u001b[39;49mtrain_loader,\n\u001b[1;32m      7\u001b[0m     epochs\u001b[39m=\u001b[39;49m\u001b[39m20\u001b[39;49m,\n\u001b[1;32m      8\u001b[0m     batch_size\u001b[39m=\u001b[39;49mbatch_size,\n\u001b[1;32m      9\u001b[0m     num_batch\u001b[39m=\u001b[39;49m\u001b[39m100\u001b[39;49m,\n\u001b[1;32m     10\u001b[0m     optimizer_object\u001b[39m=\u001b[39;49mtorch\u001b[39m.\u001b[39;49moptim\u001b[39m.\u001b[39;49mAdam(\n\u001b[1;32m     11\u001b[0m     \u001b[39mfilter\u001b[39;49m(\u001b[39mlambda\u001b[39;49;00m p: p\u001b[39m.\u001b[39;49mrequires_grad, model\u001b[39m.\u001b[39;49mparameters()), \n\u001b[1;32m     12\u001b[0m     lr\u001b[39m=\u001b[39;49m\u001b[39m1e-3\u001b[39;49m\n\u001b[1;32m     13\u001b[0m     )\n\u001b[1;32m     14\u001b[0m )\n",
      "File \u001b[0;32m~/PyHealth/pyhealth/trainer.py:250\u001b[0m, in \u001b[0;36mTrainer.train\u001b[0;34m(self, train_dataloader, val_dataloader, test_dataloader, epochs, optimizer_class, optimizer_params, optimizer_object, num_batch, batch_size, weight_decay, max_grad_norm, monitor, monitor_criterion, load_best_model_at_last)\u001b[0m\n\u001b[1;32m    248\u001b[0m \u001b[39mif\u001b[39;00m load_best_model_at_last \u001b[39mand\u001b[39;00m \u001b[39mself\u001b[39m\u001b[39m.\u001b[39mexp_path \u001b[39mis\u001b[39;00m \u001b[39mnot\u001b[39;00m \u001b[39mNone\u001b[39;00m:\n\u001b[1;32m    249\u001b[0m     logger\u001b[39m.\u001b[39minfo(\u001b[39m\"\u001b[39m\u001b[39mLoaded best model\u001b[39m\u001b[39m\"\u001b[39m)\n\u001b[0;32m--> 250\u001b[0m     \u001b[39mself\u001b[39;49m\u001b[39m.\u001b[39;49mload_ckpt(os\u001b[39m.\u001b[39;49mpath\u001b[39m.\u001b[39;49mjoin(\u001b[39mself\u001b[39;49m\u001b[39m.\u001b[39;49mexp_path, \u001b[39m\"\u001b[39;49m\u001b[39mbest.ckpt\u001b[39;49m\u001b[39m\"\u001b[39;49m))\n\u001b[1;32m    252\u001b[0m \u001b[39m# test\u001b[39;00m\n\u001b[1;32m    253\u001b[0m \u001b[39mif\u001b[39;00m test_dataloader \u001b[39mis\u001b[39;00m \u001b[39mnot\u001b[39;00m \u001b[39mNone\u001b[39;00m:\n",
      "File \u001b[0;32m~/PyHealth/pyhealth/trainer.py:315\u001b[0m, in \u001b[0;36mTrainer.load_ckpt\u001b[0;34m(self, ckpt_path)\u001b[0m\n\u001b[1;32m    313\u001b[0m \u001b[39mdef\u001b[39;00m \u001b[39mload_ckpt\u001b[39m(\u001b[39mself\u001b[39m, ckpt_path: \u001b[39mstr\u001b[39m) \u001b[39m-\u001b[39m\u001b[39m>\u001b[39m \u001b[39mNone\u001b[39;00m:\n\u001b[1;32m    314\u001b[0m \u001b[39m    \u001b[39m\u001b[39m\"\"\"Saves the model checkpoint.\"\"\"\u001b[39;00m\n\u001b[0;32m--> 315\u001b[0m     state_dict \u001b[39m=\u001b[39m torch\u001b[39m.\u001b[39;49mload(ckpt_path, map_location\u001b[39m=\u001b[39;49m\u001b[39mself\u001b[39;49m\u001b[39m.\u001b[39;49mdevice)\n\u001b[1;32m    316\u001b[0m     \u001b[39mself\u001b[39m\u001b[39m.\u001b[39mmodel\u001b[39m.\u001b[39mload_state_dict(state_dict)\n\u001b[1;32m    317\u001b[0m     \u001b[39mreturn\u001b[39;00m\n",
      "File \u001b[0;32m~/miniconda3/envs/pyhealth/lib/python3.8/site-packages/torch/serialization.py:771\u001b[0m, in \u001b[0;36mload\u001b[0;34m(f, map_location, pickle_module, weights_only, **pickle_load_args)\u001b[0m\n\u001b[1;32m    768\u001b[0m \u001b[39mif\u001b[39;00m \u001b[39m'\u001b[39m\u001b[39mencoding\u001b[39m\u001b[39m'\u001b[39m \u001b[39mnot\u001b[39;00m \u001b[39min\u001b[39;00m pickle_load_args\u001b[39m.\u001b[39mkeys():\n\u001b[1;32m    769\u001b[0m     pickle_load_args[\u001b[39m'\u001b[39m\u001b[39mencoding\u001b[39m\u001b[39m'\u001b[39m] \u001b[39m=\u001b[39m \u001b[39m'\u001b[39m\u001b[39mutf-8\u001b[39m\u001b[39m'\u001b[39m\n\u001b[0;32m--> 771\u001b[0m \u001b[39mwith\u001b[39;00m _open_file_like(f, \u001b[39m'\u001b[39;49m\u001b[39mrb\u001b[39;49m\u001b[39m'\u001b[39;49m) \u001b[39mas\u001b[39;00m opened_file:\n\u001b[1;32m    772\u001b[0m     \u001b[39mif\u001b[39;00m _is_zipfile(opened_file):\n\u001b[1;32m    773\u001b[0m         \u001b[39m# The zipfile reader is going to advance the current file position.\u001b[39;00m\n\u001b[1;32m    774\u001b[0m         \u001b[39m# If we want to actually tail call to torch.jit.load, we need to\u001b[39;00m\n\u001b[1;32m    775\u001b[0m         \u001b[39m# reset back to the original position.\u001b[39;00m\n\u001b[1;32m    776\u001b[0m         orig_position \u001b[39m=\u001b[39m opened_file\u001b[39m.\u001b[39mtell()\n",
      "File \u001b[0;32m~/miniconda3/envs/pyhealth/lib/python3.8/site-packages/torch/serialization.py:270\u001b[0m, in \u001b[0;36m_open_file_like\u001b[0;34m(name_or_buffer, mode)\u001b[0m\n\u001b[1;32m    268\u001b[0m \u001b[39mdef\u001b[39;00m \u001b[39m_open_file_like\u001b[39m(name_or_buffer, mode):\n\u001b[1;32m    269\u001b[0m     \u001b[39mif\u001b[39;00m _is_path(name_or_buffer):\n\u001b[0;32m--> 270\u001b[0m         \u001b[39mreturn\u001b[39;00m _open_file(name_or_buffer, mode)\n\u001b[1;32m    271\u001b[0m     \u001b[39melse\u001b[39;00m:\n\u001b[1;32m    272\u001b[0m         \u001b[39mif\u001b[39;00m \u001b[39m'\u001b[39m\u001b[39mw\u001b[39m\u001b[39m'\u001b[39m \u001b[39min\u001b[39;00m mode:\n",
      "File \u001b[0;32m~/miniconda3/envs/pyhealth/lib/python3.8/site-packages/torch/serialization.py:251\u001b[0m, in \u001b[0;36m_open_file.__init__\u001b[0;34m(self, name, mode)\u001b[0m\n\u001b[1;32m    250\u001b[0m \u001b[39mdef\u001b[39;00m \u001b[39m__init__\u001b[39m(\u001b[39mself\u001b[39m, name, mode):\n\u001b[0;32m--> 251\u001b[0m     \u001b[39msuper\u001b[39m(_open_file, \u001b[39mself\u001b[39m)\u001b[39m.\u001b[39m\u001b[39m__init__\u001b[39m(\u001b[39mopen\u001b[39;49m(name, mode))\n",
      "\u001b[0;31mFileNotFoundError\u001b[0m: [Errno 2] No such file or directory: '/home/pj20/PyHealth/output/20230223-153408/best.ckpt'"
     ]
    }
   ],
   "source": [
    "from pyhealth.trainer import Trainer\n",
    "import torch\n",
    "\n",
    "trainer = Trainer(model=model, device='cuda:6')\n",
    "trainer.train(\n",
    "    train_dataloader=train_loader,\n",
    "    epochs=20,\n",
    "    batch_size=batch_size,\n",
    "    ## num_batch=num_batch_train,\n",
    "    num_batch=100,\n",
    "    optimizer_object=torch.optim.Adam(\n",
    "        filter(lambda p: p.requires_grad, model.parameters()), \n",
    "        lr=1e-3\n",
    "    )\n",
    ")"
   ]
  },
  {
   "cell_type": "code",
   "execution_count": null,
   "metadata": {},
   "outputs": [],
   "source": []
  },
  {
   "cell_type": "code",
   "execution_count": null,
   "metadata": {},
   "outputs": [],
   "source": []
  },
  {
   "cell_type": "code",
   "execution_count": null,
   "metadata": {},
   "outputs": [],
   "source": []
  },
  {
   "cell_type": "code",
   "execution_count": null,
   "metadata": {},
   "outputs": [],
   "source": []
  }
 ],
 "metadata": {
  "kernelspec": {
   "display_name": "Python 3.8.16 ('pyhealth')",
   "language": "python",
   "name": "python3"
  },
  "language_info": {
   "codemirror_mode": {
    "name": "ipython",
    "version": 3
   },
   "file_extension": ".py",
   "mimetype": "text/x-python",
   "name": "python",
   "nbconvert_exporter": "python",
   "pygments_lexer": "ipython3",
   "version": "3.8.16"
  },
  "orig_nbformat": 4,
  "vscode": {
   "interpreter": {
    "hash": "f21ceecfad7439d73e6e7f7545e9bd7612115ec3ef8110d0d62b8e2d47104e9c"
   }
  }
 },
 "nbformat": 4,
 "nbformat_minor": 2
}
