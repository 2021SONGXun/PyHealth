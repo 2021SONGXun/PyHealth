{
 "cells": [
  {
   "cell_type": "code",
   "execution_count": 1,
   "metadata": {},
   "outputs": [
    {
     "name": "stderr",
     "output_type": "stream",
     "text": [
      "/home/pj20/miniconda3/envs/kgc/lib/python3.8/site-packages/tqdm/auto.py:22: TqdmWarning: IProgress not found. Please update jupyter and ipywidgets. See https://ipywidgets.readthedocs.io/en/stable/user_install.html\n",
      "  from .autonotebook import tqdm as notebook_tqdm\n"
     ]
    },
    {
     "name": "stdout",
     "output_type": "stream",
     "text": [
      "INFO: Pandarallel will run on 64 workers.\n",
      "INFO: Pandarallel will use Memory file system to transfer data between the main process and workers.\n"
     ]
    }
   ],
   "source": [
    "from pyhealth.datasets import UMLSDataset\n",
    "\n",
    "umls_ds = UMLSDataset(\n",
    "    root=\"https://storage.googleapis.com/pyhealth/umls/\",\n",
    "    dev=True,\n",
    "    refresh_cache=True\n",
    ")"
   ]
  },
  {
   "cell_type": "code",
   "execution_count": 2,
   "metadata": {},
   "outputs": [
    {
     "name": "stdout",
     "output_type": "stream",
     "text": [
      "\n",
      "Statistics of base dataset (dev=True):\n",
      "\t- Dataset: UMLSDataset\n",
      "\t- Number of triples: 88176\n",
      "\t- Number of entities: 9737\n",
      "\t- Number of relations: 8\n",
      "\t- Task name: Null\n",
      "\t- Number of samples: 0\n",
      "\n"
     ]
    }
   ],
   "source": [
    "umls_ds.stat()"
   ]
  },
  {
   "cell_type": "code",
   "execution_count": 3,
   "metadata": {},
   "outputs": [
    {
     "name": "stdout",
     "output_type": "stream",
     "text": [
      "Processing UMLSDataset base dataset...\n"
     ]
    },
    {
     "name": "stderr",
     "output_type": "stream",
     "text": [
      "100%|██████████| 88176/88176 [00:32<00:00, 2702.37it/s]"
     ]
    },
    {
     "name": "stdout",
     "output_type": "stream",
     "text": [
      "Saving UMLSDataset base dataset to /home/pj20/.cache/pyhealth/datasets/46e7370273967c215741135e6ccdd2b9\n"
     ]
    },
    {
     "name": "stderr",
     "output_type": "stream",
     "text": [
      "\n"
     ]
    }
   ],
   "source": [
    "from pyhealth.tasks import link_prediction_fn\n",
    "\n",
    "umls_ds = umls_ds.set_task(link_prediction_fn, negative_sampling=256, save=False)"
   ]
  },
  {
   "cell_type": "code",
   "execution_count": 4,
   "metadata": {},
   "outputs": [
    {
     "name": "stdout",
     "output_type": "stream",
     "text": [
      "\n",
      "Statistics of base dataset (dev=True):\n",
      "\t- Dataset: UMLSDataset\n",
      "\t- Number of triples: 88176\n",
      "\t- Number of entities: 9737\n",
      "\t- Number of relations: 8\n",
      "\t- Task name: link_prediction_fn\n",
      "\t- Number of samples: 176352\n",
      "\n"
     ]
    }
   ],
   "source": [
    "umls_ds.stat()"
   ]
  },
  {
   "cell_type": "code",
   "execution_count": 5,
   "metadata": {},
   "outputs": [],
   "source": [
    "from pyhealth.datasets import split_by_keys, get_dataloader_kg\n",
    "\n",
    "train_dataset, val_dataset, test_dataset = split_by_keys(umls_ds, [0.9, 0.05, 0.05])"
   ]
  },
  {
   "cell_type": "code",
   "execution_count": 6,
   "metadata": {},
   "outputs": [],
   "source": [
    "train_loader = get_dataloader_kg(train_dataset, batch_size=256, train=True, shuffle=True)\n",
    "val_loader = get_dataloader_kg(val_dataset, batch_size=16, train=False, shuffle=False)\n",
    "test_loader = get_dataloader_kg(test_dataset, batch_size=16, train=False, shuffle=False)"
   ]
  },
  {
   "cell_type": "code",
   "execution_count": 7,
   "metadata": {},
   "outputs": [
    {
     "name": "stdout",
     "output_type": "stream",
     "text": [
      "torch.Size([256, 1, 600]) torch.Size([256, 1, 300]) torch.Size([256, 256, 600])\n",
      "torch.Size([16, 1, 600]) torch.Size([16, 1, 300]) torch.Size([16, 9737, 600])\n"
     ]
    }
   ],
   "source": [
    "from pyhealth.models.kg import TransE, RotatE\n",
    "\n",
    "model = RotatE(\n",
    "    dataset=umls_ds\n",
    ")\n",
    "for data in train_loader:\n",
    "    inputs, mode = (data['positive_sample'], data['negative_sample'], data['subsample_weight']), data['mode']\n",
    "    inputs = [x.to(\"cpu\") for x in inputs]\n",
    "    pos_sample, neg_sample, subsampling_weight = inputs\n",
    "    sample_batch = (pos_sample, neg_sample)\n",
    "    head, relation, tail = model.data_process(sample_batch, mode)\n",
    "    print(head.shape, relation.shape, tail.shape)\n",
    "    break\n",
    "\n",
    "for data in val_loader:\n",
    "    inputs, mode = (data['positive_sample'], data['negative_sample'], data['filter_bias']), data['mode']\n",
    "    inputs = [x.to(\"cpu\") for x in inputs]\n",
    "    pos_sample, neg_sample, filter_bias = inputs\n",
    "    sample_batch = (pos_sample, neg_sample)\n",
    "    head, relation, tail = model.data_process(sample_batch, mode)\n",
    "    print(head.shape, relation.shape, tail.shape)\n",
    "    break\n"
   ]
  },
  {
   "cell_type": "code",
   "execution_count": 11,
   "metadata": {},
   "outputs": [],
   "source": [
    "from pyhealth.models.kg import TransE, RotatE\n",
    "\n",
    "model = RotatE(\n",
    "    dataset=umls_ds\n",
    ")"
   ]
  },
  {
   "cell_type": "code",
   "execution_count": null,
   "metadata": {},
   "outputs": [],
   "source": [
    "from pyhealth.trainer import Trainer\n",
    "\n",
    "trainer = Trainer(model=model, device='cuda', metrics=['hits@n', 'mean_rank'])\n",
    "trainer.train(\n",
    "    train_dataloader=train_loader,\n",
    "    val_dataloader=val_loader,\n",
    "    epochs=20,\n",
    "    steps_per_epoch=100,\n",
    "    evaluation_steps=10,\n",
    "    optimizer_params={'lr': 1e-3},\n",
    "    monitor='mean_rank',\n",
    "    monitor_criterion='min'\n",
    ")"
   ]
  },
  {
   "cell_type": "code",
   "execution_count": 13,
   "metadata": {},
   "outputs": [
    {
     "name": "stderr",
     "output_type": "stream",
     "text": [
      "Evaluation: 100%|██████████| 552/552 [00:03<00:00, 156.28it/s]\n"
     ]
    },
    {
     "data": {
      "text/plain": [
       "{'HITS@1': 0.2869131322295305,\n",
       " 'HITS@5': 0.5965071444772058,\n",
       " 'HITS@10': 0.7090043093672035,\n",
       " 'mean_rank': 20.68314810614652,\n",
       " 'mean_reciprocal_rank': 0.4259441186798611,\n",
       " 'loss': 0.038708909117765186}"
      ]
     },
     "execution_count": 13,
     "metadata": {},
     "output_type": "execute_result"
    }
   ],
   "source": [
    "trainer.evaluate(test_loader)"
   ]
  },
  {
   "cell_type": "code",
   "execution_count": null,
   "metadata": {},
   "outputs": [],
   "source": []
  }
 ],
 "metadata": {
  "kernelspec": {
   "display_name": "Python 3.8.13 ('kgc')",
   "language": "python",
   "name": "python3"
  },
  "language_info": {
   "codemirror_mode": {
    "name": "ipython",
    "version": 3
   },
   "file_extension": ".py",
   "mimetype": "text/x-python",
   "name": "python",
   "nbconvert_exporter": "python",
   "pygments_lexer": "ipython3",
   "version": "3.8.13"
  },
  "orig_nbformat": 4,
  "vscode": {
   "interpreter": {
    "hash": "3d0509d9aa81f2882b18eeb72d4d23c32cae9029e9b99f63cde94ba86c35ac78"
   }
  }
 },
 "nbformat": 4,
 "nbformat_minor": 2
}
