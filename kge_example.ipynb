{
 "cells": [
  {
   "cell_type": "code",
   "execution_count": 1,
   "metadata": {},
   "outputs": [
    {
     "name": "stderr",
     "output_type": "stream",
     "text": [
      "/home/pj20/miniconda3/envs/pyhealth/lib/python3.8/site-packages/tqdm/auto.py:22: TqdmWarning: IProgress not found. Please update jupyter and ipywidgets. See https://ipywidgets.readthedocs.io/en/stable/user_install.html\n",
      "  from .autonotebook import tqdm as notebook_tqdm\n"
     ]
    },
    {
     "name": "stdout",
     "output_type": "stream",
     "text": [
      "INFO: Pandarallel will run on 40 workers.\n",
      "INFO: Pandarallel will use Memory file system to transfer data between the main process and workers.\n"
     ]
    }
   ],
   "source": [
    "from pyhealth.datasets import UMLSDataset\n",
    "\n",
    "umls_ds = UMLSDataset(\n",
    "    root=\"https://storage.googleapis.com/pyhealth/umls/\",\n",
    "    dev=True\n",
    ")"
   ]
  },
  {
   "cell_type": "code",
   "execution_count": 2,
   "metadata": {},
   "outputs": [
    {
     "name": "stdout",
     "output_type": "stream",
     "text": [
      "\n",
      "Statistics of base dataset (dev=True):\n",
      "\t- Dataset: UMLSDataset\n",
      "\t- Number of triples: 88176\n",
      "\t- Number of entities: 9737\n",
      "\t- Number of relations: 8\n",
      "\t- Task name: Null\n",
      "\t- Number of samples: 0\n",
      "\n"
     ]
    }
   ],
   "source": [
    "umls_ds.stat()"
   ]
  },
  {
   "cell_type": "code",
   "execution_count": 3,
   "metadata": {},
   "outputs": [
    {
     "name": "stderr",
     "output_type": "stream",
     "text": [
      "100%|██████████| 88176/88176 [00:18<00:00, 4829.22it/s]\n"
     ]
    }
   ],
   "source": [
    "from pyhealth.tasks import link_prediction_fn\n",
    "\n",
    "umls_ds = umls_ds.set_task(link_prediction_fn, save=False)"
   ]
  },
  {
   "cell_type": "code",
   "execution_count": 4,
   "metadata": {},
   "outputs": [
    {
     "name": "stdout",
     "output_type": "stream",
     "text": [
      "\n",
      "Statistics of base dataset (dev=True):\n",
      "\t- Dataset: UMLSDataset\n",
      "\t- Number of triples: 88176\n",
      "\t- Number of entities: 9737\n",
      "\t- Number of relations: 8\n",
      "\t- Task name: link_prediction_fn\n",
      "\t- Number of samples: 176352\n",
      "\n"
     ]
    }
   ],
   "source": [
    "umls_ds.stat()"
   ]
  },
  {
   "cell_type": "code",
   "execution_count": 5,
   "metadata": {},
   "outputs": [],
   "source": [
    "from pyhealth.datasets import split_by_keys, get_dataloader_kg\n",
    "\n",
    "train_dataset, val_dataset, test_dataset = split_by_keys(umls_ds, [0.8, 0.1, 0.1])"
   ]
  },
  {
   "cell_type": "code",
   "execution_count": 6,
   "metadata": {},
   "outputs": [],
   "source": [
    "train_loader = get_dataloader_kg(train_dataset, batch_size=16, shuffle=True)\n",
    "val_loader = get_dataloader_kg(val_dataset, batch_size=16, shuffle=False)\n",
    "test_loader = get_dataloader_kg(test_dataset, batch_size=16, shuffle=False)"
   ]
  },
  {
   "cell_type": "code",
   "execution_count": 7,
   "metadata": {},
   "outputs": [],
   "source": [
    "from pyhealth.models.kg import TransE\n",
    "\n",
    "model = TransE(\n",
    "    dataset=umls_ds\n",
    ")"
   ]
  },
  {
   "cell_type": "code",
   "execution_count": null,
   "metadata": {},
   "outputs": [],
   "source": []
  }
 ],
 "metadata": {
  "kernelspec": {
   "display_name": "Python 3.8.16 ('pyhealth')",
   "language": "python",
   "name": "python3"
  },
  "language_info": {
   "codemirror_mode": {
    "name": "ipython",
    "version": 3
   },
   "file_extension": ".py",
   "mimetype": "text/x-python",
   "name": "python",
   "nbconvert_exporter": "python",
   "pygments_lexer": "ipython3",
   "version": "3.8.16"
  },
  "orig_nbformat": 4,
  "vscode": {
   "interpreter": {
    "hash": "f21ceecfad7439d73e6e7f7545e9bd7612115ec3ef8110d0d62b8e2d47104e9c"
   }
  }
 },
 "nbformat": 4,
 "nbformat_minor": 2
}
