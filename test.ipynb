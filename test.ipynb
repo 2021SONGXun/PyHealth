{
 "cells": [
  {
   "cell_type": "code",
   "execution_count": 1,
   "metadata": {},
   "outputs": [
    {
     "name": "stderr",
     "output_type": "stream",
     "text": [
      "/home/pj20/miniconda3/envs/kgc/lib/python3.8/site-packages/tqdm/auto.py:22: TqdmWarning: IProgress not found. Please update jupyter and ipywidgets. See https://ipywidgets.readthedocs.io/en/stable/user_install.html\n",
      "  from .autonotebook import tqdm as notebook_tqdm\n"
     ]
    },
    {
     "name": "stdout",
     "output_type": "stream",
     "text": [
      "INFO: Pandarallel will run on 64 workers.\n",
      "INFO: Pandarallel will use Memory file system to transfer data between the main process and workers.\n"
     ]
    },
    {
     "name": "stderr",
     "output_type": "stream",
     "text": [
      "/home/pj20/PyHealth/pyhealth/datasets/mimic3_note.py:45: DtypeWarning: Columns (4,5) have mixed types. Specify dtype option on import or set low_memory=False.\n",
      "  self.noteevents_df = pd.read_csv(\n"
     ]
    },
    {
     "name": "stdout",
     "output_type": "stream",
     "text": [
      "finish basic patient information parsing : 69.90344715118408s\n",
      "\n",
      "Statistics of base dataset (dev=False):\n",
      "\t- Dataset: MIMIC3NoteDataset\n",
      "\t- Number of patients: 34560\n",
      "\n"
     ]
    },
    {
     "data": {
      "text/plain": [
       "'\\nStatistics of base dataset (dev=False):\\n\\t- Dataset: MIMIC3NoteDataset\\n\\t- Number of patients: 34560\\n'"
      ]
     },
     "execution_count": 1,
     "metadata": {},
     "output_type": "execute_result"
    }
   ],
   "source": [
    "from pyhealth.datasets import MIMIC3NoteDataset\n",
    "from pyhealth.datasets import split_by_patient, get_dataloader\n",
    "from pyhealth.models import Agent\n",
    "from pyhealth.tasks import mortality_prediction_mimic3_fn\n",
    "from pyhealth.trainer import Trainer\n",
    "\n",
    "# STEP 1: load data\n",
    "base_dataset = MIMIC3NoteDataset(\n",
    "    root=\"/data/physionet.org/files/mimiciii/1.4\",\n",
    "    dev=False,\n",
    "    refresh_cache=True,\n",
    ")\n",
    "base_dataset.stat()"
   ]
  },
  {
   "cell_type": "code",
   "execution_count": 9,
   "metadata": {},
   "outputs": [
    {
     "data": {
      "text/plain": [
       "34560"
      ]
     },
     "execution_count": 9,
     "metadata": {},
     "output_type": "execute_result"
    }
   ],
   "source": [
    "len(base_dataset.patients)"
   ]
  },
  {
   "cell_type": "code",
   "execution_count": 2,
   "metadata": {},
   "outputs": [
    {
     "data": {
      "text/plain": [
       "int"
      ]
     },
     "execution_count": 2,
     "metadata": {},
     "output_type": "execute_result"
    }
   ],
   "source": [
    "type(base_dataset.patients['100'].attr_dict['attr']['OUTPUT_LABEL'])"
   ]
  },
  {
   "cell_type": "code",
   "execution_count": 3,
   "metadata": {},
   "outputs": [
    {
     "name": "stderr",
     "output_type": "stream",
     "text": [
      "Generating samples for readmission_prediction_mimic3_note_fn: 100%|██████████| 34560/34560 [00:00<00:00, 276590.79it/s]\n"
     ]
    }
   ],
   "source": [
    "from pyhealth.tasks import readmission_prediction_mimic3_note_fn\n",
    "\n",
    "sample_dataset = base_dataset.set_task(readmission_prediction_mimic3_note_fn)"
   ]
  },
  {
   "cell_type": "code",
   "execution_count": 12,
   "metadata": {},
   "outputs": [
    {
     "data": {
      "text/plain": [
       "{'text': 'date of birth: sex: f service: neurosurgery allergies: patient recorded as having no known allergies to drugs attending: chief complaint: my neck hurts major surgical or invasive procedure: ct angio of the brain history of present illness: 43 yo aaf with history of migraines, came home from work last night at 1 am - was not feeling well - had episode of \"shaking\" per s.o. with urinary incontinence - did not seek med attention right away. came to er this early am - ct done at 7:30 am showed diffuse sah with hydrocephalus. cta done in er before admission to icu - prelim report is significant for l mca lobulated aneurysm, acomm aneurysm as well as pcomm aneurysm. past medical history: hyperlipidemia migraines chrinic neck/back pain secondary to mva 2 yrs ago social history: smokes 1ppd no etoh no recreational drug use has two children - is not legally married to s.o. works as a collector family history: cerebral aneurysm for mother physical exam: vs 130\\'s/60\\'s, 50\\'s, 20 afebrile this am neuro lethargic - oriented x 3, speech clear, no drift, mae, responds appropriatley to questions. essentially non focal pertinent results: 10:30am urine color-yellow appear-clear sp -015 10:30am urine blood-sm nitrite-neg protein-tr glucose-neg ketone-15 bilirubin-neg urobilngn-neg ph-0 leuk-sm 10:30am urine rbc-0-2 wbc- bacteria-few yeast-none epi- 10:30am urine mucous-mod 08:00am glucose-165* urea n-12 creat-8 sodium-138 potassium-5 chloride-102 total co2-25 anion gap-15 08:00am calcium-8 phosphate-7 magnesium-8 08:00am wbc-8# rbc-91* hgb-1 hct-3* mcv-88 mch-0 mchc-4* rdw-4 08:00am neuts-0* lymphs-5* monos-1 eos-2 basos-2 08:00am plt count-303 08:00am pt-3 ptt-1 inr(pt)-0 brief hospital course: came in through emergency room - had ct and cta as stated - results as stated. upon admission to icu had right frontal external ventricular drain placed. tolerated procedure well. ct brain was nto done after evd insertion. drain set at 25cm/clamped - opened q1hour with 10 cc csf allowed to drain off. hob elevated. placed on dilantin and',\n",
       " 'label': 0}"
      ]
     },
     "execution_count": 12,
     "metadata": {},
     "output_type": "execute_result"
    }
   ],
   "source": [
    "sample_dataset[11]"
   ]
  },
  {
   "cell_type": "code",
   "execution_count": null,
   "metadata": {},
   "outputs": [],
   "source": []
  }
 ],
 "metadata": {
  "kernelspec": {
   "display_name": "Python 3.8.17 ('kgc')",
   "language": "python",
   "name": "python3"
  },
  "language_info": {
   "codemirror_mode": {
    "name": "ipython",
    "version": 3
   },
   "file_extension": ".py",
   "mimetype": "text/x-python",
   "name": "python",
   "nbconvert_exporter": "python",
   "pygments_lexer": "ipython3",
   "version": "3.8.13"
  },
  "orig_nbformat": 4,
  "vscode": {
   "interpreter": {
    "hash": "3d0509d9aa81f2882b18eeb72d4d23c32cae9029e9b99f63cde94ba86c35ac78"
   }
  }
 },
 "nbformat": 4,
 "nbformat_minor": 2
}
