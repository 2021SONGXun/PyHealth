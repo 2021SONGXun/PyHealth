{
 "cells": [
  {
   "cell_type": "code",
   "execution_count": 1,
   "metadata": {},
   "outputs": [
    {
     "name": "stderr",
     "output_type": "stream",
     "text": [
      "/home/pj20/miniconda3/envs/kgc/lib/python3.8/site-packages/tqdm/auto.py:22: TqdmWarning: IProgress not found. Please update jupyter and ipywidgets. See https://ipywidgets.readthedocs.io/en/stable/user_install.html\n",
      "  from .autonotebook import tqdm as notebook_tqdm\n"
     ]
    },
    {
     "name": "stdout",
     "output_type": "stream",
     "text": [
      "INFO: Pandarallel will run on 64 workers.\n",
      "INFO: Pandarallel will use Memory file system to transfer data between the main process and workers.\n"
     ]
    }
   ],
   "source": [
    "from pyhealth.datasets import UMLSDataset\n",
    "\n",
    "umls_ds = UMLSDataset(\n",
    "    root=\"https://storage.googleapis.com/pyhealth/umls/\",\n",
    "    dev=True,\n",
    "    refresh_cache=True\n",
    ")"
   ]
  },
  {
   "cell_type": "code",
   "execution_count": 2,
   "metadata": {},
   "outputs": [
    {
     "name": "stdout",
     "output_type": "stream",
     "text": [
      "\n",
      "Statistics of base dataset (dev=True):\n",
      "\t- Dataset: UMLSDataset\n",
      "\t- Number of triples: 88176\n",
      "\t- Number of entities: 9737\n",
      "\t- Number of relations: 8\n",
      "\t- Task name: Null\n",
      "\t- Number of samples: 0\n",
      "\n",
      "None\n",
      "Relations in KG: {'may_be_treated_by': 0, 'may_be_prevented_by': 1, 'may_prevent': 2, 'may_treat': 3, 'gene_mapped_to_disease': 4, 'disease_mapped_to_gene': 5, 'disease_has_associated_gene': 6, 'gene_associated_with_disease': 7}\n"
     ]
    }
   ],
   "source": [
    "print(umls_ds.stat()) \n",
    "print(\"Relations in KG:\", umls_ds.relation2id)"
   ]
  },
  {
   "cell_type": "code",
   "execution_count": 3,
   "metadata": {},
   "outputs": [
    {
     "name": "stdout",
     "output_type": "stream",
     "text": [
      "Processing UMLSDataset base dataset...\n"
     ]
    },
    {
     "name": "stderr",
     "output_type": "stream",
     "text": [
      "100%|██████████| 88176/88176 [00:01<00:00, 64441.63it/s]"
     ]
    },
    {
     "name": "stdout",
     "output_type": "stream",
     "text": [
      "Saving UMLSDataset base dataset to /home/pj20/.cache/pyhealth/datasets/46e7370273967c215741135e6ccdd2b9\n"
     ]
    },
    {
     "name": "stderr",
     "output_type": "stream",
     "text": [
      "\n"
     ]
    }
   ],
   "source": [
    "from pyhealth.tasks import link_prediction_fn\n",
    "\n",
    "umls_ds = umls_ds.set_task(link_prediction_fn, negative_sampling=256, save=False)"
   ]
  },
  {
   "cell_type": "code",
   "execution_count": 4,
   "metadata": {},
   "outputs": [
    {
     "name": "stdout",
     "output_type": "stream",
     "text": [
      "\n",
      "Statistics of base dataset (dev=True):\n",
      "\t- Dataset: UMLSDataset\n",
      "\t- Number of triples: 88176\n",
      "\t- Number of entities: 9737\n",
      "\t- Number of relations: 8\n",
      "\t- Task name: link_prediction_fn\n",
      "\t- Task-specific hyperparameters: {'negative_sampling': 256}\n",
      "\n"
     ]
    }
   ],
   "source": [
    "umls_ds.stat()"
   ]
  },
  {
   "cell_type": "code",
   "execution_count": 5,
   "metadata": {},
   "outputs": [
    {
     "name": "stdout",
     "output_type": "stream",
     "text": [
      "{'triple': (0, 0, 2835), 'ground_truth_head': [1027, 1293, 5264, 1564, 7416, 6434, 2610, 4094, 2717, 5007, 5277, 5949, 0, 6870, 6029], 'ground_truth_tail': [398, 244, 3872, 3053, 1711, 2835, 1348, 2309], 'subsampling_weight': tensor([0.1857])}\n"
     ]
    }
   ],
   "source": [
    "print(umls_ds[0])"
   ]
  },
  {
   "cell_type": "code",
   "execution_count": 6,
   "metadata": {},
   "outputs": [],
   "source": [
    "from pyhealth.datasets import split, get_dataloader\n",
    "\n",
    "train_dataset, val_dataset, test_dataset = split(umls_ds, [0.9, 0.05, 0.05])"
   ]
  },
  {
   "cell_type": "code",
   "execution_count": 7,
   "metadata": {},
   "outputs": [],
   "source": [
    "train_loader = get_dataloader(train_dataset, batch_size=256, shuffle=True)\n",
    "val_loader = get_dataloader(val_dataset, batch_size=16, shuffle=False)\n",
    "test_loader = get_dataloader(test_dataset, batch_size=16, shuffle=False)"
   ]
  },
  {
   "cell_type": "code",
   "execution_count": 9,
   "metadata": {},
   "outputs": [],
   "source": [
    "from pyhealth.models.kg import TransE, RotatE\n",
    "\n",
    "model = RotatE(\n",
    "    dataset=umls_ds,\n",
    "    e_dim=600, \n",
    "    r_dim=300, \n",
    ")"
   ]
  },
  {
   "cell_type": "code",
   "execution_count": 10,
   "metadata": {},
   "outputs": [
    {
     "name": "stderr",
     "output_type": "stream",
     "text": [
      "RotatE()\n",
      "Metrics: ['hits@n', 'mean_rank']\n",
      "Device: cuda\n",
      "\n",
      "Training:\n",
      "Batch size: 256\n",
      "Optimizer: <class 'torch.optim.adam.Adam'>\n",
      "Optimizer params: {'lr': 0.001}\n",
      "Weight decay: 0.0\n",
      "Max grad norm: None\n",
      "Val dataloader: <torch.utils.data.dataloader.DataLoader object at 0x7f0a72ccefd0>\n",
      "Monitor: mean_rank\n",
      "Monitor criterion: min\n",
      "Epochs: 10\n",
      "\n",
      "Epoch 0 / 10: 100%|██████████| 100/100 [00:04<00:00, 20.86it/s]\n",
      "--- Train epoch-0, step-100 ---\n",
      "loss: 2.3303\n",
      "Evaluation: 100%|██████████| 276/276 [00:03<00:00, 75.06it/s]\n",
      "--- Eval epoch-0, step-100 ---\n",
      "HITS@1: 0.0024\n",
      "HITS@5: 0.0119\n",
      "HITS@10: 0.0221\n",
      "mean_rank: 2318.6816\n",
      "mean_reciprocal_rank: 0.0116\n",
      "loss: 0.1119\n",
      "New best mean_rank score (2318.6816) at epoch-0, step-100\n",
      "\n",
      "Epoch 1 / 10: 100%|██████████| 100/100 [00:05<00:00, 19.78it/s]\n",
      "--- Train epoch-1, step-200 ---\n",
      "loss: 0.8013\n",
      "\n",
      "Epoch 2 / 10: 100%|██████████| 100/100 [00:05<00:00, 19.47it/s]\n",
      "--- Train epoch-2, step-300 ---\n",
      "loss: 0.6174\n",
      "\n",
      "Epoch 3 / 10: 100%|██████████| 100/100 [00:05<00:00, 19.90it/s]\n",
      "--- Train epoch-3, step-400 ---\n",
      "loss: 0.2937\n",
      "\n",
      "Epoch 4 / 10: 100%|██████████| 100/100 [00:04<00:00, 20.35it/s]\n",
      "--- Train epoch-4, step-500 ---\n",
      "loss: 0.2049\n",
      "\n",
      "Epoch 5 / 10: 100%|██████████| 100/100 [00:04<00:00, 20.63it/s]\n",
      "--- Train epoch-5, step-600 ---\n",
      "loss: 0.1487\n",
      "\n",
      "Epoch 6 / 10: 100%|██████████| 100/100 [00:04<00:00, 20.76it/s]\n",
      "--- Train epoch-6, step-700 ---\n",
      "loss: 0.0806\n",
      "\n",
      "Epoch 7 / 10: 100%|██████████| 100/100 [00:04<00:00, 20.22it/s]\n",
      "--- Train epoch-7, step-800 ---\n",
      "loss: 0.0620\n",
      "\n",
      "Epoch 8 / 10: 100%|██████████| 100/100 [00:04<00:00, 20.89it/s]\n",
      "--- Train epoch-8, step-900 ---\n",
      "loss: 0.0533\n",
      "\n",
      "Epoch 9 / 10: 100%|██████████| 100/100 [00:04<00:00, 21.10it/s]\n",
      "--- Train epoch-9, step-1000 ---\n",
      "loss: 0.0397\n",
      "\n",
      "Epoch 10 / 10: 100%|██████████| 100/100 [00:04<00:00, 21.34it/s]\n",
      "--- Train epoch-10, step-1100 ---\n",
      "loss: 0.0339\n",
      "Evaluation: 100%|██████████| 276/276 [00:03<00:00, 69.02it/s]\n",
      "--- Eval epoch-10, step-1100 ---\n",
      "HITS@1: 0.9424\n",
      "HITS@5: 0.9669\n",
      "HITS@10: 0.9710\n",
      "mean_rank: 29.3240\n",
      "mean_reciprocal_rank: 0.9534\n",
      "loss: 0.0076\n",
      "New best mean_rank score (29.3240) at epoch-10, step-1100\n",
      "Loaded best model\n"
     ]
    }
   ],
   "source": [
    "from pyhealth.trainer import Trainer\n",
    "\n",
    "trainer = Trainer(model=model, device='cuda', metrics=['hits@n', 'mean_rank'])\n",
    "trainer.train(\n",
    "    train_dataloader=train_loader,\n",
    "    val_dataloader=val_loader,\n",
    "    epochs=10,\n",
    "    steps_per_epoch=100,\n",
    "    evaluation_steps=10,\n",
    "    optimizer_params={'lr': 1e-3},\n",
    "    monitor='mean_rank',\n",
    "    monitor_criterion='min'\n",
    ")"
   ]
  },
  {
   "cell_type": "code",
   "execution_count": 11,
   "metadata": {},
   "outputs": [
    {
     "name": "stderr",
     "output_type": "stream",
     "text": [
      "Evaluation: 100%|██████████| 276/276 [00:03<00:00, 69.59it/s]\n"
     ]
    },
    {
     "data": {
      "text/plain": [
       "{'HITS@1': 0.9324109775459288,\n",
       " 'HITS@5': 0.9621229303696983,\n",
       " 'HITS@10': 0.9675663415740531,\n",
       " 'mean_rank': 45.8667498298934,\n",
       " 'mean_reciprocal_rank': 0.9459430019329782,\n",
       " 'loss': 0.007553577323552167}"
      ]
     },
     "execution_count": 11,
     "metadata": {},
     "output_type": "execute_result"
    }
   ],
   "source": [
    "trainer.evaluate(test_loader)"
   ]
  },
  {
   "cell_type": "code",
   "execution_count": null,
   "metadata": {},
   "outputs": [],
   "source": []
  }
 ],
 "metadata": {
  "kernelspec": {
   "display_name": "Python 3.8.13 ('kgc')",
   "language": "python",
   "name": "python3"
  },
  "language_info": {
   "codemirror_mode": {
    "name": "ipython",
    "version": 3
   },
   "file_extension": ".py",
   "mimetype": "text/x-python",
   "name": "python",
   "nbconvert_exporter": "python",
   "pygments_lexer": "ipython3",
   "version": "3.8.13"
  },
  "orig_nbformat": 4,
  "vscode": {
   "interpreter": {
    "hash": "3d0509d9aa81f2882b18eeb72d4d23c32cae9029e9b99f63cde94ba86c35ac78"
   }
  }
 },
 "nbformat": 4,
 "nbformat_minor": 2
}
